{
  "nbformat": 4,
  "nbformat_minor": 0,
  "metadata": {
    "colab": {
      "name": "regex.ipynb",
      "provenance": [],
      "authorship_tag": "ABX9TyPpODbHsRrQ9fnA+qLV7YkI",
      "include_colab_link": true
    },
    "kernelspec": {
      "name": "python3",
      "display_name": "Python 3"
    },
    "language_info": {
      "name": "python"
    }
  },
  "cells": [
    {
      "cell_type": "markdown",
      "metadata": {
        "id": "view-in-github",
        "colab_type": "text"
      },
      "source": [
        "<a href=\"https://colab.research.google.com/github/loosak/pysnippets/blob/master/regex.ipynb\" target=\"_parent\"><img src=\"https://colab.research.google.com/assets/colab-badge.svg\" alt=\"Open In Colab\"/></a>"
      ]
    },
    {
      "cell_type": "code",
      "execution_count": null,
      "metadata": {
        "id": "t0AOQgX4WcHk"
      },
      "outputs": [],
      "source": [
        ""
      ]
    },
    {
      "cell_type": "markdown",
      "source": [
        "# Regular expressions\n",
        "mathematics and computer science theory, where it reflects a trait of mathematical expressions called regularity. Such an expression can be implemented in software using a deterministic finite automaton (DFA). A DFA is a finite state machine that doesn’t use backtracking.\n",
        "\n",
        "modern-day Perl-style regular expressions are not regular expressions at all in the mathematical sense. They’re implemented with a nondeterministic finite automaton (NFA).\n",
        "\n",
        "## backtracking\n",
        "\n",
        "## Search-and-replace\n",
        "Search-and-replace is a common job for regular expressions. A search-and-replace function takes a subject string, a regular expression, and a replacement string as input. The output is the subject string with all matches of the regular expression replaced with the replacement text."
      ],
      "metadata": {
        "id": "HF00brNiWgQ_"
      }
    },
    {
      "cell_type": "markdown",
      "source": [
        "![Tahák pro RE](https://www.wr.cz/assets/resized/images/1400/re-color-a4.webp)"
      ],
      "metadata": {
        "id": "Zg9KUf17zBO1"
      }
    },
    {
      "cell_type": "code",
      "source": [
        "# a or b\n",
        "import re\n",
        "pattern = re.compile(r\"[ab]\")\n",
        "match = pattern.finditer(\"adgbbabvcdfgfss\")\n",
        "[(m.start(),m.end(),m.group()) for m in match]"
      ],
      "metadata": {
        "colab": {
          "base_uri": "https://localhost:8080/"
        },
        "id": "Ud-mgEv1Zmjw",
        "outputId": "2e38f8ff-b6d0-4c9c-b862-c09b82b93c5f"
      },
      "execution_count": null,
      "outputs": [
        {
          "output_type": "execute_result",
          "data": {
            "text/plain": [
              "[(0, 1, 'a'), (3, 4, 'b'), (4, 5, 'b'), (5, 6, 'a'), (6, 7, 'b')]"
            ]
          },
          "metadata": {},
          "execution_count": 2
        }
      ]
    },
    {
      "cell_type": "code",
      "source": [
        "# find ip adress in str\n",
        "import re\n",
        "\n",
        "regex = r\"\\d{1,3}\\.\\d{1,3}\\.\\d{1,3}\\.\\d{1,3}\"\n",
        "test_str = \"My ip address is 199.9.9.9 and 10.9.8.7\"\n",
        "find = re.findall(regex, test_str)\n",
        "find"
      ],
      "metadata": {
        "colab": {
          "base_uri": "https://localhost:8080/"
        },
        "id": "dN74SkAMbXWB",
        "outputId": "a383e91c-c054-4e87-9e96-02397192b881"
      },
      "execution_count": null,
      "outputs": [
        {
          "output_type": "execute_result",
          "data": {
            "text/plain": [
              "['199.9.9.9', '10.9.8.7']"
            ]
          },
          "metadata": {},
          "execution_count": 10
        }
      ]
    },
    {
      "cell_type": "code",
      "source": [
        "import os\n",
        "import re\n",
        "\n",
        "with os.popen('ifconfig') as p:\n",
        "    stdout = p.read()\n",
        "regex = r\"\\d{1,3}\\.\\d{1,3}\\.\\d{1,3}\\.\\d{1,3}\"\n",
        "re.findall(regex, stdout)"
      ],
      "metadata": {
        "colab": {
          "base_uri": "https://localhost:8080/"
        },
        "id": "hdfjR4V6bvUX",
        "outputId": "435871b0-306f-4b80-eb65-f7faa654474a"
      },
      "execution_count": null,
      "outputs": [
        {
          "output_type": "execute_result",
          "data": {
            "text/plain": [
              "[]"
            ]
          },
          "metadata": {},
          "execution_count": 4
        }
      ]
    },
    {
      "cell_type": "code",
      "source": [
        "regex = r'^(?:25[0-5]|2[0-4]\\d|[0-1]?\\d{1,2})(?:\\.(?:25[0-5]|2[0-4]\\d|[0-1]?\\d{1,2})){3}$'\n",
        "re.findall(regex, test_str)"
      ],
      "metadata": {
        "colab": {
          "base_uri": "https://localhost:8080/"
        },
        "id": "ePLIn-vsdODk",
        "outputId": "d21deaa8-74aa-4689-f15e-b04d15696bdd"
      },
      "execution_count": null,
      "outputs": [
        {
          "output_type": "execute_result",
          "data": {
            "text/plain": [
              "[]"
            ]
          },
          "metadata": {},
          "execution_count": 11
        }
      ]
    },
    {
      "cell_type": "markdown",
      "source": [
        "[egexes in Python (Part 1)](https://realpython.com/regex-python/)"
      ],
      "metadata": {
        "id": "xtA7gwc-9r4i"
      }
    },
    {
      "cell_type": "code",
      "source": [
        "re.search(r'^B', 'Alef Ala Abab Baba Jaga')"
      ],
      "metadata": {
        "id": "Q9qmDBLgsKff"
      },
      "execution_count": null,
      "outputs": []
    },
    {
      "cell_type": "code",
      "source": [
        "re.search(r'.{4}', 'Alef Ala Abab Baba Jaga')"
      ],
      "metadata": {
        "colab": {
          "base_uri": "https://localhost:8080/"
        },
        "id": "Y1jP7fQ3skcZ",
        "outputId": "93d47b29-66e2-409f-f762-d9daa7845fd7"
      },
      "execution_count": null,
      "outputs": [
        {
          "output_type": "execute_result",
          "data": {
            "text/plain": [
              "<re.Match object; span=(0, 4), match='Alef'>"
            ]
          },
          "metadata": {},
          "execution_count": 36
        }
      ]
    },
    {
      "cell_type": "code",
      "source": [
        "re.search('[0-9][0-9][0-9]', 'foo456bar').group()"
      ],
      "metadata": {
        "colab": {
          "base_uri": "https://localhost:8080/",
          "height": 35
        },
        "id": "lGvtAVD42OIR",
        "outputId": "33578c76-7d60-47d8-d2e7-c38ec70ac78d"
      },
      "execution_count": null,
      "outputs": [
        {
          "output_type": "execute_result",
          "data": {
            "text/plain": [
              "'456'"
            ],
            "application/vnd.google.colaboratory.intrinsic+json": {
              "type": "string"
            }
          },
          "metadata": {},
          "execution_count": 38
        }
      ]
    },
    {
      "cell_type": "code",
      "source": [
        "re.search('\\d\\d\\d', 'foo456bar').group()"
      ],
      "metadata": {
        "colab": {
          "base_uri": "https://localhost:8080/",
          "height": 35
        },
        "id": "hmFX37Nb5lto",
        "outputId": "5631c539-0489-4975-8477-bdaaa2a159f9"
      },
      "execution_count": null,
      "outputs": [
        {
          "output_type": "execute_result",
          "data": {
            "text/plain": [
              "'456'"
            ],
            "application/vnd.google.colaboratory.intrinsic+json": {
              "type": "string"
            }
          },
          "metadata": {},
          "execution_count": 39
        }
      ]
    },
    {
      "cell_type": "code",
      "source": [
        "# .\tMatches any single character except newline\n",
        "re.search('4.6', 'foo456bar').group()"
      ],
      "metadata": {
        "colab": {
          "base_uri": "https://localhost:8080/",
          "height": 35
        },
        "id": "itOiFbqL50QS",
        "outputId": "32fb3f49-94f1-4f86-c355-4dcf8e583f8e"
      },
      "execution_count": null,
      "outputs": [
        {
          "output_type": "execute_result",
          "data": {
            "text/plain": [
              "'456'"
            ],
            "application/vnd.google.colaboratory.intrinsic+json": {
              "type": "string"
            }
          },
          "metadata": {},
          "execution_count": 40
        }
      ]
    },
    {
      "cell_type": "code",
      "source": [
        "# {}\tMatches an explicitly specified number of repetitions\n",
        "re.search(r'\\d{3}', 'foo456bar').group()"
      ],
      "metadata": {
        "colab": {
          "base_uri": "https://localhost:8080/",
          "height": 35
        },
        "id": "vH6-4NG06Chq",
        "outputId": "a0c668a6-3443-4997-b91b-0d92745d5de8"
      },
      "execution_count": null,
      "outputs": [
        {
          "output_type": "execute_result",
          "data": {
            "text/plain": [
              "'456'"
            ],
            "application/vnd.google.colaboratory.intrinsic+json": {
              "type": "string"
            }
          },
          "metadata": {},
          "execution_count": 42
        }
      ]
    },
    {
      "cell_type": "code",
      "source": [
        "re.search('ba[artz]', 'foobarqux')"
      ],
      "metadata": {
        "colab": {
          "base_uri": "https://localhost:8080/"
        },
        "id": "v4b3JKVr6YFy",
        "outputId": "729ece91-c539-4656-b80b-76d5dfe52bb9"
      },
      "execution_count": null,
      "outputs": [
        {
          "output_type": "execute_result",
          "data": {
            "text/plain": [
              "<re.Match object; span=(3, 6), match='bar'>"
            ]
          },
          "metadata": {},
          "execution_count": 43
        }
      ]
    },
    {
      "cell_type": "code",
      "source": [
        "re.search('ba[artz]', 'foobaaquxbar')"
      ],
      "metadata": {
        "colab": {
          "base_uri": "https://localhost:8080/"
        },
        "id": "pjGXO5Ub7AcG",
        "outputId": "0e5bdecf-10b5-4d64-c310-6be388860583"
      },
      "execution_count": null,
      "outputs": [
        {
          "output_type": "execute_result",
          "data": {
            "text/plain": [
              "<re.Match object; span=(3, 6), match='baa'>"
            ]
          },
          "metadata": {},
          "execution_count": 45
        }
      ]
    },
    {
      "cell_type": "code",
      "source": [
        "re.search('[0-9a-fA-f]', '--- a0 ---')"
      ],
      "metadata": {
        "colab": {
          "base_uri": "https://localhost:8080/"
        },
        "id": "MmC_gaSu7Lgz",
        "outputId": "a759d48b-8308-45ae-a479-ed5813d97d41"
      },
      "execution_count": null,
      "outputs": [
        {
          "output_type": "execute_result",
          "data": {
            "text/plain": [
              "<re.Match object; span=(4, 5), match='a'>"
            ]
          },
          "metadata": {},
          "execution_count": 46
        }
      ]
    },
    {
      "cell_type": "code",
      "source": [
        "import sys\n",
        "sys.version"
      ],
      "metadata": {
        "colab": {
          "base_uri": "https://localhost:8080/",
          "height": 35
        },
        "id": "kxn1_SU47bHh",
        "outputId": "7e29133f-0edd-4b7d-f288-72651e11dea9"
      },
      "execution_count": null,
      "outputs": [
        {
          "output_type": "execute_result",
          "data": {
            "text/plain": [
              "'3.7.13 (default, Mar 16 2022, 17:37:17) \\n[GCC 7.5.0]'"
            ],
            "application/vnd.google.colaboratory.intrinsic+json": {
              "type": "string"
            }
          },
          "metadata": {},
          "execution_count": 47
        }
      ]
    },
    {
      "cell_type": "code",
      "source": [
        "re.search(r'\\d\\.\\d.\\d{2}', sys.version)"
      ],
      "metadata": {
        "colab": {
          "base_uri": "https://localhost:8080/"
        },
        "id": "DcMVPqgd8zm7",
        "outputId": "fbc8c3ec-a2ba-41b8-acbd-053ff85155bb"
      },
      "execution_count": null,
      "outputs": [
        {
          "output_type": "execute_result",
          "data": {
            "text/plain": [
              "<re.Match object; span=(0, 6), match='3.7.13'>"
            ]
          },
          "metadata": {},
          "execution_count": 48
        }
      ]
    },
    {
      "cell_type": "code",
      "source": [
        ""
      ],
      "metadata": {
        "id": "4je1_Oe89Hd0"
      },
      "execution_count": null,
      "outputs": []
    }
  ]
}