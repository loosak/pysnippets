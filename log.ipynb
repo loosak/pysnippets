{
 "cells": [
  {
   "cell_type": "code",
   "execution_count": null,
   "metadata": {},
   "outputs": [],
   "source": []
  },
  {
   "cell_type": "code",
   "execution_count": 7,
   "metadata": {},
   "outputs": [],
   "source": [
    "import logging\n",
    "logging.basicConfig(level=logging.INFO, format='%(asctime)s [%(levelname)7s] %(message)s')"
   ]
  },
  {
   "cell_type": "code",
   "execution_count": 11,
   "metadata": {},
   "outputs": [
    {
     "data": {
      "text/plain": [
       "20"
      ]
     },
     "execution_count": 11,
     "metadata": {},
     "output_type": "execute_result"
    }
   ],
   "source": [
    "LEVEL = ''\n",
    "\n",
    "logging.getLogger().setLevel(\n",
    "    logging.DEBUG if LEVEL else logging.INFO\n",
    ")\n",
    "\n",
    "logging.getLogger().level"
   ]
  },
  {
   "cell_type": "markdown",
   "metadata": {},
   "source": [
    "<table class=\"docutils align-default\">\n",
    "<colgroup>\n",
    "<col style=\"width: 48%\">\n",
    "<col style=\"width: 52%\">\n",
    "</colgroup>\n",
    "<thead>\n",
    "<tr class=\"row-odd\"><th class=\"head\"><p>Level</p></th>\n",
    "<th class=\"head\"><p>Numeric value</p></th>\n",
    "</tr>\n",
    "</thead>\n",
    "<tbody>\n",
    "<tr class=\"row-even\"><td><p><code class=\"docutils literal notranslate\"><span class=\"pre\">CRITICAL</span></code></p></td>\n",
    "<td><p>50</p></td>\n",
    "</tr>\n",
    "<tr class=\"row-odd\"><td><p><code class=\"docutils literal notranslate\"><span class=\"pre\">ERROR</span></code></p></td>\n",
    "<td><p>40</p></td>\n",
    "</tr>\n",
    "<tr class=\"row-even\"><td><p><code class=\"docutils literal notranslate\"><span class=\"pre\">WARNING</span></code></p></td>\n",
    "<td><p>30</p></td>\n",
    "</tr>\n",
    "<tr class=\"row-odd\"><td><p><code class=\"docutils literal notranslate\"><span class=\"pre\">INFO</span></code></p></td>\n",
    "<td><p>20</p></td>\n",
    "</tr>\n",
    "<tr class=\"row-even\"><td><p><code class=\"docutils literal notranslate\"><span class=\"pre\">DEBUG</span></code></p></td>\n",
    "<td><p>10</p></td>\n",
    "</tr>\n",
    "<tr class=\"row-odd\"><td><p><code class=\"docutils literal notranslate\"><span class=\"pre\">NOTSET</span></code></p></td>\n",
    "<td><p>0</p></td>\n",
    "</tr>\n",
    "</tbody>\n",
    "</table>"
   ]
  },
  {
   "cell_type": "code",
   "execution_count": 5,
   "metadata": {},
   "outputs": [
    {
     "name": "stdout",
     "output_type": "stream",
     "text": [
      "\u001b[31mtest\u001b[0m\n"
     ]
    }
   ],
   "source": [
    "def set_color(org_string, level=None):\n",
    "    color_levels = {\n",
    "        10: \"\\033[36m{}\\033[0m\",       # DEBUG\n",
    "        20: \"\\033[32m{}\\033[0m\",       # INFO\n",
    "        30: \"\\033[33m{}\\033[0m\",       # WARNING\n",
    "        40: \"\\033[31m{}\\033[0m\",       # ERROR\n",
    "        50: \"\\033[7;31;31m{}\\033[0m\"   # FATAL/CRITICAL/EXCEPTION\n",
    "    }\n",
    "    if level is None:\n",
    "        return color_levels[20].format(org_string)\n",
    "    else:\n",
    "        return color_levels[int(level)].format(org_string)\n",
    "\n",
    "print(set_color(\"test\", level=40))"
   ]
  },
  {
   "cell_type": "code",
   "execution_count": null,
   "metadata": {},
   "outputs": [],
   "source": [
    "logger.info(set_color(\"test\"))\n",
    "logger.debug(set_color(\"test\", level=10))\n",
    "logger.warning(set_color(\"test\", level=30))\n",
    "logger.error(set_color(\"test\", level=40))\n",
    "logger.fatal(set_color(\"test\", level=50))"
   ]
  }
 ],
 "metadata": {
  "kernelspec": {
   "display_name": "Python 3",
   "language": "python",
   "name": "python3"
  },
  "language_info": {
   "codemirror_mode": {
    "name": "ipython",
    "version": 3
   },
   "file_extension": ".py",
   "mimetype": "text/x-python",
   "name": "python",
   "nbconvert_exporter": "python",
   "pygments_lexer": "ipython3",
   "version": "3.8.1"
  }
 },
 "nbformat": 4,
 "nbformat_minor": 4
}
