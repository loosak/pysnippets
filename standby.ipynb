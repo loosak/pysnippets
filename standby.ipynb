{
 "cells": [
  {
   "cell_type": "code",
   "execution_count": null,
   "metadata": {},
   "outputs": [],
   "source": []
  },
  {
   "cell_type": "code",
   "execution_count": 3,
   "metadata": {},
   "outputs": [
    {
     "data": {
      "text/html": [
       "<div>\n",
       "<style scoped>\n",
       "    .dataframe tbody tr th:only-of-type {\n",
       "        vertical-align: middle;\n",
       "    }\n",
       "\n",
       "    .dataframe tbody tr th {\n",
       "        vertical-align: top;\n",
       "    }\n",
       "\n",
       "    .dataframe thead th {\n",
       "        text-align: right;\n",
       "    }\n",
       "</style>\n",
       "<table border=\"1\" class=\"dataframe\">\n",
       "  <thead>\n",
       "    <tr style=\"text-align: right;\">\n",
       "      <th></th>\n",
       "      <th>Datum</th>\n",
       "      <th>SW support coordinator</th>\n",
       "      <th>pSeries</th>\n",
       "      <th>iSeries</th>\n",
       "    </tr>\n",
       "  </thead>\n",
       "  <tbody>\n",
       "    <tr>\n",
       "      <th>0</th>\n",
       "      <td>16.1.</td>\n",
       "      <td>Mondek</td>\n",
       "      <td>Ostadal</td>\n",
       "      <td>Rehak</td>\n",
       "    </tr>\n",
       "    <tr>\n",
       "      <th>1</th>\n",
       "      <td>23.1.</td>\n",
       "      <td>Endt</td>\n",
       "      <td>Aksenov</td>\n",
       "      <td>Endt</td>\n",
       "    </tr>\n",
       "    <tr>\n",
       "      <th>2</th>\n",
       "      <td>30.1.</td>\n",
       "      <td>Kalhous</td>\n",
       "      <td>Coufal</td>\n",
       "      <td>Kalhous</td>\n",
       "    </tr>\n",
       "    <tr>\n",
       "      <th>3</th>\n",
       "      <td>6.2.</td>\n",
       "      <td>Mondek</td>\n",
       "      <td>Mondek</td>\n",
       "      <td>Dolejs</td>\n",
       "    </tr>\n",
       "    <tr>\n",
       "      <th>4</th>\n",
       "      <td>13.2.</td>\n",
       "      <td>Kalhous</td>\n",
       "      <td>Ostadal</td>\n",
       "      <td>Kalhous</td>\n",
       "    </tr>\n",
       "    <tr>\n",
       "      <th>...</th>\n",
       "      <td>...</td>\n",
       "      <td>...</td>\n",
       "      <td>...</td>\n",
       "      <td>...</td>\n",
       "    </tr>\n",
       "    <tr>\n",
       "      <th>208</th>\n",
       "      <td>11.1.</td>\n",
       "      <td>Kalhous</td>\n",
       "      <td>Coufal</td>\n",
       "      <td>Kalhous</td>\n",
       "    </tr>\n",
       "    <tr>\n",
       "      <th>209</th>\n",
       "      <td>18.1.</td>\n",
       "      <td>Mondek</td>\n",
       "      <td>Mondek</td>\n",
       "      <td>(Rehak) Dolejš</td>\n",
       "    </tr>\n",
       "    <tr>\n",
       "      <th>210</th>\n",
       "      <td>25.1.</td>\n",
       "      <td>Aksenov</td>\n",
       "      <td>Aksenov</td>\n",
       "      <td>Endt</td>\n",
       "    </tr>\n",
       "    <tr>\n",
       "      <th>211</th>\n",
       "      <td>1.2.</td>\n",
       "      <td>Coufal</td>\n",
       "      <td>Coufal</td>\n",
       "      <td>(Dolejs) Řehák</td>\n",
       "    </tr>\n",
       "    <tr>\n",
       "      <th>212</th>\n",
       "      <td>8.2.</td>\n",
       "      <td>Kalhous</td>\n",
       "      <td>Mondek</td>\n",
       "      <td>Kalhous</td>\n",
       "    </tr>\n",
       "  </tbody>\n",
       "</table>\n",
       "<p>213 rows × 4 columns</p>\n",
       "</div>"
      ],
      "text/plain": [
       "     Datum SW support coordinator  pSeries         iSeries\n",
       "0    16.1.                 Mondek  Ostadal           Rehak\n",
       "1    23.1.                   Endt  Aksenov            Endt\n",
       "2    30.1.                Kalhous   Coufal         Kalhous\n",
       "3     6.2.                 Mondek   Mondek          Dolejs\n",
       "4    13.2.                Kalhous  Ostadal         Kalhous\n",
       "..     ...                    ...      ...             ...\n",
       "208  11.1.                Kalhous   Coufal         Kalhous\n",
       "209  18.1.                 Mondek   Mondek  (Rehak) Dolejš\n",
       "210  25.1.                Aksenov  Aksenov            Endt\n",
       "211   1.2.                 Coufal   Coufal  (Dolejs) Řehák\n",
       "212   8.2.                Kalhous   Mondek         Kalhous\n",
       "\n",
       "[213 rows x 4 columns]"
      ]
     },
     "execution_count": 3,
     "metadata": {},
     "output_type": "execute_result"
    }
   ],
   "source": [
    "import pandas as pd\n",
    "\n",
    "shared_link = 'https://dl.boxcloud.com/d/1/b1!S7I__34jEdKtaeJlzN_MUpxD2pg6dDJ7eC_suzsHjsmc3gNx4x9BcolSpiHTLzK2oH1QCW4d-AWuRttYMPOReHL-cSTorLPU_v1DMNCEnAReFW4ir0awKKjaJHbJocbbUmTjVeXzGp6bAvXI8VEBZ86GJv-I9tMhn7B6SfKPDP2TlWdj005w6SFldCNk_nhU32-ZSGSiZ9GZkrpCvkyY6xDm4L7flYFec5Hkwcvsa6MRviLLcoZj6AhKRqMIlGK33q-saB1PnG90iTVdyStSBMJzmOd8bY4C79pMK_FxMamZZTLF2bjnbqR6EDoH148zJKYA6e4DP-TdsGEc1HzdjQ0oJM8C6uQQF-fOotHeDFHs9ms-2hx-A0ZZVcGnXFXmiWaozoWZB9KERVHOYyvNzJtm-fjjKDZZ9bm1p4e3bnzNjyP9IIkPpMfqyMVgeM7mxeM4tajDsjMNX6UuEKcAZIq-jhmuRCR3SfzDkXW0Q2vJZ5B3uotjm7FyhfTdiIp1AsJaK0cjfIeIHk9LP--abqT3VygNjj-AA4PtO57QEh-pEepJSY0gb_YnoSjPtzC5ffrZQk3ShUKClYQZwI2iGXaxJ11tXWb8ugu7VhiZ0rDvQ8jCOaJcA_fb7iXwc6bOE-12O2H5H5UUvkcLugPJYABOtX2Eg7K6tlBnon2A9VsnWvwVFggF63n2DwQUHNsZYGrfug8c-oMxE5jySXO9HwVsyqPHyRi_zalzCxnekxxzyi7SPb0qTKGH6axhctZ-QS-p3bulPKz9sErTs7ztsL1aRghyT7QbO8que9t8Ep4CF-mylmxY9HI61SmHSKi3rGPCoLBSW8hgkbyuPVBFGFTFGZ_viJDJ07S-xeXSvmRZRfiSxklc6pkvPIZTbUFnyD6p2MgyDSwO7e9AZRV-qNVUGRv0OWSLvy5SCi2sjCNW2BUU0X-8Bfx7tBxnG3H2f-3NiP4-yJbC282I2hjyQg3JCRKY7cO5puJcvafKIsNP4-xsJ9RTVIVt31PrbQOZUqOGZEIpqKWYDWPv_pX_sAPNVpuAbWqllW58_Ue6NrFX15Awl7Q49t9uexa_eTDMrZF-f0A2t-MqF4fH_BvZWcCVpP_-HyhB-HzaO3NJ7oGezYWsq0cEHdtSm07_XAW7X3iL201qjs3IZeH885R-Jt_wpUw1FX9dwWVmGx_dyYIhoJOlRwDSGioDdIsKd_7fj5Q9X8ZoGID0-Mgz3MXPvRBc2VFapC7jUjzahUQ2Vv9iFxoiBImTZrrVJNtNjLKw0w83i-VTZ2E8zAwqIPF2vkWPa0xavg_64GCfsRT4OiKOimvIH6Lxh4wQ0xqH2IvKaAyCbG0jFffrHbdxtzIKxGihxKDAUksdol1e9GN8YDB-pkSgXhKBcAbQOKD_BAUtFF89aQi83sGm4i_Q7C1GVAaOGlgg-vyjPfG5hADnjpik7bg./download'\n",
    "\n",
    "df = pd.read_excel(shared_link, skiprows=2, parse_dates=[1])\n",
    "df = df[['Datum', 'SW support coordinator', 'pSeries', 'iSeries']]\n",
    "df"
   ]
  },
  {
   "cell_type": "code",
   "execution_count": 5,
   "metadata": {},
   "outputs": [],
   "source": [
    "df.query(\"pSeries == 'Coufal'\")[['Datum', 'SW support coordinator', 'pSeries']].to_excel('kc.xlsx', sheet_name='Coufal', index=False)"
   ]
  },
  {
   "cell_type": "code",
   "execution_count": 17,
   "metadata": {},
   "outputs": [
    {
     "data": {
      "text/plain": [
       "Index(['Datum', 'SW support coordinator', 'pSeries'], dtype='object')"
      ]
     },
     "execution_count": 17,
     "metadata": {},
     "output_type": "execute_result"
    }
   ],
   "source": [
    "df.columns"
   ]
  },
  {
   "cell_type": "code",
   "execution_count": 2,
   "metadata": {},
   "outputs": [
    {
     "data": {
      "text/html": [
       "<div>\n",
       "<style scoped>\n",
       "    .dataframe tbody tr th:only-of-type {\n",
       "        vertical-align: middle;\n",
       "    }\n",
       "\n",
       "    .dataframe tbody tr th {\n",
       "        vertical-align: top;\n",
       "    }\n",
       "\n",
       "    .dataframe thead th {\n",
       "        text-align: right;\n",
       "    }\n",
       "</style>\n",
       "<table border=\"1\" class=\"dataframe\">\n",
       "  <thead>\n",
       "    <tr style=\"text-align: right;\">\n",
       "      <th></th>\n",
       "      <th>Datum</th>\n",
       "      <th>SW support coordinator</th>\n",
       "      <th>pSeries</th>\n",
       "    </tr>\n",
       "  </thead>\n",
       "  <tbody>\n",
       "    <tr>\n",
       "      <th>37</th>\n",
       "      <td>2020-01-27</td>\n",
       "      <td>Endt</td>\n",
       "      <td>Coufal</td>\n",
       "    </tr>\n",
       "    <tr>\n",
       "      <th>38</th>\n",
       "      <td>2020-02-24</td>\n",
       "      <td>Endt</td>\n",
       "      <td>Coufal</td>\n",
       "    </tr>\n",
       "    <tr>\n",
       "      <th>39</th>\n",
       "      <td>2020-03-23</td>\n",
       "      <td>Endt</td>\n",
       "      <td>Coufal</td>\n",
       "    </tr>\n",
       "    <tr>\n",
       "      <th>40</th>\n",
       "      <td>2020-04-20</td>\n",
       "      <td>Endt</td>\n",
       "      <td>Coufal</td>\n",
       "    </tr>\n",
       "    <tr>\n",
       "      <th>41</th>\n",
       "      <td>2020-05-18</td>\n",
       "      <td>Endt</td>\n",
       "      <td>Coufal</td>\n",
       "    </tr>\n",
       "    <tr>\n",
       "      <th>42</th>\n",
       "      <td>2020-06-15</td>\n",
       "      <td>(Endt) Kalhous</td>\n",
       "      <td>Coufal</td>\n",
       "    </tr>\n",
       "    <tr>\n",
       "      <th>43</th>\n",
       "      <td>2020-07-06</td>\n",
       "      <td>Coufal</td>\n",
       "      <td>Coufal</td>\n",
       "    </tr>\n",
       "    <tr>\n",
       "      <th>44</th>\n",
       "      <td>2020-07-27</td>\n",
       "      <td>Kalhous</td>\n",
       "      <td>Coufal</td>\n",
       "    </tr>\n",
       "    <tr>\n",
       "      <th>45</th>\n",
       "      <td>2020-08-17</td>\n",
       "      <td>Coufal</td>\n",
       "      <td>Coufal</td>\n",
       "    </tr>\n",
       "    <tr>\n",
       "      <th>46</th>\n",
       "      <td>2020-09-07</td>\n",
       "      <td>Endt</td>\n",
       "      <td>Coufal</td>\n",
       "    </tr>\n",
       "    <tr>\n",
       "      <th>47</th>\n",
       "      <td>2020-09-28</td>\n",
       "      <td>Coufal</td>\n",
       "      <td>Coufal</td>\n",
       "    </tr>\n",
       "    <tr>\n",
       "      <th>48</th>\n",
       "      <td>2020-10-19</td>\n",
       "      <td>Kalhous</td>\n",
       "      <td>Coufal</td>\n",
       "    </tr>\n",
       "    <tr>\n",
       "      <th>49</th>\n",
       "      <td>2020-11-09</td>\n",
       "      <td>Coufal</td>\n",
       "      <td>Coufal</td>\n",
       "    </tr>\n",
       "    <tr>\n",
       "      <th>50</th>\n",
       "      <td>2020-11-30</td>\n",
       "      <td>Endt</td>\n",
       "      <td>Coufal</td>\n",
       "    </tr>\n",
       "    <tr>\n",
       "      <th>51</th>\n",
       "      <td>2020-12-21</td>\n",
       "      <td>Coufal</td>\n",
       "      <td>Coufal</td>\n",
       "    </tr>\n",
       "    <tr>\n",
       "      <th>52</th>\n",
       "      <td>2020-01-11</td>\n",
       "      <td>Kalhous</td>\n",
       "      <td>Coufal</td>\n",
       "    </tr>\n",
       "    <tr>\n",
       "      <th>53</th>\n",
       "      <td>2020-02-01</td>\n",
       "      <td>Coufal</td>\n",
       "      <td>Coufal</td>\n",
       "    </tr>\n",
       "  </tbody>\n",
       "</table>\n",
       "</div>"
      ],
      "text/plain": [
       "        Datum SW support coordinator pSeries\n",
       "37 2020-01-27                   Endt  Coufal\n",
       "38 2020-02-24                   Endt  Coufal\n",
       "39 2020-03-23                   Endt  Coufal\n",
       "40 2020-04-20                   Endt  Coufal\n",
       "41 2020-05-18                   Endt  Coufal\n",
       "42 2020-06-15         (Endt) Kalhous  Coufal\n",
       "43 2020-07-06                 Coufal  Coufal\n",
       "44 2020-07-27                Kalhous  Coufal\n",
       "45 2020-08-17                 Coufal  Coufal\n",
       "46 2020-09-07                   Endt  Coufal\n",
       "47 2020-09-28                 Coufal  Coufal\n",
       "48 2020-10-19                Kalhous  Coufal\n",
       "49 2020-11-09                 Coufal  Coufal\n",
       "50 2020-11-30                   Endt  Coufal\n",
       "51 2020-12-21                 Coufal  Coufal\n",
       "52 2020-01-11                Kalhous  Coufal\n",
       "53 2020-02-01                 Coufal  Coufal"
      ]
     },
     "execution_count": 2,
     "metadata": {},
     "output_type": "execute_result"
    }
   ],
   "source": [
    "import pandas as pd\n",
    "import datetime as dt\n",
    "\n",
    "df = pd.read_excel('kc.xlsx')\n",
    "df = df[['Datum', 'SW support coordinator', 'pSeries']][37:]\n",
    "df['Datum'] = df['Datum'].str.rstrip('.')\n",
    "df['split'] = df['Datum'].str.split('.')\n",
    "df['Datum'] = df['split'].apply(lambda x: dt.datetime(2020,int(x[1]),int(x[0])))\n",
    "df = df[['Datum', 'SW support coordinator', 'pSeries']]\n",
    "df"
   ]
  },
  {
   "cell_type": "code",
   "execution_count": 10,
   "metadata": {},
   "outputs": [
    {
     "name": "stdout",
     "output_type": "stream",
     "text": [
      "2020-07-27 00:00:00 2020-07-27 08:30:00\n",
      "2020-07-27 17:00:00 2020-07-27 23:59:59\n",
      "2020-08-17 00:00:00 2020-08-17 08:30:00\n",
      "2020-08-17 17:00:00 2020-08-17 23:59:59\n",
      "2020-09-07 00:00:00 2020-09-07 08:30:00\n",
      "2020-09-07 17:00:00 2020-09-07 23:59:59\n",
      "2020-09-28 00:00:00 2020-09-28 08:30:00\n",
      "2020-09-28 17:00:00 2020-09-28 23:59:59\n",
      "2020-10-19 00:00:00 2020-10-19 08:30:00\n",
      "2020-10-19 17:00:00 2020-10-19 23:59:59\n",
      "2020-11-09 00:00:00 2020-11-09 08:30:00\n",
      "2020-11-09 17:00:00 2020-11-09 23:59:59\n",
      "2020-11-30 00:00:00 2020-11-30 08:30:00\n",
      "2020-11-30 17:00:00 2020-11-30 23:59:59\n",
      "2020-12-21 00:00:00 2020-12-21 08:30:00\n",
      "2020-12-21 17:00:00 2020-12-21 23:59:59\n"
     ]
    }
   ],
   "source": [
    "std = df[df['Datum'] > dt.datetime.now()]\n",
    "for l in std['Datum'].iloc:\n",
    "    print(l, l + dt.timedelta(hours=8, minutes=30))\n",
    "    print(l + dt.timedelta(hours=17), l + dt.timedelta(hours=23, minutes=59, seconds=59))"
   ]
  },
  {
   "cell_type": "code",
   "execution_count": 18,
   "metadata": {},
   "outputs": [
    {
     "data": {
      "text/plain": [
       "'2020-07-27 17:00:00'"
      ]
     },
     "execution_count": 18,
     "metadata": {},
     "output_type": "execute_result"
    }
   ],
   "source": [
    "std['Datum'].iloc[0].strftime(\"%Y-%m-%d\") + ' 17:00:00'"
   ]
  },
  {
   "cell_type": "code",
   "execution_count": 39,
   "metadata": {},
   "outputs": [
    {
     "name": "stdout",
     "output_type": "stream",
     "text": [
      "2020-07-27 00:00:00\n",
      "2020-08-17 00:00:00\n"
     ]
    },
    {
     "ename": "ValueError",
     "evalue": "Begin must be before end",
     "output_type": "error",
     "traceback": [
      "\u001b[0;31m---------------------------------------------------------------------------\u001b[0m",
      "\u001b[0;31mValueError\u001b[0m                                Traceback (most recent call last)",
      "\u001b[0;32m<ipython-input-39-b75375ea7ee8>\u001b[0m in \u001b[0;36m<module>\u001b[0;34m\u001b[0m\n\u001b[1;32m      7\u001b[0m     \u001b[0mprint\u001b[0m\u001b[0;34m(\u001b[0m\u001b[0ml\u001b[0m\u001b[0;34m)\u001b[0m\u001b[0;34m\u001b[0m\u001b[0;34m\u001b[0m\u001b[0m\n\u001b[1;32m      8\u001b[0m     \u001b[0me\u001b[0m\u001b[0;34m.\u001b[0m\u001b[0mname\u001b[0m \u001b[0;34m=\u001b[0m \u001b[0;34m\"AIX Standby\"\u001b[0m \u001b[0;34m+\u001b[0m \u001b[0mrandom\u001b[0m\u001b[0;34m.\u001b[0m\u001b[0mchoice\u001b[0m\u001b[0;34m(\u001b[0m\u001b[0mstring\u001b[0m\u001b[0;34m.\u001b[0m\u001b[0mascii_letters\u001b[0m\u001b[0;34m)\u001b[0m\u001b[0;34m\u001b[0m\u001b[0;34m\u001b[0m\u001b[0m\n\u001b[0;32m----> 9\u001b[0;31m     \u001b[0me\u001b[0m\u001b[0;34m.\u001b[0m\u001b[0mbegin\u001b[0m \u001b[0;34m=\u001b[0m \u001b[0ml\u001b[0m\u001b[0;34m.\u001b[0m\u001b[0mstrftime\u001b[0m\u001b[0;34m(\u001b[0m\u001b[0;34m\"%Y-%m-%d %H:%M:%S\"\u001b[0m\u001b[0;34m)\u001b[0m\u001b[0;34m\u001b[0m\u001b[0;34m\u001b[0m\u001b[0m\n\u001b[0m\u001b[1;32m     10\u001b[0m     \u001b[0me\u001b[0m\u001b[0;34m.\u001b[0m\u001b[0mend\u001b[0m \u001b[0;34m=\u001b[0m   \u001b[0;34m(\u001b[0m\u001b[0ml\u001b[0m \u001b[0;34m+\u001b[0m \u001b[0mdt\u001b[0m\u001b[0;34m.\u001b[0m\u001b[0mtimedelta\u001b[0m\u001b[0;34m(\u001b[0m\u001b[0mhours\u001b[0m\u001b[0;34m=\u001b[0m\u001b[0;36m8\u001b[0m\u001b[0;34m,\u001b[0m \u001b[0mminutes\u001b[0m\u001b[0;34m=\u001b[0m\u001b[0;36m30\u001b[0m\u001b[0;34m)\u001b[0m\u001b[0;34m)\u001b[0m\u001b[0;34m.\u001b[0m\u001b[0mstrftime\u001b[0m\u001b[0;34m(\u001b[0m\u001b[0;34m\"%Y-%m-%d %H:%M:%S\"\u001b[0m\u001b[0;34m)\u001b[0m\u001b[0;34m\u001b[0m\u001b[0;34m\u001b[0m\u001b[0m\n\u001b[1;32m     11\u001b[0m     \u001b[0mc\u001b[0m\u001b[0;34m.\u001b[0m\u001b[0mevents\u001b[0m\u001b[0;34m.\u001b[0m\u001b[0madd\u001b[0m\u001b[0;34m(\u001b[0m\u001b[0me\u001b[0m\u001b[0;34m)\u001b[0m\u001b[0;34m\u001b[0m\u001b[0;34m\u001b[0m\u001b[0m\n",
      "\u001b[0;32m/usr/local/lib/python3.8/site-packages/ics/event.py\u001b[0m in \u001b[0;36mbegin\u001b[0;34m(self, value)\u001b[0m\n\u001b[1;32m    155\u001b[0m         \u001b[0mvalue\u001b[0m \u001b[0;34m=\u001b[0m \u001b[0mget_arrow\u001b[0m\u001b[0;34m(\u001b[0m\u001b[0mvalue\u001b[0m\u001b[0;34m)\u001b[0m\u001b[0;34m\u001b[0m\u001b[0;34m\u001b[0m\u001b[0m\n\u001b[1;32m    156\u001b[0m         \u001b[0;32mif\u001b[0m \u001b[0mvalue\u001b[0m \u001b[0;32mand\u001b[0m \u001b[0mself\u001b[0m\u001b[0;34m.\u001b[0m\u001b[0m_end_time\u001b[0m \u001b[0;32mand\u001b[0m \u001b[0mvalue\u001b[0m \u001b[0;34m>\u001b[0m \u001b[0mself\u001b[0m\u001b[0;34m.\u001b[0m\u001b[0m_end_time\u001b[0m\u001b[0;34m:\u001b[0m\u001b[0;34m\u001b[0m\u001b[0;34m\u001b[0m\u001b[0m\n\u001b[0;32m--> 157\u001b[0;31m             \u001b[0;32mraise\u001b[0m \u001b[0mValueError\u001b[0m\u001b[0;34m(\u001b[0m\u001b[0;34m'Begin must be before end'\u001b[0m\u001b[0;34m)\u001b[0m\u001b[0;34m\u001b[0m\u001b[0;34m\u001b[0m\u001b[0m\n\u001b[0m\u001b[1;32m    158\u001b[0m         \u001b[0mself\u001b[0m\u001b[0;34m.\u001b[0m\u001b[0m_begin\u001b[0m \u001b[0;34m=\u001b[0m \u001b[0mvalue\u001b[0m\u001b[0;34m\u001b[0m\u001b[0;34m\u001b[0m\u001b[0m\n\u001b[1;32m    159\u001b[0m         \u001b[0mself\u001b[0m\u001b[0;34m.\u001b[0m\u001b[0m_begin_precision\u001b[0m \u001b[0;34m=\u001b[0m \u001b[0;34m'second'\u001b[0m\u001b[0;34m\u001b[0m\u001b[0;34m\u001b[0m\u001b[0m\n",
      "\u001b[0;31mValueError\u001b[0m: Begin must be before end"
     ]
    }
   ],
   "source": [
    "from ics import Calendar, Event\n",
    "c = Calendar()\n",
    "e = Event()\n",
    "\n",
    "std = df[df['Datum'] > dt.datetime.now()]\n",
    "for l in std['Datum'].iloc:\n",
    "    print(l)\n",
    "    e.name = \"AIX Standby\" + random.choice(string.ascii_letters)\n",
    "    e.begin = l.strftime(\"%Y-%m-%d %H:%M:%S\")\n",
    "    e.end =   (l + dt.timedelta(hours=8, minutes=30)).strftime(\"%Y-%m-%d %H:%M:%S\")\n",
    "    c.events.add(e)\n",
    "    \n",
    "c.events"
   ]
  },
  {
   "cell_type": "code",
   "execution_count": 29,
   "metadata": {},
   "outputs": [
    {
     "data": {
      "text/plain": [
       "{<Event 'AIX Standby' begin:2020-07-27T00:00:00+00:00 end:2020-07-27T08:30:00+00:00>}"
      ]
     },
     "execution_count": 29,
     "metadata": {},
     "output_type": "execute_result"
    }
   ],
   "source": [
    "e.begin = '2020-07-27 00:00:00'\n",
    "e.end = '2020-07-27 08:30:00'\n",
    "c.events.add(e)\n",
    "c.events"
   ]
  },
  {
   "cell_type": "code",
   "execution_count": 29,
   "metadata": {},
   "outputs": [
    {
     "data": {
      "text/plain": [
       "{<Event 'AIX Standby' begin:2020-07-27T17:00:00+00:00 end:2020-08-02T00:00:00+00:00>}"
      ]
     },
     "execution_count": 29,
     "metadata": {},
     "output_type": "execute_result"
    }
   ],
   "source": [
    "from ics import Calendar, Event\n",
    "c = Calendar()\n",
    "e = Event()\n",
    "\n",
    "e.name = \"AIX Standby\"\n",
    "e.begin = std['Datum'].iloc[0].strftime(\"%Y-%m-%d\") + ' 17:00:00'\n",
    "e.end = '2020-08-02 00:00:00'\n",
    "c.events.add(e)\n",
    "c.events"
   ]
  },
  {
   "cell_type": "code",
   "execution_count": 30,
   "metadata": {},
   "outputs": [],
   "source": [
    "with open('my.ics', 'w') as my_file:\n",
    "    my_file.writelines(c)"
   ]
  },
  {
   "cell_type": "code",
   "execution_count": 31,
   "metadata": {},
   "outputs": [
    {
     "name": "stdout",
     "output_type": "stream",
     "text": [
      "BEGIN:VCALENDAR\n",
      "VERSION:2.0\n",
      "PRODID:ics.py - http://git.io/lLljaA\n",
      "BEGIN:VEVENT\n",
      "DTEND:20200802T000000Z\n",
      "DTSTART:20200727T170000Z\n",
      "SUMMARY:AIX Standby\n",
      "UID:1f6ecba2-ec1b-4b76-8367-bc2e6f55b871@1f6e.org\n",
      "END:VEVENT\n",
      "END:VCALENDAR\n"
     ]
    }
   ],
   "source": [
    "!cat my.ics"
   ]
  },
  {
   "cell_type": "code",
   "execution_count": 64,
   "metadata": {},
   "outputs": [
    {
     "data": {
      "text/plain": [
       "37    27\n",
       "38    24\n",
       "39    23\n",
       "40    20\n",
       "41    18\n",
       "42    15\n",
       "43     6\n",
       "44    27\n",
       "45    17\n",
       "46     7\n",
       "47    28\n",
       "48    19\n",
       "49     9\n",
       "50    30\n",
       "51    21\n",
       "52    11\n",
       "53     1\n",
       "Name: split, dtype: object"
      ]
     },
     "execution_count": 64,
     "metadata": {},
     "output_type": "execute_result"
    }
   ],
   "source": [
    "df['split'].apply(lambda x: x[0])"
   ]
  },
  {
   "cell_type": "code",
   "execution_count": 32,
   "metadata": {},
   "outputs": [
    {
     "data": {
      "text/plain": [
       "'abcdefghijklmnopqrstuvwxyzABCDEFGHIJKLMNOPQRSTUVWXYZ'"
      ]
     },
     "execution_count": 32,
     "metadata": {},
     "output_type": "execute_result"
    }
   ],
   "source": [
    "import string\n",
    "string.ascii_letters"
   ]
  },
  {
   "cell_type": "code",
   "execution_count": 33,
   "metadata": {},
   "outputs": [
    {
     "data": {
      "text/plain": [
       "'G'"
      ]
     },
     "execution_count": 33,
     "metadata": {},
     "output_type": "execute_result"
    }
   ],
   "source": [
    "import random\n",
    "random.choice(string.ascii_letters)"
   ]
  },
  {
   "cell_type": "code",
   "execution_count": null,
   "metadata": {},
   "outputs": [],
   "source": []
  }
 ],
 "metadata": {
  "kernelspec": {
   "display_name": "Python 3",
   "language": "python",
   "name": "python3"
  },
  "language_info": {
   "codemirror_mode": {
    "name": "ipython",
    "version": 3
   },
   "file_extension": ".py",
   "mimetype": "text/x-python",
   "name": "python",
   "nbconvert_exporter": "python",
   "pygments_lexer": "ipython3",
   "version": "3.8.1"
  }
 },
 "nbformat": 4,
 "nbformat_minor": 4
}
