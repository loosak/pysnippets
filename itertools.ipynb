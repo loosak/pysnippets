{
 "metadata": {
  "language_info": {
   "codemirror_mode": {
    "name": "ipython",
    "version": 3
   },
   "file_extension": ".py",
   "mimetype": "text/x-python",
   "name": "python",
   "nbconvert_exporter": "python",
   "pygments_lexer": "ipython3",
   "version": "3.7.6-final"
  },
  "orig_nbformat": 2,
  "kernelspec": {
   "name": "Python 3.7.6 64-bit ('base': conda)",
   "display_name": "Python 3.7.6 64-bit ('base': conda)",
   "metadata": {
    "interpreter": {
     "hash": "2b18bb91eb218b1f8ae8bb49bae5375a376e0e07bc43f5ca2bb932dd5ae9f430"
    }
   }
  }
 },
 "nbformat": 4,
 "nbformat_minor": 2,
 "cells": [
  {
   "cell_type": "code",
   "execution_count": null,
   "metadata": {},
   "outputs": [],
   "source": []
  },
  {
   "cell_type": "code",
   "execution_count": 1,
   "metadata": {
    "tags": []
   },
   "outputs": [
    {
     "output_type": "stream",
     "name": "stdout",
     "text": "[[1, 2, 3], [4, 5]]\n[[1, 2, 3], [4, 5]]\n"
    }
   ],
   "source": [
    "from more_itertools import chunked\n",
    "\n",
    "def list_spliter(my_list:list, chunk_size:int) -> list:\n",
    "    return [my_list[i: i + chunk_size] for i in range(0, len(my_list), chunk_size)]\n",
    "\n",
    "print(list(chunked([1, 2, 3, 4, 5], 3)))\n",
    "print(list_spliter([1, 2, 3, 4, 5], 3))"
   ]
  },
  {
   "cell_type": "code",
   "execution_count": null,
   "metadata": {},
   "outputs": [],
   "source": []
  }
 ]
}