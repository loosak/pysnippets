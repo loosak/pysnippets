{
 "cells": [
  {
   "cell_type": "code",
   "execution_count": null,
   "metadata": {},
   "outputs": [],
   "source": []
  },
  {
   "cell_type": "markdown",
   "metadata": {},
   "source": [
    "# Transform counter to dataframe"
   ]
  },
  {
   "cell_type": "code",
   "execution_count": 2,
   "metadata": {},
   "outputs": [],
   "source": [
    "import pandas as pd"
   ]
  },
  {
   "cell_type": "code",
   "execution_count": 3,
   "metadata": {},
   "outputs": [
    {
     "ename": "NameError",
     "evalue": "name 'labels' is not defined",
     "output_type": "error",
     "traceback": [
      "\u001b[0;31m---------------------------------------------------------------------------\u001b[0m",
      "\u001b[0;31mNameError\u001b[0m                                 Traceback (most recent call last)",
      "\u001b[0;32m<ipython-input-3-2accaa7e0204>\u001b[0m in \u001b[0;36m<module>\u001b[0;34m\u001b[0m\n\u001b[1;32m      1\u001b[0m \u001b[0;32mfrom\u001b[0m \u001b[0mcollections\u001b[0m \u001b[0;32mimport\u001b[0m \u001b[0mCounter\u001b[0m\u001b[0;34m\u001b[0m\u001b[0;34m\u001b[0m\u001b[0m\n\u001b[1;32m      2\u001b[0m \u001b[0;34m\u001b[0m\u001b[0m\n\u001b[0;32m----> 3\u001b[0;31m \u001b[0mcounter\u001b[0m \u001b[0;34m=\u001b[0m \u001b[0mCounter\u001b[0m\u001b[0;34m(\u001b[0m\u001b[0mlabels\u001b[0m\u001b[0;34m)\u001b[0m\u001b[0;34m\u001b[0m\u001b[0;34m\u001b[0m\u001b[0m\n\u001b[0m\u001b[1;32m      4\u001b[0m \u001b[0;34m\u001b[0m\u001b[0m\n\u001b[1;32m      5\u001b[0m \u001b[0;32mdef\u001b[0m \u001b[0mcounter_to_df\u001b[0m\u001b[0;34m(\u001b[0m\u001b[0mcounter\u001b[0m\u001b[0;34m)\u001b[0m\u001b[0;34m:\u001b[0m\u001b[0;34m\u001b[0m\u001b[0;34m\u001b[0m\u001b[0m\n",
      "\u001b[0;31mNameError\u001b[0m: name 'labels' is not defined"
     ]
    }
   ],
   "source": [
    "import pandas as pd\n",
    "from collections import Counter\n",
    "\n",
    "counter = Counter(labels)\n",
    "\n",
    "def counter_to_df(counter):\n",
    "    counter_df = pd.DataFrame.from_dict(counter, orient='index').reset_index()\\\n",
    "    .rename(columns={0:'Count'}).sort_values(by='Count', ascending=False)\n",
    "\n",
    "    return counter_df\n",
    "  \n",
    "counter_df = counter_to_df(counter)"
   ]
  },
  {
   "cell_type": "code",
   "execution_count": 5,
   "metadata": {},
   "outputs": [
    {
     "name": "stdout",
     "output_type": "stream",
     "text": [
      "Collecting pip\n",
      "  Downloading pip-20.2.2-py2.py3-none-any.whl (1.5 MB)\n",
      "\u001b[K     |████████████████████████████████| 1.5 MB 6.9 MB/s eta 0:00:01\n",
      "\u001b[?25hInstalling collected packages: pip\n",
      "  Attempting uninstall: pip\n",
      "    Found existing installation: pip 20.0.2\n",
      "    Uninstalling pip-20.0.2:\n",
      "      Successfully uninstalled pip-20.0.2\n",
      "Successfully installed pip-20.2.2\n",
      "Note: you may need to restart the kernel to use updated packages.\n",
      "Collecting datapane\n",
      "  Downloading datapane-0.7.4-py3-none-any.whl (1.5 MB)\n",
      "\u001b[K     |████████████████████████████████| 1.5 MB 7.0 MB/s eta 0:00:01\n",
      "\u001b[?25hCollecting stringcase<2.0.0,>=1.2.0\n",
      "  Downloading stringcase-1.2.0.tar.gz (3.0 kB)\n",
      "Requirement already satisfied: jinja2<3.0.0,>=2.11.1 in /usr/local/lib/python3.8/site-packages (from datapane) (2.11.1)\n",
      "Collecting furl<3.0.0,>=2.1.0\n",
      "  Downloading furl-2.1.0-py2.py3-none-any.whl (20 kB)\n",
      "Collecting altair<5.0.0,>=4.0.0\n",
      "  Downloading altair-4.1.0-py3-none-any.whl (727 kB)\n",
      "\u001b[K     |████████████████████████████████| 727 kB 45.4 MB/s eta 0:00:01\n",
      "\u001b[?25hCollecting ruamel.yaml<0.17.0,>=0.16.5\n",
      "  Downloading ruamel.yaml-0.16.10-py2.py3-none-any.whl (111 kB)\n",
      "\u001b[K     |████████████████████████████████| 111 kB 39.8 MB/s eta 0:00:01\n",
      "\u001b[?25hCollecting packaging<21.0,>=20.3\n",
      "  Downloading packaging-20.4-py2.py3-none-any.whl (37 kB)\n",
      "Collecting click-spinner<0.2.0,>=0.1.8\n",
      "  Downloading click_spinner-0.1.10-py2.py3-none-any.whl (4.0 kB)\n",
      "Requirement already satisfied: click<8.0.0,>=7.0.0 in /usr/local/lib/python3.8/site-packages (from datapane) (7.0)\n",
      "Requirement already satisfied: jsonschema<4.0.0,>=3.2.0 in /usr/local/lib/python3.8/site-packages (from datapane) (3.2.0)\n",
      "Collecting colorlog<5.0.0,>=4.1.0\n",
      "  Downloading colorlog-4.2.1-py2.py3-none-any.whl (14 kB)\n",
      "Collecting folium<0.12.0,>=0.11.0\n",
      "  Downloading folium-0.11.0-py2.py3-none-any.whl (93 kB)\n",
      "\u001b[K     |████████████████████████████████| 93 kB 3.2 MB/s  eta 0:00:01\n",
      "\u001b[?25hCollecting pyarrow<0.18.0,>=0.17.0\n",
      "  Downloading pyarrow-0.17.1-cp38-cp38-manylinux2014_x86_64.whl (63.8 MB)\n",
      "\u001b[K     |████████████████████████████████| 63.8 MB 162 kB/s  eta 0:00:01     |█████▋                          | 11.1 MB 47.4 MB/s eta 0:00:02     |███████▍                        | 14.7 MB 47.4 MB/s eta 0:00:02     |████████▍                       | 16.6 MB 47.4 MB/s eta 0:00:01     |█████████████▏                  | 26.2 MB 47.4 MB/s eta 0:00:01     |███████████████▉                | 31.5 MB 47.4 MB/s eta 0:00:01     |█████████████████▊              | 35.3 MB 34.4 MB/s eta 0:00:01     |██████████████████████▋         | 45.1 MB 34.4 MB/s eta 0:00:01\n",
      "\u001b[?25hRequirement already satisfied: PyYAML<6.0.0,>=5.3.0 in /usr/local/lib/python3.8/site-packages (from datapane) (5.3)\n",
      "Collecting munch<3.0.0,>=2.5.0\n",
      "  Downloading munch-2.5.0-py2.py3-none-any.whl (10 kB)\n",
      "Collecting tabulate<0.9.0,>=0.8.7\n",
      "  Downloading tabulate-0.8.7-py3-none-any.whl (24 kB)\n",
      "Collecting importlib_resources<4.0.0,>=3.0.0\n",
      "  Downloading importlib_resources-3.0.0-py2.py3-none-any.whl (23 kB)\n",
      "\u001b[33mWARNING: The candidate selected for download or install is a yanked version: 'validators' candidate (version 0.16.0 at https://files.pythonhosted.org/packages/c0/74/66419c1dad0c4e66b0c79f28d83f1259ed8648f35d8de10de8acff474f0f/validators-0.16.0.tar.gz#sha256=992abaff76f0fb4040e29c57222b0786ca8fab2a779104dd855e880039602b15 (from https://pypi.org/simple/validators/))\n",
      "Reason for being yanked: Missing python_requires in setup.py\u001b[0m\n",
      "Collecting validators<0.17.0,>=0.16.0\n",
      "  Downloading validators-0.16.0.tar.gz (28 kB)\n",
      "Collecting requests-toolbelt<0.10.0,>=0.9.1\n",
      "  Downloading requests_toolbelt-0.9.1-py2.py3-none-any.whl (54 kB)\n",
      "\u001b[K     |████████████████████████████████| 54 kB 4.8 MB/s  eta 0:00:01\n",
      "\u001b[?25hCollecting dacite<2.0.0,>=1.2.0\n",
      "  Downloading dacite-1.5.1-py3-none-any.whl (12 kB)\n",
      "Requirement already satisfied: matplotlib<4.0.0,>=3.1.0 in /usr/local/lib/python3.8/site-packages (from datapane) (3.1.3)\n",
      "Collecting lxml<5.0.0,>=4.5.2\n",
      "  Downloading lxml-4.5.2-cp38-cp38-manylinux1_x86_64.whl (5.4 MB)\n",
      "\u001b[K     |████████████████████████████████| 5.4 MB 45.3 MB/s eta 0:00:01\n",
      "\u001b[?25hCollecting plotly<5.0.0,>=4.8.1\n",
      "  Downloading plotly-4.9.0-py2.py3-none-any.whl (12.9 MB)\n",
      "\u001b[K     |████████████████████████████████| 12.9 MB 14.1 MB/s eta 0:00:01    |████████                        | 3.2 MB 14.1 MB/s eta 0:00:01     |████████████████████▏           | 8.1 MB 14.1 MB/s eta 0:00:01     |█████████████████████████████▍  | 11.8 MB 14.1 MB/s eta 0:00:01\n",
      "\u001b[?25hCollecting flit-core<2.4.0,>=2.3.0\n",
      "  Downloading flit_core-2.3.0-py2.py3-none-any.whl (40 kB)\n",
      "\u001b[K     |████████████████████████████████| 40 kB 9.1 MB/s  eta 0:00:01\n",
      "\u001b[?25hRequirement already satisfied: pandas<2.0.0,>=1.0.1 in /usr/local/lib/python3.8/site-packages (from datapane) (1.0.1)\n",
      "Collecting toolz<0.11.0,>=0.10.0\n",
      "  Downloading toolz-0.10.0.tar.gz (49 kB)\n",
      "\u001b[K     |████████████████████████████████| 49 kB 8.9 MB/s  eta 0:00:01\n",
      "\u001b[?25hCollecting bokeh<3.0.0,>=2.0.0\n",
      "  Downloading bokeh-2.2.0.tar.gz (8.8 MB)\n",
      "\u001b[K     |████████████████████████████████| 8.8 MB 34.6 MB/s eta 0:00:01     |██████                          | 1.6 MB 34.6 MB/s eta 0:00:01\n",
      "\u001b[?25hRequirement already satisfied: requests<3.0.0,>=2.20.0 in /usr/local/lib/python3.8/site-packages (from datapane) (2.23.0)\n",
      "Requirement already satisfied: nbconvert<6.0.0,>=5.6.1 in /usr/local/lib/python3.8/site-packages (from datapane) (5.6.1)\n",
      "Requirement already satisfied: numpy<2.0.0,>=1.18.0 in /usr/local/lib/python3.8/site-packages (from datapane) (1.18.1)\n",
      "Requirement already satisfied: MarkupSafe>=0.23 in /usr/local/lib/python3.8/site-packages (from jinja2<3.0.0,>=2.11.1->datapane) (1.1.1)\n",
      "Requirement already satisfied: six>=1.8.0 in /usr/local/lib/python3.8/site-packages (from furl<3.0.0,>=2.1.0->datapane) (1.14.0)\n",
      "Collecting orderedmultidict>=1.0.1\n",
      "  Downloading orderedmultidict-1.0.1-py2.py3-none-any.whl (11 kB)\n",
      "Requirement already satisfied: entrypoints in /usr/local/lib/python3.8/site-packages (from altair<5.0.0,>=4.0.0->datapane) (0.3)\n",
      "Collecting ruamel.yaml.clib>=0.1.2; platform_python_implementation == \"CPython\" and python_version < \"3.9\"\n",
      "  Downloading ruamel.yaml.clib-0.2.0-cp38-cp38-manylinux1_x86_64.whl (578 kB)\n",
      "\u001b[K     |████████████████████████████████| 578 kB 21.9 MB/s eta 0:00:01\n",
      "\u001b[?25hRequirement already satisfied: pyparsing>=2.0.2 in /usr/local/lib/python3.8/site-packages (from packaging<21.0,>=20.3->datapane) (2.4.6)\n",
      "Requirement already satisfied: attrs>=17.4.0 in /usr/local/lib/python3.8/site-packages (from jsonschema<4.0.0,>=3.2.0->datapane) (19.3.0)\n",
      "Requirement already satisfied: setuptools in /usr/local/lib/python3.8/site-packages (from jsonschema<4.0.0,>=3.2.0->datapane) (45.2.0)\n",
      "Requirement already satisfied: pyrsistent>=0.14.0 in /usr/local/lib/python3.8/site-packages (from jsonschema<4.0.0,>=3.2.0->datapane) (0.15.7)\n",
      "Collecting branca>=0.3.0\n",
      "  Downloading branca-0.4.1-py3-none-any.whl (24 kB)\n",
      "Requirement already satisfied: decorator>=3.4.0 in /usr/local/lib/python3.8/site-packages (from validators<0.17.0,>=0.16.0->datapane) (4.4.2)\n",
      "Requirement already satisfied: python-dateutil>=2.1 in /usr/local/lib/python3.8/site-packages (from matplotlib<4.0.0,>=3.1.0->datapane) (2.8.1)\n",
      "Requirement already satisfied: cycler>=0.10 in /usr/local/lib/python3.8/site-packages (from matplotlib<4.0.0,>=3.1.0->datapane) (0.10.0)\n",
      "Requirement already satisfied: kiwisolver>=1.0.1 in /usr/local/lib/python3.8/site-packages (from matplotlib<4.0.0,>=3.1.0->datapane) (1.1.0)\n",
      "Requirement already satisfied: retrying>=1.3.3 in /usr/local/lib/python3.8/site-packages (from plotly<5.0.0,>=4.8.1->datapane) (1.3.3)\n",
      "Collecting pytoml\n",
      "  Downloading pytoml-0.1.21-py2.py3-none-any.whl (8.5 kB)\n",
      "Requirement already satisfied: pytz>=2017.2 in /usr/local/lib/python3.8/site-packages (from pandas<2.0.0,>=1.0.1->datapane) (2019.3)\n",
      "Collecting pillow>=7.1.0\n",
      "  Downloading Pillow-7.2.0-cp38-cp38-manylinux1_x86_64.whl (2.2 MB)\n",
      "\u001b[K     |████████████████████████████████| 2.2 MB 31.6 MB/s eta 0:00:01\n",
      "\u001b[?25hRequirement already satisfied: tornado>=5.1 in /usr/local/lib/python3.8/site-packages (from bokeh<3.0.0,>=2.0.0->datapane) (6.0.3)\n",
      "Collecting typing_extensions>=3.7.4\n",
      "  Downloading typing_extensions-3.7.4.3-py3-none-any.whl (22 kB)\n",
      "Requirement already satisfied: idna<3,>=2.5 in /usr/local/lib/python3.8/site-packages (from requests<3.0.0,>=2.20.0->datapane) (2.9)\n",
      "Requirement already satisfied: chardet<4,>=3.0.2 in /usr/local/lib/python3.8/site-packages (from requests<3.0.0,>=2.20.0->datapane) (3.0.4)\n",
      "Requirement already satisfied: certifi>=2017.4.17 in /usr/local/lib/python3.8/site-packages (from requests<3.0.0,>=2.20.0->datapane) (2019.11.28)\n",
      "Requirement already satisfied: urllib3!=1.25.0,!=1.25.1,<1.26,>=1.21.1 in /usr/local/lib/python3.8/site-packages (from requests<3.0.0,>=2.20.0->datapane) (1.25.8)\n",
      "Requirement already satisfied: pygments in /usr/local/lib/python3.8/site-packages (from nbconvert<6.0.0,>=5.6.1->datapane) (2.5.2)\n",
      "Requirement already satisfied: pandocfilters>=1.4.1 in /usr/local/lib/python3.8/site-packages (from nbconvert<6.0.0,>=5.6.1->datapane) (1.4.2)\n",
      "Requirement already satisfied: jupyter-core in /usr/local/lib/python3.8/site-packages (from nbconvert<6.0.0,>=5.6.1->datapane) (4.6.3)\n",
      "Requirement already satisfied: traitlets>=4.2 in /usr/local/lib/python3.8/site-packages (from nbconvert<6.0.0,>=5.6.1->datapane) (4.3.3)\n",
      "Requirement already satisfied: nbformat>=4.4 in /usr/local/lib/python3.8/site-packages (from nbconvert<6.0.0,>=5.6.1->datapane) (5.0.4)\n",
      "Requirement already satisfied: defusedxml in /usr/local/lib/python3.8/site-packages (from nbconvert<6.0.0,>=5.6.1->datapane) (0.6.0)\n",
      "Requirement already satisfied: bleach in /usr/local/lib/python3.8/site-packages (from nbconvert<6.0.0,>=5.6.1->datapane) (3.1.1)\n",
      "Requirement already satisfied: testpath in /usr/local/lib/python3.8/site-packages (from nbconvert<6.0.0,>=5.6.1->datapane) (0.4.4)\n",
      "Requirement already satisfied: mistune<2,>=0.8.1 in /usr/local/lib/python3.8/site-packages (from nbconvert<6.0.0,>=5.6.1->datapane) (0.8.4)\n",
      "Requirement already satisfied: ipython-genutils in /usr/local/lib/python3.8/site-packages (from traitlets>=4.2->nbconvert<6.0.0,>=5.6.1->datapane) (0.2.0)\n",
      "Requirement already satisfied: webencodings in /usr/local/lib/python3.8/site-packages (from bleach->nbconvert<6.0.0,>=5.6.1->datapane) (0.5.1)\n",
      "Building wheels for collected packages: stringcase, validators, toolz, bokeh\n",
      "  Building wheel for stringcase (setup.py) ... \u001b[?25ldone\n",
      "\u001b[?25h  Created wheel for stringcase: filename=stringcase-1.2.0-py3-none-any.whl size=3576 sha256=9735db8370ec08ecfb34de52612fa34102d624600916a47217e7a390cd8774e9\n",
      "  Stored in directory: /root/.cache/pip/wheels/04/0e/31/bf265c64f2a4d24516e9923f1f6293c3bcbcde75e0d80ab47a\n",
      "  Building wheel for validators (setup.py) ... \u001b[?25ldone\n",
      "\u001b[?25h  Created wheel for validators: filename=validators-0.16.0-py3-none-any.whl size=18411 sha256=38d7b27eebe20b1e3df1d820bb6d1dc3ee8363ee66746e7471b7a5f1a9e1a8ec\n",
      "  Stored in directory: /root/.cache/pip/wheels/ea/04/dc/3e829ccb869fd4dfba6528cf526af4ff7bb2a4d45fc600e322\n",
      "  Building wheel for toolz (setup.py) ... \u001b[?25ldone\n",
      "\u001b[?25h  Created wheel for toolz: filename=toolz-0.10.0-py3-none-any.whl size=55575 sha256=394f88bb188c5adc146ff90c1fef2f9462617e603c88b5ec2963ea243556cf4d\n",
      "  Stored in directory: /root/.cache/pip/wheels/a5/2b/b5/05758d5828d65f2adef8fbb5d5484e4adb946ae1827a973a01\n",
      "  Building wheel for bokeh (setup.py) ... \u001b[?25ldone\n",
      "\u001b[?25h  Created wheel for bokeh: filename=bokeh-2.2.0-py3-none-any.whl size=9293532 sha256=037305c993b4aa2a8b5c4f432c865bcc4f5e363d2485e8960a6dec9f26cec2f4\n",
      "  Stored in directory: /root/.cache/pip/wheels/78/d5/9c/a478ec969bce140622773fc148aff36cbbbcfdbdc070352cbb\n",
      "Successfully built stringcase validators toolz bokeh\n",
      "Installing collected packages: stringcase, orderedmultidict, furl, toolz, altair, ruamel.yaml.clib, ruamel.yaml, packaging, click-spinner, colorlog, branca, folium, pyarrow, munch, tabulate, importlib-resources, validators, requests-toolbelt, dacite, lxml, plotly, pytoml, flit-core, pillow, typing-extensions, bokeh, datapane\n",
      "  Attempting uninstall: packaging\n",
      "    Found existing installation: packaging 20.1\n",
      "    Uninstalling packaging-20.1:\n",
      "      Successfully uninstalled packaging-20.1\n",
      "  Attempting uninstall: lxml\n",
      "    Found existing installation: lxml 4.5.0\n",
      "    Uninstalling lxml-4.5.0:\n",
      "      Successfully uninstalled lxml-4.5.0\n",
      "  Attempting uninstall: plotly\n",
      "    Found existing installation: plotly 4.5.2\n",
      "    Uninstalling plotly-4.5.2:\n",
      "      Successfully uninstalled plotly-4.5.2\n",
      "  Attempting uninstall: pillow\n",
      "    Found existing installation: Pillow 7.0.0\n",
      "    Uninstalling Pillow-7.0.0:\n",
      "      Successfully uninstalled Pillow-7.0.0\n",
      "  Attempting uninstall: bokeh\n",
      "    Found existing installation: bokeh 1.4.0\n",
      "    Uninstalling bokeh-1.4.0:\n",
      "      Successfully uninstalled bokeh-1.4.0\n",
      "Successfully installed altair-4.1.0 bokeh-2.2.0 branca-0.4.1 click-spinner-0.1.10 colorlog-4.2.1 dacite-1.5.1 datapane-0.7.4 flit-core-2.3.0 folium-0.11.0 furl-2.1.0 importlib-resources-3.0.0 lxml-4.5.2 munch-2.5.0 orderedmultidict-1.0.1 packaging-20.4 pillow-7.2.0 plotly-4.9.0 pyarrow-0.17.1 pytoml-0.1.21 requests-toolbelt-0.9.1 ruamel.yaml-0.16.10 ruamel.yaml.clib-0.2.0 stringcase-1.2.0 tabulate-0.8.7 toolz-0.10.0 typing-extensions-3.7.4.3 validators-0.16.0\n",
      "Note: you may need to restart the kernel to use updated packages.\n"
     ]
    }
   ],
   "source": [
    "%pip install --upgrade pip\n",
    "%pip install datapane"
   ]
  },
  {
   "cell_type": "code",
   "execution_count": 6,
   "metadata": {},
   "outputs": [
    {
     "name": "stderr",
     "output_type": "stream",
     "text": [
      "{'detail': 'Invalid token.'}\n"
     ]
    },
    {
     "ename": "HTTPError",
     "evalue": "401 Client Error: Unauthorized for url: https://datapane.com/api/blobs/lookup/?name=medium&owner=khuyentran1401",
     "output_type": "error",
     "traceback": [
      "\u001b[0;31m---------------------------------------------------------------------------\u001b[0m",
      "\u001b[0;31mHTTPError\u001b[0m                                 Traceback (most recent call last)",
      "\u001b[0;32m<ipython-input-6-0707eb75a416>\u001b[0m in \u001b[0;36m<module>\u001b[0;34m\u001b[0m\n\u001b[1;32m      4\u001b[0m \u001b[0;34m\u001b[0m\u001b[0m\n\u001b[1;32m      5\u001b[0m \u001b[0;31m# Load data from dp.Blob\u001b[0m\u001b[0;34m\u001b[0m\u001b[0;34m\u001b[0m\u001b[0;34m\u001b[0m\u001b[0m\n\u001b[0;32m----> 6\u001b[0;31m \u001b[0mmedium\u001b[0m \u001b[0;34m=\u001b[0m \u001b[0mdp\u001b[0m\u001b[0;34m.\u001b[0m\u001b[0mBlob\u001b[0m\u001b[0;34m.\u001b[0m\u001b[0mget\u001b[0m\u001b[0;34m(\u001b[0m\u001b[0mname\u001b[0m\u001b[0;34m=\u001b[0m\u001b[0;34m'medium'\u001b[0m\u001b[0;34m,\u001b[0m \u001b[0mowner\u001b[0m\u001b[0;34m=\u001b[0m\u001b[0;34m'khuyentran1401'\u001b[0m\u001b[0;34m)\u001b[0m\u001b[0;34m.\u001b[0m\u001b[0mdownload_df\u001b[0m\u001b[0;34m(\u001b[0m\u001b[0;34m)\u001b[0m\u001b[0;34m\u001b[0m\u001b[0;34m\u001b[0m\u001b[0m\n\u001b[0m",
      "\u001b[0;32m/usr/local/lib/python3.8/site-packages/datapane/client/api/dp_object.py\u001b[0m in \u001b[0;36mget\u001b[0;34m(cls, name, owner, version)\u001b[0m\n\u001b[1;32m     85\u001b[0m         \u001b[0mcls\u001b[0m\u001b[0;34m:\u001b[0m \u001b[0mType\u001b[0m\u001b[0;34m[\u001b[0m\u001b[0mU\u001b[0m\u001b[0;34m]\u001b[0m\u001b[0;34m,\u001b[0m \u001b[0mname\u001b[0m\u001b[0;34m:\u001b[0m \u001b[0mstr\u001b[0m\u001b[0;34m,\u001b[0m \u001b[0mowner\u001b[0m\u001b[0;34m:\u001b[0m \u001b[0mOptional\u001b[0m\u001b[0;34m[\u001b[0m\u001b[0mstr\u001b[0m\u001b[0;34m]\u001b[0m \u001b[0;34m=\u001b[0m \u001b[0;32mNone\u001b[0m\u001b[0;34m,\u001b[0m \u001b[0mversion\u001b[0m\u001b[0;34m:\u001b[0m \u001b[0mOptional\u001b[0m\u001b[0;34m[\u001b[0m\u001b[0mstr\u001b[0m\u001b[0;34m]\u001b[0m \u001b[0;34m=\u001b[0m \u001b[0;32mNone\u001b[0m\u001b[0;34m\u001b[0m\u001b[0;34m\u001b[0m\u001b[0m\n\u001b[1;32m     86\u001b[0m     ) -> U:\n\u001b[0;32m---> 87\u001b[0;31m         \u001b[0mres\u001b[0m \u001b[0;34m=\u001b[0m \u001b[0mResource\u001b[0m\u001b[0;34m(\u001b[0m\u001b[0;34mf\"{cls.endpoint}/lookup/\"\u001b[0m\u001b[0;34m)\u001b[0m\u001b[0;34m.\u001b[0m\u001b[0mget\u001b[0m\u001b[0;34m(\u001b[0m\u001b[0mname\u001b[0m\u001b[0;34m=\u001b[0m\u001b[0mname\u001b[0m\u001b[0;34m,\u001b[0m \u001b[0mowner\u001b[0m\u001b[0;34m=\u001b[0m\u001b[0mowner\u001b[0m\u001b[0;34m,\u001b[0m \u001b[0mversion\u001b[0m\u001b[0;34m=\u001b[0m\u001b[0mversion\u001b[0m\u001b[0;34m)\u001b[0m\u001b[0;34m\u001b[0m\u001b[0;34m\u001b[0m\u001b[0m\n\u001b[0m\u001b[1;32m     88\u001b[0m         \u001b[0;32mreturn\u001b[0m \u001b[0mcls\u001b[0m\u001b[0;34m(\u001b[0m\u001b[0mres\u001b[0m\u001b[0;34m)\u001b[0m\u001b[0;34m\u001b[0m\u001b[0;34m\u001b[0m\u001b[0m\n\u001b[1;32m     89\u001b[0m \u001b[0;34m\u001b[0m\u001b[0m\n",
      "\u001b[0;32m/usr/local/lib/python3.8/site-packages/datapane/client/api/common.py\u001b[0m in \u001b[0;36mget\u001b[0;34m(self, **params)\u001b[0m\n\u001b[1;32m    210\u001b[0m     \u001b[0;32mdef\u001b[0m \u001b[0mget\u001b[0m\u001b[0;34m(\u001b[0m\u001b[0mself\u001b[0m\u001b[0;34m,\u001b[0m \u001b[0;34m**\u001b[0m\u001b[0mparams\u001b[0m\u001b[0;34m)\u001b[0m \u001b[0;34m->\u001b[0m \u001b[0mJSON\u001b[0m\u001b[0;34m:\u001b[0m\u001b[0;34m\u001b[0m\u001b[0;34m\u001b[0m\u001b[0m\n\u001b[1;32m    211\u001b[0m         \u001b[0mr\u001b[0m \u001b[0;34m=\u001b[0m \u001b[0mself\u001b[0m\u001b[0;34m.\u001b[0m\u001b[0msession\u001b[0m\u001b[0;34m.\u001b[0m\u001b[0mget\u001b[0m\u001b[0;34m(\u001b[0m\u001b[0mself\u001b[0m\u001b[0;34m.\u001b[0m\u001b[0murl\u001b[0m\u001b[0;34m,\u001b[0m \u001b[0mparams\u001b[0m\u001b[0;34m=\u001b[0m\u001b[0mparams\u001b[0m\u001b[0;34m,\u001b[0m \u001b[0mtimeout\u001b[0m\u001b[0;34m=\u001b[0m\u001b[0mself\u001b[0m\u001b[0;34m.\u001b[0m\u001b[0mtimeout\u001b[0m\u001b[0;34m)\u001b[0m\u001b[0;34m\u001b[0m\u001b[0;34m\u001b[0m\u001b[0m\n\u001b[0;32m--> 212\u001b[0;31m         \u001b[0;32mreturn\u001b[0m \u001b[0mself\u001b[0m\u001b[0;34m.\u001b[0m\u001b[0m_process_res\u001b[0m\u001b[0;34m(\u001b[0m\u001b[0mr\u001b[0m\u001b[0;34m)\u001b[0m\u001b[0;34m\u001b[0m\u001b[0;34m\u001b[0m\u001b[0m\n\u001b[0m\u001b[1;32m    213\u001b[0m \u001b[0;34m\u001b[0m\u001b[0m\n\u001b[1;32m    214\u001b[0m     \u001b[0;32mdef\u001b[0m \u001b[0mpatch\u001b[0m\u001b[0;34m(\u001b[0m\u001b[0mself\u001b[0m\u001b[0;34m,\u001b[0m \u001b[0mparams\u001b[0m\u001b[0;34m:\u001b[0m \u001b[0mt\u001b[0m\u001b[0;34m.\u001b[0m\u001b[0mDict\u001b[0m \u001b[0;34m=\u001b[0m \u001b[0;32mNone\u001b[0m\u001b[0;34m,\u001b[0m \u001b[0;34m**\u001b[0m\u001b[0mdata\u001b[0m\u001b[0;34m:\u001b[0m \u001b[0mJSON\u001b[0m\u001b[0;34m)\u001b[0m \u001b[0;34m->\u001b[0m \u001b[0mJSON\u001b[0m\u001b[0;34m:\u001b[0m\u001b[0;34m\u001b[0m\u001b[0;34m\u001b[0m\u001b[0m\n",
      "\u001b[0;32m/usr/local/lib/python3.8/site-packages/datapane/client/api/common.py\u001b[0m in \u001b[0;36m_process_res\u001b[0;34m(self, r, empty_ok)\u001b[0m\n\u001b[1;32m    156\u001b[0m                 \u001b[0;32mexcept\u001b[0m \u001b[0mValueError\u001b[0m\u001b[0;34m:\u001b[0m\u001b[0;34m\u001b[0m\u001b[0;34m\u001b[0m\u001b[0m\n\u001b[1;32m    157\u001b[0m                     \u001b[0mlog\u001b[0m\u001b[0;34m.\u001b[0m\u001b[0merror\u001b[0m\u001b[0;34m(\u001b[0m\u001b[0mpprint\u001b[0m\u001b[0;34m.\u001b[0m\u001b[0mpformat\u001b[0m\u001b[0;34m(\u001b[0m\u001b[0mr\u001b[0m\u001b[0;34m.\u001b[0m\u001b[0mtext\u001b[0m\u001b[0;34m)\u001b[0m\u001b[0;34m)\u001b[0m\u001b[0;34m\u001b[0m\u001b[0;34m\u001b[0m\u001b[0m\n\u001b[0;32m--> 158\u001b[0;31m         \u001b[0mr\u001b[0m\u001b[0;34m.\u001b[0m\u001b[0mraise_for_status\u001b[0m\u001b[0;34m(\u001b[0m\u001b[0;34m)\u001b[0m\u001b[0;34m\u001b[0m\u001b[0;34m\u001b[0m\u001b[0m\n\u001b[0m\u001b[1;32m    159\u001b[0m         \u001b[0;32mif\u001b[0m \u001b[0mempty_ok\u001b[0m \u001b[0;32mand\u001b[0m \u001b[0;32mnot\u001b[0m \u001b[0mr\u001b[0m\u001b[0;34m.\u001b[0m\u001b[0mcontent\u001b[0m\u001b[0;34m:\u001b[0m\u001b[0;34m\u001b[0m\u001b[0;34m\u001b[0m\u001b[0m\n\u001b[1;32m    160\u001b[0m             \u001b[0mr_data\u001b[0m \u001b[0;34m=\u001b[0m \u001b[0;34m{\u001b[0m\u001b[0;34m}\u001b[0m\u001b[0;34m\u001b[0m\u001b[0;34m\u001b[0m\u001b[0m\n",
      "\u001b[0;32m/usr/local/lib/python3.8/site-packages/requests/models.py\u001b[0m in \u001b[0;36mraise_for_status\u001b[0;34m(self)\u001b[0m\n\u001b[1;32m    939\u001b[0m \u001b[0;34m\u001b[0m\u001b[0m\n\u001b[1;32m    940\u001b[0m         \u001b[0;32mif\u001b[0m \u001b[0mhttp_error_msg\u001b[0m\u001b[0;34m:\u001b[0m\u001b[0;34m\u001b[0m\u001b[0;34m\u001b[0m\u001b[0m\n\u001b[0;32m--> 941\u001b[0;31m             \u001b[0;32mraise\u001b[0m \u001b[0mHTTPError\u001b[0m\u001b[0;34m(\u001b[0m\u001b[0mhttp_error_msg\u001b[0m\u001b[0;34m,\u001b[0m \u001b[0mresponse\u001b[0m\u001b[0;34m=\u001b[0m\u001b[0mself\u001b[0m\u001b[0;34m)\u001b[0m\u001b[0;34m\u001b[0m\u001b[0;34m\u001b[0m\u001b[0m\n\u001b[0m\u001b[1;32m    942\u001b[0m \u001b[0;34m\u001b[0m\u001b[0m\n\u001b[1;32m    943\u001b[0m     \u001b[0;32mdef\u001b[0m \u001b[0mclose\u001b[0m\u001b[0;34m(\u001b[0m\u001b[0mself\u001b[0m\u001b[0;34m)\u001b[0m\u001b[0;34m:\u001b[0m\u001b[0;34m\u001b[0m\u001b[0;34m\u001b[0m\u001b[0m\n",
      "\u001b[0;31mHTTPError\u001b[0m: 401 Client Error: Unauthorized for url: https://datapane.com/api/blobs/lookup/?name=medium&owner=khuyentran1401"
     ]
    }
   ],
   "source": [
    "import datapane as dp \n",
    "import pandas as pd\n",
    "import numpy as np\n",
    "\n",
    "# Load data from dp.Blob\n",
    "medium = dp.Blob.get(name='medium', owner='khuyentran1401').download_df()"
   ]
  },
  {
   "cell_type": "code",
   "execution_count": null,
   "metadata": {},
   "outputs": [],
   "source": []
  }
 ],
 "metadata": {
  "kernelspec": {
   "display_name": "Python 3",
   "language": "python",
   "name": "python3"
  },
  "language_info": {
   "codemirror_mode": {
    "name": "ipython",
    "version": 3
   },
   "file_extension": ".py",
   "mimetype": "text/x-python",
   "name": "python",
   "nbconvert_exporter": "python",
   "pygments_lexer": "ipython3",
   "version": "3.8.1"
  }
 },
 "nbformat": 4,
 "nbformat_minor": 4
}
