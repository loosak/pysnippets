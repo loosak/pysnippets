{
 "cells": [
  {
   "cell_type": "markdown",
   "metadata": {},
   "source": [
    "# Modern Python Cookbook\n",
    "*Second Edition*\n",
    "133 recipes to develop flawless and expressive programs in Python 3.8\n",
    "## Steven F. Lott\n"
   ]
  },
  {
   "cell_type": "markdown",
   "metadata": {},
   "source": [
    "# Newton's Law of Universal Gravitation\n",
    "$$\n",
    "F{_G} = G{m{_1}m{_2} \\over d{^2}}\n",
    "$$\n",
    "____\n",
    "\n",
    "# Einstein Field Equations (General Relativity)\n",
    "$$\n",
    "R_{\\mu \\nu} - {1 \\over 2}R \\, g_{\\mu \\nu} + \\Lambda g_{\\mu \\nu} = {8 \\pi G \\over c^4} T_{\\mu \\nu}\n",
    "$$\n",
    "\n",
    "$R_{\\mu \\nu}$ ... Ricci curvature tensor\n",
    "\n",
    "$R$ ... Scalar curvature\n",
    "\n",
    "$g_{\\mu \\nu}$ ... Metric tensor\n",
    "\n",
    "$\\Lambda$ ... Cosmological constant\n",
    "\n",
    "$G$ ... Newton's gravitational constant\n",
    "\n",
    "$T_{\\mu \\nu}$ ... Stress-energy tensor\n",
    "\n",
    "$$\n",
    "G_{\\alpha \\beta} = {8 \\pi G \\over c^4} T_{\\alpha \\beta}\n",
    "$$\n",
    "\n",
    "The equations must be wrong! Although the theory and the equations have passed every test, they are intrinsically incompatible with quantum theory (which has also passed every experimental test). The problem is that the equations require the energy and momentum to be defined precisely at every space time point, which contradicts the uncertainty principle for quantum states. This is not a just a problem at high energies or short distances, it is a conceptual incompatibility that applies in every lab.\n",
    "\n",
    "_____\n",
    "\n",
    "<h2>The Lorenz Equations</h2>\n",
    "\n",
    "$$\n",
    "\\dot{x} = \\sigma(y-x)\n",
    "$$\n",
    "$$\n",
    "\\dot{y} = \\rho x - y - xz\n",
    "$$\n",
    "$$\n",
    "\\dot{z} = -\\beta z + xy\n",
    "$$\n",
    "______\n",
    "\n",
    "# Bohr radius\n",
    "most probable distance between the proton and electron in a hydrogen atom\n",
    "\n",
    "$$\n",
    "a_0 = \\frac{4 \\pi \\varepsilon_0 \\hbar^2}{m_{\\mathrm{e}} e^2} = \\frac{\\hbar}{m_{\\mathrm{e}}\\,c\\,\\alpha}\n",
    "$$\n",
    "\n",
    "_____\n",
    "\n",
    "$$ J(\\theta_0,\\theta_1) = \\sum_{i=0} $$\n",
    "_____\n",
    "# Dirac\n",
    "\n",
    "$$\n",
    "\\div{x}\n",
    "\n",
    "\\grad{\\Psi}\n",
    "\n",
    "\\nabla{x}\n",
    "$$\n",
    "\n",
    "_____\n",
    "\n",
    "# Euler's identity\n",
    "\n",
    "$$\n",
    "e^{i \\pi} + 1 = 0\n",
    "$$\n",
    "$$\n",
    "i^2 = −1\n",
    "$$\n"
   ]
  },
  {
   "cell_type": "code",
   "execution_count": null,
   "metadata": {},
   "outputs": [],
   "source": []
  },
  {
   "cell_type": "markdown",
   "metadata": {},
   "source": [
    "\n",
    "# O`Reily\n",
    "\n",
    "https://github.com/DataForScience/Timeseries/tree/master/\n",
    "\n",
    "https://github.com/PacktPublishing/Network-Science-with-Python-and-NetworkX-Quick-Start-Guide\n",
    "\n",
    "# Python\n",
    "\n",
    "https://github.com/jerry-git\n",
    "\n",
    "https://github.com/trekhleb\n",
    "\n",
    "https://github.com/rasbt/python_reference\n",
    "\n",
    "https://github.com/zhiwehu/Python-programming-exercises\n",
    "\n",
    "https://github.com/MTrajK/coding-problems\n",
    "\n",
    "https://github.com/TheAlgorithms\n"
   ]
  },
  {
   "cell_type": "code",
   "execution_count": null,
   "metadata": {},
   "outputs": [],
   "source": [
    "import IPython.display\n",
    "\n",
    "IPython.display.Markdown('https://raw.githubusercontent.com/PacktPublishing/Modern-Python-Cookbook-Second-Edition/master/README.rst')"
   ]
  },
  {
   "cell_type": "code",
   "execution_count": 13,
   "metadata": {},
   "outputs": [],
   "source": []
  },
  {
   "cell_type": "code",
   "execution_count": 4,
   "metadata": {
    "tags": []
   },
   "outputs": [
    {
     "name": "stdout",
     "output_type": "stream",
     "text": [
      "The watermark extension is already loaded. To reload it, use:\n",
      "  %reload_ext watermark\n",
      "pandas    1.1.2\n",
      "bokeh     2.2.1\n",
      "numpy     1.19.1\n",
      "watermark 2.0.2\n",
      "Tue Sep 15 2020 \n",
      "\n",
      "CPython 3.8.5\n",
      "IPython 7.18.1\n",
      "\n",
      "compiler   : GCC 7.5.0\n",
      "system     : Linux\n",
      "release    : 3.10.102\n",
      "machine    : x86_64\n",
      "processor  : x86_64\n",
      "CPU cores  : 2\n",
      "interpreter: 64bit\n",
      "Git hash   : d000a34a8de9386d90beda1aeca9e45570da89c4\n"
     ]
    }
   ],
   "source": [
    "import watermark\n",
    "%load_ext watermark\n",
    "%watermark -n -v -m -g -iv"
   ]
  },
  {
   "cell_type": "code",
   "execution_count": null,
   "metadata": {},
   "outputs": [],
   "source": [
    "import IPython.display\n",
    "IPython.display.Text('https://raw.githubusercontent.com/PacktPublishing/Modern-Python-Cookbook-Second-Edition/master/requirements.txt')"
   ]
  },
  {
   "cell_type": "markdown",
   "metadata": {},
   "source": [
    "# Working with large and small integers\n",
    "\n",
    "Internally, Python has two representations for numbers. The conversion between these two is seamless and automatic.\n",
    "\n",
    "For smallish numbers, Python will generally use 4-byte or 8-byte integer values. Details are buried in CPython's internals; they depend on the facilities of the C compiler used to build Python.\n",
    "\n",
    "For numbers over `sys.maxsize`, Python switches to internally representing integer numbers as sequences of digits. Digit, in this case, often means a 30-bit value.\n",
    "\n",
    "How many ways can we permute a standard deck of 52 cards? The answer is $52! ≈ 8 × 10^{67}$."
   ]
  },
  {
   "cell_type": "code",
   "execution_count": 11,
   "metadata": {},
   "outputs": [
    {
     "data": {
      "text/plain": [
       "9223372036854775807"
      ]
     },
     "execution_count": 11,
     "metadata": {},
     "output_type": "execute_result"
    }
   ],
   "source": [
    "sys.maxsize"
   ]
  },
  {
   "cell_type": "code",
   "execution_count": 17,
   "metadata": {},
   "outputs": [
    {
     "data": {
      "text/plain": [
       "80658175170943878571660636856403766975289505440883277824000000000000"
      ]
     },
     "execution_count": 17,
     "metadata": {},
     "output_type": "execute_result"
    }
   ],
   "source": [
    "# A large value like 52! consists of 8 of these 30-bit-sized digits. It can be a little confusing to think of a digit as requiring 30 bits in order to be represented. Instead of the commonly used symbols, 0, 1, 2, 3, ..., 9, for base-10 numbers, we'd need 230 distinct symbols for each digit of these large numbers.\n",
    "\n",
    "math.factorial(52)"
   ]
  },
  {
   "cell_type": "code",
   "execution_count": 14,
   "metadata": {},
   "outputs": [
    {
     "data": {
      "text/plain": [
       "63.0"
      ]
     },
     "execution_count": 14,
     "metadata": {},
     "output_type": "execute_result"
    }
   ],
   "source": [
    "# We computed the log to base 2 to find out how many bits are required for this number.\n",
    "math.log(sys.maxsize, 2)\n"
   ]
  },
  {
   "cell_type": "code",
   "execution_count": 15,
   "metadata": {},
   "outputs": [
    {
     "data": {
      "text/plain": [
       "sys.int_info(bits_per_digit=30, sizeof_digit=4)"
      ]
     },
     "execution_count": 15,
     "metadata": {},
     "output_type": "execute_result"
    }
   ],
   "source": [
    "sys.int_info"
   ]
  },
  {
   "cell_type": "markdown",
   "metadata": {},
   "source": [
    "# Doing currency calculations\n",
    "When working with currency, we should always use the decimal module. If we try to use the values of Python's built-in float type, we can run into problems with the rounding and truncation of numbers:\n",
    "\n",
    "Create Decimal objects from strings or integers. In this case, we want 7.25%, which is 7.25/100. We can compute the value using Decimal objects. We could have used Decimal('0.0725') instead of doing the division explicitly. The result is a hair over $0.21. It's computed correctly to the full number of decimal places:\n"
   ]
  },
  {
   "cell_type": "code",
   "execution_count": 21,
   "metadata": {},
   "outputs": [
    {
     "data": {
      "text/plain": [
       "Decimal('0.0725')"
      ]
     },
     "execution_count": 21,
     "metadata": {},
     "output_type": "execute_result"
    }
   ],
   "source": [
    "import decimal\n",
    "tax_rate = decimal.Decimal('7.25')/Decimal(100)\n",
    "tax_rate"
   ]
  },
  {
   "cell_type": "code",
   "execution_count": 22,
   "metadata": {},
   "outputs": [
    {
     "data": {
      "text/plain": [
       "Decimal('0.213875')"
      ]
     },
     "execution_count": 22,
     "metadata": {},
     "output_type": "execute_result"
    }
   ],
   "source": [
    "purchase_amount = decimal.Decimal('2.95')\n",
    "tax_rate * purchase_amount\n"
   ]
  },
  {
   "cell_type": "code",
   "execution_count": 24,
   "metadata": {},
   "outputs": [
    {
     "data": {
      "text/plain": [
       "Decimal('3.16')"
      ]
     },
     "execution_count": 24,
     "metadata": {},
     "output_type": "execute_result"
    }
   ],
   "source": [
    "penny = decimal.Decimal('0.01')\n",
    "total_amount = purchase_amount + tax_rate * purchase_amount\n",
    "total_amount.quantize(penny)"
   ]
  },
  {
   "cell_type": "markdown",
   "metadata": {},
   "source": [
    "# the default rounding rule of ROUND_HALF_EVEN.\n",
    "Every financial wizard (and many world currencies) have different rules for rounding. The\n",
    "Decimal module offers every variation. We might, for example, do something like this:"
   ]
  },
  {
   "cell_type": "code",
   "execution_count": 25,
   "metadata": {},
   "outputs": [
    {
     "data": {
      "text/plain": [
       "Decimal('3.17')"
      ]
     },
     "execution_count": 25,
     "metadata": {},
     "output_type": "execute_result"
    }
   ],
   "source": [
    "total_amount.quantize(penny, decimal.ROUND_UP)"
   ]
  },
  {
   "cell_type": "code",
   "execution_count": null,
   "metadata": {},
   "outputs": [],
   "source": []
  },
  {
   "cell_type": "code",
   "execution_count": null,
   "metadata": {},
   "outputs": [],
   "source": [
    "'Discard \\N{MAHJONG TILE RED DRAGON}'"
   ]
  },
  {
   "cell_type": "code",
   "execution_count": null,
   "metadata": {},
   "outputs": [],
   "source": [
    "from fractions import Fraction\n",
    "sugar_cups = Fraction('2.5')\n",
    "sugar_cups"
   ]
  },
  {
   "cell_type": "code",
   "execution_count": null,
   "metadata": {},
   "outputs": [],
   "source": [
    "5/8"
   ]
  },
  {
   "cell_type": "code",
   "execution_count": null,
   "metadata": {},
   "outputs": [],
   "source": [
    "scale_factor = Fraction(5/8)\n",
    "scale_factor\n"
   ]
  },
  {
   "cell_type": "code",
   "execution_count": null,
   "metadata": {},
   "outputs": [],
   "source": [
    "sugar_cups * scale_factor"
   ]
  },
  {
   "cell_type": "code",
   "execution_count": null,
   "metadata": {},
   "outputs": [],
   "source": [
    "round(25/16, 3)"
   ]
  },
  {
   "cell_type": "code",
   "execution_count": null,
   "metadata": {},
   "outputs": [],
   "source": [
    "25/16 == Fraction(25, 16)"
   ]
  },
  {
   "cell_type": "code",
   "execution_count": null,
   "metadata": {},
   "outputs": [],
   "source": [
    "round(25/16, 3) == Fraction(25, 16)"
   ]
  },
  {
   "cell_type": "code",
   "execution_count": null,
   "metadata": {},
   "outputs": [],
   "source": [
    "math.isclose(round(25/16, 3), Fraction(25, 16),  rel_tol=1e-03)"
   ]
  },
  {
   "cell_type": "code",
   "execution_count": null,
   "metadata": {},
   "outputs": [],
   "source": [
    "1e-03"
   ]
  },
  {
   "cell_type": "code",
   "execution_count": null,
   "metadata": {},
   "outputs": [],
   "source": [
    "math.sqrt(-2)"
   ]
  },
  {
   "cell_type": "code",
   "execution_count": null,
   "metadata": {},
   "outputs": [],
   "source": [
    "np.sqrt(-2)"
   ]
  },
  {
   "cell_type": "code",
   "execution_count": 26,
   "metadata": {},
   "outputs": [
    {
     "data": {
      "text/plain": [
       "['R', 'e', 'a', 'l', 'P', 'y', 't', 'h', 'o', 'n']"
      ]
     },
     "execution_count": 26,
     "metadata": {},
     "output_type": "execute_result"
    }
   ],
   "source": [
    "*a, = \"RealPython\"\n",
    "a"
   ]
  },
  {
   "cell_type": "code",
   "execution_count": 27,
   "metadata": {},
   "outputs": [
    {
     "data": {
      "text/plain": [
       "['R', 'e', 'a', 'l', 'P', 'y', 't', 'h', 'o', 'n']"
      ]
     },
     "execution_count": 27,
     "metadata": {},
     "output_type": "execute_result"
    }
   ],
   "source": [
    "a = [*\"RealPython\"]\n",
    "a\n"
   ]
  },
  {
   "cell_type": "code",
   "execution_count": 36,
   "metadata": {},
   "outputs": [
    {
     "data": {
      "text/plain": [
       "[0.0,\n",
       " 0.1111111111111111,\n",
       " 0.2222222222222222,\n",
       " 0.3333333333333333,\n",
       " 0.4444444444444444,\n",
       " 0.5555555555555556,\n",
       " 0.6666666666666666,\n",
       " 0.7777777777777777,\n",
       " 0.8888888888888888,\n",
       " 1.0]"
      ]
     },
     "execution_count": 36,
     "metadata": {},
     "output_type": "execute_result"
    }
   ],
   "source": [
    "*a, = np.linspace(0,1,10)\n",
    "a"
   ]
  },
  {
   "cell_type": "code",
   "execution_count": 50,
   "metadata": {},
   "outputs": [
    {
     "data": {
      "text/plain": [
       "['Monday', 'Tuesday', 'Wednesday', 'Thursday', 'Friday', 'Saturday', 'Sunday']"
      ]
     },
     "execution_count": 50,
     "metadata": {},
     "output_type": "execute_result"
    }
   ],
   "source": [
    "import pandas as pd\n",
    "*d, = pd.date_range('2018-01-01','2018-01-07',freq='1d').strftime('%A')\n",
    "d"
   ]
  },
  {
   "cell_type": "code",
   "execution_count": 51,
   "metadata": {},
   "outputs": [
    {
     "data": {
      "text/plain": [
       "False"
      ]
     },
     "execution_count": 51,
     "metadata": {},
     "output_type": "execute_result"
    }
   ],
   "source": [
    "# Toto je js true\n",
    "9999999999999999 == 10000000000000000"
   ]
  },
  {
   "cell_type": "markdown",
   "metadata": {},
   "source": [
    "# Generator\n",
    "* Any function that contains a yield statement returns a generator.\n",
    "* Generators and iterators are interchangeable.\n"
   ]
  },
  {
   "cell_type": "code",
   "execution_count": 3,
   "metadata": {
    "tags": []
   },
   "outputs": [
    {
     "name": "stdout",
     "output_type": "stream",
     "text": [
      "1 3 5 7 9 11 13 15 17 19 21 23 25 27 29 31 33 35 37 39 41 43 45 47 49 51 53 55 57 59 61 63 65 67 69 71 73 75 77 79 81 83 85 87 89 91 93 95 97 99\n"
     ]
    }
   ],
   "source": [
    "def count(start, step=1):\n",
    "    while start < 100:\n",
    "        yield start\n",
    "        start += step\n",
    "\n",
    "\n",
    "c = count(1,2)\n",
    "print(*list(c))"
   ]
  },
  {
   "cell_type": "code",
   "execution_count": 6,
   "metadata": {},
   "outputs": [
    {
     "data": {
      "text/plain": [
       "3"
      ]
     },
     "execution_count": 6,
     "metadata": {},
     "output_type": "execute_result"
    }
   ],
   "source": [
    "next(c)"
   ]
  },
  {
   "cell_type": "code",
   "execution_count": 7,
   "metadata": {
    "tags": []
   },
   "outputs": [
    {
     "name": "stdout",
     "output_type": "stream",
     "text": [
      "add\n"
     ]
    },
    {
     "data": {
      "text/plain": [
       "3"
      ]
     },
     "execution_count": 7,
     "metadata": {},
     "output_type": "execute_result"
    }
   ],
   "source": [
    "from functools import wraps\n",
    "\n",
    "def debug(func):\n",
    "    @wraps(func)\n",
    "    def out(*args, **kwargs):\n",
    "        print(func.__name__)\n",
    "        return func(*args, **kwargs)\n",
    "    return out\n",
    "\n",
    "@debug\n",
    "def add(x, y):\n",
    "    return x + y\n",
    "\n",
    "add(1,2)\n"
   ]
  },
  {
   "cell_type": "code",
   "execution_count": 24,
   "metadata": {},
   "outputs": [
    {
     "data": {
      "text/html": [
       "<div>\n",
       "<style scoped>\n",
       "    .dataframe tbody tr th:only-of-type {\n",
       "        vertical-align: middle;\n",
       "    }\n",
       "\n",
       "    .dataframe tbody tr th {\n",
       "        vertical-align: top;\n",
       "    }\n",
       "\n",
       "    .dataframe thead th {\n",
       "        text-align: right;\n",
       "    }\n",
       "</style>\n",
       "<table border=\"1\" class=\"dataframe\">\n",
       "  <thead>\n",
       "    <tr style=\"text-align: right;\">\n",
       "      <th></th>\n",
       "      <th>Filesystem</th>\n",
       "      <th>Size</th>\n",
       "      <th>Used</th>\n",
       "      <th>Avail</th>\n",
       "      <th>Capacity</th>\n",
       "      <th>iused</th>\n",
       "      <th>ifree</th>\n",
       "      <th>%iused</th>\n",
       "      <th>Mounted</th>\n",
       "      <th>on</th>\n",
       "    </tr>\n",
       "  </thead>\n",
       "  <tbody>\n",
       "    <tr>\n",
       "      <th>0</th>\n",
       "      <td>/dev/disk1s1</td>\n",
       "      <td>233Gi</td>\n",
       "      <td>221Gi</td>\n",
       "      <td>4.1Gi</td>\n",
       "      <td>99%</td>\n",
       "      <td>2065167</td>\n",
       "      <td>9223372036852710640</td>\n",
       "      <td>0%</td>\n",
       "      <td>/</td>\n",
       "      <td>None</td>\n",
       "    </tr>\n",
       "    <tr>\n",
       "      <th>1</th>\n",
       "      <td>devfs</td>\n",
       "      <td>239Ki</td>\n",
       "      <td>239Ki</td>\n",
       "      <td>0Bi</td>\n",
       "      <td>100%</td>\n",
       "      <td>826</td>\n",
       "      <td>0</td>\n",
       "      <td>100%</td>\n",
       "      <td>/dev</td>\n",
       "      <td>None</td>\n",
       "    </tr>\n",
       "    <tr>\n",
       "      <th>2</th>\n",
       "      <td>/dev/disk1s4</td>\n",
       "      <td>233Gi</td>\n",
       "      <td>7.0Gi</td>\n",
       "      <td>4.1Gi</td>\n",
       "      <td>64%</td>\n",
       "      <td>8</td>\n",
       "      <td>9223372036854775799</td>\n",
       "      <td>0%</td>\n",
       "      <td>/private/var/vm</td>\n",
       "      <td>None</td>\n",
       "    </tr>\n",
       "    <tr>\n",
       "      <th>3</th>\n",
       "      <td>map</td>\n",
       "      <td>-hosts</td>\n",
       "      <td>0Bi</td>\n",
       "      <td>0Bi</td>\n",
       "      <td>0Bi</td>\n",
       "      <td>100%</td>\n",
       "      <td>0</td>\n",
       "      <td>0</td>\n",
       "      <td>100%</td>\n",
       "      <td>/net</td>\n",
       "    </tr>\n",
       "    <tr>\n",
       "      <th>4</th>\n",
       "      <td>map</td>\n",
       "      <td>auto_home</td>\n",
       "      <td>0Bi</td>\n",
       "      <td>0Bi</td>\n",
       "      <td>0Bi</td>\n",
       "      <td>100%</td>\n",
       "      <td>0</td>\n",
       "      <td>0</td>\n",
       "      <td>100%</td>\n",
       "      <td>/home</td>\n",
       "    </tr>\n",
       "    <tr>\n",
       "      <th>5</th>\n",
       "      <td>Box</td>\n",
       "      <td>233Gi</td>\n",
       "      <td>221Gi</td>\n",
       "      <td>4.1Gi</td>\n",
       "      <td>99%</td>\n",
       "      <td>2065167</td>\n",
       "      <td>4292902128</td>\n",
       "      <td>0%</td>\n",
       "      <td>/Users/kcoufal/Box</td>\n",
       "      <td>None</td>\n",
       "    </tr>\n",
       "  </tbody>\n",
       "</table>\n",
       "</div>"
      ],
      "text/plain": [
       "     Filesystem       Size   Used  Avail Capacity    iused  \\\n",
       "0  /dev/disk1s1      233Gi  221Gi  4.1Gi      99%  2065167   \n",
       "1         devfs      239Ki  239Ki    0Bi     100%      826   \n",
       "2  /dev/disk1s4      233Gi  7.0Gi  4.1Gi      64%        8   \n",
       "3           map     -hosts    0Bi    0Bi      0Bi     100%   \n",
       "4           map  auto_home    0Bi    0Bi      0Bi     100%   \n",
       "5           Box      233Gi  221Gi  4.1Gi      99%  2065167   \n",
       "\n",
       "                 ifree %iused             Mounted     on  \n",
       "0  9223372036852710640     0%                   /   None  \n",
       "1                    0   100%                /dev   None  \n",
       "2  9223372036854775799     0%     /private/var/vm   None  \n",
       "3                    0      0                100%   /net  \n",
       "4                    0      0                100%  /home  \n",
       "5           4292902128     0%  /Users/kcoufal/Box   None  "
      ]
     },
     "execution_count": 24,
     "metadata": {},
     "output_type": "execute_result"
    }
   ],
   "source": [
    "import os\n",
    "import pandas as pd\n",
    "\n",
    "stdout = os.popen('df -h')\n",
    "cols = stdout.readline().split()\n",
    "data = stdout.read().split('\\n')\n",
    "data = [item.split() for item in data if item]\n",
    "\n",
    "pd.DataFrame(data, columns=cols)"
   ]
  },
  {
   "cell_type": "code",
   "execution_count": 3,
   "metadata": {},
   "outputs": [
    {
     "output_type": "execute_result",
     "data": {
      "text/plain": "PosixPath('--ip=127.0.0.1')"
     },
     "metadata": {},
     "execution_count": 3
    }
   ],
   "source": [
    "import sys\n",
    "import pathlib\n",
    "\n",
    "directory = sys.argv[1] if len(sys.argv) > 1 else '.'\n",
    "pathlib.Path(directory)\n"
   ]
  },
  {
   "cell_type": "code",
   "execution_count": null,
   "metadata": {},
   "outputs": [],
   "source": [
    "import logging\n",
    "\n",
    "logging "
   ]
  }
 ],
 "metadata": {
  "kernelspec": {
   "display_name": "Python 3",
   "language": "python",
   "name": "python3"
  },
  "language_info": {
   "codemirror_mode": {
    "name": "ipython",
    "version": 3
   },
   "file_extension": ".py",
   "mimetype": "text/x-python",
   "name": "python",
   "nbconvert_exporter": "python",
   "pygments_lexer": "ipython3",
   "version": "3.7.6-final"
  }
 },
 "nbformat": 4,
 "nbformat_minor": 4
}