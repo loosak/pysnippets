{
 "cells": [
  {
   "cell_type": "markdown",
   "metadata": {},
   "source": [
    "# `switch` in python"
   ]
  },
  {
   "cell_type": "code",
   "execution_count": null,
   "metadata": {},
   "outputs": [],
   "source": []
  },
  {
   "cell_type": "code",
   "execution_count": 4,
   "metadata": {},
   "outputs": [
    {
     "data": {
      "text/plain": [
       "'10:35:15.185150'"
      ]
     },
     "execution_count": 4,
     "metadata": {},
     "output_type": "execute_result"
    }
   ],
   "source": [
    "def _format_time(hh, mm, ss, us, timespec='auto'):\n",
    "    specs = {\n",
    "        'hours': '{:02d}',\n",
    "        'minutes': '{:02d}:{:02d}',\n",
    "        'seconds': '{:02d}:{:02d}:{:02d}',\n",
    "        'milliseconds': '{:02d}:{:02d}:{:02d}.{:03d}',\n",
    "        'microseconds': '{:02d}:{:02d}:{:02d}.{:06d}'\n",
    "    }\n",
    "\n",
    "    if timespec == 'auto':\n",
    "        # Skip trailing microseconds when us==0.\n",
    "        timespec = 'microseconds' if us else 'seconds'\n",
    "    elif timespec == 'milliseconds':\n",
    "        us //= 1000\n",
    "    try:\n",
    "        fmt = specs[timespec]\n",
    "    except KeyError:\n",
    "        raise ValueError('Unknown timespec value')\n",
    "    else:\n",
    "        return fmt.format(hh, mm, ss, us)\n",
    "\n",
    "_format_time(10, 35, 15, 185150)"
   ]
  },
  {
   "cell_type": "code",
   "execution_count": 3,
   "metadata": {},
   "outputs": [
    {
     "data": {
      "text/plain": [
       "datetime.datetime(2020, 7, 5, 10, 35, 15, 185150)"
      ]
     },
     "execution_count": 3,
     "metadata": {},
     "output_type": "execute_result"
    }
   ],
   "source": [
    "import datetime as dt\n",
    "\n",
    "dt.datetime.now()"
   ]
  },
  {
   "cell_type": "code",
   "execution_count": null,
   "metadata": {},
   "outputs": [],
   "source": []
  },
  {
   "cell_type": "code",
   "execution_count": null,
   "metadata": {},
   "outputs": [],
   "source": []
  },
  {
   "cell_type": "code",
   "execution_count": 4,
   "metadata": {},
   "outputs": [],
   "source": [
    "import logging\n",
    "logger = logging.getLogger('remoto')\n",
    "\n",
    "log_map = {\n",
    "        'debug': logger.debug,\n",
    "        'error': logger.error,\n",
    "        'warning': logger.warning\n",
    "}\n",
    "\n",
    "logger.info('falling back to')\n",
    "\n",
    "level_received = 'debug'\n",
    "message = 'HELLO'\n",
    "log_map[level_received](message.strip('\\r\\n'))"
   ]
  },
  {
   "cell_type": "code",
   "execution_count": null,
   "metadata": {},
   "outputs": [],
   "source": []
  }
 ],
 "metadata": {
  "kernelspec": {
   "display_name": "Python 3",
   "language": "python",
   "name": "python3"
  },
  "language_info": {
   "codemirror_mode": {
    "name": "ipython",
    "version": 3
   },
   "file_extension": ".py",
   "mimetype": "text/x-python",
   "name": "python",
   "nbconvert_exporter": "python",
   "pygments_lexer": "ipython3",
   "version": "3.8.1"
  }
 },
 "nbformat": 4,
 "nbformat_minor": 4
}
