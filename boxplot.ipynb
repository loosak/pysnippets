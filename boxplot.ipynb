{
 "cells": [
  {
   "cell_type": "code",
   "execution_count": null,
   "metadata": {},
   "outputs": [],
   "source": []
  },
  {
   "cell_type": "markdown",
   "metadata": {},
   "source": [
    "# Summarizing data"
   ]
  },
  {
   "cell_type": "markdown",
   "metadata": {},
   "source": [
    "The **5-number summary** provides descriptive statistics that summarize data by five most important sample percentiles\n",
    "\n",
    "|# | Quartile | Definition | Statistic | Percentile |\n",
    "| --- | --- | --- | --- | --- |\n",
    "|1.|$Q_0$||minimum|$0^{th}$|\n",
    "|2.|$Q_1$|splits off the lowest 25% of data from the highest 75%|N/A|$25^{th}$|\n",
    "|3.|$Q_2$|cuts data set in half|median|$50^{th}$|\n",
    "|4.|$Q_3$|splits off the highest 25% of data from the lowest 75%|N/A|$75^{th}$|\n",
    "|5.|$Q_4$||maximum|$100^{th}$|"
   ]
  },
  {
   "cell_type": "markdown",
   "metadata": {},
   "source": [
    "## Medián (Me or ${\\tilde  x}$) \n",
    "\n",
    "je hodnota, jež dělí řadu vzestupně seřazených výsledků na dvě stejně početné poloviny. Ve statistice patří mezi míry centrální tendence. Platí, že nejméně 50 % hodnot je menších nebo rovných a nejméně 50 % hodnot je větších nebo rovných mediánu. \n",
    "\n",
    "* není ovlivněn extrémními hodnotami. Proto se často používá v případě šikmých rozdělení, u kterých aritmetický průměr dává obvykle nevhodné výsledky.\n",
    "\n",
    "## Kvantily \n",
    "(z lat. quantilis, jak malý/velký?) jsou ve statistice čísla (hodnoty), která dělí soubor seřazených (například naměřených) hodnot na několik zhruba stejně velkých částí. Kvantil je tedy míra polohy rozdělení pravděpodobnosti náhodné veličiny. Popisují body, ve kterých distribuční funkce náhodné proměnné prochází danou hodnotou.\n",
    "\n",
    "## Kvartil\n",
    "Tři kvartily rozdělují statistický soubor na čtvrtiny. 25 % prvků má hodnoty menší než dolní kvartil $Q_{0,25}$ a 75 % prvků hodnoty menší než horní kvartil $Q_{0,75}$; někdy se označují $Q_{1}$ a $Q_{3}$."
   ]
  },
  {
   "cell_type": "markdown",
   "metadata": {},
   "source": [
    "# Box Plot (also called box-and-whisker plot). "
   ]
  },
  {
   "cell_type": "markdown",
   "metadata": {},
   "source": [
    "* The box has an upper bound of $Q_3$ and a lower bound of $Q_1$. \n",
    "* The median will be a line somewhere in this box. \n",
    "* The whiskers extend from the box towards the minimum/maximum. \n",
    "\n",
    "## Whiskers\n",
    "* extends from $Q_3 + 1.5 \\times IQR$ (interquartile range) to $Q_1 - 1.5 \\times IQR$ \n",
    "* anything beyond will be represented as individual points for outliers\n",
    "\n",
    "## Outliers\n",
    "* are extreme values that might be errors in measurement and recording, \n",
    "* accurate reports of rare events."
   ]
  },
  {
   "cell_type": "code",
   "execution_count": 3,
   "metadata": {},
   "outputs": [
    {
     "data": {
      "image/png": "[encoded data removed]",
      "text/plain": [
       "<Figure size 432x432 with 1 Axes>"
      ]
     },
     "metadata": {
      "needs_background": "light"
     },
     "output_type": "display_data"
    }
   ],
   "source": [
    "import numpy as np\n",
    "import pandas as pd\n",
    "import datetime as dt\n",
    "\n",
    "def example_boxplot():\n",
    "    \"\"\"\n",
    "    Generate an example box plot.\n",
    "    taken from \n",
    "    [Hands-On Data Analysis with Pandas](https://www.packtpub.com/big-data-and-business-intelligence/hands-data-analysis-pandas)\n",
    "    \"\"\"\n",
    "    non_symmetric = pd.Series(np.random.gamma(7, 5, size=1000) * np.random.choice([-2.2, -1.85, 0, -0.4, 1.33], size=1000), name='x')\n",
    "\n",
    "    # find the quartiles and iqr\n",
    "    q1_y, median_y, q3_y = non_symmetric.quantile([0.25, 0.5, 0.75])\n",
    "    iqr = q3_y - q1_y\n",
    "\n",
    "    # make the boxplot\n",
    "    ax = non_symmetric.plot(kind='box', figsize=(6, 6), title='Box plot')\n",
    "\n",
    "    # label the box\n",
    "    ax.annotate('median', xy=(0.945, median_y + 2))\n",
    "    ax.annotate(r'$Q_3$ ($75^{th}$)', xy=(1, q3_y), xytext=(1.08, q3_y - 5))\n",
    "    ax.annotate(r'$Q_1$ ($25^{th}$)', xy=(1, q1_y), xytext=(1.08, q1_y))\n",
    "    ax.annotate(\n",
    "        'IQR', xy=(0.9, (q3_y + q1_y)/2), xytext=(0.8, (q3_y + q1_y)/2 - 2.85),\n",
    "        arrowprops=dict(arrowstyle='-[, widthB=3.3, lengthB=0.5')\n",
    "    )\n",
    "\n",
    "    # label the whiskers\n",
    "    ax.annotate(r'$Q_3 + 1.5 * IQR$', xy=(1.05, q3_y + 1.5 * iqr - 7))\n",
    "    ax.annotate(r'$Q_1 - 1.5 * IQR$', xy=(1.05, q1_y - 1.5 * iqr - 2))\n",
    "\n",
    "    # label the outliers\n",
    "    ax.annotate(\n",
    "        'outlier', xy=(0.99, non_symmetric.min()), xytext=(0.8, non_symmetric.min() - 2.1),\n",
    "        arrowprops=dict(arrowstyle='->')\n",
    "    )\n",
    "\n",
    "    for i, val in enumerate(non_symmetric[non_symmetric > q3_y + 1.5*iqr]):\n",
    "        if not i: \n",
    "            text = 'outliers' \n",
    "            x, y = 0.75, 102\n",
    "        else:\n",
    "            text = '' \n",
    "            x, y = 0.87, 103\n",
    "        ax.annotate(\n",
    "            text, xy=(0.99, val), xytext=(x, y),\n",
    "            arrowprops=dict(facecolor='black', arrowstyle='-|>')\n",
    "        )\n",
    "\n",
    "    return ax\n",
    "\n",
    "example_boxplot();"
   ]
  },
  {
   "cell_type": "code",
   "execution_count": null,
   "metadata": {},
   "outputs": [],
   "source": []
  }
 ],
 "metadata": {
  "kernelspec": {
   "display_name": "Python 3",
   "language": "python",
   "name": "python3"
  },
  "language_info": {
   "codemirror_mode": {
    "name": "ipython",
    "version": 3
   },
   "file_extension": ".py",
   "mimetype": "text/x-python",
   "name": "python",
   "nbconvert_exporter": "python",
   "pygments_lexer": "ipython3",
   "version": "3.8.1"
  }
 },
 "nbformat": 4,
 "nbformat_minor": 4
}
