{
  "nbformat": 4,
  "nbformat_minor": 0,
  "metadata": {
    "colab": {
      "name": "lambda.ipynb",
      "provenance": [],
      "collapsed_sections": [],
      "authorship_tag": "ABX9TyPuYjLGHoy33PneXtTbi6fo",
      "include_colab_link": true
    },
    "kernelspec": {
      "name": "python3",
      "display_name": "Python 3"
    },
    "language_info": {
      "name": "python"
    }
  },
  "cells": [
    {
      "cell_type": "markdown",
      "metadata": {
        "id": "view-in-github",
        "colab_type": "text"
      },
      "source": [
        "<a href=\"https://colab.research.google.com/github/loosak/pysnippets/blob/master/lambda.ipynb\" target=\"_parent\"><img src=\"https://colab.research.google.com/assets/colab-badge.svg\" alt=\"Open In Colab\"/></a>"
      ]
    },
    {
      "cell_type": "markdown",
      "source": [
        "# λ calculus\n",
        "\n",
        "https://realpython.com/python-lambda/\n",
        "\n",
        "lambda calculus and an original model of computation invented by Alonzo Church. Back in the 1930s, Alonzo Church formalized a language based on pure abstraction, now known as lambda calculus. At times, lambda functions could also be referred to as lambda abstractions, directly referring to the abstraction model of Alonzo Church’s original design.\n",
        "\n",
        "## Church-Turing hypothesis\n",
        "contrary to the concept of a Turing machine, it does not keep any state. The two models of computation, lambda calculus and Turing machines can be translated into each other. This equivalence is mostly known as the Church-Turing hypothesis.\n",
        "\n",
        "## Immediately Invoked Function Expression (IIFE)."
      ],
      "metadata": {
        "id": "K9rv8p-iTWmH"
      }
    },
    {
      "cell_type": "code",
      "execution_count": 1,
      "metadata": {
        "colab": {
          "base_uri": "https://localhost:8080/"
        },
        "id": "vdX7N26hSx-V",
        "outputId": "bdf2ce17-8505-442a-82de-5b23f70f348d"
      },
      "outputs": [
        {
          "output_type": "execute_result",
          "data": {
            "text/plain": [
              "5"
            ]
          },
          "metadata": {},
          "execution_count": 1
        }
      ],
      "source": [
        "(lambda x, y: x + y)(2, 3)"
      ]
    },
    {
      "cell_type": "code",
      "source": [
        "high_ord_func = lambda x, func: x + func(x)\n",
        "high_ord_func(2, lambda x: x * x)"
      ],
      "metadata": {
        "colab": {
          "base_uri": "https://localhost:8080/"
        },
        "id": "bZJWGZkZU3PS",
        "outputId": "fd320ba1-00b3-427e-a096-6dc7135c9188"
      },
      "execution_count": 2,
      "outputs": [
        {
          "output_type": "execute_result",
          "data": {
            "text/plain": [
              "6"
            ]
          },
          "metadata": {},
          "execution_count": 2
        }
      ]
    },
    {
      "cell_type": "markdown",
      "source": [
        "A lambda function cannot contain any statements. In a lambda function, adding statements like return, pass, assert, or raise will only result in a SyntaxError exception.\n",
        "\n",
        "Python lambda function is a single expression. Although in the body of a lambda, you are allowed to spread the expression over several lines using parentheses or a multiline string, it still remains as a single expression:"
      ],
      "metadata": {
        "id": "QsILh1BcWDRo"
      }
    },
    {
      "cell_type": "markdown",
      "source": [
        ""
      ],
      "metadata": {
        "id": "fXIroK1aWDEc"
      }
    },
    {
      "cell_type": "code",
      "source": [
        "(lambda x:\n",
        "... (x % 4 and 'odd' or 'even'))(3)"
      ],
      "metadata": {
        "colab": {
          "base_uri": "https://localhost:8080/",
          "height": 35
        },
        "id": "02py22CjVRJ6",
        "outputId": "d7ef0425-ac64-4fb9-d6ac-1b3c2e3bcab5"
      },
      "execution_count": 3,
      "outputs": [
        {
          "output_type": "execute_result",
          "data": {
            "text/plain": [
              "'odd'"
            ],
            "application/vnd.google.colaboratory.intrinsic+json": {
              "type": "string"
            }
          },
          "metadata": {},
          "execution_count": 3
        }
      ]
    },
    {
      "cell_type": "markdown",
      "source": [
        "## pass arguments to lambda expressions"
      ],
      "metadata": {
        "id": "ETlOjTUpdHLB"
      }
    },
    {
      "cell_type": "code",
      "source": [
        "(lambda x, y, z=3: x + y + z)(1, 2) "
      ],
      "metadata": {
        "colab": {
          "base_uri": "https://localhost:8080/"
        },
        "id": "RjyXeRf9WjYV",
        "outputId": "d3ea89aa-975f-415c-dc8f-f752808b239f"
      },
      "execution_count": 4,
      "outputs": [
        {
          "output_type": "execute_result",
          "data": {
            "text/plain": [
              "6"
            ]
          },
          "metadata": {},
          "execution_count": 4
        }
      ]
    },
    {
      "cell_type": "code",
      "source": [
        "(lambda x, y, z=3: x + y + z)(1, y=2)"
      ],
      "metadata": {
        "colab": {
          "base_uri": "https://localhost:8080/"
        },
        "id": "sYnIPir9cyRM",
        "outputId": "3d8b4b1e-d57c-43af-fcf9-38b42d9f3efd"
      },
      "execution_count": 6,
      "outputs": [
        {
          "output_type": "execute_result",
          "data": {
            "text/plain": [
              "6"
            ]
          },
          "metadata": {},
          "execution_count": 6
        }
      ]
    },
    {
      "cell_type": "code",
      "source": [
        "(lambda *args: sum(args))(1,2,3)"
      ],
      "metadata": {
        "colab": {
          "base_uri": "https://localhost:8080/"
        },
        "id": "EG2fvjeoc3Yj",
        "outputId": "708bb60c-b8d9-4cc9-88c8-7097bdb49451"
      },
      "execution_count": 7,
      "outputs": [
        {
          "output_type": "execute_result",
          "data": {
            "text/plain": [
              "6"
            ]
          },
          "metadata": {},
          "execution_count": 7
        }
      ]
    },
    {
      "cell_type": "code",
      "source": [
        "(lambda **kwargs: sum(kwargs.values())) (one=1, two=2, three=3)"
      ],
      "metadata": {
        "colab": {
          "base_uri": "https://localhost:8080/"
        },
        "id": "Xnf7Fnbtc8D8",
        "outputId": "cd257a7d-404a-4f99-8fa6-789a24748871"
      },
      "execution_count": 8,
      "outputs": [
        {
          "output_type": "execute_result",
          "data": {
            "text/plain": [
              "6"
            ]
          },
          "metadata": {},
          "execution_count": 8
        }
      ]
    },
    {
      "cell_type": "code",
      "source": [
        "(lambda x, *, y=0, z=0: x + y + z)(1, y=2, z=3)"
      ],
      "metadata": {
        "colab": {
          "base_uri": "https://localhost:8080/"
        },
        "id": "MewJYy2sdBoe",
        "outputId": "c5655e7d-8e86-4080-8a50-4960eab53da9"
      },
      "execution_count": 9,
      "outputs": [
        {
          "output_type": "execute_result",
          "data": {
            "text/plain": [
              "6"
            ]
          },
          "metadata": {},
          "execution_count": 9
        }
      ]
    },
    {
      "cell_type": "code",
      "source": [
        "def debug_decorator(f):\n",
        "  def wraps(*args):\n",
        "      print(f\"Calling function '{f.__name__}'\")\n",
        "      return f(args)\n",
        "  return wraps\n",
        "\n",
        "@debug_decorator\n",
        "def decorated_function(x):\n",
        "  print(f\"With argument '{x}'\")\n",
        "\n",
        "decorated_function('Python')"
      ],
      "metadata": {
        "colab": {
          "base_uri": "https://localhost:8080/"
        },
        "id": "lxEVzUVadGEN",
        "outputId": "a1d4eab4-ac9d-441e-f205-d89237ce3ff5"
      },
      "execution_count": 12,
      "outputs": [
        {
          "output_type": "stream",
          "name": "stdout",
          "text": [
            "Calling function 'decorated_function'\n",
            "With argument '('Python',)'\n"
          ]
        }
      ]
    },
    {
      "cell_type": "markdown",
      "source": [
        "The bytecode interpreted by Python is the same for both functions. But you may notice that the naming is different: the function name is add for a function defined with def, whereas the Python lambda function is seen as lambda.\n"
      ],
      "metadata": {
        "id": "I39Shbz8gAg7"
      }
    },
    {
      "cell_type": "code",
      "source": [
        "import dis\n",
        "add = lambda x, y: x + y\n",
        "type(add)"
      ],
      "metadata": {
        "colab": {
          "base_uri": "https://localhost:8080/"
        },
        "id": "ylAscM1eeLPo",
        "outputId": "d333e769-902a-4bd6-98ad-3e0e28a67732"
      },
      "execution_count": 13,
      "outputs": [
        {
          "output_type": "execute_result",
          "data": {
            "text/plain": [
              "function"
            ]
          },
          "metadata": {},
          "execution_count": 13
        }
      ]
    },
    {
      "cell_type": "code",
      "source": [
        "dis.dis(add)"
      ],
      "metadata": {
        "colab": {
          "base_uri": "https://localhost:8080/"
        },
        "id": "tewSxg22flsF",
        "outputId": "b0486501-c41e-483f-8585-1a916c8b2d04"
      },
      "execution_count": 14,
      "outputs": [
        {
          "output_type": "stream",
          "name": "stdout",
          "text": [
            "  2           0 LOAD_FAST                0 (x)\n",
            "              2 LOAD_FAST                1 (y)\n",
            "              4 BINARY_ADD\n",
            "              6 RETURN_VALUE\n"
          ]
        }
      ]
    },
    {
      "cell_type": "code",
      "source": [
        "def add(x, y): return x + y\n",
        "dis.dis(add)"
      ],
      "metadata": {
        "colab": {
          "base_uri": "https://localhost:8080/"
        },
        "id": "JpTR0Cswfo3q",
        "outputId": "352706c2-3b39-4eaf-c7fa-15732d51d506"
      },
      "execution_count": 15,
      "outputs": [
        {
          "output_type": "stream",
          "name": "stdout",
          "text": [
            "  1           0 LOAD_FAST                0 (x)\n",
            "              2 LOAD_FAST                1 (y)\n",
            "              4 BINARY_ADD\n",
            "              6 RETURN_VALUE\n"
          ]
        }
      ]
    },
    {
      "cell_type": "code",
      "source": [
        "type(add)"
      ],
      "metadata": {
        "colab": {
          "base_uri": "https://localhost:8080/"
        },
        "id": "cQllcm25gOE4",
        "outputId": "bccd21ec-a266-4edf-e85c-0e7371afa619"
      },
      "execution_count": 16,
      "outputs": [
        {
          "output_type": "execute_result",
          "data": {
            "text/plain": [
              "function"
            ]
          },
          "metadata": {},
          "execution_count": 16
        }
      ]
    },
    {
      "cell_type": "code",
      "source": [
        ""
      ],
      "metadata": {
        "id": "er3ZiT5ugUR8"
      },
      "execution_count": null,
      "outputs": []
    }
  ]
}