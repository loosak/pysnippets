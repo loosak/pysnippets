{
 "metadata": {
  "language_info": {
   "codemirror_mode": {
    "name": "ipython",
    "version": 3
   },
   "file_extension": ".py",
   "mimetype": "text/x-python",
   "name": "python",
   "nbconvert_exporter": "python",
   "pygments_lexer": "ipython3",
   "version": "3.7.6-final"
  },
  "orig_nbformat": 2,
  "kernelspec": {
   "name": "Python 3.7.6 64-bit ('base': conda)",
   "display_name": "Python 3.7.6 64-bit ('base': conda)",
   "metadata": {
    "interpreter": {
     "hash": "2b18bb91eb218b1f8ae8bb49bae5375a376e0e07bc43f5ca2bb932dd5ae9f430"
    }
   }
  }
 },
 "nbformat": 4,
 "nbformat_minor": 2,
 "cells": [
  {
   "source": [
    "# dict & args and kwargs Demystified"
   ],
   "cell_type": "markdown",
   "metadata": {}
  },
  {
   "cell_type": "code",
   "execution_count": 2,
   "metadata": {
    "tags": []
   },
   "outputs": [
    {
     "output_type": "stream",
     "name": "stdout",
     "text": "{'a': 'a0', 'b': 'b0', 'c': 'c0'}\n{'a': 'a1', 'b': 'b1', 'c': None}\n{'a': 'a2', 'b': None, 'c': 'c2'}\n"
    }
   ],
   "source": [
    "query = [\n",
    "    {\n",
    "      'a': 'a0', \n",
    "      'b': 'b0',\n",
    "      'c': 'c0',\n",
    "     },{\n",
    "      'a': 'a1', \n",
    "      'b': 'b1',\n",
    "      'c': None,\n",
    "     },{\n",
    "      'a': 'a2', \n",
    "      'b': None,\n",
    "      'c': 'c2',\n",
    "     }\n",
    "]\n",
    "\n",
    "def kwargs_function(**kwargs):\n",
    "    return kwargs\n",
    "\n",
    "def dict_function(d):\n",
    "    return d\n",
    "\n",
    "for q in query:\n",
    "    print(dict_function(q))\n",
    "    kwargs_function(a=q.get('a'),b=q.get('b'),c=q.get('c'))"
   ]
  },
  {
   "cell_type": "code",
   "execution_count": 4,
   "metadata": {},
   "outputs": [
    {
     "output_type": "execute_result",
     "data": {
      "text/plain": "{'a': 'a0', 'b': 'b0', 'c': 'c0'}"
     },
     "metadata": {},
     "execution_count": 4
    }
   ],
   "source": [
    "kwargs_function(**{'a': 'a0', 'b': 'b0', 'c': 'c0'})\n"
   ]
  },
  {
   "cell_type": "code",
   "execution_count": 16,
   "metadata": {
    "tags": []
   },
   "outputs": [
    {
     "output_type": "stream",
     "name": "stdout",
     "text": "{'a': 1, 'b': 2, 'c': 3}\n"
    }
   ],
   "source": [
    "def kwargs_function1(**kwargs):\n",
    "    print(kwargs)\n",
    "    return kwargs\n",
    "\n",
    "def kwargs_function2(**kwargs):\n",
    "    a = kwargs.get('a',None)\n",
    "    b = kwargs.get('b',None)\n",
    "    c = kwargs.get('c',None)\n",
    "    #print(dict(a=a,b=b,c=c))\n",
    "    kwargs_function1(a=a,b=b,c=c)\n",
    "\n",
    "d = kwargs_function2(a=1,b=2,c=3)\n",
    "d"
   ]
  },
  {
   "cell_type": "code",
   "execution_count": 21,
   "metadata": {},
   "outputs": [
    {
     "output_type": "execute_result",
     "data": {
      "text/plain": "(0, 1, 2, 3, 5)"
     },
     "metadata": {},
     "execution_count": 21
    }
   ],
   "source": [
    "*range(4),5\n"
   ]
  },
  {
   "cell_type": "code",
   "execution_count": null,
   "metadata": {},
   "outputs": [],
   "source": []
  },
  {
   "cell_type": "code",
   "execution_count": 27,
   "metadata": {
    "tags": []
   },
   "outputs": [
    {
     "output_type": "stream",
     "name": "stdout",
     "text": "[{'a': 'a0', 'b': 'b0', 'c': 'c0'}]\n{'a': 'a1', 'b': 'b1', 'c': None}\n"
    },
    {
     "output_type": "execute_result",
     "data": {
      "text/plain": "{'a': 'a2', 'b': None, 'c': 'c2'}"
     },
     "metadata": {},
     "execution_count": 27
    }
   ],
   "source": [
    "*a,b,c = query\n",
    "print(a)\n",
    "print(b)\n",
    "c"
   ]
  },
  {
   "cell_type": "code",
   "execution_count": 3,
   "metadata": {
    "tags": []
   },
   "outputs": [
    {
     "output_type": "stream",
     "name": "stdout",
     "text": "6\n"
    }
   ],
   "source": [
    "# Note that args is just a name\n",
    "\n",
    "def my_sum(*args):\n",
    "    result = 0\n",
    "    # Iterating over the Python args tuple\n",
    "    for x in args:\n",
    "        result += x\n",
    "    return result\n",
    "\n",
    "print(my_sum(1, 2, 3))"
   ]
  },
  {
   "cell_type": "code",
   "execution_count": 5,
   "metadata": {},
   "outputs": [
    {
     "output_type": "execute_result",
     "data": {
      "text/plain": "6"
     },
     "metadata": {},
     "execution_count": 5
    }
   ],
   "source": [
    "def my_list(*args):\n",
    "    return sum([x for x in args])\n",
    "my_list(1, 2, 3)"
   ]
  },
  {
   "source": [
    "# Unpacking With the Asterisk Operators: * & **\n",
    "[PEP 448 -- Additional Unpacking Generalizations](https://www.python.org/dev/peps/pep-0448/)\n",
    "\n",
    "unpacking operators are operators that unpack the values from iterable objects in Python.\n",
    "* The single asterisk operator * can be used on any iterable that Python provides,\n",
    "* the double asterisk operator ** can only be used on dictionaries."
   ],
   "cell_type": "markdown",
   "metadata": {}
  },
  {
   "cell_type": "code",
   "execution_count": 12,
   "metadata": {},
   "outputs": [
    {
     "output_type": "execute_result",
     "data": {
      "text/plain": "(1, [2, 3, 4, 5], 6)"
     },
     "metadata": {},
     "execution_count": 12
    }
   ],
   "source": [
    "my_list = [1, 2, 3, 4, 5, 6]\n",
    "\n",
    "a, *b, c = my_list\n",
    "\n",
    "a,b,c"
   ]
  },
  {
   "cell_type": "code",
   "execution_count": 28,
   "metadata": {},
   "outputs": [
    {
     "output_type": "execute_result",
     "data": {
      "text/plain": "[1, 2, 3, 4, 5, 6]"
     },
     "metadata": {},
     "execution_count": 28
    }
   ],
   "source": [
    "# merging_lists.py\n",
    "my_first_list = [1, 2, 3]\n",
    "my_second_list = [4, 5, 6]\n",
    "[*my_first_list, *my_second_list]\n"
   ]
  },
  {
   "cell_type": "code",
   "execution_count": 29,
   "metadata": {},
   "outputs": [
    {
     "output_type": "execute_result",
     "data": {
      "text/plain": "{'A': 1, 'B': 2, 'C': 3, 'D': 4}"
     },
     "metadata": {},
     "execution_count": 29
    }
   ],
   "source": [
    "# merging dicts\n",
    "my_first_dict = {\"A\": 1, \"B\": 2}\n",
    "my_second_dict = {\"C\": 3, \"D\": 4}\n",
    "{**my_first_dict, **my_second_dict}\n"
   ]
  },
  {
   "cell_type": "code",
   "execution_count": 30,
   "metadata": {},
   "outputs": [
    {
     "output_type": "execute_result",
     "data": {
      "text/plain": "['R', 'e', 'a', 'l', 'P', 'y', 't', 'h', 'o', 'n']"
     },
     "metadata": {},
     "execution_count": 30
    }
   ],
   "source": [
    "a = [*\"RealPython\"]\n",
    "a"
   ]
  },
  {
   "cell_type": "code",
   "execution_count": 35,
   "metadata": {
    "tags": []
   },
   "outputs": [
    {
     "output_type": "execute_result",
     "data": {
      "text/plain": "['R', 'e', 'a', 'l', 'P', 'y', 't', 'h', 'o', 'n']"
     },
     "metadata": {},
     "execution_count": 35
    }
   ],
   "source": [
    "# mysterious_statement.py\n",
    "*a, = \"RealPython\"\n",
    "a"
   ]
  },
  {
   "cell_type": "code",
   "execution_count": 38,
   "metadata": {},
   "outputs": [
    {
     "output_type": "execute_result",
     "data": {
      "text/plain": "['R', 'e', 'a', 'l', 'P', 'y', 't', 'h', 'o']"
     },
     "metadata": {},
     "execution_count": 38
    }
   ],
   "source": [
    "*a,_ = \"RealPython\"\n",
    "a"
   ]
  },
  {
   "cell_type": "code",
   "execution_count": 1,
   "metadata": {},
   "outputs": [
    {
     "output_type": "execute_result",
     "data": {
      "text/plain": "{'x': 1, 'y': 2, 'z': 3}"
     },
     "metadata": {},
     "execution_count": 1
    }
   ],
   "source": [
    "dict(**{'x': 1}, y=2, **{'z': 3})"
   ]
  },
  {
   "cell_type": "code",
   "execution_count": null,
   "metadata": {},
   "outputs": [],
   "source": []
  }
 ]
}