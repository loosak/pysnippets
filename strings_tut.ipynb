{
 "metadata": {
  "language_info": {
   "codemirror_mode": {
    "name": "ipython",
    "version": 3
   },
   "file_extension": ".py",
   "mimetype": "text/x-python",
   "name": "python",
   "nbconvert_exporter": "python",
   "pygments_lexer": "ipython3",
   "version": "3.7.6-final"
  },
  "orig_nbformat": 2,
  "kernelspec": {
   "name": "python_defaultSpec_1598962429361",
   "display_name": "Python 3.7.6 64-bit ('base': conda)"
  }
 },
 "nbformat": 4,
 "nbformat_minor": 2,
 "cells": [
  {
   "cell_type": "markdown",
   "metadata": {},
   "source": [
    "\n",
    "\n",
    "# Python\n",
    "\n",
    "https://github.com/jerry-git\n",
    "\n",
    "https://github.com/trekhleb\n",
    "\n",
    "https://github.com/rasbt/python_reference\n",
    "\n",
    "https://github.com/zhiwehu/Python-programming-exercises\n",
    "\n",
    "https://github.com/MTrajK/coding-problems\n",
    "\n",
    "https://github.com/TheAlgorithms\n"
   ]
  },
  {
   "cell_type": "code",
   "execution_count": 1,
   "metadata": {},
   "outputs": [
    {
     "output_type": "execute_result",
     "data": {
      "text/plain": "<IPython.core.display.Markdown object>",
      "text/markdown": "# pysnippets\nVarious python snippets:\n\n| filename           | description        |\n|--------------------|--------------------|\n| plt_tutorial.ipynb | pyplot tutorial    |\n|||\n"
     },
     "metadata": {},
     "execution_count": 1
    }
   ],
   "source": [
    "import IPython.display\n",
    "\n",
    "IPython.display.Markdown('README.md')"
   ]
  },
  {
   "cell_type": "markdown",
   "metadata": {},
   "source": [
    "# 22 Pythonic Tricks for Working with Strings\n",
    "\n",
    "0. Is a Substring in a String?\n",
    "Use the in-built comparator in which returns True or False"
   ]
  },
  {
   "cell_type": "code",
   "execution_count": 98,
   "metadata": {},
   "outputs": [],
   "source": [
    "def sub_00(haystack: str=\"\", needle:str=\"\") -> bool:\n",
    "    return needle in haystack\n",
    "\n",
    "assert sub_00(\"the quick brown fox jumped over the lazy dog\", \"lazy\") == True\n",
    "assert sub_00(\"the quick brown fox jumped over the lazy dog\", \"lazys\") == False"
   ]
  },
  {
   "cell_type": "code",
   "execution_count": 103,
   "metadata": {},
   "outputs": [
    {
     "output_type": "error",
     "ename": "AssertionError",
     "evalue": "",
     "traceback": [
      "\u001b[0;31m---------------------------------------------------------------------------\u001b[0m",
      "\u001b[0;31mAssertionError\u001b[0m                            Traceback (most recent call last)",
      "\u001b[0;32m<ipython-input-103-d1fb331a479e>\u001b[0m in \u001b[0;36m<module>\u001b[0;34m\u001b[0m\n\u001b[1;32m      4\u001b[0m \u001b[0;32massert\u001b[0m \u001b[0mstring_reverse\u001b[0m\u001b[0;34m(\u001b[0m\u001b[0;34m\"hello\"\u001b[0m\u001b[0;34m)\u001b[0m \u001b[0;34m==\u001b[0m \u001b[0;34m\"olleh\"\u001b[0m\u001b[0;34m\u001b[0m\u001b[0;34m\u001b[0m\u001b[0m\n\u001b[1;32m      5\u001b[0m \u001b[0;32massert\u001b[0m \u001b[0mstring_reverse\u001b[0m\u001b[0;34m(\u001b[0m\u001b[0;34m\"goodbye\"\u001b[0m\u001b[0;34m)\u001b[0m \u001b[0;34m!=\u001b[0m \u001b[0;34m\"goodbye\"\u001b[0m\u001b[0;34m\u001b[0m\u001b[0;34m\u001b[0m\u001b[0m\n\u001b[0;32m----> 6\u001b[0;31m \u001b[0;32massert\u001b[0m \u001b[0mstring_reverse\u001b[0m\u001b[0;34m(\u001b[0m\u001b[0;34m'kobylamamalybok'\u001b[0m\u001b[0;34m)\u001b[0m \u001b[0;34m!=\u001b[0m \u001b[0;34m'kobylamamalybok'\u001b[0m\u001b[0;34m\u001b[0m\u001b[0;34m\u001b[0m\u001b[0m\n\u001b[0m",
      "\u001b[0;31mAssertionError\u001b[0m: "
     ]
    }
   ],
   "source": [
    "def string_reverse(forward: str = \"\") -> str:\n",
    "    return forward[::-1]\n",
    "\n",
    "assert string_reverse(\"hello\") == \"olleh\"\n",
    "assert string_reverse(\"goodbye\") != \"goodbye\"\n",
    "assert string_reverse('kobylamamalybok') != 'kobylamamalybok'"
   ]
  },
  {
   "cell_type": "markdown",
   "metadata": {},
   "source": [
    "2. Compare Two Strings for Equality\n",
    "Compare equality using == to see if two objects have an equal value.\n",
    "Compare identity using is to see if two objects are one and the same.\n"
   ]
  },
  {
   "cell_type": "code",
   "execution_count": 104,
   "metadata": {},
   "outputs": [],
   "source": [
    "def are_equal(first_comparator: str = \"\", second_comparator: str = \"\") -> bool:\n",
    "    return first_comparator == second_comparator\n",
    "\n",
    "\n",
    "assert are_equal(\"thing one\", \"thing two\") is False\n",
    "assert are_equal(\"a thing\", \"a \" + \"thing\") is True"
   ]
  },
  {
   "cell_type": "code",
   "execution_count": 105,
   "metadata": {},
   "outputs": [],
   "source": [
    "def concatenate(*argv)->str:\n",
    "    return ''.join(argv)\n",
    "\n",
    "\n",
    "assert concatenate(\"a\", \"b\", \"c\") == \"abc\""
   ]
  },
  {
   "cell_type": "code",
   "execution_count": 106,
   "metadata": {},
   "outputs": [],
   "source": [
    "def is_null_or_blank(input_string: str = \"\") -> bool:\n",
    "\n",
    "    if input_string: \n",
    "        if input_string.strip():\n",
    "            return False\n",
    "    return True\n",
    "\n",
    "\n",
    "assert is_null_or_blank(None) == True\n",
    "assert is_null_or_blank(\"\") == True\n",
    "assert is_null_or_blank(\"  \") == True\n",
    "assert is_null_or_blank(\" d \") == False"
   ]
  },
  {
   "cell_type": "code",
   "execution_count": 136,
   "metadata": {
    "tags": []
   },
   "outputs": [
    {
     "output_type": "execute_result",
     "data": {
      "text/plain": "'py7BZMQCZvQdr0'"
     },
     "metadata": {},
     "execution_count": 136
    }
   ],
   "source": [
    "import string\n",
    "import secrets\n",
    "\n",
    "\n",
    "def generate_random_string(length: int = 0) -> str:\n",
    "    result = \"\".join(\n",
    "        secrets.choice(string.ascii_letters + string.digits)\n",
    "        for _ in range(length))\n",
    "    return result\n",
    "\n",
    "\n",
    "generate_random_string(14)"
   ]
  },
  {
   "cell_type": "code",
   "execution_count": 142,
   "metadata": {
    "tags": []
   },
   "outputs": [
    {
     "output_type": "stream",
     "name": "stdout",
     "text": "<class '_io.TextIOWrapper'>\n"
    },
    {
     "output_type": "execute_result",
     "data": {
      "text/plain": "['\"\"\"A collection of string constants.\\n',\n '\\n',\n 'Public module variables:\\n',\n '\\n',\n 'whitespace -- a string containing all ASCII whitespace\\n',\n 'ascii_lowercase -- a string containing all ASCII lowercase letters\\n',\n 'ascii_uppercase -- a string containing all ASCII uppercase letters\\n',\n 'ascii_letters -- a string containing all ASCII letters\\n',\n 'digits -- a string containing all ASCII decimal digits\\n',\n 'hexdigits -- a string containing all ASCII hexadecimal digits\\n']"
     },
     "metadata": {},
     "execution_count": 142
    }
   ],
   "source": [
    "def file_to_list(filename: str = \"\") -> list:\n",
    "\n",
    "    with open(filename, \"r\") as f:\n",
    "        print(type(f))\n",
    "        lines = list(f)\n",
    "\n",
    "    return lines\n",
    "\n",
    "\n",
    "#assert len(file_to_list(\"<PATH TO FILE>\")) == LINE_COUNT\n",
    "file_to_list('/Users/kcoufal/miniconda3/lib/python3.7/string.py')[:10]\n"
   ]
  },
  {
   "cell_type": "code",
   "execution_count": 146,
   "metadata": {},
   "outputs": [],
   "source": [
    "import subprocess\n",
    "import ast\n",
    "\n",
    "\n",
    "def exec_string(input_string: str = \"\") -> str:\n",
    "    result = subprocess.getoutput(input_string)\n",
    "    return result\n",
    "\n",
    "\n",
    "def eval_string(input_string: str = \"\") -> str:\n",
    "    result = ast.literal_eval(input_string)\n",
    "    return str(result)\n",
    "\n",
    "\n",
    "assert exec_string(\"ls -l\")\n",
    "assert eval_string(\"{ 'key':'value' }\") == \"{'key': 'value'}\""
   ]
  },
  {
   "cell_type": "code",
   "execution_count": 147,
   "metadata": {},
   "outputs": [
    {
     "output_type": "execute_result",
     "data": {
      "text/plain": "'/Users/kcoufal/Box/Projects/Python'"
     },
     "metadata": {},
     "execution_count": 147
    }
   ],
   "source": [
    "exec_string(\"pwd\")"
   ]
  },
  {
   "cell_type": "code",
   "execution_count": 153,
   "metadata": {},
   "outputs": [
    {
     "output_type": "execute_result",
     "data": {
      "text/plain": "'3.0Gi'"
     },
     "metadata": {},
     "execution_count": 153
    }
   ],
   "source": [
    "subprocess.getoutput(\"df -h /\").split()[13]"
   ]
  },
  {
   "cell_type": "markdown",
   "metadata": {},
   "source": [
    "## 11. Find the Substring Between Two Markers\n",
    "\n",
    "Use regular expressions and F-Strings."
   ]
  },
  {
   "cell_type": "code",
   "execution_count": 155,
   "metadata": {},
   "outputs": [],
   "source": [
    "import re\n",
    "\n",
    "def between(first: str = \"\", second: str = \"\", input_string=\"\") -> str:\n",
    "    \n",
    "    m = re.search(f\"{first}(.+?){second}\", input_string)\n",
    "    if m:\n",
    "        return m.group(1)\n",
    "\n",
    "    else:\n",
    "        return \"\"\n",
    "\n",
    "\n",
    "assert between(input_string=\"adCCCTHETEXTZZZdfhewihu\",\n",
    "               first=\"CCC\",\n",
    "               second=\"ZZZ\") == \"THETEXT\""
   ]
  },
  {
   "cell_type": "code",
   "execution_count": 175,
   "metadata": {},
   "outputs": [
    {
     "output_type": "execute_result",
     "data": {
      "text/plain": "('CCCTHETEXTZZZ', 'THETEXT')"
     },
     "metadata": {},
     "execution_count": 175
    }
   ],
   "source": [
    "first = \"CCC\"\n",
    "second = \"ZZZ\"\n",
    "input_string = \"adCCCTHETEXTZZZdfhewihu\"\n",
    "m = re.search(f\"{first}(.+?){second}\", input_string)\n",
    "m.group(0),m.group(1)"
   ]
  },
  {
   "cell_type": "code",
   "execution_count": 220,
   "metadata": {},
   "outputs": [
    {
     "output_type": "execute_result",
     "data": {
      "text/plain": "<re.Match object; span=(0, 17), match='kcoufal@gmail.com'>"
     },
     "metadata": {},
     "execution_count": 220
    }
   ],
   "source": [
    "import re\n",
    "\n",
    "EMAIL_REGEX = re.compile(r'^([\\w\\.=-]+@[\\w\\.-]+\\.[\\w]{2,3})$')\n",
    "email = 'kcoufal@gmail.com'\n",
    "\n",
    "EMAIL_REGEX.match('kcoufal@gmail.com')"
   ]
  },
  {
   "cell_type": "code",
   "execution_count": 219,
   "metadata": {},
   "outputs": [
    {
     "output_type": "execute_result",
     "data": {
      "text/plain": "<re.Match object; span=(0, 17), match='kcoufal@gmail.com'>"
     },
     "metadata": {},
     "execution_count": 219
    }
   ],
   "source": [
    "re.match(r\"^[A-Za-z0-9\\.\\+_-]+@[A-Za-z0-9\\._-]+\\.[a-zA-Z]*$\", email)"
   ]
  },
  {
   "cell_type": "markdown",
   "metadata": {},
   "source": [
    "## 12. Remove all Punctuation from a String\n",
    "The strings module contains a list of punctuation characters.\n",
    "Use translate (see #21) to remove them from the string.\n"
   ]
  },
  {
   "cell_type": "code",
   "execution_count": null,
   "metadata": {},
   "outputs": [],
   "source": [
    "import string\n",
    "\n",
    "\n",
    "def remove_punctuation(input_string: str = \"\") -> str:\n",
    "    return input_string.translate(str.maketrans(\"\", \"\", string.punctuation))\n",
    "\n",
    "\n",
    "assert remove_punctuation(\"Hello!\") == \"Hello\"\n",
    "assert remove_punctuation(\"He. Saw! Me?\") == \"He Saw Me\"\n",
    "view raw"
   ]
  },
  {
   "cell_type": "markdown",
   "metadata": {},
   "source": [
    "## 13. Encode and Decode UTF-8 URLs\n",
    "\n",
    "UTF-8 allows us to use extended, double-word characters — such as emojis. These need to be encoded before they can be used in a URL.\n"
   ]
  },
  {
   "cell_type": "code",
   "execution_count": 195,
   "metadata": {},
   "outputs": [],
   "source": [
    "import urllib.parse\n",
    "\n",
    "\n",
    "def encode_url(url: str = \"\") -> str:\n",
    "    return urllib.parse.quote(url)\n",
    "\n",
    "\n",
    "def decode_url(url: str = \"\") -> str:\n",
    "    return urllib.parse.unquote(url)\n",
    "\n",
    "\n",
    "assert (encode_url(\"example.com?title=¨ˆπœ˚∑π\") ==\n",
    "        \"example.com%3Ftitle%3D%C2%A8%CB%86%CF%80%C5%93%CB%9A%E2%88%91%CF%80\")\n",
    "assert decode_url(\"example.com?title=%a0%f7%b1\") == \"example.com?title=���\"\n"
   ]
  },
  {
   "cell_type": "markdown",
   "metadata": {},
   "source": [
    "## 14. Use Base64 Encoding on Strings\n",
    "Base64 is a method to encode binary data as a string for transmitting in text messages. You can also use it to encode UTF-8 strings."
   ]
  },
  {
   "cell_type": "code",
   "execution_count": 196,
   "metadata": {},
   "outputs": [],
   "source": [
    "import base64\n",
    "\n",
    "\n",
    "def encode_b64(input_string: str = \"\") -> object:\n",
    "    return base64.b64encode(input_string.encode(\"utf-8\"))\n",
    "\n",
    "\n",
    "def decode_b64(input_string: str = \"\") -> object:\n",
    "    return base64.b64decode(input_string).decode(\"utf-8\")\n",
    "\n",
    "\n",
    "assert encode_b64(\"Hello\") == b\"SGVsbG8=\"\n",
    "assert decode_b64(b\"SGVsbG8=\") == \"Hello\""
   ]
  },
  {
   "cell_type": "markdown",
   "metadata": {},
   "source": [
    "## 15. Calculate the Similarity of Two Strings\n",
    "Aside from using the Levenshtein distance in nltk.edit_distance, you could try the difflib library.\n",
    "A value of 1.0 would indicate equality."
   ]
  },
  {
   "cell_type": "code",
   "execution_count": 197,
   "metadata": {},
   "outputs": [],
   "source": [
    "import difflib\n",
    "\n",
    "\n",
    "def similarity(left: str = \"\", right: str = \"\") -> float:\n",
    "\n",
    "    seq = difflib.SequenceMatcher(None, left, right)\n",
    "    return seq.ratio()\n",
    "\n",
    "\n",
    "assert similarity(\"I like bananas\", \"I like bananarama\") >= 0.80\n",
    "assert similarity(\"I like bananas\", \"The quick brown fox\") <= 0.25"
   ]
  },
  {
   "cell_type": "markdown",
   "metadata": {},
   "source": [
    "## 16. Remove a Character at a Specific Index\n",
    "Again, strings are a sequence of characters, so you can use slicing operations."
   ]
  },
  {
   "cell_type": "code",
   "execution_count": 198,
   "metadata": {},
   "outputs": [],
   "source": [
    "\n",
    "def remove_by_index(original: str = \"\", index: int = -1) -> tuple:\n",
    "    if len(original) >= index and index >= 0:\n",
    "        return (original[:index] + original[index + 1:], original[index])\n",
    "    else:\n",
    "        return (original, \"\")\n",
    "\n",
    "\n",
    "assert remove_by_index(\"0123456789\", 5) == (\"012346789\", \"5\")"
   ]
  },
  {
   "cell_type": "markdown",
   "metadata": {},
   "source": []
  },
  {
   "cell_type": "markdown",
   "metadata": {},
   "source": [
    "## 17. Convert Between CSV and List\n",
    "Comma-separated values are everywhere because Excel is the best, general-purpose solution to any data problem! ;)\n",
    "Let’s take a single of CSV line and convert it into a list of values.\n"
   ]
  },
  {
   "cell_type": "code",
   "execution_count": 199,
   "metadata": {},
   "outputs": [],
   "source": [
    "def from_csv_line(line: str = \"\") -> list:\n",
    "\n",
    "    return line.split(\",\")\n",
    "\n",
    "\n",
    "assert from_csv_line(\"a,b,c\") == [\"a\", \"b\", \"c\"]"
   ]
  },
  {
   "cell_type": "code",
   "execution_count": 200,
   "metadata": {},
   "outputs": [],
   "source": [
    "# Now let’s do the reverse: take a list and return a CSV line.\n",
    "def from_list(line: list = []) -> str:\n",
    "\n",
    "    ret = \", \".join(e for e in line)\n",
    "    return ret\n",
    "\n",
    "\n",
    "assert from_list([\"a\", \"b\", \"c\"]) == \"a, b, c\"\n",
    "assert from_list([\"one\", \"two\", \"three\"]) == \"one, two, three\""
   ]
  },
  {
   "cell_type": "markdown",
   "metadata": {},
   "source": [
    "## 18. Weave Two Strings\n",
    "Use zip_longest from the itertools module to zip two strings of unequal length.\n",
    "This solution joins the output a list comprehension which concatenates i + j.\n"
   ]
  },
  {
   "cell_type": "code",
   "execution_count": 201,
   "metadata": {},
   "outputs": [],
   "source": [
    "import itertools\n",
    "\n",
    "\n",
    "def interleave(left: str = \"\", right: str = \"\") -> str:\n",
    "\n",
    "    return \"\".join(\n",
    "        [i + j for i, j in itertools.zip_longest(left, right, fillvalue=\"\")])\n",
    "\n",
    "\n",
    "assert interleave(\"ABCD\", \"01\") == \"A0B1CD\""
   ]
  },
  {
   "cell_type": "markdown",
   "metadata": {},
   "source": [
    "## 19. Remove Unwanted Characters from a String\n",
    "Use the replace function. Remember: you can’t change the value of a string in-place — strings are immutable.\n",
    "Also, see #21.\n"
   ]
  },
  {
   "cell_type": "code",
   "execution_count": null,
   "metadata": {},
   "outputs": [],
   "source": [
    "def remove_unwanted(original: str = \"\",\n",
    "                    unwanted: str = \"\",\n",
    "                    replacement: str = \"\") -> str:\n",
    "                    \n",
    "    return original.replace(unwanted, replacement)\n",
    "\n",
    "\n",
    "assert remove_unwanted(original=\"M'The Real String'\",\n",
    "                       unwanted=\"M\") == \"'The Real String'\""
   ]
  },
  {
   "cell_type": "markdown",
   "metadata": {},
   "source": [
    "## 20. Find the Index Locations of a Character in a String\n",
    "This solution uses a list comprehension with a filter using if.\n"
   ]
  },
  {
   "cell_type": "code",
   "execution_count": 202,
   "metadata": {},
   "outputs": [],
   "source": [
    "def find_char_locations(original: str = \"\", character: str = \"\") -> list:\n",
    "\n",
    "    return [index for index, char in enumerate(original) if char == character]\n",
    "\n",
    "\n",
    "assert find_char_locations(\"The jolly green giant.\", \"e\") == [2, 12, 13]"
   ]
  },
  {
   "cell_type": "markdown",
   "metadata": {},
   "source": [
    "## 21. Translate a String to Leetspeak\n",
    "Use the functions maketrans and translate.\n"
   ]
  },
  {
   "cell_type": "code",
   "execution_count": 203,
   "metadata": {},
   "outputs": [],
   "source": [
    "def to_leetspeak(normal_speak:str=\"\") -> str:\n",
    "\n",
    "    leet_mapping = str.maketrans(\"iseoau\", \"1530^Ü\")\n",
    "    return normal_speak.translate(leet_mapping).title().swapcase()\n",
    "\n",
    "assert to_leetspeak(\"the quick brown fox jumped over the lazy dogs\") == \\\n",
    "    \"tH3 qÜ1cK bR0wN f0x jÜMP3d 0v3r tH3 l^zY d0g5\""
   ]
  },
  {
   "cell_type": "code",
   "execution_count": null,
   "metadata": {},
   "outputs": [],
   "source": []
  },
  {
   "cell_type": "code",
   "execution_count": 176,
   "metadata": {},
   "outputs": [
    {
     "output_type": "execute_result",
     "data": {
      "text/plain": "True"
     },
     "metadata": {},
     "execution_count": 176
    }
   ],
   "source": [
    "True == 1"
   ]
  },
  {
   "cell_type": "code",
   "execution_count": 177,
   "metadata": {},
   "outputs": [
    {
     "output_type": "execute_result",
     "data": {
      "text/plain": "True"
     },
     "metadata": {},
     "execution_count": 177
    }
   ],
   "source": [
    "False == 0"
   ]
  },
  {
   "cell_type": "code",
   "execution_count": 178,
   "metadata": {},
   "outputs": [
    {
     "output_type": "error",
     "ename": "SyntaxError",
     "evalue": "can't assign to keyword (<ipython-input-178-1598b51f0f76>, line 1)",
     "traceback": [
      "\u001b[0;36m  File \u001b[0;32m\"<ipython-input-178-1598b51f0f76>\"\u001b[0;36m, line \u001b[0;32m1\u001b[0m\n\u001b[0;31m    True = 1\u001b[0m\n\u001b[0m            ^\u001b[0m\n\u001b[0;31mSyntaxError\u001b[0m\u001b[0;31m:\u001b[0m can't assign to keyword\n"
     ]
    }
   ],
   "source": [
    "True = 1"
   ]
  },
  {
   "cell_type": "code",
   "execution_count": 185,
   "metadata": {},
   "outputs": [
    {
     "output_type": "execute_result",
     "data": {
      "text/plain": "False"
     },
     "metadata": {},
     "execution_count": 185
    }
   ],
   "source": [
    "bool('')"
   ]
  },
  {
   "cell_type": "code",
   "execution_count": 186,
   "metadata": {},
   "outputs": [
    {
     "output_type": "execute_result",
     "data": {
      "text/plain": "False"
     },
     "metadata": {},
     "execution_count": 186
    }
   ],
   "source": [
    "None == 0"
   ]
  },
  {
   "cell_type": "code",
   "execution_count": 187,
   "metadata": {},
   "outputs": [
    {
     "output_type": "execute_result",
     "data": {
      "text/plain": "(4465555560, 4465555560)"
     },
     "metadata": {},
     "execution_count": 187
    }
   ],
   "source": [
    "x = None\n",
    "y = None\n",
    "id(x),id(y)"
   ]
  },
  {
   "cell_type": "code",
   "execution_count": 188,
   "metadata": {},
   "outputs": [
    {
     "output_type": "execute_result",
     "data": {
      "text/plain": "4465555560"
     },
     "metadata": {},
     "execution_count": 188
    }
   ],
   "source": [
    "id(None)"
   ]
  },
  {
   "cell_type": "code",
   "execution_count": 189,
   "metadata": {},
   "outputs": [
    {
     "output_type": "execute_result",
     "data": {
      "text/plain": "True"
     },
     "metadata": {},
     "execution_count": 189
    }
   ],
   "source": [
    "x is y"
   ]
  },
  {
   "cell_type": "code",
   "execution_count": 190,
   "metadata": {},
   "outputs": [
    {
     "output_type": "execute_result",
     "data": {
      "text/plain": "True"
     },
     "metadata": {},
     "execution_count": 190
    }
   ],
   "source": [
    "y is None"
   ]
  },
  {
   "cell_type": "code",
   "execution_count": 193,
   "metadata": {},
   "outputs": [
    {
     "output_type": "execute_result",
     "data": {
      "text/plain": "Decimal('1')"
     },
     "metadata": {},
     "execution_count": 193
    }
   ],
   "source": [
    "import decimal\n",
    "\n",
    "decimal.Decimal(1)"
   ]
  },
  {
   "cell_type": "code",
   "execution_count": 192,
   "metadata": {},
   "outputs": [
    {
     "output_type": "stream",
     "text": "\u001b[0;31mInit signature:\u001b[0m \u001b[0mdecimal\u001b[0m\u001b[0;34m.\u001b[0m\u001b[0mDecimal\u001b[0m\u001b[0;34m(\u001b[0m\u001b[0mvalue\u001b[0m\u001b[0;34m=\u001b[0m\u001b[0;34m'0'\u001b[0m\u001b[0;34m,\u001b[0m \u001b[0mcontext\u001b[0m\u001b[0;34m=\u001b[0m\u001b[0;32mNone\u001b[0m\u001b[0;34m)\u001b[0m\u001b[0;34m\u001b[0m\u001b[0;34m\u001b[0m\u001b[0m\n\u001b[0;31mDocstring:\u001b[0m     \nConstruct a new Decimal object. 'value' can be an integer, string, tuple,\nor another Decimal object. If no value is given, return Decimal('0'). The\ncontext does not affect the conversion and is only passed to determine if\nthe InvalidOperation trap is active.\n\u001b[0;31mFile:\u001b[0m           ~/miniconda3/lib/python3.7/decimal.py\n\u001b[0;31mType:\u001b[0m           type\n\u001b[0;31mSubclasses:\u001b[0m     \n"
    }
   ],
   "source": [
    "?decimal.Decimal"
   ]
  },
  {
   "cell_type": "code",
   "execution_count": null,
   "metadata": {},
   "outputs": [],
   "source": []
  },
  {
   "cell_type": "code",
   "execution_count": 4,
   "metadata": {
    "tags": []
   },
   "outputs": [
    {
     "output_type": "stream",
     "name": "stdout",
     "text": "do some stuff\nan error occurred\nalways execute finally\n"
    }
   ],
   "source": [
    "def try_finally1():\n",
    "    try:\n",
    "        print('do some stuff')\n",
    "        float('abc')\n",
    "    except ValueError:\n",
    "        print('an error occurred')\n",
    "    else:\n",
    "        print('no error occurred')\n",
    "    finally:\n",
    "        print('always execute finally')\n",
    "\n",
    "try_finally1()"
   ]
  },
  {
   "cell_type": "markdown",
   "metadata": {},
   "source": [
    "# RegEx"
   ]
  },
  {
   "cell_type": "code",
   "execution_count": 30,
   "metadata": {
    "tags": []
   },
   "outputs": [
    {
     "output_type": "stream",
     "name": "stdout",
     "text": "kcoufal@gmail.com\n"
    }
   ],
   "source": [
    "import re\n",
    "\n",
    "EMAIL_REGEX = re.compile(r'^([\\w\\.=-]+@[\\w\\.-]+\\.[\\w]{2,3})$')\n",
    "email = 'kcoufal@gmail.com'\n",
    "match = EMAIL_REGEX.match(email)\n",
    "if match:\n",
    "    print(match.group(1))"
   ]
  },
  {
   "cell_type": "code",
   "execution_count": 28,
   "metadata": {},
   "outputs": [
    {
     "output_type": "execute_result",
     "data": {
      "text/plain": "'kcoufal@gmail.com'"
     },
     "metadata": {},
     "execution_count": 28
    }
   ],
   "source": [
    "\n",
    "\n",
    "def check_email(email:str) -> str:\n",
    "    EMAIL_REGEX = re.compile(r'^([\\w\\.=-]+@[\\w\\.-]+\\.[\\w]{2,3})$')\n",
    "    match = EMAIL_REGEX.match(email)\n",
    "    #PEP 572 return match.group(1) if (match := EMAIL_REGEX.match(email))  lse None\n",
    "    return match.group(1) if match else None\n",
    "\n",
    "\n",
    "check_email('kcoufal@gmail.com')"
   ]
  },
  {
   "cell_type": "code",
   "execution_count": 29,
   "metadata": {},
   "outputs": [],
   "source": [
    "check_email('kcoufal(at)gmail.com')"
   ]
  },
  {
   "cell_type": "code",
   "execution_count": null,
   "metadata": {},
   "outputs": [],
   "source": []
  }
 ]
}