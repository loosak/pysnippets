{
 "cells": [
  {
   "cell_type": "code",
   "execution_count": null,
   "metadata": {},
   "outputs": [],
   "source": []
  },
  {
   "cell_type": "markdown",
   "metadata": {},
   "source": [
    "# New features"
   ]
  },
  {
   "cell_type": "code",
   "execution_count": null,
   "metadata": {},
   "outputs": [],
   "source": []
  },
  {
   "cell_type": "code",
   "execution_count": 2,
   "metadata": {},
   "outputs": [
    {
     "data": {
      "text/plain": [
       "'3.8.1 (default, Feb  2 2020, 08:37:37) \\n[GCC 8.3.0]'"
      ]
     },
     "execution_count": 2,
     "metadata": {},
     "output_type": "execute_result"
    }
   ],
   "source": [
    "import sys\n",
    "sys.version"
   ]
  },
  {
   "cell_type": "code",
   "execution_count": null,
   "metadata": {},
   "outputs": [],
   "source": []
  },
  {
   "cell_type": "markdown",
   "metadata": {},
   "source": [
    "___\n",
    "# Merge Dictionaries\n",
    "## 1. The `.update()` method \n",
    "\n",
    "is called from the primary dictionary and accepts another dictionary as an argument.\n",
    "\n",
    "#### Drawback:  is not an expression and needs a temporary variable"
   ]
  },
  {
   "cell_type": "code",
   "execution_count": 7,
   "metadata": {},
   "outputs": [
    {
     "data": {
      "text/plain": [
       "{'first_name': 'Jet', 'last_name': 'Hsu', 'age': 15}"
      ]
     },
     "execution_count": 7,
     "metadata": {},
     "output_type": "execute_result"
    }
   ],
   "source": [
    "d1 = { \"first_name\": \"Jonathan\", \"last_name\": \"Hsu\" }\n",
    "d2 = { \"first_name\": \"Jet\", \"age\": 15 }\n",
    "\n",
    "d1.update(d2)\n",
    "d1"
   ]
  },
  {
   "cell_type": "markdown",
   "metadata": {},
   "source": [
    "## 2. double-asterisk operator\n",
    "An alternative is the double-asterisk operator, which is used to unpack dictionaries:\n",
    "\n",
    "#### Drawback:  Dict unpacking looks ugly and is not easily discoverable."
   ]
  },
  {
   "cell_type": "code",
   "execution_count": 8,
   "metadata": {},
   "outputs": [
    {
     "data": {
      "text/plain": [
       "{'first_name': 'Jet', 'last_name': 'Hsu', 'age': 15}"
      ]
     },
     "execution_count": 8,
     "metadata": {},
     "output_type": "execute_result"
    }
   ],
   "source": [
    "d1 = { \"first_name\": \"Jonathan\", \"last_name\": \"Hsu\" }\n",
    "d2 = { \"first_name\": \"Jet\", \"age\": 15 }\n",
    "\n",
    "{ **d1, **d2 }"
   ]
  },
  {
   "cell_type": "markdown",
   "metadata": {},
   "source": [
    "## 3. `collections.ChainMap()`\n",
    "ChainMap is unfortunately poorly-known and doesn't qualify as \"obvious\". \n",
    "\n",
    "#### Drawback:  resolves duplicate keys in the opposite order to that expected (\"first seen wins\" instead of \"last seen wins\"). Like dict unpacking, it is tricky to get it to honor the desired subclass. For the same reason, type(d1)(ChainMap(d2, d1)) fails for some subclasses of dict."
   ]
  },
  {
   "cell_type": "code",
   "execution_count": 14,
   "metadata": {},
   "outputs": [
    {
     "data": {
      "text/plain": [
       "{'first_name': 'Jet', 'last_name': 'Hsu', 'age': 15}"
      ]
     },
     "execution_count": 14,
     "metadata": {},
     "output_type": "execute_result"
    }
   ],
   "source": [
    "import collections\n",
    "\n",
    "d1 = { \"first_name\": \"Jonathan\", \"last_name\": \"Hsu\" }\n",
    "d2 = { \"first_name\": \"Jet\", \"age\": 15 }\n",
    "\n",
    "dict(collections.ChainMap(d2, d1))"
   ]
  },
  {
   "cell_type": "markdown",
   "metadata": {},
   "source": [
    "## 4. `dict(d1, **d2)`\n",
    "This \"neat trick\" is not well-known, and only works when d2 is entirely string-keyed:"
   ]
  },
  {
   "cell_type": "code",
   "execution_count": 15,
   "metadata": {},
   "outputs": [
    {
     "data": {
      "text/plain": [
       "{'first_name': 'Jet', 'last_name': 'Hsu', 'age': 15}"
      ]
     },
     "execution_count": 15,
     "metadata": {},
     "output_type": "execute_result"
    }
   ],
   "source": [
    "d1 = { \"first_name\": \"Jonathan\", \"last_name\": \"Hsu\" }\n",
    "d2 = { \"first_name\": \"Jet\", \"age\": 15 }\n",
    "\n",
    "dict(d1, **d2)"
   ]
  },
  {
   "cell_type": "markdown",
   "metadata": {},
   "source": [
    "##  5. Union Operators To dict\n",
    "[PEP 584 -- Add Union Operators To dict](https://www.python.org/dev/peps/pep-0584/)\n",
    "\n",
    "Remember, these operators will only be available in Python 3.9 and above so make sure you add the appropriate version validation to your code."
   ]
  },
  {
   "cell_type": "code",
   "execution_count": 9,
   "metadata": {},
   "outputs": [
    {
     "ename": "TypeError",
     "evalue": "unsupported operand type(s) for |: 'dict' and 'dict'",
     "output_type": "error",
     "traceback": [
      "\u001b[0;31m---------------------------------------------------------------------------\u001b[0m",
      "\u001b[0;31mTypeError\u001b[0m                                 Traceback (most recent call last)",
      "\u001b[0;32m<ipython-input-9-b9c7ca8e0827>\u001b[0m in \u001b[0;36m<module>\u001b[0;34m\u001b[0m\n\u001b[1;32m      1\u001b[0m \u001b[0md1\u001b[0m \u001b[0;34m=\u001b[0m \u001b[0;34m{\u001b[0m \u001b[0;34m\"first_name\"\u001b[0m\u001b[0;34m:\u001b[0m \u001b[0;34m\"Jonathan\"\u001b[0m\u001b[0;34m,\u001b[0m \u001b[0;34m\"last_name\"\u001b[0m\u001b[0;34m:\u001b[0m \u001b[0;34m\"Hsu\"\u001b[0m \u001b[0;34m}\u001b[0m\u001b[0;34m\u001b[0m\u001b[0;34m\u001b[0m\u001b[0m\n\u001b[1;32m      2\u001b[0m \u001b[0md2\u001b[0m \u001b[0;34m=\u001b[0m \u001b[0;34m{\u001b[0m \u001b[0;34m\"first_name\"\u001b[0m\u001b[0;34m:\u001b[0m \u001b[0;34m\"Jet\"\u001b[0m\u001b[0;34m,\u001b[0m \u001b[0;34m\"age\"\u001b[0m\u001b[0;34m:\u001b[0m \u001b[0;36m15\u001b[0m \u001b[0;34m}\u001b[0m\u001b[0;34m\u001b[0m\u001b[0;34m\u001b[0m\u001b[0m\n\u001b[0;32m----> 3\u001b[0;31m \u001b[0md1\u001b[0m \u001b[0;34m|\u001b[0m \u001b[0md2\u001b[0m\u001b[0;34m\u001b[0m\u001b[0;34m\u001b[0m\u001b[0m\n\u001b[0m",
      "\u001b[0;31mTypeError\u001b[0m: unsupported operand type(s) for |: 'dict' and 'dict'"
     ]
    }
   ],
   "source": [
    "d1 = { \"first_name\": \"Jonathan\", \"last_name\": \"Hsu\" }\n",
    "d2 = { \"first_name\": \"Jet\", \"age\": 15 }\n",
    "d1 | d2"
   ]
  },
  {
   "cell_type": "code",
   "execution_count": null,
   "metadata": {},
   "outputs": [],
   "source": []
  },
  {
   "cell_type": "markdown",
   "metadata": {},
   "source": [
    "___\n",
    "# Waltrus operator\n",
    "The `:=` operarot"
   ]
  },
  {
   "cell_type": "code",
   "execution_count": null,
   "metadata": {},
   "outputs": [],
   "source": []
  }
 ],
 "metadata": {
  "kernelspec": {
   "display_name": "Python 3",
   "language": "python",
   "name": "python3"
  },
  "language_info": {
   "codemirror_mode": {
    "name": "ipython",
    "version": 3
   },
   "file_extension": ".py",
   "mimetype": "text/x-python",
   "name": "python",
   "nbconvert_exporter": "python",
   "pygments_lexer": "ipython3",
   "version": "3.8.1"
  }
 },
 "nbformat": 4,
 "nbformat_minor": 4
}
