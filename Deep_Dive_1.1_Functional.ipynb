{
  "nbformat": 4,
  "nbformat_minor": 0,
  "metadata": {
    "colab": {
      "name": "Deep_Dive_1_Functional.ipynb",
      "provenance": [],
      "collapsed_sections": [
        "amo084sdo09r"
      ],
      "authorship_tag": "ABX9TyPZkOlw1WSI9HhwkZiVyY3S",
      "include_colab_link": true
    },
    "kernelspec": {
      "name": "python3",
      "display_name": "Python 3"
    },
    "language_info": {
      "name": "python"
    }
  },
  "cells": [
    {
      "cell_type": "markdown",
      "metadata": {
        "id": "view-in-github",
        "colab_type": "text"
      },
      "source": [
        "<a href=\"https://colab.research.google.com/github/loosak/pysnippets/blob/master/Deep_Dive_1.1_Functional.ipynb\" target=\"_parent\"><img src=\"https://colab.research.google.com/assets/colab-badge.svg\" alt=\"Open In Colab\"/></a>"
      ]
    },
    {
      "cell_type": "markdown",
      "source": [
        "# 🐍 Python Deep Dive Notes 1.\n",
        "\n",
        "\n",
        "author: Fred Baptiste\n",
        "\n",
        "\n",
        "Variables, Functions and Functional Programming, Closures, Decorators, Modules and Packages\n",
        "\n",
        "```\n",
        "# `hello python`\n",
        "```\n",
        "\n"
      ],
      "metadata": {
        "id": "LD0Vd8ICzJCL"
      }
    },
    {
      "cell_type": "markdown",
      "source": [
        "# 2. A Quick Refresher"
      ],
      "metadata": {
        "id": "TK84O3x1Tpwl"
      }
    },
    {
      "cell_type": "markdown",
      "source": [
        "## Ternary Operators"
      ],
      "metadata": {
        "id": "_JqA1zAym61x"
      }
    },
    {
      "cell_type": "code",
      "source": [
        "# Pythonic way 🐍 - Use a ternary operator ✅\n",
        "a = 33\n",
        "sign = \"positive\" if a > 0 else \"negative\"\n",
        "sign"
      ],
      "metadata": {
        "colab": {
          "base_uri": "https://localhost:8080/",
          "height": 35
        },
        "id": "-DCbQFPfmoPw",
        "outputId": "b94aa5de-1c06-4bcf-d523-c15897c138bd"
      },
      "execution_count": null,
      "outputs": [
        {
          "output_type": "execute_result",
          "data": {
            "text/plain": [
              "'positive'"
            ],
            "application/vnd.google.colaboratory.intrinsic+json": {
              "type": "string"
            }
          },
          "metadata": {},
          "execution_count": 7
        }
      ]
    },
    {
      "cell_type": "code",
      "source": [
        "import platform\n",
        "PRG = './dna.py'\n",
        "RUN = f'python {PRG}' if platform.system() == 'Windows' else PRG\n",
        "RUN"
      ],
      "metadata": {
        "colab": {
          "base_uri": "https://localhost:8080/",
          "height": 35
        },
        "id": "BfnYlFgi2TSJ",
        "outputId": "771e4e51-5ac6-4358-c49e-476e6517c50d"
      },
      "execution_count": null,
      "outputs": [
        {
          "output_type": "execute_result",
          "data": {
            "text/plain": [
              "'./dna.py'"
            ],
            "application/vnd.google.colaboratory.intrinsic+json": {
              "type": "string"
            }
          },
          "metadata": {},
          "execution_count": 10
        }
      ]
    },
    {
      "cell_type": "markdown",
      "source": [
        "## `do` .. `while` loop"
      ],
      "metadata": {
        "id": "av9VFGJ8QMRZ"
      }
    },
    {
      "cell_type": "code",
      "source": [
        "while True:\n",
        "  name = input(\"Enter name: \")\n",
        "  if len(name) > 2 and name.isprintable() and name.isalpha():\n",
        "    break\n",
        "print(f\"Hello {name}\")"
      ],
      "metadata": {
        "colab": {
          "base_uri": "https://localhost:8080/"
        },
        "id": "rRXpyZo3QL5h",
        "outputId": "3db13402-1696-4cd1-8677-9de0d27c6869"
      },
      "execution_count": null,
      "outputs": [
        {
          "output_type": "stream",
          "name": "stdout",
          "text": [
            "Enter name: jo\n",
            "Enter name: joe\n",
            "Hello joe\n"
          ]
        }
      ]
    },
    {
      "cell_type": "code",
      "source": [
        "a = 0\n",
        "while a < 10:\n",
        "  a += 1\n",
        "  if a % 2 == 0:\n",
        "    continue\n",
        "  print(a)"
      ],
      "metadata": {
        "colab": {
          "base_uri": "https://localhost:8080/"
        },
        "id": "V8rXKgoyT3wg",
        "outputId": "9df3128f-5d42-4c4a-86db-7daeb141e2f8"
      },
      "execution_count": null,
      "outputs": [
        {
          "output_type": "stream",
          "name": "stdout",
          "text": [
            "1\n",
            "3\n",
            "5\n",
            "7\n",
            "9\n"
          ]
        }
      ]
    },
    {
      "cell_type": "markdown",
      "source": [
        "## try ... except ... finally"
      ],
      "metadata": {
        "id": "DeOxGrVsZSCl"
      }
    },
    {
      "cell_type": "code",
      "source": [
        "a = 10\n",
        "b = 0\n",
        "try:\n",
        "    a/b\n",
        "except ZeroDivisionError:\n",
        "  print('division by 0')\n",
        "finally:\n",
        "  print('this always executes')\n"
      ],
      "metadata": {
        "colab": {
          "base_uri": "https://localhost:8080/"
        },
        "id": "lB_PJ04bZRRa",
        "outputId": "34cc32fe-1b61-40c5-a154-77b34e87c8fd"
      },
      "execution_count": null,
      "outputs": [
        {
          "output_type": "stream",
          "name": "stdout",
          "text": [
            "division by 0\n",
            "this always executes\n"
          ]
        }
      ]
    },
    {
      "cell_type": "markdown",
      "source": [
        "An iterable is an object capable returning values one at a time"
      ],
      "metadata": {
        "id": "sWaYkEVYah8M"
      }
    },
    {
      "cell_type": "code",
      "source": [
        "for i in range(5):\n",
        "  if i == 3:\n",
        "    continue\n",
        "  print(i, end=' ')\n",
        "\n",
        "print('\\n', '-'*10)\n",
        "\n",
        "for i in range(5):\n",
        "  if i == 3:\n",
        "    break\n",
        "  print(i, end=' ')"
      ],
      "metadata": {
        "colab": {
          "base_uri": "https://localhost:8080/"
        },
        "id": "x9Tg3hywQLry",
        "outputId": "1d248467-ffce-49b9-dbe6-4b565446c389"
      },
      "execution_count": null,
      "outputs": [
        {
          "output_type": "stream",
          "name": "stdout",
          "text": [
            "0 1 2 4 \n",
            " ----------\n",
            "0 1 2 "
          ]
        }
      ]
    },
    {
      "cell_type": "code",
      "source": [
        "for i, c in enumerate('hello'):\n",
        "  print(i, c)"
      ],
      "metadata": {
        "colab": {
          "base_uri": "https://localhost:8080/"
        },
        "id": "ZL4-mWMZewiw",
        "outputId": "5790a5c1-8df6-4827-db24-5bc934e9c5ca"
      },
      "execution_count": null,
      "outputs": [
        {
          "output_type": "stream",
          "name": "stdout",
          "text": [
            "0 h\n",
            "1 e\n",
            "2 l\n",
            "3 l\n",
            "4 o\n"
          ]
        }
      ]
    },
    {
      "cell_type": "markdown",
      "source": [
        "## Classes"
      ],
      "metadata": {
        "id": "7j_paO9MAy0Q"
      }
    },
    {
      "cell_type": "code",
      "source": [
        "class Rectangle:\n",
        "    def __init__(self, width, height):\n",
        "        self.width = width\n",
        "        self.height = height\n",
        "        \n",
        "    def area(self):\n",
        "        return self.width * self.height\n",
        "    \n",
        "    def perimeter(self):\n",
        "        return 2 * (self.width + self.height)\n",
        "    \n",
        "    def __str__(self):\n",
        "        return f\"Rectangle (width={self.width}, height={self.height})\"\n",
        "    \n",
        "    def __repr__(self):\n",
        "        return f\"Rectangle ({self.width}, {self.height})\""
      ],
      "metadata": {
        "id": "jewtmOOFA3Ux"
      },
      "execution_count": null,
      "outputs": []
    },
    {
      "cell_type": "code",
      "source": [
        "r1 = Rectangle(10, 20)\n",
        "print(r1)  # uses __str__"
      ],
      "metadata": {
        "colab": {
          "base_uri": "https://localhost:8080/"
        },
        "id": "CIJE8fbIJm1r",
        "outputId": "8b693a11-3ea9-452f-acb1-a5fc1f0a887e"
      },
      "execution_count": null,
      "outputs": [
        {
          "output_type": "stream",
          "name": "stdout",
          "text": [
            "Rectangle (width=10, height=20)\n"
          ]
        }
      ]
    },
    {
      "cell_type": "code",
      "source": [
        "r1"
      ],
      "metadata": {
        "colab": {
          "base_uri": "https://localhost:8080/"
        },
        "id": "cjjhVm7GKG_d",
        "outputId": "fa2374a9-beca-48a6-9aab-dcaf003309e7"
      },
      "execution_count": null,
      "outputs": [
        {
          "output_type": "execute_result",
          "data": {
            "text/plain": [
              "Rectangle (10, 20)"
            ]
          },
          "metadata": {},
          "execution_count": 18
        }
      ]
    },
    {
      "cell_type": "markdown",
      "source": [
        "That's because here Python is not converting `r1` to a string, but instead looking for a string *representation* of the object. It is looking for the `__repr__` method (which we'll come back to later)."
      ],
      "metadata": {
        "id": "Xu8J2s2AAyxU"
      }
    },
    {
      "cell_type": "code",
      "source": [
        "r1 = Rectangle(10, 20)\n",
        "r2 = Rectangle(10, 20)\n",
        "r1 == r2"
      ],
      "metadata": {
        "colab": {
          "base_uri": "https://localhost:8080/"
        },
        "id": "-atKiwzJdaY4",
        "outputId": "40fc722b-c117-4bc4-8c16-488779a2cd1f"
      },
      "execution_count": null,
      "outputs": [
        {
          "output_type": "execute_result",
          "data": {
            "text/plain": [
              "False"
            ]
          },
          "metadata": {},
          "execution_count": 19
        }
      ]
    },
    {
      "cell_type": "code",
      "source": [
        "class Rectangle:\n",
        "    def __init__(self, width, height):\n",
        "        self.width = width\n",
        "        self.height = height\n",
        "        \n",
        "    def area(self):\n",
        "        return self.width * self.height\n",
        "    \n",
        "    def perimeter(self):\n",
        "        return 2 * (self.width + self.height)\n",
        "    \n",
        "    def __str__(self):\n",
        "        return f\"Rectangle (width={self.width}, height={self.height})\"\n",
        "    \n",
        "    def __repr__(self):\n",
        "        return f\"Rectangle ({self.width}, {self.height})\"\n",
        "    \n",
        "    def __eq__(self, other: object) -> bool:\n",
        "        print(f'self={self}, other={other}')\n",
        "        if isinstance(other, Rectangle):\n",
        "          return (self.width, self.height) == (other.width, other.height)\n",
        "        else:\n",
        "          return False"
      ],
      "metadata": {
        "id": "mAKkc7Xodp_r"
      },
      "execution_count": null,
      "outputs": []
    },
    {
      "cell_type": "code",
      "source": [
        "r1 = Rectangle(10, 20)\n",
        "r2 = Rectangle(10, 20)\n",
        "r1 is r2, r1 == r2"
      ],
      "metadata": {
        "colab": {
          "base_uri": "https://localhost:8080/"
        },
        "id": "2NaUnlCrjiEp",
        "outputId": "f4744e7d-b258-49f8-b5a5-ec2ad06c173d"
      },
      "execution_count": null,
      "outputs": [
        {
          "output_type": "stream",
          "name": "stdout",
          "text": [
            "self=Rectangle (width=10, height=20), other=Rectangle (width=10, height=20)\n"
          ]
        },
        {
          "output_type": "execute_result",
          "data": {
            "text/plain": [
              "(False, True)"
            ]
          },
          "metadata": {},
          "execution_count": 21
        }
      ]
    },
    {
      "cell_type": "markdown",
      "source": [
        "What about `<`, `>`, `<=`, etc.?\n",
        "\n",
        "Again, Python has special methods we can use to provide that functionality.\n",
        "\n",
        "These are methods such as `__lt__`, `__gt__`, `__le__`, etc."
      ],
      "metadata": {
        "id": "ZP3XPLa7Ayrs"
      }
    },
    {
      "cell_type": "code",
      "source": [
        "class Rectangle:\n",
        "    def __init__(self, width, height):\n",
        "        self.width = width\n",
        "        self.height = height\n",
        "        \n",
        "    def area(self):\n",
        "        return self.width * self.height\n",
        "    \n",
        "    def perimeter(self):\n",
        "        return 2 * (self.width + self.height)\n",
        "    \n",
        "    def __str__(self):\n",
        "        return f\"Rectangle (width={self.width}, height={self.height})\"\n",
        "    \n",
        "    def __repr__(self):\n",
        "        return f\"Rectangle ({self.width}, {self.height})\"\n",
        "    \n",
        "    def __eq__(self, other: object) -> bool:\n",
        "        if isinstance(other, Rectangle):\n",
        "          return (self.width, self.height) == (other.width, other.height)\n",
        "        else:\n",
        "          return False\n",
        "\n",
        "    def __lt__(self, other: object) -> float:\n",
        "        if isinstance(other, Rectangle):\n",
        "            return self.area() < other.area()\n",
        "        else:\n",
        "            return NotImplemented\n",
        "            \n"
      ],
      "metadata": {
        "id": "zBClsu9Aj0Su"
      },
      "execution_count": null,
      "outputs": []
    },
    {
      "cell_type": "code",
      "source": [
        "r1 = Rectangle(100, 200)\n",
        "r2 = Rectangle(10, 20)\n",
        "r1 < r2, r2 > r1"
      ],
      "metadata": {
        "colab": {
          "base_uri": "https://localhost:8080/"
        },
        "id": "EuF5irb1llxH",
        "outputId": "bdc69456-0665-4ca7-eb3f-c3f5a0cdb527"
      },
      "execution_count": null,
      "outputs": [
        {
          "output_type": "execute_result",
          "data": {
            "text/plain": [
              "(False, False)"
            ]
          },
          "metadata": {},
          "execution_count": 24
        }
      ]
    },
    {
      "cell_type": "markdown",
      "source": [
        "How did that work? We did not define a `__gt__` method.\n",
        "\n",
        "Well, Python cleverly decided that since `r1 > r2` was not implemented, it would give \n",
        "\n",
        "`r2 < r1` \n",
        "\n",
        "a try. And since, `__lt__` **is** defined, it worked!\n",
        "\n",
        "Of course, `<=` is not going to magically work!"
      ],
      "metadata": {
        "id": "mKXA-16qAynl"
      }
    },
    {
      "cell_type": "code",
      "source": [
        "r1 <= r2"
      ],
      "metadata": {
        "colab": {
          "base_uri": "https://localhost:8080/",
          "height": 165
        },
        "id": "ssOzU4l4mDPM",
        "outputId": "84521982-c080-4a7d-c715-fc60aef687db"
      },
      "execution_count": null,
      "outputs": [
        {
          "output_type": "error",
          "ename": "TypeError",
          "evalue": "ignored",
          "traceback": [
            "\u001b[0;31m---------------------------------------------------------------------------\u001b[0m",
            "\u001b[0;31mTypeError\u001b[0m                                 Traceback (most recent call last)",
            "\u001b[0;32m<ipython-input-25-66f6bd6240fb>\u001b[0m in \u001b[0;36m<module>\u001b[0;34m()\u001b[0m\n\u001b[0;32m----> 1\u001b[0;31m \u001b[0mr1\u001b[0m \u001b[0;34m<=\u001b[0m \u001b[0mr2\u001b[0m\u001b[0;34m\u001b[0m\u001b[0;34m\u001b[0m\u001b[0m\n\u001b[0m",
            "\u001b[0;31mTypeError\u001b[0m: '<=' not supported between instances of 'Rectangle' and 'Rectangle'"
          ]
        }
      ]
    },
    {
      "cell_type": "markdown",
      "source": [
        "### property getters and setters:\n",
        "In Pytyhon we can use some special **decorators** (more on those later) to encapsulate our property getters and setters:"
      ],
      "metadata": {
        "id": "v-sRaXhyAyk9"
      }
    },
    {
      "cell_type": "code",
      "source": [
        "class Rectangle:\n",
        "    def __init__(self, width, height):\n",
        "        self._width = width\n",
        "        self._height = height\n",
        "    \n",
        "    def __repr__(self):\n",
        "        return f\"Rectangle ({self.width}, {self.height})\"\n",
        "        \n",
        "    @property\n",
        "    def width(self):\n",
        "        return self._width\n",
        "    \n",
        "    @width.setter\n",
        "    def width(self, width):\n",
        "        if width <= 0:\n",
        "            raise ValueError('Width must be positive.')\n",
        "        self._width = width\n",
        "    \n",
        "    @property\n",
        "    def height(self):\n",
        "        return self._height\n",
        "    \n",
        "    @height.setter\n",
        "    def height(self, height):\n",
        "        if height <= 0:\n",
        "            raise ValueError('Height must be positive.')\n",
        "        self._height = height"
      ],
      "metadata": {
        "id": "QNHib11BmqWx"
      },
      "execution_count": null,
      "outputs": []
    },
    {
      "cell_type": "code",
      "source": [
        "r1 = Rectangle(10, 20)\n",
        "r1.width"
      ],
      "metadata": {
        "colab": {
          "base_uri": "https://localhost:8080/"
        },
        "id": "lhC9xZ9Fm9uj",
        "outputId": "f6a4401e-ec0f-40da-9d1f-9fbe48759706"
      },
      "execution_count": null,
      "outputs": [
        {
          "output_type": "execute_result",
          "data": {
            "text/plain": [
              "10"
            ]
          },
          "metadata": {},
          "execution_count": 11
        }
      ]
    },
    {
      "cell_type": "code",
      "source": [
        "r1 = Rectangle(-1, 11)"
      ],
      "metadata": {
        "id": "fjMtyRU-7Scg"
      },
      "execution_count": null,
      "outputs": []
    },
    {
      "cell_type": "markdown",
      "source": [
        "# 3. Variables and Memory\n"
      ],
      "metadata": {
        "id": "m2CWk8-FCJhm"
      }
    },
    {
      "cell_type": "markdown",
      "source": [
        "## Variables are memory references"
      ],
      "metadata": {
        "id": "pbpSsB1RCRkx"
      }
    },
    {
      "cell_type": "code",
      "source": [
        "a = 10\n",
        "ptr = id(a)\n",
        "ptr, hex(ptr)"
      ],
      "metadata": {
        "colab": {
          "base_uri": "https://localhost:8080/"
        },
        "id": "MlJdGAZW-I7r",
        "outputId": "97ef71fc-91a1-4485-e489-afbb9076eda0"
      },
      "execution_count": null,
      "outputs": [
        {
          "output_type": "execute_result",
          "data": {
            "text/plain": [
              "(94470284819232, '0x55eb93c4bb20')"
            ]
          },
          "metadata": {},
          "execution_count": 16
        }
      ]
    },
    {
      "cell_type": "markdown",
      "source": [
        "## Reference counting\n",
        "\n",
        "passing var to `sys.getrefcount()` creates extra reference!"
      ],
      "metadata": {
        "id": "ygLYwVuUFQFC"
      }
    },
    {
      "cell_type": "code",
      "source": [
        "import sys\n",
        "\n",
        "def f1():\n",
        "  ...\n",
        "\n",
        "my_func1 = f1\n",
        "print(sys.getrefcount(my_func1))\n",
        "my_func2 = my_func1\n",
        "print(sys.getrefcount(my_func1))\n",
        "id(f1), id(my_func1), id(my_func2)"
      ],
      "metadata": {
        "colab": {
          "base_uri": "https://localhost:8080/"
        },
        "id": "EIbarMZLCo1D",
        "outputId": "1b62849a-09b8-4e60-c2fd-c499f108dfe9"
      },
      "execution_count": null,
      "outputs": [
        {
          "output_type": "stream",
          "name": "stdout",
          "text": [
            "3\n",
            "4\n"
          ]
        },
        {
          "output_type": "execute_result",
          "data": {
            "text/plain": [
              "(140551679434832, 140551679434832, 140551679434832)"
            ]
          },
          "metadata": {},
          "execution_count": 1
        }
      ]
    },
    {
      "cell_type": "markdown",
      "source": [
        ""
      ],
      "metadata": {
        "id": "OgyCVYu2AydC"
      }
    },
    {
      "cell_type": "code",
      "source": [
        "import ctypes\n",
        "var1 = 10\n",
        "address = id(var1)\n",
        "ctypes.c_long.from_address(id(var1)).value"
      ],
      "metadata": {
        "colab": {
          "base_uri": "https://localhost:8080/"
        },
        "id": "9YI-33TxLsA5",
        "outputId": "e459e705-d3d8-46f4-b412-ffaba0205f24"
      },
      "execution_count": null,
      "outputs": [
        {
          "output_type": "execute_result",
          "data": {
            "text/plain": [
              "572"
            ]
          },
          "metadata": {},
          "execution_count": 7
        }
      ]
    },
    {
      "cell_type": "code",
      "source": [
        "import sys\n",
        "\n",
        "a = [1, 2, 3]\n",
        "id(a)"
      ],
      "metadata": {
        "colab": {
          "base_uri": "https://localhost:8080/"
        },
        "id": "bWqiC3W4MYxF",
        "outputId": "08ab0e5a-7260-4a6b-ebd6-105c3d88dde3"
      },
      "execution_count": null,
      "outputs": [
        {
          "output_type": "execute_result",
          "data": {
            "text/plain": [
              "140551473220976"
            ]
          },
          "metadata": {},
          "execution_count": 4
        }
      ]
    },
    {
      "cell_type": "code",
      "source": [
        "sys.getrefcount(a)"
      ],
      "metadata": {
        "colab": {
          "base_uri": "https://localhost:8080/"
        },
        "id": "BK8M9NQKMjeZ",
        "outputId": "c4b09c27-ccb2-432f-921c-20abf77e73fa"
      },
      "execution_count": null,
      "outputs": [
        {
          "output_type": "execute_result",
          "data": {
            "text/plain": [
              "3"
            ]
          },
          "metadata": {},
          "execution_count": 5
        }
      ]
    },
    {
      "cell_type": "code",
      "source": [
        "import ctypes\n",
        "\n",
        "def ref_count(address: int) -> int:\n",
        "  return ctypes.c_long.from_address(address).value\n",
        "\n",
        "ref_count(id(a))"
      ],
      "metadata": {
        "colab": {
          "base_uri": "https://localhost:8080/"
        },
        "id": "FObq3q1TM1Aq",
        "outputId": "4168e823-f05d-4791-8035-6d10efdbad33"
      },
      "execution_count": null,
      "outputs": [
        {
          "output_type": "execute_result",
          "data": {
            "text/plain": [
              "6"
            ]
          },
          "metadata": {},
          "execution_count": 22
        }
      ]
    },
    {
      "cell_type": "code",
      "source": [
        " import gc\n",
        "\n",
        "len(gc.get_objects())"
      ],
      "metadata": {
        "colab": {
          "base_uri": "https://localhost:8080/"
        },
        "id": "VFM1-PlxRtGJ",
        "outputId": "a6dec1c4-a40d-4c07-bd1f-a153b76ab1bc"
      },
      "execution_count": null,
      "outputs": [
        {
          "output_type": "execute_result",
          "data": {
            "text/plain": [
              "148762"
            ]
          },
          "metadata": {},
          "execution_count": 7
        }
      ]
    },
    {
      "cell_type": "markdown",
      "source": [
        "## Circular reference"
      ],
      "metadata": {
        "id": "uiibllj-IlFs"
      }
    },
    {
      "cell_type": "code",
      "source": [
        "import ctypes\n",
        "import gc\n",
        "\n",
        "def ref_count(address: int) -> int:\n",
        "  return ctypes.c_long.from_address(address).value\n",
        "\n",
        "def object_by_id(object_id):\n",
        "  for obj in gc.get_objects():\n",
        "    if id(obj) == object_id:\n",
        "      return f\"Object id {hex(object_id)} exists\"\n",
        "  return f\"Object id {hex(object_id)} not found\"\n",
        "    \n",
        "class A:\n",
        "  def __init__(self):\n",
        "    self.b = B(self)\n",
        "    print(f'A: self: {hex(id(self))}, b: {hex(id(self.b))}')\n",
        "\n",
        "class B:\n",
        "  def __init__(self, a):\n",
        "    self.a = a\n",
        "    print(f'B: self: {hex(id(self))}, a: {hex(id(self.a))}')\n",
        "\n",
        "gc.disable()\n",
        "my_var = A()"
      ],
      "metadata": {
        "colab": {
          "base_uri": "https://localhost:8080/"
        },
        "id": "Ev5JDAr68g7S",
        "outputId": "2f037fdd-710f-447e-d693-8b2fa8ef93f6"
      },
      "execution_count": null,
      "outputs": [
        {
          "output_type": "stream",
          "name": "stdout",
          "text": [
            "B: self: 0x7fb4a7e05810, a: 0x7fb4a7e05a10\n",
            "A: self: 0x7fb4a7e05a10, b: 0x7fb4a7e05810\n"
          ]
        }
      ]
    },
    {
      "cell_type": "code",
      "source": [
        "hex(id(my_var)) == hex(id(my_var.b.a))"
      ],
      "metadata": {
        "colab": {
          "base_uri": "https://localhost:8080/"
        },
        "id": "mEQwXdaL8ggj",
        "outputId": "02ba24ce-65c3-4e36-fdda-725349163cbe"
      },
      "execution_count": null,
      "outputs": [
        {
          "output_type": "execute_result",
          "data": {
            "text/plain": [
              "True"
            ]
          },
          "metadata": {},
          "execution_count": 19
        }
      ]
    },
    {
      "cell_type": "code",
      "source": [
        "hex(id(my_var.b))"
      ],
      "metadata": {
        "colab": {
          "base_uri": "https://localhost:8080/",
          "height": 35
        },
        "id": "tcRVklW_MygE",
        "outputId": "dbd6b448-46f8-4571-d1ec-89deb20e7c73"
      },
      "execution_count": null,
      "outputs": [
        {
          "output_type": "execute_result",
          "data": {
            "text/plain": [
              "'0x7fb4a7e05810'"
            ],
            "application/vnd.google.colaboratory.intrinsic+json": {
              "type": "string"
            }
          },
          "metadata": {},
          "execution_count": 18
        }
      ]
    },
    {
      "cell_type": "code",
      "source": [
        "a_id = id(my_var)\n",
        "b_id = id(my_var.b)\n",
        "hex(a_id), hex(b_id)"
      ],
      "metadata": {
        "colab": {
          "base_uri": "https://localhost:8080/"
        },
        "id": "zJxpAPDUMjMr",
        "outputId": "1485fd43-2b05-4d17-90a8-026acf57f203"
      },
      "execution_count": null,
      "outputs": [
        {
          "output_type": "execute_result",
          "data": {
            "text/plain": [
              "('0x7fb4a7e05a10', '0x7fb4a7e05810')"
            ]
          },
          "metadata": {},
          "execution_count": 21
        }
      ]
    },
    {
      "cell_type": "code",
      "source": [
        "ref_count(a_id), ref_count(b_id)"
      ],
      "metadata": {
        "colab": {
          "base_uri": "https://localhost:8080/"
        },
        "id": "0GJz0RZQ8gGl",
        "outputId": "02033612-4573-4a92-fff6-950e990acd95"
      },
      "execution_count": null,
      "outputs": [
        {
          "output_type": "execute_result",
          "data": {
            "text/plain": [
              "(3, 1)"
            ]
          },
          "metadata": {},
          "execution_count": 23
        }
      ]
    },
    {
      "cell_type": "code",
      "source": [
        "my_var = None\n",
        "ref_count(a_id), ref_count(b_id)"
      ],
      "metadata": {
        "colab": {
          "base_uri": "https://localhost:8080/"
        },
        "id": "L6li-0fROD9R",
        "outputId": "a273847f-7e52-44a0-92f6-0d93f138443b"
      },
      "execution_count": null,
      "outputs": [
        {
          "output_type": "execute_result",
          "data": {
            "text/plain": [
              "(2, 1)"
            ]
          },
          "metadata": {},
          "execution_count": 24
        }
      ]
    },
    {
      "cell_type": "code",
      "source": [
        "def object_by_id(object_id):\n",
        "  for obj in gc.get_objects():\n",
        "    if id(obj) == object_id:\n",
        "      return f\"Object id {hex(object_id)} exists\"\n",
        "  return f\"Object id {hex(object_id)} not found\"\n",
        "\n",
        "object_by_id(a_id), object_by_id(b_id)"
      ],
      "metadata": {
        "colab": {
          "base_uri": "https://localhost:8080/"
        },
        "id": "PI_IKjjqRunT",
        "outputId": "22e21402-b116-4081-941a-2e92ca1d9a30"
      },
      "execution_count": null,
      "outputs": [
        {
          "output_type": "execute_result",
          "data": {
            "text/plain": [
              "('Object id 0x7fb4a7e05a10 exists', 'Object id 0x7fb4a7e05810 exists')"
            ]
          },
          "metadata": {},
          "execution_count": 26
        }
      ]
    },
    {
      "cell_type": "code",
      "source": [
        " # run the garbege collector\n",
        " gc.collect()\n",
        " object_by_id(a_id), object_by_id(b_id)"
      ],
      "metadata": {
        "colab": {
          "base_uri": "https://localhost:8080/"
        },
        "id": "PxCB6SxWSfjz",
        "outputId": "bef6a9dc-5359-4aec-d65b-c70c6ec2463f"
      },
      "execution_count": null,
      "outputs": [
        {
          "output_type": "execute_result",
          "data": {
            "text/plain": [
              "('Object id 0x7fb4a7e05a10 not found', 'Object id 0x7fb4a7e05810 not found')"
            ]
          },
          "metadata": {},
          "execution_count": 28
        }
      ]
    },
    {
      "cell_type": "code",
      "source": [
        "ref_count(a_id), ref_count(b_id)"
      ],
      "metadata": {
        "colab": {
          "base_uri": "https://localhost:8080/"
        },
        "id": "OF2QNg5cSu7x",
        "outputId": "1960ed75-0007-4b9b-a2e0-50193beec6af"
      },
      "execution_count": null,
      "outputs": [
        {
          "output_type": "execute_result",
          "data": {
            "text/plain": [
              "(0, 0)"
            ]
          },
          "metadata": {},
          "execution_count": 29
        }
      ]
    },
    {
      "cell_type": "markdown",
      "source": [
        "## var re-assigment\n",
        "in fact, the value inside the object, can *never* be changed\n"
      ],
      "metadata": {
        "id": "jSS-XwFYUvn1"
      }
    },
    {
      "cell_type": "code",
      "source": [
        "my_var = 10\n",
        "print(hex(id(my_var)))\n",
        "\n",
        "my_var += my_var\n",
        "print(hex(id(my_var)))\n",
        "\n",
        "my_var = float(my_var)\n",
        "print(hex(id(my_var)))\n",
        "\n",
        "a = 10\n",
        "b = 10\n",
        "hex(id(a)), hex(id(b)) # same as my_var = 10"
      ],
      "metadata": {
        "colab": {
          "base_uri": "https://localhost:8080/"
        },
        "id": "jc0bVeJ1UuDT",
        "outputId": "604c2a74-2057-41fa-bc93-2a6dde33eef3"
      },
      "execution_count": null,
      "outputs": [
        {
          "output_type": "stream",
          "name": "stdout",
          "text": [
            "0x559e4b171b20\n",
            "0x559e4b171c60\n",
            "0x7fb4a7bb5990\n"
          ]
        },
        {
          "output_type": "execute_result",
          "data": {
            "text/plain": [
              "('0x559e4b171b20', '0x559e4b171b20')"
            ]
          },
          "metadata": {},
          "execution_count": 36
        }
      ]
    },
    {
      "cell_type": "markdown",
      "source": [
        "### Object Mutability\n",
        "- *modifying internal object state*: changing the data inside the object\n",
        "\n",
        "- mutable: internal object state can be changed\n",
        "\n",
        "- inmutable: internal object state can be changed\n",
        " - numbers (int, float, bool, complex)\n",
        " - str\n",
        " - tuple\n",
        " - frozen sets\n",
        " - class (user def)\n",
        "\n",
        " - mutable:\n",
        "  - list\n",
        "  - set\n",
        "  - dict\n",
        "  - class (user def)\n",
        "\n",
        "Warning: Immutability does mean frozen!!"
      ],
      "metadata": {
        "id": "xfWmyKX-Ysaj"
      }
    },
    {
      "cell_type": "code",
      "source": [
        "l1 = [1, 2]\n",
        "l2 = [3, 4]\n",
        "t = l1, l2\n",
        "type(t)"
      ],
      "metadata": {
        "colab": {
          "base_uri": "https://localhost:8080/"
        },
        "id": "PpQm_sGyZ9g8",
        "outputId": "a3f3b8d3-dfac-4f3a-91a4-a203f9227a04"
      },
      "execution_count": null,
      "outputs": [
        {
          "output_type": "execute_result",
          "data": {
            "text/plain": [
              "tuple"
            ]
          },
          "metadata": {},
          "execution_count": 2
        }
      ]
    },
    {
      "cell_type": "code",
      "source": [
        "t.append([5, 6])"
      ],
      "metadata": {
        "colab": {
          "base_uri": "https://localhost:8080/",
          "height": 165
        },
        "id": "dLCz_nHBb2G3",
        "outputId": "00eb7b69-ba60-4ddf-f95e-d69721dec3fd"
      },
      "execution_count": null,
      "outputs": [
        {
          "output_type": "error",
          "ename": "AttributeError",
          "evalue": "ignored",
          "traceback": [
            "\u001b[0;31m---------------------------------------------------------------------------\u001b[0m",
            "\u001b[0;31mAttributeError\u001b[0m                            Traceback (most recent call last)",
            "\u001b[0;32m<ipython-input-3-fbe955aa2d2a>\u001b[0m in \u001b[0;36m<module>\u001b[0;34m()\u001b[0m\n\u001b[0;32m----> 1\u001b[0;31m \u001b[0mt\u001b[0m\u001b[0;34m.\u001b[0m\u001b[0mappend\u001b[0m\u001b[0;34m(\u001b[0m\u001b[0;34m[\u001b[0m\u001b[0;36m5\u001b[0m\u001b[0;34m,\u001b[0m \u001b[0;36m6\u001b[0m\u001b[0;34m]\u001b[0m\u001b[0;34m)\u001b[0m\u001b[0;34m\u001b[0m\u001b[0;34m\u001b[0m\u001b[0m\n\u001b[0m",
            "\u001b[0;31mAttributeError\u001b[0m: 'tuple' object has no attribute 'append'"
          ]
        }
      ]
    },
    {
      "cell_type": "code",
      "source": [
        "l1.append(3)\n",
        "t"
      ],
      "metadata": {
        "colab": {
          "base_uri": "https://localhost:8080/"
        },
        "id": "eyS91_Oebp1w",
        "outputId": "d71e5b97-27c0-4137-f923-7a16ae29eeb7"
      },
      "execution_count": null,
      "outputs": [
        {
          "output_type": "execute_result",
          "data": {
            "text/plain": [
              "([1, 2, 3], [3, 4])"
            ]
          },
          "metadata": {},
          "execution_count": 4
        }
      ]
    },
    {
      "cell_type": "code",
      "source": [
        "l2 += [5, 6]\n",
        "t"
      ],
      "metadata": {
        "colab": {
          "base_uri": "https://localhost:8080/"
        },
        "id": "JMgUpf23cgGO",
        "outputId": "1d572b05-a683-4c5b-e110-a2429ff9c650"
      },
      "execution_count": null,
      "outputs": [
        {
          "output_type": "execute_result",
          "data": {
            "text/plain": [
              "([1, 2, 3], [3, 4, 5, 6])"
            ]
          },
          "metadata": {},
          "execution_count": 5
        }
      ]
    },
    {
      "cell_type": "code",
      "source": [
        "t[0] += [1]"
      ],
      "metadata": {
        "colab": {
          "base_uri": "https://localhost:8080/",
          "height": 165
        },
        "id": "3aiUxqAPcRT4",
        "outputId": "734d30cd-60ac-4b08-8b74-0274b5a824cd"
      },
      "execution_count": null,
      "outputs": [
        {
          "output_type": "error",
          "ename": "TypeError",
          "evalue": "ignored",
          "traceback": [
            "\u001b[0;31m---------------------------------------------------------------------------\u001b[0m",
            "\u001b[0;31mTypeError\u001b[0m                                 Traceback (most recent call last)",
            "\u001b[0;32m<ipython-input-8-9758a4bb552e>\u001b[0m in \u001b[0;36m<module>\u001b[0;34m()\u001b[0m\n\u001b[0;32m----> 1\u001b[0;31m \u001b[0mt\u001b[0m\u001b[0;34m[\u001b[0m\u001b[0;36m0\u001b[0m\u001b[0;34m]\u001b[0m \u001b[0;34m+=\u001b[0m \u001b[0;34m[\u001b[0m\u001b[0;36m1\u001b[0m\u001b[0;34m]\u001b[0m\u001b[0;34m\u001b[0m\u001b[0;34m\u001b[0m\u001b[0m\n\u001b[0m",
            "\u001b[0;31mTypeError\u001b[0m: 'tuple' object does not support item assignment"
          ]
        }
      ]
    },
    {
      "cell_type": "markdown",
      "source": [
        "## Functional Arguments and Mutability\n",
        "\n",
        "mutable objects are not safe from sideeffects"
      ],
      "metadata": {
        "id": "Rd1fPZnP3je1"
      }
    },
    {
      "cell_type": "code",
      "source": [
        "def process(s):\n",
        "  print(f'INITIAL s # = {id(s)}')\n",
        "  s += ' world'\n",
        "  print(f'FINAL   s # = {id(s)}')\n",
        "  return s\n",
        "\n",
        "v = 'hello'\n",
        "process(v), id(v)"
      ],
      "metadata": {
        "colab": {
          "base_uri": "https://localhost:8080/"
        },
        "id": "QVkgODmD3w40",
        "outputId": "23a9f3df-baa1-42bf-8f95-4252e1f38073"
      },
      "execution_count": null,
      "outputs": [
        {
          "output_type": "stream",
          "name": "stdout",
          "text": [
            "INITIAL s # = 140025362302128\n",
            "FINAL   s # = 140025150302320\n"
          ]
        },
        {
          "output_type": "execute_result",
          "data": {
            "text/plain": [
              "('hello world', 140025362302128)"
            ]
          },
          "metadata": {},
          "execution_count": 10
        }
      ]
    },
    {
      "cell_type": "code",
      "source": [
        "def process(lst):\n",
        "  print(f'INITIAL lst # = {id(lst)}')\n",
        "  lst.append(100)\n",
        "  print(f'FINAL   lst # = {id(lst)}')\n",
        "l = [1, 2, 3]\n",
        "\n",
        "process(l), id(l), l"
      ],
      "metadata": {
        "colab": {
          "base_uri": "https://localhost:8080/"
        },
        "id": "LeRGTPrE4mI0",
        "outputId": "3e9f6743-cac6-41fe-bdb6-64b25116a73f"
      },
      "execution_count": null,
      "outputs": [
        {
          "output_type": "stream",
          "name": "stdout",
          "text": [
            "INITIAL lst # = 140025150333648\n",
            "FINAL   lst # = 140025150333648\n"
          ]
        },
        {
          "output_type": "execute_result",
          "data": {
            "text/plain": [
              "(None, 140025150333648, [1, 2, 3, 100])"
            ]
          },
          "metadata": {},
          "execution_count": 13
        }
      ]
    },
    {
      "cell_type": "code",
      "source": [
        "def process(t):\n",
        "  t[0].append(3)\n",
        "\n",
        "t = ([1, 2], 'A')\n",
        "\n",
        "process(t), t"
      ],
      "metadata": {
        "colab": {
          "base_uri": "https://localhost:8080/"
        },
        "id": "IOykBQ365OVL",
        "outputId": "6a7913a1-b685-478f-da2a-dafb9f72f015"
      },
      "execution_count": null,
      "outputs": [
        {
          "output_type": "execute_result",
          "data": {
            "text/plain": [
              "(None, ([1, 2, 3], 'A'))"
            ]
          },
          "metadata": {},
          "execution_count": 5
        }
      ]
    },
    {
      "cell_type": "markdown",
      "source": [
        "### Mutable Default Arguments\n",
        "Python supports default values for function parameters... There is a danger associated with this if the default value is of a mutable type. For example, consider specifying an empty list as a default value. If the list is modified, the default value is modified *as well*. In most cases, this is not intended. To avoid it, we can set the default value to `None`. If no value is passed during the function call, we can ensure an empty list is created."
      ],
      "metadata": {
        "id": "03GnM8zBlNJT"
      }
    },
    {
      "cell_type": "code",
      "source": [
        "# Mutable default arguments 💩:  Wrong way  ❌\n",
        "def append_element(elem, L=[]):\n",
        "    L.append(elem)\n",
        "    return L\n",
        "\n",
        "L1 = append_element(21) \n",
        "L2 = append_element(42)\n",
        "L1, L2"
      ],
      "metadata": {
        "id": "KNkj-9i-pEw0",
        "colab": {
          "base_uri": "https://localhost:8080/"
        },
        "outputId": "151ff3a9-8752-4350-e12a-f4404cefbd3c"
      },
      "execution_count": null,
      "outputs": [
        {
          "output_type": "execute_result",
          "data": {
            "text/plain": [
              "([21, 42], [21, 42])"
            ]
          },
          "metadata": {},
          "execution_count": 1
        }
      ]
    },
    {
      "cell_type": "code",
      "source": [
        "# Correct way 🔥: Use None ✅\n",
        "def better_append(elem, L=None):\n",
        "    if L is None:\n",
        "        L = []\n",
        "    L.append(elem)\n",
        "    return L\n",
        "\n",
        "L1 = L2 = []\n",
        "L1 = append_element(21) \n",
        "L2 = append_element(42)\n",
        "L1, L2"
      ],
      "metadata": {
        "colab": {
          "base_uri": "https://localhost:8080/"
        },
        "id": "aolBhEsRl0CI",
        "outputId": "73193339-34fe-467f-b8fe-cf94b0ce256a"
      },
      "execution_count": null,
      "outputs": [
        {
          "output_type": "execute_result",
          "data": {
            "text/plain": [
              "([21, 42, 21, 42, 21, 42, 21, 42, 21, 42],\n",
              " [21, 42, 21, 42, 21, 42, 21, 42, 21, 42])"
            ]
          },
          "metadata": {},
          "execution_count": 5
        }
      ]
    },
    {
      "cell_type": "markdown",
      "source": [
        "## Shared reference"
      ],
      "metadata": {
        "id": "2NdIo-_Z-ozw"
      }
    },
    {
      "cell_type": "code",
      "source": [
        "a = 10\n",
        "b = a\n",
        "\n",
        "# with mutable objects python never make shared reference\n",
        "a = [1, 2, 3]\n",
        "b = a\n",
        "b.append(100)"
      ],
      "metadata": {
        "id": "lGhU6XRtmBzP"
      },
      "execution_count": null,
      "outputs": []
    },
    {
      "cell_type": "markdown",
      "source": [
        ""
      ],
      "metadata": {
        "id": "GZBCzFXj-m1V"
      }
    },
    {
      "cell_type": "markdown",
      "source": [
        "## Var equaility\n",
        "* mem adress: `is`\n",
        "* oject internal state:  `==`"
      ],
      "metadata": {
        "id": "NPKujIn_P-Cj"
      }
    },
    {
      "cell_type": "code",
      "source": [
        "a = 10\n",
        "b = 10\n",
        "a is b"
      ],
      "metadata": {
        "colab": {
          "base_uri": "https://localhost:8080/"
        },
        "id": "KeT_Rz2jPgJW",
        "outputId": "0a489a57-0f60-4757-99d8-de8bf750644e"
      },
      "execution_count": null,
      "outputs": [
        {
          "output_type": "execute_result",
          "data": {
            "text/plain": [
              "True"
            ]
          },
          "metadata": {},
          "execution_count": 3
        }
      ]
    },
    {
      "cell_type": "code",
      "source": [
        "a = [1, 2, 3]\n",
        "b = [1, 2, 3]\n",
        "a is b, a == b"
      ],
      "metadata": {
        "colab": {
          "base_uri": "https://localhost:8080/"
        },
        "id": "RgHDbtVQPf7u",
        "outputId": "9b9078d3-4868-48db-9611-e9ff9505018e"
      },
      "execution_count": null,
      "outputs": [
        {
          "output_type": "execute_result",
          "data": {
            "text/plain": [
              "(False, True)"
            ]
          },
          "metadata": {},
          "execution_count": 5
        }
      ]
    },
    {
      "cell_type": "code",
      "source": [
        "a = 10\n",
        "b = 10 + 0j\n",
        "print(a is b, a == b)\n",
        "a = complex(a)\n",
        "a is b, a == b"
      ],
      "metadata": {
        "colab": {
          "base_uri": "https://localhost:8080/"
        },
        "id": "Q4YpyxK8Pfu9",
        "outputId": "f43c8e81-70f8-43ff-badc-15172e293c03"
      },
      "execution_count": null,
      "outputs": [
        {
          "output_type": "stream",
          "name": "stdout",
          "text": [
            "False True\n"
          ]
        },
        {
          "output_type": "execute_result",
          "data": {
            "text/plain": [
              "(False, True)"
            ]
          },
          "metadata": {},
          "execution_count": 10
        }
      ]
    },
    {
      "cell_type": "markdown",
      "source": [
        "### `None` object\n",
        "* empty value null pointer\n",
        "* a real object managed by memory manager (shared reference) `is None`"
      ],
      "metadata": {
        "id": "hIki20kKSSEX"
      }
    },
    {
      "cell_type": "code",
      "source": [
        "id(None)"
      ],
      "metadata": {
        "colab": {
          "base_uri": "https://localhost:8080/"
        },
        "id": "1VkU3QGwEeU1",
        "outputId": "bd837c5c-03b8-4283-d7ae-3f2841f0385c"
      },
      "execution_count": null,
      "outputs": [
        {
          "output_type": "execute_result",
          "data": {
            "text/plain": [
              "94821412023744"
            ]
          },
          "metadata": {},
          "execution_count": 25
        }
      ]
    },
    {
      "cell_type": "code",
      "source": [
        "a = None\n",
        "b = None\n",
        "c = None\n",
        "a is b, a is c, a is None, c is None, type(c), id(c) == id(a), id(c) == id(None)"
      ],
      "metadata": {
        "colab": {
          "base_uri": "https://localhost:8080/"
        },
        "id": "nM4sEWGLEjtJ",
        "outputId": "24318da3-7819-4ea7-ead5-9cd00541a94e"
      },
      "execution_count": null,
      "outputs": [
        {
          "output_type": "execute_result",
          "data": {
            "text/plain": [
              "(True, True, True, True, NoneType, True, True)"
            ]
          },
          "metadata": {},
          "execution_count": 31
        }
      ]
    },
    {
      "cell_type": "markdown",
      "source": [
        "## Everything is objects (instace of calsses)\n",
        "* have memory add\n",
        "\n",
        "Any object (including function) can be:\n",
        "- assigned to var\n",
        "- passed as parameter to a function\n",
        "- returned from a function"
      ],
      "metadata": {
        "id": "hvzXFCBoFOgF"
      }
    },
    {
      "cell_type": "code",
      "source": [
        "def f1():\n",
        "  ...\n",
        "\n",
        "f2 = f1\n",
        "id(f1), id(f2), f1 is f2"
      ],
      "metadata": {
        "colab": {
          "base_uri": "https://localhost:8080/"
        },
        "id": "FSmM5o9TFq0v",
        "outputId": "e495499f-bff3-4f1e-c972-dea8a91da0fa"
      },
      "execution_count": null,
      "outputs": [
        {
          "output_type": "execute_result",
          "data": {
            "text/plain": [
              "(139821540817808, 139821540817808, True)"
            ]
          },
          "metadata": {},
          "execution_count": 47
        }
      ]
    },
    {
      "cell_type": "code",
      "source": [
        "a = 10\n",
        "b = int(10)\n",
        "id(a), id(b)"
      ],
      "metadata": {
        "colab": {
          "base_uri": "https://localhost:8080/"
        },
        "id": "nP2NjtEsIdDK",
        "outputId": "af5cc8af-767a-416e-e6ff-e1700bb4b3cc"
      },
      "execution_count": null,
      "outputs": [
        {
          "output_type": "execute_result",
          "data": {
            "text/plain": [
              "(94821412629280, 94821412629280)"
            ]
          },
          "metadata": {},
          "execution_count": 46
        }
      ]
    },
    {
      "cell_type": "code",
      "source": [
        "def square(a):\n",
        "  return a ** 2\n",
        "\n",
        "def cube(a):\n",
        "  return a ** 3\n",
        "\n",
        "def select_fce(f_id):\n",
        "  if f_id == 1:\n",
        "    return square\n",
        "  else:\n",
        "    return cube\n",
        "\n",
        "f = select_fce(1)\n",
        "f is square, f(2)"
      ],
      "metadata": {
        "colab": {
          "base_uri": "https://localhost:8080/"
        },
        "id": "j9OgCw96Rthj",
        "outputId": "8e8e0bdd-c0d3-41e8-ebd1-b68ad86c831e"
      },
      "execution_count": null,
      "outputs": [
        {
          "output_type": "execute_result",
          "data": {
            "text/plain": [
              "(True, 4)"
            ]
          },
          "metadata": {},
          "execution_count": 49
        }
      ]
    },
    {
      "cell_type": "code",
      "source": [
        "select_fce(2)(3)"
      ],
      "metadata": {
        "colab": {
          "base_uri": "https://localhost:8080/"
        },
        "id": "8_nxOMYbStSn",
        "outputId": "f32f88e3-6f0f-48d5-e2c0-954110d6c936"
      },
      "execution_count": null,
      "outputs": [
        {
          "output_type": "execute_result",
          "data": {
            "text/plain": [
              "27"
            ]
          },
          "metadata": {},
          "execution_count": 50
        }
      ]
    },
    {
      "cell_type": "code",
      "source": [
        "def exec_fn(fn, param):\n",
        "  return fn(param)\n",
        "\n",
        "exec_fn(cube, 2)"
      ],
      "metadata": {
        "colab": {
          "base_uri": "https://localhost:8080/"
        },
        "id": "ag-ooBXWS3AR",
        "outputId": "1aff4bce-c231-4f4c-d6ab-709162709e5a"
      },
      "execution_count": null,
      "outputs": [
        {
          "output_type": "execute_result",
          "data": {
            "text/plain": [
              "8"
            ]
          },
          "metadata": {},
          "execution_count": 51
        }
      ]
    },
    {
      "cell_type": "markdown",
      "source": [
        "## Python Optimization\n",
        "\n",
        "https://wiki.python.org/moin/PythonImplementations\n",
        "\n",
        "* [CPython](https://github.com/python/cpython) \n",
        "    Reference implementation in C\n",
        "* [pyston](https://github.com/pyston/pyston)\n",
        "    fork of CPython 3.8.12 with additional optimizations for 30% performance \n",
        "* [IronPython](https://github.com/IronLanguages/ironpython3)\n",
        "    Cross-platform support the .NET Core, .NET and Mono runtimes.\n",
        "*  [PyPy]()\n",
        "    replacement for CPython with JIT compiler\n",
        "    ```\n",
        "    brew install pypy3\n",
        "    pypy3 -> PyPy 7.3.8 with GCC Apple LLVM 13.0.0 (clang-1300.0.29.30\n",
        "    pip_pypy3 list\n",
        "    pypy3 -m pip install numpy\n",
        "    ```\n",
        "* [rustpython](https://github.com/RustPython/RustPython)\n",
        "    Full Python 3 environment entirely in Rust can be used from Rust or compiled to WebAssembly.\n",
        "    ```\n",
        "    cargo install rustpython\n",
        "    or\n",
        "    cargo install --git https://github.com/RustPython/RustPython\n",
        "    or \n",
        "    conda install rustpython -c conda-forge\n",
        "\n",
        "    wapm install rustpython/rustpython\n",
        "    curl https://get.wasmer.io -sSfL | sh\n",
        "    ```\n",
        "* [Jython](https://github.com/jython/jython/)\n",
        "  * [JythonBook](https://jython.readthedocs.io/en/latest/)\n",
        "\n",
        "```\n",
        "wget https://repo1.maven.org/maven2/org/python/jython-standalone/2.7.2/jython-standalone-2.7.2.jar\n",
        "java -jar jython-standalone-2.7.2.jar\n",
        "import sys\n",
        ">>> sys.version\n",
        "'2.7.2 (v2.7.2:925a3cc3b49d, Mar 21 2020, 10:03:58)\\n[Java HotSpot(TM) 64-Bit Server VM (Oracle Corporation)]'\n",
        "\n",
        "---\n",
        "import java\n",
        "from java import awt\n",
        "\n",
        "def exit(e): java.lang.System.exit(0)\n",
        "\n",
        "frame = awt.Frame('AWT Example', visible=1)\n",
        "button = awt.Button('Close Me!', actionPerformed=exit)\n",
        "frame.add(button, 'Center')\n",
        "frame.pack()\n",
        "---\n",
        "java -jar jython-standalone-2.7.2.jar awt.py\n",
        "```\n",
        "\n",
        "* [Pyodide](https://github.com/pyodide/pyodide)\n",
        "  a port of CPython to WebAssembly/Emscripten\n",
        "  When used inside a browser, Python has full access to the Web APIs\n",
        "  https://github.com/alexmojaki/futurecoder\n"
      ],
      "metadata": {
        "id": "58ySQ_bHTUTN"
      }
    },
    {
      "cell_type": "markdown",
      "source": [
        "### Interning\n",
        "reusing object on-demand\n",
        "CPython pre-loades(caches) a global list of int of range(-5, 256)\n",
        "Singleton\n"
      ],
      "metadata": {
        "id": "K90CkcdlFA8r"
      }
    },
    {
      "cell_type": "code",
      "source": [
        "a = 257\n",
        "b = 257\n",
        "a is b, id(a), id(b)"
      ],
      "metadata": {
        "colab": {
          "base_uri": "https://localhost:8080/"
        },
        "id": "oLIv0gZmEqsw",
        "outputId": "ddfd3de6-0e60-45b1-d34a-4a036c958406"
      },
      "execution_count": null,
      "outputs": [
        {
          "output_type": "execute_result",
          "data": {
            "text/plain": [
              "(False, 139821541124112, 139821541123760)"
            ]
          },
          "metadata": {},
          "execution_count": 54
        }
      ]
    },
    {
      "cell_type": "code",
      "source": [
        "gi = (i for i in range(-5, 256))\n",
        "a = next(gi)\n",
        "b = next(gi)\n",
        "print(a,b, id(a), id(b))\n",
        "c = -5\n",
        "id(c)"
      ],
      "metadata": {
        "colab": {
          "base_uri": "https://localhost:8080/"
        },
        "id": "FboSkqYKG3Gc",
        "outputId": "6ca3fdba-6c58-4547-fc39-1d3dc6865d33"
      },
      "execution_count": null,
      "outputs": [
        {
          "output_type": "stream",
          "name": "stdout",
          "text": [
            "-5 -4 94821412628800 94821412628832\n"
          ]
        },
        {
          "output_type": "execute_result",
          "data": {
            "text/plain": [
              "94821412628800"
            ]
          },
          "metadata": {},
          "execution_count": 64
        }
      ]
    },
    {
      "cell_type": "markdown",
      "source": [
        "### Strings interned\n",
        "* identifiers\n",
        "* literals which looks like identifiers `hello_world`\n",
        "* `is` is much faster than `==` (char by char)"
      ],
      "metadata": {
        "id": "O-MNfHiLJLC-"
      }
    },
    {
      "cell_type": "code",
      "source": [
        "a = 'hello_world'\n",
        "b = 'hello_world'\n",
        "id(a), id(b), a is b"
      ],
      "metadata": {
        "colab": {
          "base_uri": "https://localhost:8080/"
        },
        "id": "If7X3Ow4JrFj",
        "outputId": "cfbd8708-f5a0-484b-f19b-f03371d3713d"
      },
      "execution_count": null,
      "outputs": [
        {
          "output_type": "execute_result",
          "data": {
            "text/plain": [
              "(139821541388016, 139821541388016, True)"
            ]
          },
          "metadata": {},
          "execution_count": 66
        }
      ]
    },
    {
      "cell_type": "code",
      "source": [
        "a = 'the quick brown fox'\n",
        "b = 'the quick brown fox'\n",
        "a is b"
      ],
      "metadata": {
        "colab": {
          "base_uri": "https://localhost:8080/"
        },
        "id": "VPIHseAMKuE1",
        "outputId": "165fc597-7eca-4d19-8fa9-af5934dd380c"
      },
      "execution_count": null,
      "outputs": [
        {
          "output_type": "execute_result",
          "data": {
            "text/plain": [
              "False"
            ]
          },
          "metadata": {},
          "execution_count": 68
        }
      ]
    },
    {
      "cell_type": "code",
      "source": [
        "import sys\n",
        "a = sys.intern('the quick brown fox')\n",
        "b = sys.intern('the quick brown fox')\n",
        "a is b"
      ],
      "metadata": {
        "colab": {
          "base_uri": "https://localhost:8080/"
        },
        "id": "KUZ2byHSKL08",
        "outputId": "b86bac2b-3055-489b-b4ab-d38f827c2fb9"
      },
      "execution_count": null,
      "outputs": [
        {
          "output_type": "execute_result",
          "data": {
            "text/plain": [
              "True"
            ]
          },
          "metadata": {},
          "execution_count": 67
        }
      ]
    },
    {
      "cell_type": "code",
      "source": [
        "import sys\n",
        "import time\n",
        "\n",
        "def compare_using_equals(n):\n",
        "  a = 'the quick brown fox' * 200\n",
        "  b = 'the quick brown fox' * 200\n",
        "  for i in range(n):\n",
        "    if a == b:\n",
        "      pass\n",
        "\n",
        "def compare_using_interning(n):\n",
        "  a = sys.intern('the quick brown fox' * 200)\n",
        "  b = sys.intern('the quick brown fox' * 200)\n",
        "  for i in range(n):\n",
        "    if a is b:\n",
        "      pass\n",
        "\n",
        "start = time.perf_counter()\n",
        "compare_using_equals(10_000_000_000)\n",
        "end = time.perf_counter()\n",
        "end-start"
      ],
      "metadata": {
        "colab": {
          "base_uri": "https://localhost:8080/"
        },
        "id": "aj2ah5mUMslP",
        "outputId": "f8a4338b-c55c-4239-c7cb-9dcb1d0ead65"
      },
      "execution_count": null,
      "outputs": [
        {
          "output_type": "execute_result",
          "data": {
            "text/plain": [
              "0.5551720000003115"
            ]
          },
          "metadata": {},
          "execution_count": 74
        }
      ]
    },
    {
      "cell_type": "code",
      "source": [
        "start = time.perf_counter()\n",
        "compare_using_interning(10_000_000_000)\n",
        "end = time.perf_counter()\n",
        "end-start"
      ],
      "metadata": {
        "colab": {
          "base_uri": "https://localhost:8080/"
        },
        "id": "ujF4LlNCOMyi",
        "outputId": "70335d04-c7ad-4f76-f0db-ef39a37e735e"
      },
      "execution_count": null,
      "outputs": [
        {
          "output_type": "execute_result",
          "data": {
            "text/plain": [
              "472.58671015500295"
            ]
          },
          "metadata": {},
          "execution_count": 75
        }
      ]
    },
    {
      "cell_type": "markdown",
      "source": [
        "\n",
        "## Membership tests\n",
        "\n",
        "* const imutable\n",
        "lists -> tuples\n",
        "sets -> frozensets\n",
        "\n",
        "set membership is faster than list/tuple membership\n",
        "\n"
      ],
      "metadata": {
        "id": "oLMSNHGpmTHK"
      }
    },
    {
      "cell_type": "code",
      "source": [
        "e = 2\n",
        "e in [1, 2, 3], e in (1, 2, 3)"
      ],
      "metadata": {
        "colab": {
          "base_uri": "https://localhost:8080/"
        },
        "id": "Qs-nI-yWmSnY",
        "outputId": "bccd1c4e-f5ad-44c2-f8a0-14d8ccd7c2eb"
      },
      "execution_count": null,
      "outputs": [
        {
          "output_type": "execute_result",
          "data": {
            "text/plain": [
              "(True, True)"
            ]
          },
          "metadata": {},
          "execution_count": 79
        }
      ]
    },
    {
      "cell_type": "code",
      "source": [
        "e in {1, 2, 3}"
      ],
      "metadata": {
        "colab": {
          "base_uri": "https://localhost:8080/"
        },
        "id": "bsgYWEUemSje",
        "outputId": "eb17cf6d-63c9-45ad-8e46-86c6744499aa"
      },
      "execution_count": null,
      "outputs": [
        {
          "output_type": "execute_result",
          "data": {
            "text/plain": [
              "True"
            ]
          },
          "metadata": {},
          "execution_count": 80
        }
      ]
    },
    {
      "cell_type": "code",
      "source": [
        "\n",
        "f1.__code__.co_consts"
      ],
      "metadata": {
        "colab": {
          "base_uri": "https://localhost:8080/"
        },
        "id": "QwAvbFDEmSfg",
        "outputId": "e743f435-d10d-46ac-cdd7-eec83345dffc"
      },
      "execution_count": null,
      "outputs": [
        {
          "output_type": "execute_result",
          "data": {
            "text/plain": [
              "(None,\n",
              " 1440,\n",
              " (1, 2, 1, 2, 1, 2, 1, 2, 1, 2),\n",
              " 'abcabcabc',\n",
              " 'ababababababababababab',\n",
              " 'the quick brown foxthe quick brown foxthe quick brown foxthe quick brown foxthe quick brown fox',\n",
              " 'a',\n",
              " 'b',\n",
              " 3)"
            ]
          },
          "metadata": {},
          "execution_count": 2
        }
      ]
    },
    {
      "cell_type": "code",
      "source": [
        "def f2(e):\n",
        "  if e in [1,2,3]:\n",
        "    pass\n",
        "\n",
        "f2.__code__.co_consts"
      ],
      "metadata": {
        "colab": {
          "base_uri": "https://localhost:8080/"
        },
        "id": "kPsy5BLJmSVe",
        "outputId": "9e992c77-28dd-467a-8537-b138fb63b0a8"
      },
      "execution_count": null,
      "outputs": [
        {
          "output_type": "execute_result",
          "data": {
            "text/plain": [
              "(None, (1, 2, 3))"
            ]
          },
          "metadata": {},
          "execution_count": 5
        }
      ]
    },
    {
      "cell_type": "code",
      "source": [
        "import string\n",
        "import time\n",
        "string.ascii_letters"
      ],
      "metadata": {
        "colab": {
          "base_uri": "https://localhost:8080/",
          "height": 35
        },
        "id": "myfkxLXqmSHs",
        "outputId": "6bf50da9-8ac5-4362-b87d-d472e6c1cf93"
      },
      "execution_count": null,
      "outputs": [
        {
          "output_type": "execute_result",
          "data": {
            "text/plain": [
              "'abcdefghijklmnopqrstuvwxyzABCDEFGHIJKLMNOPQRSTUVWXYZ'"
            ],
            "application/vnd.google.colaboratory.intrinsic+json": {
              "type": "string"
            }
          },
          "metadata": {},
          "execution_count": 6
        }
      ]
    },
    {
      "cell_type": "code",
      "source": [
        "ch_l = list(string.ascii_letters)\n",
        "ch_t = tuple(string.ascii_letters)\n",
        "ch_s = set(string.ascii_letters)\n",
        "print(ch_s)\n"
      ],
      "metadata": {
        "colab": {
          "base_uri": "https://localhost:8080/"
        },
        "id": "vS3LRN95mR6y",
        "outputId": "a3595d31-737e-426b-92d8-d9916a06d168"
      },
      "execution_count": null,
      "outputs": [
        {
          "output_type": "stream",
          "name": "stdout",
          "text": [
            "{'O', 'X', 'N', 'Z', 'K', 'e', 'I', 'M', 'G', 'P', 'z', 't', 'Q', 'J', 'L', 'a', 'F', 'h', 'Y', 'U', 'w', 'u', 'y', 'l', 'q', 'H', 'v', 'j', 'k', 'R', 'T', 'x', 'i', 'g', 'E', 'b', 'A', 'n', 'B', 'o', 'r', 'C', 'W', 'd', 'c', 'V', 'p', 'D', 's', 'f', 'S', 'm'}\n"
          ]
        }
      ]
    },
    {
      "cell_type": "code",
      "source": [
        "def membership_test(n, container):\n",
        "  for i in range(n):\n",
        "    if 'x' in container:\n",
        "      pass\n",
        "\n",
        "start = time.perf_counter()\n",
        "membership_test(10_000_000, ch_l)\n",
        "end = time.perf_counter()\n",
        "end-start"
      ],
      "metadata": {
        "colab": {
          "base_uri": "https://localhost:8080/"
        },
        "id": "x4-723mm8cib",
        "outputId": "c5e0c99b-4ad2-4e5c-89cf-1c8616df6c73"
      },
      "execution_count": null,
      "outputs": [
        {
          "output_type": "execute_result",
          "data": {
            "text/plain": [
              "4.944840404000047"
            ]
          },
          "metadata": {},
          "execution_count": 10
        }
      ]
    },
    {
      "cell_type": "code",
      "source": [
        "start = time.perf_counter()\n",
        "membership_test(10_000_000, ch_t)\n",
        "end = time.perf_counter()\n",
        "end-start"
      ],
      "metadata": {
        "colab": {
          "base_uri": "https://localhost:8080/"
        },
        "id": "3hx8Cc8Z9mWR",
        "outputId": "00a8d70b-2587-4ce8-8e9d-2a0d23fe496a"
      },
      "execution_count": null,
      "outputs": [
        {
          "output_type": "execute_result",
          "data": {
            "text/plain": [
              "4.826176579000048"
            ]
          },
          "metadata": {},
          "execution_count": 12
        }
      ]
    },
    {
      "cell_type": "code",
      "source": [
        "start = time.perf_counter()\n",
        "membership_test(10_000_000, ch_s)\n",
        "end = time.perf_counter()\n",
        "end-start"
      ],
      "metadata": {
        "colab": {
          "base_uri": "https://localhost:8080/"
        },
        "id": "PVE47HL19erb",
        "outputId": "84926762-b00c-4af5-cbd2-536f4437e7b0"
      },
      "execution_count": null,
      "outputs": [
        {
          "output_type": "execute_result",
          "data": {
            "text/plain": [
              "0.5190618799999811"
            ]
          },
          "metadata": {},
          "execution_count": 11
        }
      ]
    },
    {
      "cell_type": "code",
      "source": [
        "import string\n",
        "import time\n",
        "\n",
        "\n",
        "def membership_test(n, container):\n",
        "  for i in range(n):\n",
        "    if 'x' in container:\n",
        "      pass\n"
      ],
      "metadata": {
        "id": "grWKSohvc1dj"
      },
      "execution_count": null,
      "outputs": []
    },
    {
      "cell_type": "code",
      "source": [
        "%%timeit\n",
        "\n",
        "container = tuple(string.ascii_letters)\n",
        "start = time.process_time()\n",
        "membership_test(10_000_000, container)\n",
        "print(time.process_time()-start)"
      ],
      "metadata": {
        "colab": {
          "base_uri": "https://localhost:8080/"
        },
        "id": "vk8jjHuiS9-d",
        "outputId": "383ab247-a828-4b9a-9d1b-3261c3848165"
      },
      "execution_count": null,
      "outputs": [
        {
          "output_type": "stream",
          "name": "stdout",
          "text": [
            "4.880783031\n",
            "4.808397572999999\n",
            "4.750707510000002\n",
            "4.782601762999999\n",
            "4.774836266999998\n",
            "4.776945073\n",
            "1 loop, best of 5: 4.76 s per loop\n"
          ]
        }
      ]
    },
    {
      "cell_type": "code",
      "source": [
        "%%timeit\n",
        "\n",
        "container = set(string.ascii_letters)\n",
        "start = time.process_time()\n",
        "membership_test(10_000_000, container)\n",
        "print(time.process_time()-start)"
      ],
      "metadata": {
        "colab": {
          "base_uri": "https://localhost:8080/"
        },
        "id": "OzZ6OhVlOXFW",
        "outputId": "607d10e2-282a-4427-b5e1-38ed721c5322"
      },
      "execution_count": null,
      "outputs": [
        {
          "output_type": "stream",
          "name": "stdout",
          "text": [
            "0.5352344369999997\n",
            "0.5426121320000021\n",
            "0.5338068860000078\n",
            "0.5397688329999966\n",
            "0.5284100149999915\n",
            "0.5395970550000015\n",
            "1 loop, best of 5: 528 ms per loop\n"
          ]
        }
      ]
    },
    {
      "cell_type": "markdown",
      "source": [
        ""
      ],
      "metadata": {
        "id": "knjgMgIvmRkm"
      }
    },
    {
      "cell_type": "code",
      "source": [
        "%%bash\n",
        "ls -la .config"
      ],
      "metadata": {
        "colab": {
          "base_uri": "https://localhost:8080/"
        },
        "id": "06as9XSObNrk",
        "outputId": "e31fedc2-2fd1-40f2-b446-90f11bcde91b"
      },
      "execution_count": null,
      "outputs": [
        {
          "output_type": "stream",
          "name": "stdout",
          "text": [
            "total 44\n",
            "drwxr-xr-x 1 root root 4096 Apr  8 13:31 .\n",
            "drwxr-xr-x 1 root root 4096 Apr  8 13:32 ..\n",
            "-rw-r--r-- 1 root root    7 Apr  8 13:31 active_config\n",
            "-rw-r--r-- 1 root root    0 Apr  8 13:32 config_sentinel\n",
            "drwxr-xr-x 2 root root 4096 Apr  8 13:31 configurations\n",
            "-rw-r--r-- 1 root root  101 Apr 12 13:10 .feature_flags_config.yaml\n",
            "-rw------- 1 root root    5 Jan  1  2040 gce\n",
            "-rw-r--r-- 1 root root    3 Apr  8 13:31 .last_opt_in_prompt.yaml\n",
            "-rw-r--r-- 1 root root   37 Apr  8 13:31 .last_survey_prompt.yaml\n",
            "-rw-r--r-- 1 root root  135 Apr  8 13:31 .last_update_check.json\n",
            "drwxr-xr-x 3 root root 4096 Apr  8 13:31 logs\n",
            "-rw-r--r-- 1 root root   32 Apr  8 13:31 .metricsUUID\n"
          ]
        }
      ]
    },
    {
      "cell_type": "markdown",
      "source": [
        "# ---"
      ],
      "metadata": {
        "id": "LW_UBZG7AySY"
      }
    },
    {
      "cell_type": "code",
      "source": [
        "import ctypes\n",
        "libc = ctypes.CDLL(\"libc.so.6\") # /usr/lib/libSystem.dylib -> man 3 intro\n",
        "message_string = \"Hello world!\\n\" \n",
        "libc.printf(\"Testing: %s\", message_string)"
      ],
      "metadata": {
        "id": "v6UP7jvde-LF",
        "colab": {
          "base_uri": "https://localhost:8080/"
        },
        "outputId": "377f0130-3028-44d5-eac0-a663774fc74d"
      },
      "execution_count": null,
      "outputs": [
        {
          "output_type": "execute_result",
          "data": {
            "text/plain": [
              "1"
            ]
          },
          "metadata": {},
          "execution_count": 11
        }
      ]
    },
    {
      "cell_type": "code",
      "source": [
        "#@title Example form fields\n",
        "#@markdown Forms support many types of fields.\n",
        "\n",
        "no_type_checking = ''  #@param\n",
        "string_type = 'example'  #@param {type: \"string\"}\n",
        "slider_value = 142  #@param {type: \"slider\", min: 100, max: 200}\n",
        "number = 102  #@param {type: \"number\"}\n",
        "date = '2010-11-05'  #@param {type: \"date\"}\n",
        "pick_me = \"monday\"  #@param ['monday', 'tuesday', 'wednesday', 'thursday']\n",
        "select_or_input = \"apples\" #@param [\"apples\", \"bananas\", \"oranges\"] {allow-input: true}\n",
        "#@markdown ---\n"
      ],
      "metadata": {
        "id": "s2Spe3SFXeTx"
      },
      "execution_count": null,
      "outputs": []
    },
    {
      "cell_type": "code",
      "source": [
        "string_type = 'example' #@param {type: \"string\"}"
      ],
      "metadata": {
        "id": "nbI4W2jcmmUj"
      },
      "execution_count": null,
      "outputs": []
    },
    {
      "cell_type": "code",
      "source": [
        "import re\n",
        "re_examples = [\n",
        "  not re.match(\"a\", \"cat\"),\n",
        "  re.search(\"a\", \"cat\"),\n",
        "  not re.search(\"c\", \"dog\"),\n",
        "  3 == len(re.split(\"[ab]\", \"carbs\")),\n",
        "  \"R-D-\" == re.sub(\"[0-9]\", \"-\", \"R2D2\") # Replace digits with dashes. \n",
        "]\n",
        "assert all(re_examples), \"all the regex examples should be True\""
      ],
      "metadata": {
        "id": "3EVszwctPLoY"
      },
      "execution_count": null,
      "outputs": []
    },
    {
      "cell_type": "code",
      "execution_count": null,
      "metadata": {
        "colab": {
          "base_uri": "https://localhost:8080/",
          "height": 35
        },
        "id": "jl-OeTskQIAu",
        "outputId": "44d8fdb6-0654-4bb0-9a13-50e52aeea4e1"
      },
      "outputs": [
        {
          "output_type": "execute_result",
          "data": {
            "text/plain": [
              "'🐱'"
            ],
            "application/vnd.google.colaboratory.intrinsic+json": {
              "type": "string"
            }
          },
          "metadata": {},
          "execution_count": 2
        }
      ],
      "source": [
        "cat:str = \"🐱\"\n",
        "cat"
      ]
    },
    {
      "cell_type": "markdown",
      "source": [
        "# List Comprehensions\n",
        "\n",
        "To write a list comprehension, start with the expression you would normally pass to the `append` method. From there, write the for loop condition immediately after the initial expression. Lastly, put everything inside a pair of square brackets. Comprehensions can be used with dictionaries, sets, and generators, however, try to avoid them with complex expressions. Readability is key."
      ],
      "metadata": {
        "id": "amo084sdo09r"
      }
    },
    {
      "cell_type": "code",
      "source": [
        "# OK version 🤔 - For loop and append ❌ \n",
        "squares = []\n",
        "for num in range(12):\n",
        "    squares.append(num ** 2)\n",
        "\n",
        "# Pythonic version 🐍: Use a list comprehension ✅\n",
        "squares = [num ** 2 for num in range(12)]\n",
        "squares"
      ],
      "metadata": {
        "colab": {
          "base_uri": "https://localhost:8080/"
        },
        "id": "HW88bWfWpOwo",
        "outputId": "0b254249-ec29-4f63-e33c-1dcc886d969c"
      },
      "execution_count": null,
      "outputs": [
        {
          "output_type": "execute_result",
          "data": {
            "text/plain": [
              "[0, 1, 4, 9, 16, 25, 36, 49, 64, 81, 100, 121]"
            ]
          },
          "metadata": {},
          "execution_count": 9
        }
      ]
    },
    {
      "cell_type": "markdown",
      "source": [
        "## Bonus Tip 💡: You can also use dictionary, set, and generator comprehensions"
      ],
      "metadata": {
        "id": "TeCMEsJ8pqci"
      }
    },
    {
      "cell_type": "code",
      "source": [
        "squares_dict = {num: num ** 2 for num in range(12)} # dictionary\n",
        "squares_set = {num ** 2 for num in range(12)}       # set\n",
        "squares_gen = (num ** 2 for num in range(12))       # generator\n",
        "\n",
        "squares_dict, squares_set, list(squares_gen)"
      ],
      "metadata": {
        "colab": {
          "base_uri": "https://localhost:8080/"
        },
        "id": "SXk4RzoTpn4l",
        "outputId": "2102b8f9-6ece-4f76-c78f-bff9c82fcf2c"
      },
      "execution_count": null,
      "outputs": [
        {
          "output_type": "execute_result",
          "data": {
            "text/plain": [
              "({0: 0,\n",
              "  1: 1,\n",
              "  2: 4,\n",
              "  3: 9,\n",
              "  4: 16,\n",
              "  5: 25,\n",
              "  6: 36,\n",
              "  7: 49,\n",
              "  8: 64,\n",
              "  9: 81,\n",
              "  10: 100,\n",
              "  11: 121},\n",
              " {0, 1, 4, 9, 16, 25, 36, 49, 64, 81, 100, 121},\n",
              " [0, 1, 4, 9, 16, 25, 36, 49, 64, 81, 100, 121])"
            ]
          },
          "metadata": {},
          "execution_count": 8
        }
      ]
    },
    {
      "cell_type": "markdown",
      "source": [
        "# Generators\n",
        "**Generators** are a powerful tool to save memory and improve performance. In general, they yield one value at a time and can be iterated over multiple times. Let’s imagine we’re interested in the sum of the first 42 000 natural numbers. We could use a list comprehension to compute the values and call the built-in `sum` function. Building a list requires 351064 bytes. Using a generator reduces this value to 112 bytes. That’s pretty awesome 🔥"
      ],
      "metadata": {
        "id": "TPZ5J_iknkYx"
      }
    },
    {
      "cell_type": "code",
      "source": [
        "import sys\n",
        "\n",
        "# Inefficent way 💩: Using a list ❌\n",
        "l = [item for item in range(42_000)]\n",
        "sum(l), f'{sys.getsizeof(l)} bytes'"
      ],
      "metadata": {
        "colab": {
          "base_uri": "https://localhost:8080/"
        },
        "id": "lbumMTe3QPls",
        "outputId": "1235894f-e6dd-4e26-cb52-22af803bb478"
      },
      "execution_count": null,
      "outputs": [
        {
          "output_type": "execute_result",
          "data": {
            "text/plain": [
              "(881979000, '361296 bytes')"
            ]
          },
          "metadata": {},
          "execution_count": 16
        }
      ]
    },
    {
      "cell_type": "code",
      "source": [
        "# Efficient way 🔥: Use a generator ✅\n",
        "g = (item for item in range(42_000))\n",
        "sum(g), f'{sys.getsizeof(g)} bytes'"
      ],
      "metadata": {
        "colab": {
          "base_uri": "https://localhost:8080/"
        },
        "id": "iJoa6T7conZZ",
        "outputId": "c4bd4d1a-cd36-48a4-fe74-701a8adf81b5"
      },
      "execution_count": null,
      "outputs": [
        {
          "output_type": "execute_result",
          "data": {
            "text/plain": [
              "(881979000, '128 bytes')"
            ]
          },
          "metadata": {},
          "execution_count": 17
        }
      ]
    }
  ]
}