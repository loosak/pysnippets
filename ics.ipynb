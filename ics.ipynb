{
 "cells": [
  {
   "cell_type": "code",
   "execution_count": null,
   "metadata": {},
   "outputs": [],
   "source": []
  },
  {
   "cell_type": "markdown",
   "metadata": {},
   "source": [
    "# iCalendar for Humans\n",
    "[ics.py](https://github.com/C4ptainCrunch/ics.py)"
   ]
  },
  {
   "cell_type": "code",
   "execution_count": 3,
   "metadata": {},
   "outputs": [
    {
     "data": {
      "text/plain": [
       "{<Event 'My Event' begin:2020-07-14T22:00:00+00:00 end:2020-07-14T22:00:00+00:00>}"
      ]
     },
     "execution_count": 3,
     "metadata": {},
     "output_type": "execute_result"
    }
   ],
   "source": [
    "from ics import Calendar, Event\n",
    "c = Calendar()\n",
    "e = Event()\n",
    "\n",
    "e.name = \"My Event\"\n",
    "e.begin = '2020-07-14 22:00:00'\n",
    "c.events.add(e)\n",
    "c.events"
   ]
  },
  {
   "cell_type": "code",
   "execution_count": 6,
   "metadata": {},
   "outputs": [],
   "source": [
    "# [<Event 'My cool event' begin:2014-01-01 00:00:00 end:2014-01-01 00:00:01>]\n",
    "with open('my.ics', 'w') as my_file:\n",
    "    my_file.writelines(c)"
   ]
  },
  {
   "cell_type": "code",
   "execution_count": 7,
   "metadata": {},
   "outputs": [
    {
     "name": "stdout",
     "output_type": "stream",
     "text": [
      "BEGIN:VCALENDAR\n",
      "VERSION:2.0\n",
      "PRODID:ics.py - http://git.io/lLljaA\n",
      "BEGIN:VEVENT\n",
      "DTSTART:20200714T220000Z\n",
      "SUMMARY:My Event\n",
      "UID:e9b9f06b-c7a5-4dcd-b912-34382059e253@e9b9.org\n",
      "END:VEVENT\n",
      "END:VCALENDAR\n"
     ]
    }
   ],
   "source": [
    "!cat my.ics"
   ]
  },
  {
   "cell_type": "code",
   "execution_count": 4,
   "metadata": {},
   "outputs": [
    {
     "data": {
      "text/plain": [
       "'\\nBEGIN:VCALENDAR\\nVERSION:2.0\\nPRODID:-//O\\'Reilly//learning.oreilly.com//\\nBEGIN:VEVENT\\nSUMMARY:Introduction to Statistics for Data Analysis with Python\\nDTSTART;VALUE=DATE-TIME:20200824T170000Z\\nDTEND;VALUE=DATE-TIME:20200824T200000Z\\nDTSTAMP;VALUE=DATE-TIME:20200713T100242Z\\nUID:0636920441823-0636920441847\\nDESCRIPTION:This training session focuses on learning ways to implement fu\\n ndamental concepts of statistics which are essential for every data scient\\n ist. We&#39\\\\;ll witness how statistics enable us to derive insights from r\\n aw information to answer our real-world problems/questions. For every aspi\\n ring data scientist\\\\, statistics opens up the doors to all the major domai\\n ns which make use of data science.\\n\\nGo to the event (https://learning.or\\n eilly.com/live-training/courses/introduction-to-statistics-for-data-analys\\n is-with-python/0636920441823/join/)\\n\\nLOCATION:Online\\nORGANIZER;CN=O´REILLY MEDIA:mailto:donotreply@oreilly.com\\nSTATUS:CONFIRMED\\nTRANSP:OPAQUE\\nX-ALT-DESC;FMTTYPE=TEXT/HTML:\\n<p>This training session focuses on learnin\\n g ways to implement fundamental concepts of statistics which are essential\\n  for every data scientist. We\\'ll witness how statistics enable us to deriv\\n e insights from raw information to answer our real-world problems/question\\n s. For every aspiring data scientist\\\\, statistics opens up the doors to al\\n l the major domains which make use of data science.</p>\\n<p><a href=\"https\\n ://learning.oreilly.com/live-training/courses/introduction-to-statistics-f\\n or-data-analysis-with-python/0636920441823/join/\">Go to the event</a></p> n\\nBEGIN:VALARM\\nACTION:DISPLAY\\nDESCRIPTION:Introduction to Statistics for Data Analysis with Python\\nTRIGGER:-PT15M\\nEND:VALARM\\nEND:VEVENT\\nEND:VCALENDAR\\n'"
      ]
     },
     "execution_count": 4,
     "metadata": {},
     "output_type": "execute_result"
    }
   ],
   "source": [
    "file = \"\"\"\n",
    "BEGIN:VCALENDAR\n",
    "VERSION:2.0\n",
    "PRODID:-//O'Reilly//learning.oreilly.com//\n",
    "BEGIN:VEVENT\n",
    "SUMMARY:Introduction to Statistics for Data Analysis with Python\n",
    "DTSTART;VALUE=DATE-TIME:20200824T170000Z\n",
    "DTEND;VALUE=DATE-TIME:20200824T200000Z\n",
    "DTSTAMP;VALUE=DATE-TIME:20200713T100242Z\n",
    "UID:0636920441823-0636920441847\n",
    "DESCRIPTION:This training session focuses on learning ways to implement fu\n",
    " ndamental concepts of statistics which are essential for every data scient\n",
    " ist. We&#39\\;ll witness how statistics enable us to derive insights from r\n",
    " aw information to answer our real-world problems/questions. For every aspi\n",
    " ring data scientist\\, statistics opens up the doors to all the major domai\n",
    " ns which make use of data science.\\n\\nGo to the event (https://learning.or\n",
    " eilly.com/live-training/courses/introduction-to-statistics-for-data-analys\n",
    " is-with-python/0636920441823/join/)\\n\n",
    "LOCATION:Online\n",
    "ORGANIZER;CN=O´REILLY MEDIA:mailto:donotreply@oreilly.com\n",
    "STATUS:CONFIRMED\n",
    "TRANSP:OPAQUE\n",
    "X-ALT-DESC;FMTTYPE=TEXT/HTML:\\n<p>This training session focuses on learnin\n",
    " g ways to implement fundamental concepts of statistics which are essential\n",
    "  for every data scientist. We'll witness how statistics enable us to deriv\n",
    " e insights from raw information to answer our real-world problems/question\n",
    " s. For every aspiring data scientist\\, statistics opens up the doors to al\n",
    " l the major domains which make use of data science.</p>\\n<p><a href=\"https\n",
    " ://learning.oreilly.com/live-training/courses/introduction-to-statistics-f\n",
    " or-data-analysis-with-python/0636920441823/join/\">Go to the event</a></p>\\\n",
    " n\n",
    "BEGIN:VALARM\n",
    "ACTION:DISPLAY\n",
    "DESCRIPTION:Introduction to Statistics for Data Analysis with Python\n",
    "TRIGGER:-PT15M\n",
    "END:VALARM\n",
    "END:VEVENT\n",
    "END:VCALENDAR\n",
    "\"\"\"\n",
    "\n",
    "file"
   ]
  },
  {
   "cell_type": "code",
   "execution_count": null,
   "metadata": {},
   "outputs": [],
   "source": []
  }
 ],
 "metadata": {
  "kernelspec": {
   "display_name": "Python 3",
   "language": "python",
   "name": "python3"
  },
  "language_info": {
   "codemirror_mode": {
    "name": "ipython",
    "version": 3
   },
   "file_extension": ".py",
   "mimetype": "text/x-python",
   "name": "python",
   "nbconvert_exporter": "python",
   "pygments_lexer": "ipython3",
   "version": "3.8.1"
  }
 },
 "nbformat": 4,
 "nbformat_minor": 4
}
