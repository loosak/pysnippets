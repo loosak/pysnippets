{
 "metadata": {
  "language_info": {
   "codemirror_mode": {
    "name": "ipython",
    "version": 3
   },
   "file_extension": ".py",
   "mimetype": "text/x-python",
   "name": "python",
   "nbconvert_exporter": "python",
   "pygments_lexer": "ipython3",
   "version": "3.7.6-final"
  },
  "orig_nbformat": 2,
  "kernelspec": {
   "name": "python_defaultSpec_1598953444179",
   "display_name": "Python 3.7.6 64-bit ('base': conda)"
  }
 },
 "nbformat": 4,
 "nbformat_minor": 2,
 "cells": [
  {
   "cell_type": "markdown",
   "metadata": {},
   "source": [
    "https://github.com/guipsamora/pandas_exercises\n",
    "\n",
    "https://github.com/justmarkham/pandas-videos\n",
    "\n",
    "https://github.com/ajcr/100-pandas-puzzles\n",
    "\n",
    "\n",
    "# Python\n",
    "\n",
    "https://github.com/jerry-git\n",
    "\n",
    "https://github.com/trekhleb\n",
    "\n",
    "https://github.com/rasbt/python_reference\n",
    "\n",
    "https://github.com/zhiwehu/Python-programming-exercises\n",
    "\n",
    "https://github.com/MTrajK/coding-problems\n",
    "\n",
    "https://github.com/TheAlgorithms\n"
   ]
  },
  {
   "cell_type": "code",
   "execution_count": 1,
   "metadata": {},
   "outputs": [
    {
     "output_type": "execute_result",
     "data": {
      "text/plain": "<IPython.core.display.Markdown object>",
      "text/markdown": "# pysnippets\nVarious python snippets:\n\n| filename           | description        |\n|--------------------|--------------------|\n| plt_tutorial.ipynb | pyplot tutorial    |\n|||\n"
     },
     "metadata": {},
     "execution_count": 1
    }
   ],
   "source": [
    "import IPython.display\n",
    "\n",
    "IPython.display.Markdown('README.md')"
   ]
  },
  {
   "cell_type": "code",
   "execution_count": 7,
   "metadata": {},
   "outputs": [],
   "source": [
    "import numpy as np\n",
    "import pandas as pd\n",
    "pd.set_option(\"display.max_rows\", 18)\n",
    "\n",
    "import matplotlib.pyplot as plt\n",
    "plt.rcParams.update({'figure.figsize': (20, 12),})\n",
    "%config InlineBackend.figure_format = 'retina'\n",
    "\n",
    "ted = pd.read_csv('https://raw.githubusercontent.com/justmarkham/pycon-2019-tutorial/master/ted.csv')"
   ]
  },
  {
   "cell_type": "code",
   "execution_count": null,
   "metadata": {},
   "outputs": [],
   "source": []
  },
  {
   "cell_type": "markdown",
   "metadata": {},
   "source": [
    "# Wine Reviews\n",
    "130k wine reviews with variety, location, winery, price, and description\n",
    "\n",
    "## 2019 Best BuyS:\n",
    "https://www.winemag.com/buying-guide/jacobs-creek-2017-classic-merlot-australia/\n"
   ]
  },
  {
   "cell_type": "code",
   "execution_count": 20,
   "metadata": {
    "tags": []
   },
   "outputs": [
    {
     "output_type": "stream",
     "name": "stdout",
     "text": "<class 'pandas.core.frame.DataFrame'>\nInt64Index: 65499 entries, 0 to 65498\nData columns (total 13 columns):\n #   Column                 Non-Null Count  Dtype  \n---  ------                 --------------  -----  \n 0   country                65467 non-null  object \n 1   description            65499 non-null  object \n 2   designation            46588 non-null  object \n 3   points                 65499 non-null  int64  \n 4   price                  60829 non-null  float64\n 5   province               65467 non-null  object \n 6   region_1               54744 non-null  object \n 7   region_2               25170 non-null  object \n 8   taster_name            51856 non-null  object \n 9   taster_twitter_handle  49467 non-null  object \n 10  title                  65499 non-null  object \n 11  variety                65499 non-null  object \n 12  winery                 65499 non-null  object \ndtypes: float64(1), int64(1), object(11)\nmemory usage: 7.0+ MB\n"
    }
   ],
   "source": [
    "wine = pd.read_csv('https://gist.githubusercontent.com/clairehq/79acab35be50eaf1c383948ed3fd1129/raw/407a02139ae1e134992b90b4b2b8c329b3d73a6a/winemag-data-130k-v2.csv', index_col=0)\n",
    "wine.info()"
   ]
  },
  {
   "cell_type": "code",
   "execution_count": 24,
   "metadata": {},
   "outputs": [
    {
     "output_type": "execute_result",
     "data": {
      "text/plain": "(13549,)"
     },
     "metadata": {},
     "execution_count": 24
    }
   ],
   "source": [
    "wine.winery.unique().shape"
   ]
  },
  {
   "cell_type": "code",
   "execution_count": 25,
   "metadata": {},
   "outputs": [
    {
     "output_type": "execute_result",
     "data": {
      "text/plain": "array(['Italy', 'Portugal', 'US', 'Spain', 'France', 'Germany',\n       'Argentina', 'Chile', 'Australia', 'Austria', 'South Africa',\n       'New Zealand', 'Israel', 'Hungary', 'Greece', 'Romania', 'Mexico',\n       'Canada', nan, 'Turkey', 'Czech Republic', 'Slovenia',\n       'Luxembourg', 'Croatia', 'Georgia', 'Uruguay', 'England',\n       'Lebanon', 'Serbia', 'Brazil', 'Moldova', 'Morocco', 'Peru',\n       'India', 'Bulgaria', 'Cyprus', 'Armenia', 'Switzerland',\n       'Bosnia and Herzegovina', 'Ukraine', 'Slovakia', 'Macedonia'],\n      dtype=object)"
     },
     "metadata": {},
     "execution_count": 25
    }
   ],
   "source": [
    "wine.country.unique()"
   ]
  },
  {
   "cell_type": "code",
   "execution_count": 26,
   "metadata": {},
   "outputs": [
    {
     "output_type": "execute_result",
     "data": {
      "text/plain": "points\n80      155\n81      305\n82      923\n83     1442\n84     3490\n       ... \n96      262\n97       99\n98       39\n99       15\n100       8\nName: points, Length: 21, dtype: int64"
     },
     "metadata": {},
     "execution_count": 26
    }
   ],
   "source": [
    "wine.groupby('points').points.count()"
   ]
  },
  {
   "cell_type": "code",
   "execution_count": 28,
   "metadata": {},
   "outputs": [
    {
     "output_type": "execute_result",
     "data": {
      "text/plain": "      country                                        description designation  \\\n58352  France  This is a magnificently solid wine, initially ...         NaN   \n\n       points  price  province      region_1 region_2 taster_name  \\\n58352     100  150.0  Bordeaux  Saint-Julien      NaN  Roger Voss   \n\n      taster_twitter_handle                                       title  \\\n58352            @vossroger  Château Léoville Barton 2010  Saint-Julien   \n\n                        variety                   winery  \n58352  Bordeaux-style Red Blend  Château Léoville Barton  ",
      "text/html": "<div>\n<style scoped>\n    .dataframe tbody tr th:only-of-type {\n        vertical-align: middle;\n    }\n\n    .dataframe tbody tr th {\n        vertical-align: top;\n    }\n\n    .dataframe thead th {\n        text-align: right;\n    }\n</style>\n<table border=\"1\" class=\"dataframe\">\n  <thead>\n    <tr style=\"text-align: right;\">\n      <th></th>\n      <th>country</th>\n      <th>description</th>\n      <th>designation</th>\n      <th>points</th>\n      <th>price</th>\n      <th>province</th>\n      <th>region_1</th>\n      <th>region_2</th>\n      <th>taster_name</th>\n      <th>taster_twitter_handle</th>\n      <th>title</th>\n      <th>variety</th>\n      <th>winery</th>\n    </tr>\n  </thead>\n  <tbody>\n    <tr>\n      <th>58352</th>\n      <td>France</td>\n      <td>This is a magnificently solid wine, initially ...</td>\n      <td>NaN</td>\n      <td>100</td>\n      <td>150.0</td>\n      <td>Bordeaux</td>\n      <td>Saint-Julien</td>\n      <td>NaN</td>\n      <td>Roger Voss</td>\n      <td>@vossroger</td>\n      <td>Château Léoville Barton 2010  Saint-Julien</td>\n      <td>Bordeaux-style Red Blend</td>\n      <td>Château Léoville Barton</td>\n    </tr>\n  </tbody>\n</table>\n</div>"
     },
     "metadata": {},
     "execution_count": 28
    }
   ],
   "source": [
    "wine.query('points > 99 and price < 200', engine='python')"
   ]
  },
  {
   "cell_type": "code",
   "execution_count": 32,
   "metadata": {},
   "outputs": [
    {
     "output_type": "execute_result",
     "data": {
      "text/plain": "array(['Nicosia', 'Quinta dos Avidagos', 'Rainstorm', ..., 'Musetta',\n       'Merum', 'Nickname'], dtype=object)"
     },
     "metadata": {},
     "execution_count": 32
    }
   ],
   "source": [
    "wine.winery.unique()"
   ]
  },
  {
   "cell_type": "code",
   "execution_count": 33,
   "metadata": {},
   "outputs": [
    {
     "output_type": "execute_result",
     "data": {
      "text/plain": "2500.0"
     },
     "metadata": {},
     "execution_count": 33
    }
   ],
   "source": [
    "wine.price.max()"
   ]
  },
  {
   "cell_type": "code",
   "execution_count": 89,
   "metadata": {},
   "outputs": [],
   "source": [
    "wine['czk'] = wine.price.apply(lambda x: toczk(x,'USD'))"
   ]
  },
  {
   "cell_type": "code",
   "execution_count": 96,
   "metadata": {},
   "outputs": [
    {
     "output_type": "execute_result",
     "data": {
      "text/plain": "        country                                        description  \\\n5145         US  A rich, opulent wine at an unbelievable price,...   \n7683      Spain  It's almost absurd how good this $9 Tempranill...   \n9733   Portugal  Produced from the vines that surround the fami...   \n10386        US  A marvelous effort in a difficult year, this t...   \n20197  Portugal  The Aveleda estate is the source of the fruit ...   \n26101        US  With full ripeness, density and concentration,...   \n30513  Portugal  The Douro version of Paxis is a blend of Touri...   \n31310        US  Great price for a big, powerful red like this....   \n34629  Portugal  Richly tannic, this concentrated wine has grea...   \n43051        US  This has ripe Sonoma flavors of green apples, ...   \n43977        US  Kudos to Ste. Michelle for accurately labeling...   \n54987  Portugal  This is a firmly structured, dark wine. It has...   \n56988        US  This tangy, all-stainless, lightly grassy, dry...   \n62157        US  Firm and full of fresh pear and apple and whit...   \n62178  Portugal  Now in a smart clear blue bottle, this is Avel...   \n\n                            designation  points  price       province  \\\n5145                                NaN      90    8.0     California   \n7683                                NaN      90    9.0  Central Spain   \n9733   Quinta da Aveleda Estate Bottled      90    9.0    Vinho Verde   \n10386                               NaN      91    9.0     Washington   \n20197  Quinta da Aveleda Estate Bottled      90    9.0    Vinho Verde   \n26101                Winemaker's Select      91    8.0     Washington   \n30513                             Paxis      90    9.0          Douro   \n31310                               NaN      90    9.0     California   \n34629                          Toutalga      91    7.0     Alentejano   \n43051                               NaN      90    9.0     California   \n43977                               Dry      91    9.0     Washington   \n54987                              Vega      90    9.0          Douro   \n56988                        Fumé Blanc      91    9.0     Washington   \n62157                               NaN      90    9.0     Washington   \n62178                 Quinta da Aveleda      90    9.0    Vinho Verde   \n\n                            region_1          region_2        taster_name  \\\n5145                      California  California Other                NaN   \n7683   Vino de la Tierra de Castilla               NaN  Michael Schachner   \n9733                             NaN               NaN         Roger Voss   \n10386           Columbia Valley (WA)   Columbia Valley       Paul Gregutt   \n20197                            NaN               NaN         Roger Voss   \n26101           Columbia Valley (WA)   Columbia Valley       Paul Gregutt   \n30513                            NaN               NaN         Roger Voss   \n31310               Alexander Valley            Sonoma                NaN   \n34629                            NaN               NaN         Roger Voss   \n43051                  Sonoma County            Sonoma                NaN   \n43977           Columbia Valley (WA)   Columbia Valley       Paul Gregutt   \n54987                            NaN               NaN         Roger Voss   \n56988           Columbia Valley (WA)   Columbia Valley       Paul Gregutt   \n62157              Rattlesnake Hills   Columbia Valley       Paul Gregutt   \n62178                            NaN               NaN         Roger Voss   \n\n      taster_twitter_handle  \\\n5145                    NaN   \n7683            @wineschach   \n9733             @vossroger   \n10386           @paulgwine    \n20197            @vossroger   \n26101           @paulgwine    \n30513            @vossroger   \n31310                   NaN   \n34629            @vossroger   \n43051                   NaN   \n43977           @paulgwine    \n54987            @vossroger   \n56988           @paulgwine    \n62157           @paulgwine    \n62178            @vossroger   \n\n                                                   title           variety  \\\n5145          Esser Cellars 2001 Chardonnay (California)        Chardonnay   \n7683   Mano A Mano 2011 Tempranillo (Vino de la Tierr...       Tempranillo   \n9733   Aveleda 2014 Quinta da Aveleda Estate Bottled ...  Portuguese White   \n10386  Chateau Ste. Michelle 2011 Riesling (Columbia ...          Riesling   \n20197  Aveleda 2012 Quinta da Aveleda Estate Bottled ...  Portuguese White   \n26101  Snoqualmie 2006 Winemaker's Select Riesling (C...          Riesling   \n30513                  DFJ Vinhos 2011 Paxis Red (Douro)    Portuguese Red   \n31310     Rendition 2007 Petite Sirah (Alexander Valley)      Petite Sirah   \n34629  Herdade dos Machados 2012 Toutalga Red (Alente...    Portuguese Red   \n43051         Wheelhouse 2011 Chardonnay (Sonoma County)        Chardonnay   \n43977  Chateau Ste. Michelle 2010 Dry Riesling (Colum...          Riesling   \n54987                   DFJ Vinhos 2011 Vega Red (Douro)    Portuguese Red   \n56988  Barnard Griffin 2012 Fumé Blanc Sauvignon Blan...   Sauvignon Blanc   \n62157  Hyatt Vineyards 2008 Pinot Gris (Rattlesnake H...        Pinot Gris   \n62178  Aveleda 2009 Quinta da Aveleda White (Vinho Ve...  Portuguese White   \n\n                      winery      czk  \n5145           Esser Cellars  175.912  \n7683             Mano A Mano  197.901  \n9733                 Aveleda  197.901  \n10386  Chateau Ste. Michelle  197.901  \n20197                Aveleda  197.901  \n26101             Snoqualmie  175.912  \n30513             DFJ Vinhos  197.901  \n31310              Rendition  197.901  \n34629   Herdade dos Machados  153.923  \n43051             Wheelhouse  197.901  \n43977  Chateau Ste. Michelle  197.901  \n54987             DFJ Vinhos  197.901  \n56988        Barnard Griffin  197.901  \n62157        Hyatt Vineyards  197.901  \n62178                Aveleda  197.901  ",
      "text/html": "<div>\n<style scoped>\n    .dataframe tbody tr th:only-of-type {\n        vertical-align: middle;\n    }\n\n    .dataframe tbody tr th {\n        vertical-align: top;\n    }\n\n    .dataframe thead th {\n        text-align: right;\n    }\n</style>\n<table border=\"1\" class=\"dataframe\">\n  <thead>\n    <tr style=\"text-align: right;\">\n      <th></th>\n      <th>country</th>\n      <th>description</th>\n      <th>designation</th>\n      <th>points</th>\n      <th>price</th>\n      <th>province</th>\n      <th>region_1</th>\n      <th>region_2</th>\n      <th>taster_name</th>\n      <th>taster_twitter_handle</th>\n      <th>title</th>\n      <th>variety</th>\n      <th>winery</th>\n      <th>czk</th>\n    </tr>\n  </thead>\n  <tbody>\n    <tr>\n      <th>5145</th>\n      <td>US</td>\n      <td>A rich, opulent wine at an unbelievable price,...</td>\n      <td>NaN</td>\n      <td>90</td>\n      <td>8.0</td>\n      <td>California</td>\n      <td>California</td>\n      <td>California Other</td>\n      <td>NaN</td>\n      <td>NaN</td>\n      <td>Esser Cellars 2001 Chardonnay (California)</td>\n      <td>Chardonnay</td>\n      <td>Esser Cellars</td>\n      <td>175.912</td>\n    </tr>\n    <tr>\n      <th>7683</th>\n      <td>Spain</td>\n      <td>It's almost absurd how good this $9 Tempranill...</td>\n      <td>NaN</td>\n      <td>90</td>\n      <td>9.0</td>\n      <td>Central Spain</td>\n      <td>Vino de la Tierra de Castilla</td>\n      <td>NaN</td>\n      <td>Michael Schachner</td>\n      <td>@wineschach</td>\n      <td>Mano A Mano 2011 Tempranillo (Vino de la Tierr...</td>\n      <td>Tempranillo</td>\n      <td>Mano A Mano</td>\n      <td>197.901</td>\n    </tr>\n    <tr>\n      <th>9733</th>\n      <td>Portugal</td>\n      <td>Produced from the vines that surround the fami...</td>\n      <td>Quinta da Aveleda Estate Bottled</td>\n      <td>90</td>\n      <td>9.0</td>\n      <td>Vinho Verde</td>\n      <td>NaN</td>\n      <td>NaN</td>\n      <td>Roger Voss</td>\n      <td>@vossroger</td>\n      <td>Aveleda 2014 Quinta da Aveleda Estate Bottled ...</td>\n      <td>Portuguese White</td>\n      <td>Aveleda</td>\n      <td>197.901</td>\n    </tr>\n    <tr>\n      <th>10386</th>\n      <td>US</td>\n      <td>A marvelous effort in a difficult year, this t...</td>\n      <td>NaN</td>\n      <td>91</td>\n      <td>9.0</td>\n      <td>Washington</td>\n      <td>Columbia Valley (WA)</td>\n      <td>Columbia Valley</td>\n      <td>Paul Gregutt</td>\n      <td>@paulgwine</td>\n      <td>Chateau Ste. Michelle 2011 Riesling (Columbia ...</td>\n      <td>Riesling</td>\n      <td>Chateau Ste. Michelle</td>\n      <td>197.901</td>\n    </tr>\n    <tr>\n      <th>20197</th>\n      <td>Portugal</td>\n      <td>The Aveleda estate is the source of the fruit ...</td>\n      <td>Quinta da Aveleda Estate Bottled</td>\n      <td>90</td>\n      <td>9.0</td>\n      <td>Vinho Verde</td>\n      <td>NaN</td>\n      <td>NaN</td>\n      <td>Roger Voss</td>\n      <td>@vossroger</td>\n      <td>Aveleda 2012 Quinta da Aveleda Estate Bottled ...</td>\n      <td>Portuguese White</td>\n      <td>Aveleda</td>\n      <td>197.901</td>\n    </tr>\n    <tr>\n      <th>26101</th>\n      <td>US</td>\n      <td>With full ripeness, density and concentration,...</td>\n      <td>Winemaker's Select</td>\n      <td>91</td>\n      <td>8.0</td>\n      <td>Washington</td>\n      <td>Columbia Valley (WA)</td>\n      <td>Columbia Valley</td>\n      <td>Paul Gregutt</td>\n      <td>@paulgwine</td>\n      <td>Snoqualmie 2006 Winemaker's Select Riesling (C...</td>\n      <td>Riesling</td>\n      <td>Snoqualmie</td>\n      <td>175.912</td>\n    </tr>\n    <tr>\n      <th>30513</th>\n      <td>Portugal</td>\n      <td>The Douro version of Paxis is a blend of Touri...</td>\n      <td>Paxis</td>\n      <td>90</td>\n      <td>9.0</td>\n      <td>Douro</td>\n      <td>NaN</td>\n      <td>NaN</td>\n      <td>Roger Voss</td>\n      <td>@vossroger</td>\n      <td>DFJ Vinhos 2011 Paxis Red (Douro)</td>\n      <td>Portuguese Red</td>\n      <td>DFJ Vinhos</td>\n      <td>197.901</td>\n    </tr>\n    <tr>\n      <th>31310</th>\n      <td>US</td>\n      <td>Great price for a big, powerful red like this....</td>\n      <td>NaN</td>\n      <td>90</td>\n      <td>9.0</td>\n      <td>California</td>\n      <td>Alexander Valley</td>\n      <td>Sonoma</td>\n      <td>NaN</td>\n      <td>NaN</td>\n      <td>Rendition 2007 Petite Sirah (Alexander Valley)</td>\n      <td>Petite Sirah</td>\n      <td>Rendition</td>\n      <td>197.901</td>\n    </tr>\n    <tr>\n      <th>34629</th>\n      <td>Portugal</td>\n      <td>Richly tannic, this concentrated wine has grea...</td>\n      <td>Toutalga</td>\n      <td>91</td>\n      <td>7.0</td>\n      <td>Alentejano</td>\n      <td>NaN</td>\n      <td>NaN</td>\n      <td>Roger Voss</td>\n      <td>@vossroger</td>\n      <td>Herdade dos Machados 2012 Toutalga Red (Alente...</td>\n      <td>Portuguese Red</td>\n      <td>Herdade dos Machados</td>\n      <td>153.923</td>\n    </tr>\n    <tr>\n      <th>43051</th>\n      <td>US</td>\n      <td>This has ripe Sonoma flavors of green apples, ...</td>\n      <td>NaN</td>\n      <td>90</td>\n      <td>9.0</td>\n      <td>California</td>\n      <td>Sonoma County</td>\n      <td>Sonoma</td>\n      <td>NaN</td>\n      <td>NaN</td>\n      <td>Wheelhouse 2011 Chardonnay (Sonoma County)</td>\n      <td>Chardonnay</td>\n      <td>Wheelhouse</td>\n      <td>197.901</td>\n    </tr>\n    <tr>\n      <th>43977</th>\n      <td>US</td>\n      <td>Kudos to Ste. Michelle for accurately labeling...</td>\n      <td>Dry</td>\n      <td>91</td>\n      <td>9.0</td>\n      <td>Washington</td>\n      <td>Columbia Valley (WA)</td>\n      <td>Columbia Valley</td>\n      <td>Paul Gregutt</td>\n      <td>@paulgwine</td>\n      <td>Chateau Ste. Michelle 2010 Dry Riesling (Colum...</td>\n      <td>Riesling</td>\n      <td>Chateau Ste. Michelle</td>\n      <td>197.901</td>\n    </tr>\n    <tr>\n      <th>54987</th>\n      <td>Portugal</td>\n      <td>This is a firmly structured, dark wine. It has...</td>\n      <td>Vega</td>\n      <td>90</td>\n      <td>9.0</td>\n      <td>Douro</td>\n      <td>NaN</td>\n      <td>NaN</td>\n      <td>Roger Voss</td>\n      <td>@vossroger</td>\n      <td>DFJ Vinhos 2011 Vega Red (Douro)</td>\n      <td>Portuguese Red</td>\n      <td>DFJ Vinhos</td>\n      <td>197.901</td>\n    </tr>\n    <tr>\n      <th>56988</th>\n      <td>US</td>\n      <td>This tangy, all-stainless, lightly grassy, dry...</td>\n      <td>Fumé Blanc</td>\n      <td>91</td>\n      <td>9.0</td>\n      <td>Washington</td>\n      <td>Columbia Valley (WA)</td>\n      <td>Columbia Valley</td>\n      <td>Paul Gregutt</td>\n      <td>@paulgwine</td>\n      <td>Barnard Griffin 2012 Fumé Blanc Sauvignon Blan...</td>\n      <td>Sauvignon Blanc</td>\n      <td>Barnard Griffin</td>\n      <td>197.901</td>\n    </tr>\n    <tr>\n      <th>62157</th>\n      <td>US</td>\n      <td>Firm and full of fresh pear and apple and whit...</td>\n      <td>NaN</td>\n      <td>90</td>\n      <td>9.0</td>\n      <td>Washington</td>\n      <td>Rattlesnake Hills</td>\n      <td>Columbia Valley</td>\n      <td>Paul Gregutt</td>\n      <td>@paulgwine</td>\n      <td>Hyatt Vineyards 2008 Pinot Gris (Rattlesnake H...</td>\n      <td>Pinot Gris</td>\n      <td>Hyatt Vineyards</td>\n      <td>197.901</td>\n    </tr>\n    <tr>\n      <th>62178</th>\n      <td>Portugal</td>\n      <td>Now in a smart clear blue bottle, this is Avel...</td>\n      <td>Quinta da Aveleda</td>\n      <td>90</td>\n      <td>9.0</td>\n      <td>Vinho Verde</td>\n      <td>NaN</td>\n      <td>NaN</td>\n      <td>Roger Voss</td>\n      <td>@vossroger</td>\n      <td>Aveleda 2009 Quinta da Aveleda White (Vinho Ve...</td>\n      <td>Portuguese White</td>\n      <td>Aveleda</td>\n      <td>197.901</td>\n    </tr>\n  </tbody>\n</table>\n</div>"
     },
     "metadata": {},
     "execution_count": 96
    }
   ],
   "source": [
    "wine.query('czk < 199 and points > 89')"
   ]
  },
  {
   "cell_type": "code",
   "execution_count": null,
   "metadata": {},
   "outputs": [],
   "source": [
    "and winery.str.contains(\"Maisson\")"
   ]
  },
  {
   "cell_type": "code",
   "execution_count": 165,
   "metadata": {},
   "outputs": [
    {
     "output_type": "execute_result",
     "data": {
      "text/plain": "Empty DataFrame\nColumns: [country, description, designation, points, price, province, region_1, region_2, taster_name, taster_twitter_handle, title, variety, winery, czk]\nIndex: []",
      "text/html": "<div>\n<style scoped>\n    .dataframe tbody tr th:only-of-type {\n        vertical-align: middle;\n    }\n\n    .dataframe tbody tr th {\n        vertical-align: top;\n    }\n\n    .dataframe thead th {\n        text-align: right;\n    }\n</style>\n<table border=\"1\" class=\"dataframe\">\n  <thead>\n    <tr style=\"text-align: right;\">\n      <th></th>\n      <th>country</th>\n      <th>description</th>\n      <th>designation</th>\n      <th>points</th>\n      <th>price</th>\n      <th>province</th>\n      <th>region_1</th>\n      <th>region_2</th>\n      <th>taster_name</th>\n      <th>taster_twitter_handle</th>\n      <th>title</th>\n      <th>variety</th>\n      <th>winery</th>\n      <th>czk</th>\n    </tr>\n  </thead>\n  <tbody>\n  </tbody>\n</table>\n</div>"
     },
     "metadata": {},
     "execution_count": 165
    }
   ],
   "source": [
    "wine.query('winery.str.contains(\"Côtes\") and country == \"France\"', engine='python')"
   ]
  },
  {
   "cell_type": "markdown",
   "metadata": {},
   "source": [
    "# kurzy-devizoveho-trhu"
   ]
  },
  {
   "cell_type": "code",
   "execution_count": null,
   "metadata": {},
   "outputs": [],
   "source": []
  },
  {
   "cell_type": "code",
   "execution_count": 43,
   "metadata": {},
   "outputs": [
    {
     "output_type": "execute_result",
     "data": {
      "text/plain": "'31.08.2020'"
     },
     "metadata": {},
     "execution_count": 43
    }
   ],
   "source": [
    "import datetime as dt\n",
    "TODAY = dt.datetime.now().strftime('%d.%m.%Y')\n",
    "TODAY"
   ]
  },
  {
   "cell_type": "code",
   "execution_count": 204,
   "metadata": {
    "tags": []
   },
   "outputs": [
    {
     "output_type": "stream",
     "name": "stdout",
     "text": "<class 'pandas.core.frame.DataFrame'>\nRangeIndex: 33 entries, 0 to 32\nData columns (total 5 columns):\n #   Column    Non-Null Count  Dtype  \n---  ------    --------------  -----  \n 0   země      33 non-null     object \n 1   měna      33 non-null     object \n 2   množství  33 non-null     int64  \n 3   kód       33 non-null     object \n 4   kurz      33 non-null     float64\ndtypes: float64(1), int64(1), object(3)\nmemory usage: 1.4+ KB\n"
    }
   ],
   "source": [
    "import datetime as dt\n",
    "TODAY = dt.datetime.now().strftime('%d.%m.%Y')\n",
    "cnb = pd.read_csv(f'https://www.cnb.cz/cs/financni-trhy/devizovy-trh/kurzy-devizoveho-trhu/kurzy-devizoveho-trhu/denni_kurz.txt?date={TODAY}', delimiter='|', skiprows=1)\n",
    "cnb['kurz'] = cnb.kurz.apply(lambda x: x.replace(',','.')).astype(np.float64)\n",
    "cnb.info()"
   ]
  },
  {
   "cell_type": "code",
   "execution_count": 86,
   "metadata": {},
   "outputs": [
    {
     "output_type": "execute_result",
     "data": {
      "text/plain": "array(['AUD', 'BRL', 'BGN', 'CNY', 'DKK', 'EUR', 'PHP', 'HKD', 'HRK',\n       'INR', 'IDR', 'ISK', 'ILS', 'JPY', 'ZAR', 'CAD', 'KRW', 'HUF',\n       'MYR', 'MXN', 'XDR', 'NOK', 'NZD', 'PLN', 'RON', 'RUB', 'SGD',\n       'SEK', 'CHF', 'THB', 'TRY', 'USD', 'GBP'], dtype=object)"
     },
     "metadata": {},
     "execution_count": 86
    }
   ],
   "source": [
    "cnb.kód.unique()"
   ]
  },
  {
   "cell_type": "code",
   "execution_count": 208,
   "metadata": {},
   "outputs": [
    {
     "output_type": "execute_result",
     "data": {
      "text/plain": "21.953"
     },
     "metadata": {},
     "execution_count": 208
    }
   ],
   "source": [
    "def toczk(value:float=1, kod_meny:str='EUR') -> float:\n",
    "    return cnb.query('kód == @kod_meny').kurz.values[0] * value\n",
    "\n",
    "toczk(1, 'USD')"
   ]
  },
  {
   "cell_type": "code",
   "execution_count": 207,
   "metadata": {},
   "outputs": [
    {
     "output_type": "execute_result",
     "data": {
      "text/plain": "26.21"
     },
     "metadata": {},
     "execution_count": 207
    }
   ],
   "source": [
    "toczk()"
   ]
  },
  {
   "cell_type": "code",
   "execution_count": 63,
   "metadata": {},
   "outputs": [],
   "source": [
    "cnb['kurz'] = cnb.kurz.apply(lambda x: x.replace(',','.')).astype(np.float64)"
   ]
  },
  {
   "cell_type": "code",
   "execution_count": 61,
   "metadata": {},
   "outputs": [
    {
     "output_type": "execute_result",
     "data": {
      "text/plain": "0     16.159\n1      3.996\n2     13.396\n3      3.205\n4      3.520\n       ...  \n28    24.355\n29    70.648\n30     3.006\n31    21.989\n32    29.288\nName: kurz, Length: 33, dtype: float64"
     },
     "metadata": {},
     "execution_count": 61
    }
   ],
   "source": [
    "pd.to_numeric(cnb.kurz)"
   ]
  },
  {
   "cell_type": "code",
   "execution_count": 62,
   "metadata": {},
   "outputs": [
    {
     "output_type": "execute_result",
     "data": {
      "text/plain": "0     16.159\n1      3.996\n2     13.396\n3      3.205\n4      3.520\n       ...  \n28    24.355\n29    70.648\n30     3.006\n31    21.989\n32    29.288\nName: kurz, Length: 33, dtype: float64"
     },
     "metadata": {},
     "execution_count": 62
    }
   ],
   "source": [
    "cnb.kurz.astype(np.float64)"
   ]
  },
  {
   "cell_type": "code",
   "execution_count": 54,
   "metadata": {},
   "outputs": [
    {
     "output_type": "execute_result",
     "data": {
      "text/plain": "31    21.989\nName: kurz, dtype: object"
     },
     "metadata": {},
     "execution_count": 54
    }
   ],
   "source": [
    "cnb.query('kód == \"USD\"').kurz.str.replace(',','.')"
   ]
  },
  {
   "cell_type": "markdown",
   "metadata": {},
   "source": [
    "# 22 Pythonic Tricks for Working with Strings\n",
    "\n",
    "0. Is a Substring in a String?\n",
    "Use the in-built comparator in which returns True or False"
   ]
  },
  {
   "cell_type": "code",
   "execution_count": 98,
   "metadata": {},
   "outputs": [],
   "source": [
    "def sub_00(haystack: str=\"\", needle:str=\"\") -> bool:\n",
    "    return needle in haystack\n",
    "\n",
    "assert sub_00(\"the quick brown fox jumped over the lazy dog\", \"lazy\") == True\n",
    "assert sub_00(\"the quick brown fox jumped over the lazy dog\", \"lazys\") == False"
   ]
  },
  {
   "cell_type": "code",
   "execution_count": 103,
   "metadata": {},
   "outputs": [
    {
     "output_type": "error",
     "ename": "AssertionError",
     "evalue": "",
     "traceback": [
      "\u001b[0;31m---------------------------------------------------------------------------\u001b[0m",
      "\u001b[0;31mAssertionError\u001b[0m                            Traceback (most recent call last)",
      "\u001b[0;32m<ipython-input-103-d1fb331a479e>\u001b[0m in \u001b[0;36m<module>\u001b[0;34m\u001b[0m\n\u001b[1;32m      4\u001b[0m \u001b[0;32massert\u001b[0m \u001b[0mstring_reverse\u001b[0m\u001b[0;34m(\u001b[0m\u001b[0;34m\"hello\"\u001b[0m\u001b[0;34m)\u001b[0m \u001b[0;34m==\u001b[0m \u001b[0;34m\"olleh\"\u001b[0m\u001b[0;34m\u001b[0m\u001b[0;34m\u001b[0m\u001b[0m\n\u001b[1;32m      5\u001b[0m \u001b[0;32massert\u001b[0m \u001b[0mstring_reverse\u001b[0m\u001b[0;34m(\u001b[0m\u001b[0;34m\"goodbye\"\u001b[0m\u001b[0;34m)\u001b[0m \u001b[0;34m!=\u001b[0m \u001b[0;34m\"goodbye\"\u001b[0m\u001b[0;34m\u001b[0m\u001b[0;34m\u001b[0m\u001b[0m\n\u001b[0;32m----> 6\u001b[0;31m \u001b[0;32massert\u001b[0m \u001b[0mstring_reverse\u001b[0m\u001b[0;34m(\u001b[0m\u001b[0;34m'kobylamamalybok'\u001b[0m\u001b[0;34m)\u001b[0m \u001b[0;34m!=\u001b[0m \u001b[0;34m'kobylamamalybok'\u001b[0m\u001b[0;34m\u001b[0m\u001b[0;34m\u001b[0m\u001b[0m\n\u001b[0m",
      "\u001b[0;31mAssertionError\u001b[0m: "
     ]
    }
   ],
   "source": [
    "def string_reverse(forward: str = \"\") -> str:\n",
    "    return forward[::-1]\n",
    "\n",
    "assert string_reverse(\"hello\") == \"olleh\"\n",
    "assert string_reverse(\"goodbye\") != \"goodbye\"\n",
    "assert string_reverse('kobylamamalybok') != 'kobylamamalybok'"
   ]
  },
  {
   "cell_type": "markdown",
   "metadata": {},
   "source": [
    "2. Compare Two Strings for Equality\n",
    "Compare equality using == to see if two objects have an equal value.\n",
    "Compare identity using is to see if two objects are one and the same.\n"
   ]
  },
  {
   "cell_type": "code",
   "execution_count": 104,
   "metadata": {},
   "outputs": [],
   "source": [
    "def are_equal(first_comparator: str = \"\", second_comparator: str = \"\") -> bool:\n",
    "    return first_comparator == second_comparator\n",
    "\n",
    "\n",
    "assert are_equal(\"thing one\", \"thing two\") is False\n",
    "assert are_equal(\"a thing\", \"a \" + \"thing\") is True"
   ]
  },
  {
   "cell_type": "code",
   "execution_count": 105,
   "metadata": {},
   "outputs": [],
   "source": [
    "def concatenate(*argv)->str:\n",
    "    return ''.join(argv)\n",
    "\n",
    "\n",
    "assert concatenate(\"a\", \"b\", \"c\") == \"abc\""
   ]
  },
  {
   "cell_type": "code",
   "execution_count": 106,
   "metadata": {},
   "outputs": [],
   "source": [
    "def is_null_or_blank(input_string: str = \"\") -> bool:\n",
    "\n",
    "    if input_string: \n",
    "        if input_string.strip():\n",
    "            return False\n",
    "    return True\n",
    "\n",
    "\n",
    "assert is_null_or_blank(None) == True\n",
    "assert is_null_or_blank(\"\") == True\n",
    "assert is_null_or_blank(\"  \") == True\n",
    "assert is_null_or_blank(\" d \") == False"
   ]
  },
  {
   "cell_type": "code",
   "execution_count": 136,
   "metadata": {
    "tags": []
   },
   "outputs": [
    {
     "output_type": "execute_result",
     "data": {
      "text/plain": "'py7BZMQCZvQdr0'"
     },
     "metadata": {},
     "execution_count": 136
    }
   ],
   "source": [
    "import string\n",
    "import secrets\n",
    "\n",
    "\n",
    "def generate_random_string(length: int = 0) -> str:\n",
    "    result = \"\".join(\n",
    "        secrets.choice(string.ascii_letters + string.digits)\n",
    "        for _ in range(length))\n",
    "    return result\n",
    "\n",
    "\n",
    "generate_random_string(14)"
   ]
  },
  {
   "cell_type": "code",
   "execution_count": 142,
   "metadata": {
    "tags": []
   },
   "outputs": [
    {
     "output_type": "stream",
     "name": "stdout",
     "text": "<class '_io.TextIOWrapper'>\n"
    },
    {
     "output_type": "execute_result",
     "data": {
      "text/plain": "['\"\"\"A collection of string constants.\\n',\n '\\n',\n 'Public module variables:\\n',\n '\\n',\n 'whitespace -- a string containing all ASCII whitespace\\n',\n 'ascii_lowercase -- a string containing all ASCII lowercase letters\\n',\n 'ascii_uppercase -- a string containing all ASCII uppercase letters\\n',\n 'ascii_letters -- a string containing all ASCII letters\\n',\n 'digits -- a string containing all ASCII decimal digits\\n',\n 'hexdigits -- a string containing all ASCII hexadecimal digits\\n']"
     },
     "metadata": {},
     "execution_count": 142
    }
   ],
   "source": [
    "def file_to_list(filename: str = \"\") -> list:\n",
    "\n",
    "    with open(filename, \"r\") as f:\n",
    "        print(type(f))\n",
    "        lines = list(f)\n",
    "\n",
    "    return lines\n",
    "\n",
    "\n",
    "#assert len(file_to_list(\"<PATH TO FILE>\")) == LINE_COUNT\n",
    "file_to_list('/Users/kcoufal/miniconda3/lib/python3.7/string.py')[:10]\n"
   ]
  },
  {
   "cell_type": "code",
   "execution_count": 146,
   "metadata": {},
   "outputs": [],
   "source": [
    "import subprocess\n",
    "import ast\n",
    "\n",
    "\n",
    "def exec_string(input_string: str = \"\") -> str:\n",
    "    result = subprocess.getoutput(input_string)\n",
    "    return result\n",
    "\n",
    "\n",
    "def eval_string(input_string: str = \"\") -> str:\n",
    "    result = ast.literal_eval(input_string)\n",
    "    return str(result)\n",
    "\n",
    "\n",
    "assert exec_string(\"ls -l\")\n",
    "assert eval_string(\"{ 'key':'value' }\") == \"{'key': 'value'}\""
   ]
  },
  {
   "cell_type": "code",
   "execution_count": 147,
   "metadata": {},
   "outputs": [
    {
     "output_type": "execute_result",
     "data": {
      "text/plain": "'/Users/kcoufal/Box/Projects/Python'"
     },
     "metadata": {},
     "execution_count": 147
    }
   ],
   "source": [
    "exec_string(\"pwd\")"
   ]
  },
  {
   "cell_type": "code",
   "execution_count": 153,
   "metadata": {},
   "outputs": [
    {
     "output_type": "execute_result",
     "data": {
      "text/plain": "'3.0Gi'"
     },
     "metadata": {},
     "execution_count": 153
    }
   ],
   "source": [
    "subprocess.getoutput(\"df -h /\").split()[13]"
   ]
  },
  {
   "cell_type": "markdown",
   "metadata": {},
   "source": [
    "## 11. Find the Substring Between Two Markers\n",
    "\n",
    "Use regular expressions and F-Strings."
   ]
  },
  {
   "cell_type": "code",
   "execution_count": 155,
   "metadata": {},
   "outputs": [],
   "source": [
    "import re\n",
    "\n",
    "def between(first: str = \"\", second: str = \"\", input_string=\"\") -> str:\n",
    "    \n",
    "    m = re.search(f\"{first}(.+?){second}\", input_string)\n",
    "    if m:\n",
    "        return m.group(1)\n",
    "\n",
    "    else:\n",
    "        return \"\"\n",
    "\n",
    "\n",
    "assert between(input_string=\"adCCCTHETEXTZZZdfhewihu\",\n",
    "               first=\"CCC\",\n",
    "               second=\"ZZZ\") == \"THETEXT\""
   ]
  },
  {
   "cell_type": "code",
   "execution_count": 175,
   "metadata": {},
   "outputs": [
    {
     "output_type": "execute_result",
     "data": {
      "text/plain": "('CCCTHETEXTZZZ', 'THETEXT')"
     },
     "metadata": {},
     "execution_count": 175
    }
   ],
   "source": [
    "first = \"CCC\"\n",
    "second = \"ZZZ\"\n",
    "input_string = \"adCCCTHETEXTZZZdfhewihu\"\n",
    "m = re.search(f\"{first}(.+?){second}\", input_string)\n",
    "m.group(0),m.group(1)"
   ]
  },
  {
   "cell_type": "code",
   "execution_count": 220,
   "metadata": {},
   "outputs": [
    {
     "output_type": "execute_result",
     "data": {
      "text/plain": "<re.Match object; span=(0, 17), match='kcoufal@gmail.com'>"
     },
     "metadata": {},
     "execution_count": 220
    }
   ],
   "source": [
    "import re\n",
    "\n",
    "EMAIL_REGEX = re.compile(r'^([\\w\\.=-]+@[\\w\\.-]+\\.[\\w]{2,3})$')\n",
    "email = 'kcoufal@gmail.com'\n",
    "\n",
    "EMAIL_REGEX.match('kcoufal@gmail.com')"
   ]
  },
  {
   "cell_type": "code",
   "execution_count": 219,
   "metadata": {},
   "outputs": [
    {
     "output_type": "execute_result",
     "data": {
      "text/plain": "<re.Match object; span=(0, 17), match='kcoufal@gmail.com'>"
     },
     "metadata": {},
     "execution_count": 219
    }
   ],
   "source": [
    "re.match(r\"^[A-Za-z0-9\\.\\+_-]+@[A-Za-z0-9\\._-]+\\.[a-zA-Z]*$\", email)"
   ]
  },
  {
   "cell_type": "markdown",
   "metadata": {},
   "source": [
    "## 12. Remove all Punctuation from a String\n",
    "The strings module contains a list of punctuation characters.\n",
    "Use translate (see #21) to remove them from the string.\n"
   ]
  },
  {
   "cell_type": "code",
   "execution_count": null,
   "metadata": {},
   "outputs": [],
   "source": [
    "import string\n",
    "\n",
    "\n",
    "def remove_punctuation(input_string: str = \"\") -> str:\n",
    "    return input_string.translate(str.maketrans(\"\", \"\", string.punctuation))\n",
    "\n",
    "\n",
    "assert remove_punctuation(\"Hello!\") == \"Hello\"\n",
    "assert remove_punctuation(\"He. Saw! Me?\") == \"He Saw Me\"\n",
    "view raw"
   ]
  },
  {
   "cell_type": "markdown",
   "metadata": {},
   "source": [
    "## 13. Encode and Decode UTF-8 URLs\n",
    "\n",
    "UTF-8 allows us to use extended, double-word characters — such as emojis. These need to be encoded before they can be used in a URL.\n"
   ]
  },
  {
   "cell_type": "code",
   "execution_count": 195,
   "metadata": {},
   "outputs": [],
   "source": [
    "import urllib.parse\n",
    "\n",
    "\n",
    "def encode_url(url: str = \"\") -> str:\n",
    "    return urllib.parse.quote(url)\n",
    "\n",
    "\n",
    "def decode_url(url: str = \"\") -> str:\n",
    "    return urllib.parse.unquote(url)\n",
    "\n",
    "\n",
    "assert (encode_url(\"example.com?title=¨ˆπœ˚∑π\") ==\n",
    "        \"example.com%3Ftitle%3D%C2%A8%CB%86%CF%80%C5%93%CB%9A%E2%88%91%CF%80\")\n",
    "assert decode_url(\"example.com?title=%a0%f7%b1\") == \"example.com?title=���\"\n"
   ]
  },
  {
   "cell_type": "markdown",
   "metadata": {},
   "source": [
    "## 14. Use Base64 Encoding on Strings\n",
    "Base64 is a method to encode binary data as a string for transmitting in text messages. You can also use it to encode UTF-8 strings."
   ]
  },
  {
   "cell_type": "code",
   "execution_count": 196,
   "metadata": {},
   "outputs": [],
   "source": [
    "import base64\n",
    "\n",
    "\n",
    "def encode_b64(input_string: str = \"\") -> object:\n",
    "    return base64.b64encode(input_string.encode(\"utf-8\"))\n",
    "\n",
    "\n",
    "def decode_b64(input_string: str = \"\") -> object:\n",
    "    return base64.b64decode(input_string).decode(\"utf-8\")\n",
    "\n",
    "\n",
    "assert encode_b64(\"Hello\") == b\"SGVsbG8=\"\n",
    "assert decode_b64(b\"SGVsbG8=\") == \"Hello\""
   ]
  },
  {
   "cell_type": "markdown",
   "metadata": {},
   "source": [
    "## 15. Calculate the Similarity of Two Strings\n",
    "Aside from using the Levenshtein distance in nltk.edit_distance, you could try the difflib library.\n",
    "A value of 1.0 would indicate equality."
   ]
  },
  {
   "cell_type": "code",
   "execution_count": 197,
   "metadata": {},
   "outputs": [],
   "source": [
    "import difflib\n",
    "\n",
    "\n",
    "def similarity(left: str = \"\", right: str = \"\") -> float:\n",
    "\n",
    "    seq = difflib.SequenceMatcher(None, left, right)\n",
    "    return seq.ratio()\n",
    "\n",
    "\n",
    "assert similarity(\"I like bananas\", \"I like bananarama\") >= 0.80\n",
    "assert similarity(\"I like bananas\", \"The quick brown fox\") <= 0.25"
   ]
  },
  {
   "cell_type": "markdown",
   "metadata": {},
   "source": [
    "## 16. Remove a Character at a Specific Index\n",
    "Again, strings are a sequence of characters, so you can use slicing operations."
   ]
  },
  {
   "cell_type": "code",
   "execution_count": 198,
   "metadata": {},
   "outputs": [],
   "source": [
    "\n",
    "def remove_by_index(original: str = \"\", index: int = -1) -> tuple:\n",
    "    if len(original) >= index and index >= 0:\n",
    "        return (original[:index] + original[index + 1:], original[index])\n",
    "    else:\n",
    "        return (original, \"\")\n",
    "\n",
    "\n",
    "assert remove_by_index(\"0123456789\", 5) == (\"012346789\", \"5\")"
   ]
  },
  {
   "cell_type": "markdown",
   "metadata": {},
   "source": []
  },
  {
   "cell_type": "markdown",
   "metadata": {},
   "source": [
    "## 17. Convert Between CSV and List\n",
    "Comma-separated values are everywhere because Excel is the best, general-purpose solution to any data problem! ;)\n",
    "Let’s take a single of CSV line and convert it into a list of values.\n"
   ]
  },
  {
   "cell_type": "code",
   "execution_count": 199,
   "metadata": {},
   "outputs": [],
   "source": [
    "def from_csv_line(line: str = \"\") -> list:\n",
    "\n",
    "    return line.split(\",\")\n",
    "\n",
    "\n",
    "assert from_csv_line(\"a,b,c\") == [\"a\", \"b\", \"c\"]"
   ]
  },
  {
   "cell_type": "code",
   "execution_count": 200,
   "metadata": {},
   "outputs": [],
   "source": [
    "# Now let’s do the reverse: take a list and return a CSV line.\n",
    "def from_list(line: list = []) -> str:\n",
    "\n",
    "    ret = \", \".join(e for e in line)\n",
    "    return ret\n",
    "\n",
    "\n",
    "assert from_list([\"a\", \"b\", \"c\"]) == \"a, b, c\"\n",
    "assert from_list([\"one\", \"two\", \"three\"]) == \"one, two, three\""
   ]
  },
  {
   "cell_type": "markdown",
   "metadata": {},
   "source": [
    "## 18. Weave Two Strings\n",
    "Use zip_longest from the itertools module to zip two strings of unequal length.\n",
    "This solution joins the output a list comprehension which concatenates i + j.\n"
   ]
  },
  {
   "cell_type": "code",
   "execution_count": 201,
   "metadata": {},
   "outputs": [],
   "source": [
    "import itertools\n",
    "\n",
    "\n",
    "def interleave(left: str = \"\", right: str = \"\") -> str:\n",
    "\n",
    "    return \"\".join(\n",
    "        [i + j for i, j in itertools.zip_longest(left, right, fillvalue=\"\")])\n",
    "\n",
    "\n",
    "assert interleave(\"ABCD\", \"01\") == \"A0B1CD\""
   ]
  },
  {
   "cell_type": "markdown",
   "metadata": {},
   "source": [
    "## 19. Remove Unwanted Characters from a String\n",
    "Use the replace function. Remember: you can’t change the value of a string in-place — strings are immutable.\n",
    "Also, see #21.\n"
   ]
  },
  {
   "cell_type": "code",
   "execution_count": null,
   "metadata": {},
   "outputs": [],
   "source": [
    "def remove_unwanted(original: str = \"\",\n",
    "                    unwanted: str = \"\",\n",
    "                    replacement: str = \"\") -> str:\n",
    "                    \n",
    "    return original.replace(unwanted, replacement)\n",
    "\n",
    "\n",
    "assert remove_unwanted(original=\"M'The Real String'\",\n",
    "                       unwanted=\"M\") == \"'The Real String'\""
   ]
  },
  {
   "cell_type": "markdown",
   "metadata": {},
   "source": [
    "## 20. Find the Index Locations of a Character in a String\n",
    "This solution uses a list comprehension with a filter using if.\n"
   ]
  },
  {
   "cell_type": "code",
   "execution_count": 202,
   "metadata": {},
   "outputs": [],
   "source": [
    "def find_char_locations(original: str = \"\", character: str = \"\") -> list:\n",
    "\n",
    "    return [index for index, char in enumerate(original) if char == character]\n",
    "\n",
    "\n",
    "assert find_char_locations(\"The jolly green giant.\", \"e\") == [2, 12, 13]"
   ]
  },
  {
   "cell_type": "markdown",
   "metadata": {},
   "source": [
    "## 21. Translate a String to Leetspeak\n",
    "Use the functions maketrans and translate.\n"
   ]
  },
  {
   "cell_type": "code",
   "execution_count": 203,
   "metadata": {},
   "outputs": [],
   "source": [
    "def to_leetspeak(normal_speak:str=\"\") -> str:\n",
    "\n",
    "    leet_mapping = str.maketrans(\"iseoau\", \"1530^Ü\")\n",
    "    return normal_speak.translate(leet_mapping).title().swapcase()\n",
    "\n",
    "assert to_leetspeak(\"the quick brown fox jumped over the lazy dogs\") == \\\n",
    "    \"tH3 qÜ1cK bR0wN f0x jÜMP3d 0v3r tH3 l^zY d0g5\""
   ]
  },
  {
   "cell_type": "code",
   "execution_count": null,
   "metadata": {},
   "outputs": [],
   "source": []
  },
  {
   "cell_type": "code",
   "execution_count": 176,
   "metadata": {},
   "outputs": [
    {
     "output_type": "execute_result",
     "data": {
      "text/plain": "True"
     },
     "metadata": {},
     "execution_count": 176
    }
   ],
   "source": [
    "True == 1"
   ]
  },
  {
   "cell_type": "code",
   "execution_count": 177,
   "metadata": {},
   "outputs": [
    {
     "output_type": "execute_result",
     "data": {
      "text/plain": "True"
     },
     "metadata": {},
     "execution_count": 177
    }
   ],
   "source": [
    "False == 0"
   ]
  },
  {
   "cell_type": "code",
   "execution_count": 178,
   "metadata": {},
   "outputs": [
    {
     "output_type": "error",
     "ename": "SyntaxError",
     "evalue": "can't assign to keyword (<ipython-input-178-1598b51f0f76>, line 1)",
     "traceback": [
      "\u001b[0;36m  File \u001b[0;32m\"<ipython-input-178-1598b51f0f76>\"\u001b[0;36m, line \u001b[0;32m1\u001b[0m\n\u001b[0;31m    True = 1\u001b[0m\n\u001b[0m            ^\u001b[0m\n\u001b[0;31mSyntaxError\u001b[0m\u001b[0;31m:\u001b[0m can't assign to keyword\n"
     ]
    }
   ],
   "source": [
    "True = 1"
   ]
  },
  {
   "cell_type": "code",
   "execution_count": 185,
   "metadata": {},
   "outputs": [
    {
     "output_type": "execute_result",
     "data": {
      "text/plain": "False"
     },
     "metadata": {},
     "execution_count": 185
    }
   ],
   "source": [
    "bool('')"
   ]
  },
  {
   "cell_type": "code",
   "execution_count": 186,
   "metadata": {},
   "outputs": [
    {
     "output_type": "execute_result",
     "data": {
      "text/plain": "False"
     },
     "metadata": {},
     "execution_count": 186
    }
   ],
   "source": [
    "None == 0"
   ]
  },
  {
   "cell_type": "code",
   "execution_count": 187,
   "metadata": {},
   "outputs": [
    {
     "output_type": "execute_result",
     "data": {
      "text/plain": "(4465555560, 4465555560)"
     },
     "metadata": {},
     "execution_count": 187
    }
   ],
   "source": [
    "x = None\n",
    "y = None\n",
    "id(x),id(y)"
   ]
  },
  {
   "cell_type": "code",
   "execution_count": 188,
   "metadata": {},
   "outputs": [
    {
     "output_type": "execute_result",
     "data": {
      "text/plain": "4465555560"
     },
     "metadata": {},
     "execution_count": 188
    }
   ],
   "source": [
    "id(None)"
   ]
  },
  {
   "cell_type": "code",
   "execution_count": 189,
   "metadata": {},
   "outputs": [
    {
     "output_type": "execute_result",
     "data": {
      "text/plain": "True"
     },
     "metadata": {},
     "execution_count": 189
    }
   ],
   "source": [
    "x is y"
   ]
  },
  {
   "cell_type": "code",
   "execution_count": 190,
   "metadata": {},
   "outputs": [
    {
     "output_type": "execute_result",
     "data": {
      "text/plain": "True"
     },
     "metadata": {},
     "execution_count": 190
    }
   ],
   "source": [
    "y is None"
   ]
  },
  {
   "cell_type": "code",
   "execution_count": 193,
   "metadata": {},
   "outputs": [
    {
     "output_type": "execute_result",
     "data": {
      "text/plain": "Decimal('1')"
     },
     "metadata": {},
     "execution_count": 193
    }
   ],
   "source": [
    "import decimal\n",
    "\n",
    "decimal.Decimal(1)"
   ]
  },
  {
   "cell_type": "code",
   "execution_count": 192,
   "metadata": {},
   "outputs": [
    {
     "output_type": "stream",
     "text": "\u001b[0;31mInit signature:\u001b[0m \u001b[0mdecimal\u001b[0m\u001b[0;34m.\u001b[0m\u001b[0mDecimal\u001b[0m\u001b[0;34m(\u001b[0m\u001b[0mvalue\u001b[0m\u001b[0;34m=\u001b[0m\u001b[0;34m'0'\u001b[0m\u001b[0;34m,\u001b[0m \u001b[0mcontext\u001b[0m\u001b[0;34m=\u001b[0m\u001b[0;32mNone\u001b[0m\u001b[0;34m)\u001b[0m\u001b[0;34m\u001b[0m\u001b[0;34m\u001b[0m\u001b[0m\n\u001b[0;31mDocstring:\u001b[0m     \nConstruct a new Decimal object. 'value' can be an integer, string, tuple,\nor another Decimal object. If no value is given, return Decimal('0'). The\ncontext does not affect the conversion and is only passed to determine if\nthe InvalidOperation trap is active.\n\u001b[0;31mFile:\u001b[0m           ~/miniconda3/lib/python3.7/decimal.py\n\u001b[0;31mType:\u001b[0m           type\n\u001b[0;31mSubclasses:\u001b[0m     \n"
    }
   ],
   "source": [
    "?decimal.Decimal"
   ]
  },
  {
   "cell_type": "code",
   "execution_count": null,
   "metadata": {},
   "outputs": [],
   "source": []
  },
  {
   "cell_type": "code",
   "execution_count": 4,
   "metadata": {
    "tags": []
   },
   "outputs": [
    {
     "output_type": "stream",
     "name": "stdout",
     "text": "do some stuff\nan error occurred\nalways execute finally\n"
    }
   ],
   "source": [
    "def try_finally1():\n",
    "    try:\n",
    "        print('do some stuff')\n",
    "        float('abc')\n",
    "    except ValueError:\n",
    "        print('an error occurred')\n",
    "    else:\n",
    "        print('no error occurred')\n",
    "    finally:\n",
    "        print('always execute finally')\n",
    "\n",
    "try_finally1()"
   ]
  },
  {
   "cell_type": "code",
   "execution_count": null,
   "metadata": {},
   "outputs": [],
   "source": []
  }
 ]
}