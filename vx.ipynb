{
 "cells": [
  {
   "cell_type": "markdown",
   "metadata": {},
   "source": [
    "# Vaex \n",
    "high performance Python library for lazy Out-of-Core DataFrames (similar to Pandas), to visualize and explore big tabular datasets. It calculates statistics such as mean, sum, count, standard deviation etc, on an N-dimensional grid for more than a billion (10^9) samples/rows per second. Visualization is done using histograms, density plots and 3d volume rendering, allowing interactive exploration of big data. Vaex uses memory mapping, zero memory copy policy and lazy computations for best performance (no memory wasted).\n",
    "\n",
    "\n",
    "[doc](https://vaex.readthedocs.io/en/latest/)"
   ]
  },
  {
   "cell_type": "code",
   "execution_count": null,
   "metadata": {},
   "outputs": [],
   "source": []
  },
  {
   "cell_type": "code",
   "execution_count": 1,
   "metadata": {},
   "outputs": [
    {
     "name": "stdout",
     "output_type": "stream",
     "text": [
      "Downloading https://github.com/vaexio/vaex-datasets/releases/download/v1.0/helmi-dezeeuw-2000-FeH-v2-10percent.hdf5 to /root/.vaex/data/helmi-dezeeuw-2000-FeH-v2-10percent.hdf5\n"
     ]
    },
    {
     "data": {
      "text/html": [
       "<table>\n",
       "<thead>\n",
       "<tr><th>#                                  </th><th>id  </th><th>x                   </th><th>y                   </th><th>z                   </th><th>vx                 </th><th>vy                 </th><th>vz                 </th><th>E             </th><th>L                 </th><th>Lz                 </th><th>FeH                </th></tr>\n",
       "</thead>\n",
       "<tbody>\n",
       "<tr><td><i style='opacity: 0.6'>0</i>      </td><td>0   </td><td>1.2318683862686157  </td><td>-0.39692866802215576</td><td>-0.598057746887207  </td><td>301.1552734375     </td><td>174.05947875976562 </td><td>27.42754554748535  </td><td>-149431.40625 </td><td>407.38897705078125</td><td>333.9555358886719  </td><td>-1.0053852796554565</td></tr>\n",
       "<tr><td><i style='opacity: 0.6'>1</i>      </td><td>23  </td><td>-0.16370061039924622</td><td>3.654221296310425   </td><td>-0.25490644574165344</td><td>-195.00022888183594</td><td>170.47216796875    </td><td>142.5302276611328  </td><td>-124247.953125</td><td>890.2411499023438 </td><td>684.6676025390625  </td><td>-1.7086670398712158</td></tr>\n",
       "<tr><td><i style='opacity: 0.6'>2</i>      </td><td>32  </td><td>-2.120255947113037  </td><td>3.326052665710449   </td><td>1.7078403234481812  </td><td>-48.63423156738281 </td><td>171.6472930908203  </td><td>-2.079437255859375 </td><td>-138500.546875</td><td>372.2410888671875 </td><td>-202.17617797851562</td><td>-1.8336141109466553</td></tr>\n",
       "<tr><td><i style='opacity: 0.6'>3</i>      </td><td>8   </td><td>4.7155890464782715  </td><td>4.5852508544921875  </td><td>2.2515437602996826  </td><td>-232.42083740234375</td><td>-294.850830078125  </td><td>62.85865020751953  </td><td>-60037.0390625</td><td>1297.63037109375  </td><td>-324.6875          </td><td>-1.4786882400512695</td></tr>\n",
       "<tr><td><i style='opacity: 0.6'>4</i>      </td><td>16  </td><td>7.21718692779541    </td><td>11.99471664428711   </td><td>-1.064562201499939  </td><td>-1.6891745328903198</td><td>181.329345703125   </td><td>-11.333610534667969</td><td>-83206.84375  </td><td>1332.7989501953125</td><td>1328.948974609375  </td><td>-1.8570483922958374</td></tr>\n",
       "<tr><td>...                                </td><td>... </td><td>...                 </td><td>...                 </td><td>...                 </td><td>...                </td><td>...                </td><td>...                </td><td>...           </td><td>...               </td><td>...                </td><td>...                </td></tr>\n",
       "<tr><td><i style='opacity: 0.6'>329,995</i></td><td>21  </td><td>1.9938701391220093  </td><td>0.789276123046875   </td><td>0.22205990552902222 </td><td>-216.92990112304688</td><td>16.124420166015625 </td><td>-211.244384765625  </td><td>-146457.4375  </td><td>457.72247314453125</td><td>203.36758422851562 </td><td>-1.7451677322387695</td></tr>\n",
       "<tr><td><i style='opacity: 0.6'>329,996</i></td><td>25  </td><td>3.7180912494659424  </td><td>0.721337616443634   </td><td>1.6415337324142456  </td><td>-185.92160034179688</td><td>-117.25082397460938</td><td>-105.4986572265625 </td><td>-126627.109375</td><td>335.0025634765625 </td><td>-301.8370056152344 </td><td>-0.9822322130203247</td></tr>\n",
       "<tr><td><i style='opacity: 0.6'>329,997</i></td><td>14  </td><td>0.3688507676124573  </td><td>13.029608726501465  </td><td>-3.633934736251831  </td><td>-53.677146911621094</td><td>-145.15771484375   </td><td>76.70909881591797  </td><td>-84912.2578125</td><td>817.1375732421875 </td><td>645.8507080078125  </td><td>-1.7645612955093384</td></tr>\n",
       "<tr><td><i style='opacity: 0.6'>329,998</i></td><td>18  </td><td>-0.11259264498949051</td><td>1.4529125690460205  </td><td>2.168952703475952   </td><td>179.30865478515625 </td><td>205.79710388183594 </td><td>-68.75872802734375 </td><td>-133498.46875 </td><td>724.000244140625  </td><td>-283.6910400390625 </td><td>-1.8808952569961548</td></tr>\n",
       "<tr><td><i style='opacity: 0.6'>329,999</i></td><td>4   </td><td>20.796220779418945  </td><td>-3.331387758255005  </td><td>12.18841552734375   </td><td>42.69000244140625  </td><td>69.20479583740234  </td><td>29.54275131225586  </td><td>-65519.328125 </td><td>1843.07470703125  </td><td>1581.4151611328125 </td><td>-1.1231083869934082</td></tr>\n",
       "</tbody>\n",
       "</table>"
      ],
      "text/plain": [
       "#        id    x                     y                     z                     vx                   vy                   vz                   E               L                   Lz                   FeH\n",
       "0        0     1.2318683862686157    -0.39692866802215576  -0.598057746887207    301.1552734375       174.05947875976562   27.42754554748535    -149431.40625   407.38897705078125  333.9555358886719    -1.0053852796554565\n",
       "1        23    -0.16370061039924622  3.654221296310425     -0.25490644574165344  -195.00022888183594  170.47216796875      142.5302276611328    -124247.953125  890.2411499023438   684.6676025390625    -1.7086670398712158\n",
       "2        32    -2.120255947113037    3.326052665710449     1.7078403234481812    -48.63423156738281   171.6472930908203    -2.079437255859375   -138500.546875  372.2410888671875   -202.17617797851562  -1.8336141109466553\n",
       "3        8     4.7155890464782715    4.5852508544921875    2.2515437602996826    -232.42083740234375  -294.850830078125    62.85865020751953    -60037.0390625  1297.63037109375    -324.6875            -1.4786882400512695\n",
       "4        16    7.21718692779541      11.99471664428711     -1.064562201499939    -1.6891745328903198  181.329345703125     -11.333610534667969  -83206.84375    1332.7989501953125  1328.948974609375    -1.8570483922958374\n",
       "...      ...   ...                   ...                   ...                   ...                  ...                  ...                  ...             ...                 ...                  ...\n",
       "329,995  21    1.9938701391220093    0.789276123046875     0.22205990552902222   -216.92990112304688  16.124420166015625   -211.244384765625    -146457.4375    457.72247314453125  203.36758422851562   -1.7451677322387695\n",
       "329,996  25    3.7180912494659424    0.721337616443634     1.6415337324142456    -185.92160034179688  -117.25082397460938  -105.4986572265625   -126627.109375  335.0025634765625   -301.8370056152344   -0.9822322130203247\n",
       "329,997  14    0.3688507676124573    13.029608726501465    -3.633934736251831    -53.677146911621094  -145.15771484375     76.70909881591797    -84912.2578125  817.1375732421875   645.8507080078125    -1.7645612955093384\n",
       "329,998  18    -0.11259264498949051  1.4529125690460205    2.168952703475952     179.30865478515625   205.79710388183594   -68.75872802734375   -133498.46875   724.000244140625    -283.6910400390625   -1.8808952569961548\n",
       "329,999  4     20.796220779418945    -3.331387758255005    12.18841552734375     42.69000244140625    69.20479583740234    29.54275131225586    -65519.328125   1843.07470703125    1581.4151611328125   -1.1231083869934082"
      ]
     },
     "execution_count": 1,
     "metadata": {},
     "output_type": "execute_result"
    }
   ],
   "source": [
    "import vaex\n",
    "df = vaex.example()  # open the example dataset provided with vaex\n",
    "df"
   ]
  },
  {
   "cell_type": "code",
   "execution_count": 3,
   "metadata": {},
   "outputs": [
    {
     "data": {
      "text/plain": [
       "Expression = x\n",
       "Length: 330,000 dtype: float32 (column)\n",
       "---------------------------------------\n",
       "     0    1.23187\n",
       "     1  -0.163701\n",
       "     2   -2.12026\n",
       "     3    4.71559\n",
       "     4    7.21719\n",
       "       ...       \n",
       "329995    1.99387\n",
       "329996    3.71809\n",
       "329997   0.368851\n",
       "329998  -0.112593\n",
       "329999    20.7962"
      ]
     },
     "execution_count": 3,
     "metadata": {},
     "output_type": "execute_result"
    }
   ],
   "source": [
    "df.x"
   ]
  },
  {
   "cell_type": "code",
   "execution_count": 2,
   "metadata": {},
   "outputs": [
    {
     "data": {
      "text/html": [
       "<table>\n",
       "<thead>\n",
       "<tr><th>#                                  </th><th>id  </th><th>x                   </th><th>y                  </th><th>z                   </th><th>vx                 </th><th>vy                 </th><th>vz                 </th><th>E              </th><th>L                 </th><th>Lz                 </th><th>FeH                </th></tr>\n",
       "</thead>\n",
       "<tbody>\n",
       "<tr><td><i style='opacity: 0.6'>0</i>      </td><td>23  </td><td>-0.16370061039924622</td><td>3.654221296310425  </td><td>-0.25490644574165344</td><td>-195.00022888183594</td><td>170.47216796875    </td><td>142.5302276611328  </td><td>-124247.953125 </td><td>890.2411499023438 </td><td>684.6676025390625  </td><td>-1.7086670398712158</td></tr>\n",
       "<tr><td><i style='opacity: 0.6'>1</i>      </td><td>32  </td><td>-2.120255947113037  </td><td>3.326052665710449  </td><td>1.7078403234481812  </td><td>-48.63423156738281 </td><td>171.6472930908203  </td><td>-2.079437255859375 </td><td>-138500.546875 </td><td>372.2410888671875 </td><td>-202.17617797851562</td><td>-1.8336141109466553</td></tr>\n",
       "<tr><td><i style='opacity: 0.6'>2</i>      </td><td>16  </td><td>-7.784374713897705  </td><td>5.989774703979492  </td><td>-0.682695209980011  </td><td>86.70089721679688  </td><td>-238.778076171875  </td><td>-2.313086986541748 </td><td>-86497.625     </td><td>1353.2498779296875</td><td>1339.419189453125  </td><td>-1.9194366931915283</td></tr>\n",
       "<tr><td><i style='opacity: 0.6'>3</i>      </td><td>26  </td><td>-3.5571861267089844 </td><td>5.413629055023193  </td><td>0.09171556681394577 </td><td>-67.05108642578125 </td><td>-145.93313598632812</td><td>39.63738250732422  </td><td>-127682.0546875</td><td>921.0075073242188 </td><td>882.1010131835938  </td><td>-1.7942347526550293</td></tr>\n",
       "<tr><td><i style='opacity: 0.6'>4</i>      </td><td>8   </td><td>-20.813940048217773 </td><td>-3.294677495956421 </td><td>13.486607551574707  </td><td>99.40666198730469  </td><td>28.674863815307617 </td><td>-115.07874298095703</td><td>-55825.34375   </td><td>1088.4571533203125</td><td>-269.3240051269531 </td><td>-1.2889224290847778</td></tr>\n",
       "<tr><td>...                                </td><td>... </td><td>...                 </td><td>...                </td><td>...                 </td><td>...                </td><td>...                </td><td>...                </td><td>...            </td><td>...               </td><td>...                </td><td>...                </td></tr>\n",
       "<tr><td><i style='opacity: 0.6'>166,274</i></td><td>6   </td><td>-2.5926425457000732 </td><td>-2.871671676635742 </td><td>-0.18048334121704102</td><td>-210.15420532226562</td><td>-145.69503784179688</td><td>112.98513793945312 </td><td>-126668.0625   </td><td>532.4112548828125 </td><td>-225.75872802734375</td><td>-1.278638482093811 </td></tr>\n",
       "<tr><td><i style='opacity: 0.6'>166,275</i></td><td>3   </td><td>-0.7566012144088745 </td><td>2.9830434322357178 </td><td>-6.940553188323975  </td><td>-12.854562759399414</td><td>-7.863027572631836 </td><td>-112.93009185791016</td><td>-115167.296875 </td><td>393.9653625488281 </td><td>44.29489517211914  </td><td>-2.115825653076172 </td></tr>\n",
       "<tr><td><i style='opacity: 0.6'>166,276</i></td><td>32  </td><td>-8.126635551452637  </td><td>1.1619765758514404 </td><td>-1.6459038257598877 </td><td>-49.159751892089844</td><td>53.909934997558594 </td><td>-34.02802276611328 </td><td>-121983.2890625</td><td>431.0871276855469 </td><td>-380.9839172363281 </td><td>-1.6229989528656006</td></tr>\n",
       "<tr><td><i style='opacity: 0.6'>166,277</i></td><td>12  </td><td>-3.9477386474609375 </td><td>-3.0684902667999268</td><td>-1.5822702646255493 </td><td>-84.61959838867188 </td><td>-266.2485656738281 </td><td>41.62181854248047  </td><td>-106615.78125  </td><td>1008.302001953125 </td><td>791.4253540039062  </td><td>-2.093689203262329 </td></tr>\n",
       "<tr><td><i style='opacity: 0.6'>166,278</i></td><td>18  </td><td>-0.11259264498949051</td><td>1.4529125690460205 </td><td>2.168952703475952   </td><td>179.30865478515625 </td><td>205.79710388183594 </td><td>-68.75872802734375 </td><td>-133498.46875  </td><td>724.000244140625  </td><td>-283.6910400390625 </td><td>-1.8808952569961548</td></tr>\n",
       "</tbody>\n",
       "</table>"
      ],
      "text/plain": [
       "#        id    x                     y                    z                     vx                   vy                   vz                   E                L                   Lz                   FeH\n",
       "0        23    -0.16370061039924622  3.654221296310425    -0.25490644574165344  -195.00022888183594  170.47216796875      142.5302276611328    -124247.953125   890.2411499023438   684.6676025390625    -1.7086670398712158\n",
       "1        32    -2.120255947113037    3.326052665710449    1.7078403234481812    -48.63423156738281   171.6472930908203    -2.079437255859375   -138500.546875   372.2410888671875   -202.17617797851562  -1.8336141109466553\n",
       "2        16    -7.784374713897705    5.989774703979492    -0.682695209980011    86.70089721679688    -238.778076171875    -2.313086986541748   -86497.625       1353.2498779296875  1339.419189453125    -1.9194366931915283\n",
       "3        26    -3.5571861267089844   5.413629055023193    0.09171556681394577   -67.05108642578125   -145.93313598632812  39.63738250732422    -127682.0546875  921.0075073242188   882.1010131835938    -1.7942347526550293\n",
       "4        8     -20.813940048217773   -3.294677495956421   13.486607551574707    99.40666198730469    28.674863815307617   -115.07874298095703  -55825.34375     1088.4571533203125  -269.3240051269531   -1.2889224290847778\n",
       "...      ...   ...                   ...                  ...                   ...                  ...                  ...                  ...              ...                 ...                  ...\n",
       "166,274  6     -2.5926425457000732   -2.871671676635742   -0.18048334121704102  -210.15420532226562  -145.69503784179688  112.98513793945312   -126668.0625     532.4112548828125   -225.75872802734375  -1.278638482093811\n",
       "166,275  3     -0.7566012144088745   2.9830434322357178   -6.940553188323975    -12.854562759399414  -7.863027572631836   -112.93009185791016  -115167.296875   393.9653625488281   44.29489517211914    -2.115825653076172\n",
       "166,276  32    -8.126635551452637    1.1619765758514404   -1.6459038257598877   -49.159751892089844  53.909934997558594   -34.02802276611328   -121983.2890625  431.0871276855469   -380.9839172363281   -1.6229989528656006\n",
       "166,277  12    -3.9477386474609375   -3.0684902667999268  -1.5822702646255493   -84.61959838867188   -266.2485656738281   41.62181854248047    -106615.78125    1008.302001953125   791.4253540039062    -2.093689203262329\n",
       "166,278  18    -0.11259264498949051  1.4529125690460205   2.168952703475952     179.30865478515625   205.79710388183594   -68.75872802734375   -133498.46875    724.000244140625    -283.6910400390625   -1.8808952569961548"
      ]
     },
     "execution_count": 2,
     "metadata": {},
     "output_type": "execute_result"
    }
   ],
   "source": [
    "df[df.x < 0] "
   ]
  },
  {
   "cell_type": "code",
   "execution_count": 7,
   "metadata": {},
   "outputs": [
    {
     "data": {
      "text/plain": [
       "numpy.ndarray"
      ]
     },
     "execution_count": 7,
     "metadata": {},
     "output_type": "execute_result"
    }
   ],
   "source": [
    "counts_x = df.count(binby=df.x, limits=[-10, 10], shape=64)\n",
    "type(counts_x)"
   ]
  },
  {
   "cell_type": "code",
   "execution_count": 6,
   "metadata": {},
   "outputs": [
    {
     "data": {
      "image/png": "[encoded data removed]",
      "text/plain": [
       "<Figure size 432x288 with 1 Axes>"
      ]
     },
     "metadata": {
      "needs_background": "light"
     },
     "output_type": "display_data"
    }
   ],
   "source": [
    "import numpy as np\n",
    "import matplotlib.pylab as plt\n",
    "plt.plot(np.linspace(-10, 10, 64), counts_x)\n",
    "plt.show()"
   ]
  },
  {
   "cell_type": "code",
   "execution_count": 8,
   "metadata": {},
   "outputs": [],
   "source": [
    "import ipywidgets as widgets"
   ]
  },
  {
   "cell_type": "code",
   "execution_count": 9,
   "metadata": {},
   "outputs": [
    {
     "data": {
      "application/vnd.jupyter.widget-view+json": {
       "model_id": "a7f9ee8339ea40229aed466972ad8d5a",
       "version_major": 2,
       "version_minor": 0
      },
      "text/plain": [
       "IntSlider(value=0)"
      ]
     },
     "metadata": {},
     "output_type": "display_data"
    }
   ],
   "source": [
    "widgets.IntSlider()"
   ]
  },
  {
   "cell_type": "code",
   "execution_count": null,
   "metadata": {},
   "outputs": [],
   "source": []
  }
 ],
 "metadata": {
  "kernelspec": {
   "display_name": "Python 3",
   "language": "python",
   "name": "python3"
  },
  "language_info": {
   "codemirror_mode": {
    "name": "ipython",
    "version": 3
   },
   "file_extension": ".py",
   "mimetype": "text/x-python",
   "name": "python",
   "nbconvert_exporter": "python",
   "pygments_lexer": "ipython3",
   "version": "3.8.1"
  }
 },
 "nbformat": 4,
 "nbformat_minor": 4
}
