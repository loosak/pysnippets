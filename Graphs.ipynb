{
  "nbformat": 4,
  "nbformat_minor": 0,
  "metadata": {
    "colab": {
      "name": "Graphs.ipynb",
      "provenance": [],
      "authorship_tag": "ABX9TyNor7JEe1AZBTuvMUVNURBz",
      "include_colab_link": true
    },
    "kernelspec": {
      "name": "python3",
      "display_name": "Python 3"
    },
    "language_info": {
      "name": "python"
    }
  },
  "cells": [
    {
      "cell_type": "markdown",
      "metadata": {
        "id": "view-in-github",
        "colab_type": "text"
      },
      "source": [
        "<a href=\"https://colab.research.google.com/github/loosak/pysnippets/blob/master/Graphs.ipynb\" target=\"_parent\"><img src=\"https://colab.research.google.com/assets/colab-badge.svg\" alt=\"Open In Colab\"/></a>"
      ]
    },
    {
      "cell_type": "markdown",
      "source": [
        "# Exploring the World of Graphs\n",
        "\n",
        "John Paul Mueller and Luca Massaron: Algorithms For Dummies®, 2nd Edition\n"
      ],
      "metadata": {
        "id": "DeOj7gO-B3-t"
      }
    },
    {
      "cell_type": "markdown",
      "source": [
        ""
      ],
      "metadata": {
        "id": "t85f1iaMB0d1"
      }
    },
    {
      "cell_type": "code",
      "source": [
        "import sys\n",
        "sys.version"
      ],
      "metadata": {
        "colab": {
          "base_uri": "https://localhost:8080/",
          "height": 35
        },
        "id": "GDXz4_eMCR_n",
        "outputId": "f2c4415d-7ca7-4bf7-f0fc-6dd7b6373111"
      },
      "execution_count": 2,
      "outputs": [
        {
          "output_type": "execute_result",
          "data": {
            "text/plain": [
              "'3.7.13 (default, Mar 16 2022, 17:37:17) \\n[GCC 7.5.0]'"
            ],
            "application/vnd.google.colaboratory.intrinsic+json": {
              "type": "string"
            }
          },
          "metadata": {},
          "execution_count": 2
        }
      ]
    },
    {
      "cell_type": "code",
      "source": [
        "import networkx as nx\n",
        "import matplotlib.pyplot as plt\n",
        "\n",
        "graph = {\n",
        "    'A': {'B':2, 'C':3},\n",
        "    'B': {'C':2, 'D':2},\n",
        "    'C': {'D':3, 'E':2},\n",
        "    'D': {'F':3},\n",
        "    'E': {'D':1,'F':1},\n",
        "    'F': {}\n",
        "}\n",
        "\n",
        "Graph = nx.DiGraph()\n",
        "\n",
        "for node in graph:\n",
        "    Graph.add_nodes_from(node)\n",
        "    for edge, weight in graph[node].items():\n",
        "        Graph.add_edge(node,edge, weight=weight)\n",
        "\n",
        "labels = nx.get_edge_attributes(Graph,'weight')\n",
        "\n",
        "pos = {\n",
        "    'A': [0.00, 0.50], \n",
        "    'B': [0.25, 0.75],\n",
        "    'C': [0.25, 0.25], \n",
        "    'D': [0.75, 0.75],\n",
        "    'E': [0.75, 0.25], \n",
        "    'F': [1.00, 0.50]\n",
        "}\n",
        "\n",
        "draw_params = {\n",
        "    'with_labels': True,\n",
        "    'arrows': True,\n",
        "    'node_color':'skyblue',\n",
        "    'node_size':700, 'width':2,\n",
        "    'font_size':14\n",
        "}\n",
        "\n",
        "nx.draw(Graph, pos, **draw_params)\n",
        "nx.draw_networkx_edge_labels(Graph, pos, font_size=14, edge_labels=labels)"
      ],
      "metadata": {
        "colab": {
          "base_uri": "https://localhost:8080/",
          "height": 479
        },
        "id": "PJiD6MPHCd5P",
        "outputId": "9005904f-6df8-44c6-89c4-f721a6a0fe47"
      },
      "execution_count": 3,
      "outputs": [
        {
          "output_type": "execute_result",
          "data": {
            "text/plain": [
              "{('A', 'B'): Text(0.125, 0.625, '2'),\n",
              " ('A', 'C'): Text(0.125, 0.375, '3'),\n",
              " ('B', 'C'): Text(0.25, 0.5, '2'),\n",
              " ('B', 'D'): Text(0.5, 0.75, '2'),\n",
              " ('C', 'D'): Text(0.5, 0.5, '3'),\n",
              " ('C', 'E'): Text(0.5, 0.25, '2'),\n",
              " ('D', 'F'): Text(0.875, 0.625, '3'),\n",
              " ('E', 'D'): Text(0.75, 0.5, '1'),\n",
              " ('E', 'F'): Text(0.875, 0.375, '1')}"
            ]
          },
          "metadata": {},
          "execution_count": 3
        },
        {
          "output_type": "display_data",
          "data": {
            "text/plain": [
              "<Figure size 432x288 with 1 Axes>"
            ],
            "image/png": "[encoded data removed]"
          },
          "metadata": {}
        }
      ]
    },
    {
      "cell_type": "code",
      "source": [
        ""
      ],
      "metadata": {
        "id": "fZJUYoxRCn4B"
      },
      "execution_count": null,
      "outputs": []
    }
  ]
}