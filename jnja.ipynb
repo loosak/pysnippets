{
 "cells": [
  {
   "cell_type": "code",
   "execution_count": null,
   "metadata": {},
   "outputs": [],
   "source": []
  },
  {
   "cell_type": "code",
   "execution_count": null,
   "metadata": {},
   "outputs": [],
   "source": []
  },
  {
   "cell_type": "code",
   "execution_count": 3,
   "metadata": {},
   "outputs": [
    {
     "data": {
      "text/plain": [
       "<Template memory:7f41e41ddeb0>"
      ]
     },
     "execution_count": 3,
     "metadata": {},
     "output_type": "execute_result"
    }
   ],
   "source": [
    "import jinja2\n",
    "\n",
    "jinja2.Template('template.html')"
   ]
  },
  {
   "cell_type": "code",
   "execution_count": 9,
   "metadata": {},
   "outputs": [],
   "source": [
    "import numpy as np\n",
    "import datetime as dt\n",
    "\n",
    "dtl = np.arange('2020-08-01', '2020-08-05', dtype='datetime64[h]').tolist()\n",
    "rnl = rnl = np.random.uniform(0.80, 1.02, len(dtl)).tolist()\n",
    "data = [[int(dt.datetime.timestamp(dti)*1e3), rni] for dti,rni in zip(dtl, rnl)]"
   ]
  },
  {
   "cell_type": "code",
   "execution_count": 12,
   "metadata": {},
   "outputs": [],
   "source": [
    "from jinja2 import Template\n",
    "import json\n",
    "\n",
    "with open('template.html') as file_:\n",
    "    template = Template(file_.read())\n",
    "\n",
    "with open('index.html', 'w') as file_:\n",
    "    file_.write(template.render(page_title=\"My Page\", data=json.dumps(data, sort_keys=False, ensure_ascii=False)))"
   ]
  },
  {
   "cell_type": "code",
   "execution_count": null,
   "metadata": {},
   "outputs": [],
   "source": []
  }
 ],
 "metadata": {
  "kernelspec": {
   "display_name": "Python 3",
   "language": "python",
   "name": "python3"
  },
  "language_info": {
   "codemirror_mode": {
    "name": "ipython",
    "version": 3
   },
   "file_extension": ".py",
   "mimetype": "text/x-python",
   "name": "python",
   "nbconvert_exporter": "python",
   "pygments_lexer": "ipython3",
   "version": "3.8.1"
  }
 },
 "nbformat": 4,
 "nbformat_minor": 4
}
