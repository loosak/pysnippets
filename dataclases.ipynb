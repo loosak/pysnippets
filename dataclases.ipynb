{
 "cells": [
  {
   "cell_type": "code",
   "execution_count": 1,
   "metadata": {},
   "outputs": [
    {
     "data": {
      "text/plain": [
       "'1.1.1'"
      ]
     },
     "execution_count": 1,
     "metadata": {},
     "output_type": "execute_result"
    }
   ],
   "source": [
    "import numpy as np\n",
    "import pandas as pd\n",
    "pd.__version__"
   ]
  },
  {
   "cell_type": "code",
   "execution_count": 2,
   "metadata": {
    "tags": []
   },
   "outputs": [
    {
     "name": "stdout",
     "output_type": "stream",
     "text": [
      "__init__\n",
      "__repr__\n"
     ]
    },
    {
     "data": {
      "text/plain": [
       "Coordinate(41.4, -81)"
      ]
     },
     "execution_count": 2,
     "metadata": {},
     "output_type": "execute_result"
    }
   ],
   "source": [
    "class Coordinate:\n",
    "    '''Coordinate on Earth'''\n",
    "  \n",
    "    def __init__(self, lat=0, long=0):\n",
    "        print('__init__')\n",
    "        self.lat = lat\n",
    "        self.long = long\n",
    "        \n",
    "    def __repr__(self):\n",
    "        print('__repr__')\n",
    "        return f'Coordinate({self.lat}, {self.long})'\n",
    "    \n",
    "    def __str__(self):\n",
    "        print('__str__')\n",
    "        ns = 'NS'[self.lat < 0]\n",
    "        we = 'EW'[self.long < 0]\n",
    "        return f'{abs(self.lat):.1f}°{ns}, {abs(self.long):.1f}°{we}'\n",
    "    \n",
    "    \n",
    "c = Coordinate(41.4,-81)\n",
    "c"
   ]
  },
  {
   "cell_type": "code",
   "execution_count": 11,
   "metadata": {
    "tags": []
   },
   "outputs": [
    {
     "name": "stdout",
     "output_type": "stream",
     "text": [
      "__str__\n",
      "41.4°N, 81.0°W\n"
     ]
    }
   ],
   "source": [
    "print(c)"
   ]
  },
  {
   "cell_type": "code",
   "execution_count": 12,
   "metadata": {},
   "outputs": [
    {
     "ename": "ModuleNotFoundError",
     "evalue": "No module named 'geohash'",
     "output_type": "error",
     "traceback": [
      "\u001b[0;31m---------------------------------------------------------------------------\u001b[0m",
      "\u001b[0;31mModuleNotFoundError\u001b[0m                       Traceback (most recent call last)",
      "\u001b[0;32m<ipython-input-12-eebf3e1dc73d>\u001b[0m in \u001b[0;36m<module>\u001b[0;34m\u001b[0m\n\u001b[0;32m----> 1\u001b[0;31m \u001b[0;32mimport\u001b[0m \u001b[0mgeohash\u001b[0m\u001b[0;34m\u001b[0m\u001b[0;34m\u001b[0m\u001b[0m\n\u001b[0m\u001b[1;32m      2\u001b[0m \u001b[0;34m\u001b[0m\u001b[0m\n\u001b[1;32m      3\u001b[0m \u001b[0;32mclass\u001b[0m \u001b[0mCoordinate\u001b[0m\u001b[0;34m:\u001b[0m\u001b[0;34m\u001b[0m\u001b[0;34m\u001b[0m\u001b[0m\n\u001b[1;32m      4\u001b[0m     \u001b[0;34m'''Coordinate on Earth'''\u001b[0m\u001b[0;34m\u001b[0m\u001b[0;34m\u001b[0m\u001b[0m\n\u001b[1;32m      5\u001b[0m \u001b[0;34m\u001b[0m\u001b[0m\n",
      "\u001b[0;31mModuleNotFoundError\u001b[0m: No module named 'geohash'"
     ]
    }
   ],
   "source": [
    "import geohash\n",
    "\n",
    "class Coordinate:\n",
    "    '''Coordinate on Earth'''\n",
    "    \n",
    "    reference_system = 'WGS84'\n",
    "    \n",
    "    def __init__(self, lat, long):\n",
    "        self.lat = lat\n",
    "        self.long = long\n",
    "    \n",
    "    def __repr__(self):\n",
    "        return f'Coordinate({self.lat}, {self.long})'\n",
    "    \n",
    "    def __str__(self):\n",
    "        ns = 'NS'[self.lat < 0]\n",
    "        we = 'WE'[self.long < 0]\n",
    "        return f'{abs(self.lat):.1f}°{ns}, {abs(self.long):.1f}°{we}'\n",
    "    \n",
    "    def geohash(self):\n",
    "        return geohash.encode(self.lat, self.long)\n",
    "\n",
    "Coordinate(41.4, -81)\n",
    " \n",
    "    "
   ]
  },
  {
   "cell_type": "code",
   "execution_count": 52,
   "metadata": {
    "tags": []
   },
   "outputs": [
    {
     "data": {
      "text/plain": [
       "Coordinate(lat=49.1951, long=16.6068)"
      ]
     },
     "execution_count": 52,
     "metadata": {},
     "output_type": "execute_result"
    }
   ],
   "source": [
    "from dataclasses import dataclass\n",
    "\n",
    "@dataclass\n",
    "class Coordinate:\n",
    "    lat: float\n",
    "    long: float\n",
    "\n",
    "    def __str__(self):\n",
    "        print('__str__')\n",
    "        ns = 'NS'[self.lat < 0]\n",
    "        we = 'EW'[self.long < 0]\n",
    "        return f'{abs(self.lat):.1f}°{ns}, {abs(self.long):.1f}°{we}'\n",
    "\n",
    "\n",
    "brno = Coordinate(49.1951, 16.6068)\n",
    "brno"
   ]
  },
  {
   "cell_type": "code",
   "execution_count": 9,
   "metadata": {
    "tags": []
   },
   "outputs": [
    {
     "name": "stdout",
     "output_type": "stream",
     "text": [
      "__str__\n",
      "49.2°N, 16.6°E\n"
     ]
    }
   ],
   "source": [
    "print(brno)"
   ]
  },
  {
   "cell_type": "code",
   "execution_count": 51,
   "metadata": {},
   "outputs": [
    {
     "data": {
      "text/plain": [
       "'<!DOCTYPE html>'"
      ]
     },
     "execution_count": 51,
     "metadata": {},
     "output_type": "execute_result"
    }
   ],
   "source": [
    "import pathlib\n",
    "file = pathlib.Path.cwd()/'index.html'\n",
    "file.read_text().split('\\n')[0]"
   ]
  },
  {
   "cell_type": "code",
   "execution_count": 46,
   "metadata": {},
   "outputs": [
    {
     "data": {
      "text/plain": [
       "os._Environ"
      ]
     },
     "execution_count": 46,
     "metadata": {},
     "output_type": "execute_result"
    }
   ],
   "source": [
    " import os\n",
    " type(os.environ)"
   ]
  },
  {
   "cell_type": "code",
   "execution_count": 48,
   "metadata": {},
   "outputs": [
    {
     "data": {
      "text/plain": [
       "'/Users/kcoufal'"
      ]
     },
     "execution_count": 48,
     "metadata": {},
     "output_type": "execute_result"
    }
   ],
   "source": [
    "if 'HOME' in os.environ:\n",
    "    userhome = os.environ['HOME']\n",
    "userhome"
   ]
  },
  {
   "cell_type": "code",
   "execution_count": 72,
   "metadata": {},
   "outputs": [
    {
     "data": {
      "image/png": "[encoded data removed]",
      "image/svg+xml": [
       "<?xml version=\"1.0\" encoding=\"utf-8\" standalone=\"no\"?>\n",
       "<!DOCTYPE svg PUBLIC \"-//W3C//DTD SVG 1.1//EN\"\n",
       "  \"http://www.w3.org/Graphics/SVG/1.1/DTD/svg11.dtd\">\n",
       "<!-- Created with matplotlib (https://matplotlib.org/) -->\n",
       "<svg height=\"263.63625pt\" version=\"1.1\" viewBox=\"0 0 384.52571 263.63625\" width=\"384.52571pt\" xmlns=\"http://www.w3.org/2000/svg\" xmlns:xlink=\"http://www.w3.org/1999/xlink\">\n",
       " <metadata>\n",
       "  <rdf:RDF xmlns:cc=\"http://creativecommons.org/ns#\" xmlns:dc=\"http://purl.org/dc/elements/1.1/\" xmlns:rdf=\"http://www.w3.org/1999/02/22-rdf-syntax-ns#\">\n",
       "   <cc:Work>\n",
       "    <dc:type rdf:resource=\"http://purl.org/dc/dcmitype/StillImage\"/>\n",
       "    <dc:date>2020-09-06T11:17:49.668335</dc:date>\n",
       "    <dc:format>image/svg+xml</dc:format>\n",
       "    <dc:creator>\n",
       "     <cc:Agent>\n",
       "      <dc:title>Matplotlib v3.3.1, https://matplotlib.org/</dc:title>\n",
       "     </cc:Agent>\n",
       "    </dc:creator>\n",
       "   </cc:Work>\n",
       "  </rdf:RDF>\n",
       " </metadata>\n",
       " <defs>\n",
       "  <style type=\"text/css\">*{stroke-linecap:butt;stroke-linejoin:round;}</style>\n",
       " </defs>\n",
       " <g id=\"figure_1\">\n",
       "  <g id=\"patch_1\">\n",
       "   <path d=\"M 0 263.63625 \n",
       "L 384.52571 263.63625 \n",
       "L 384.52571 0 \n",
       "L 0 0 \n",
       "z\n",
       "\" style=\"fill:none;\"/>\n",
       "  </g>\n",
       "  <g id=\"axes_1\">\n",
       "   <g id=\"patch_2\">\n",
       "    <path d=\"M 36.465625 239.758125 \n",
       "L 371.265625 239.758125 \n",
       "L 371.265625 22.318125 \n",
       "L 36.465625 22.318125 \n",
       "z\n",
       "\" style=\"fill:#ffffff;\"/>\n",
       "   </g>\n",
       "   <g id=\"matplotlib.axis_1\">\n",
       "    <g id=\"xtick_1\">\n",
       "     <g id=\"line2d_1\">\n",
       "      <defs>\n",
       "       <path d=\"M 0 0 \n",
       "L 0 3.5 \n",
       "\" id=\"m1323f1e1b4\" style=\"stroke:#000000;stroke-width:0.8;\"/>\n",
       "      </defs>\n",
       "      <g>\n",
       "       <use style=\"stroke:#000000;stroke-width:0.8;\" x=\"41.538352\" xlink:href=\"#m1323f1e1b4\" y=\"239.758125\"/>\n",
       "      </g>\n",
       "     </g>\n",
       "     <g id=\"text_1\">\n",
       "      <!-- 1.42 -->\n",
       "      <g transform=\"translate(30.40554 254.356563)scale(0.1 -0.1)\">\n",
       "       <defs>\n",
       "        <path d=\"M 12.40625 8.296875 \n",
       "L 28.515625 8.296875 \n",
       "L 28.515625 63.921875 \n",
       "L 10.984375 60.40625 \n",
       "L 10.984375 69.390625 \n",
       "L 28.421875 72.90625 \n",
       "L 38.28125 72.90625 \n",
       "L 38.28125 8.296875 \n",
       "L 54.390625 8.296875 \n",
       "L 54.390625 0 \n",
       "L 12.40625 0 \n",
       "z\n",
       "\" id=\"DejaVuSans-49\"/>\n",
       "        <path d=\"M 10.6875 12.40625 \n",
       "L 21 12.40625 \n",
       "L 21 0 \n",
       "L 10.6875 0 \n",
       "z\n",
       "\" id=\"DejaVuSans-46\"/>\n",
       "        <path d=\"M 37.796875 64.3125 \n",
       "L 12.890625 25.390625 \n",
       "L 37.796875 25.390625 \n",
       "z\n",
       "M 35.203125 72.90625 \n",
       "L 47.609375 72.90625 \n",
       "L 47.609375 25.390625 \n",
       "L 58.015625 25.390625 \n",
       "L 58.015625 17.1875 \n",
       "L 47.609375 17.1875 \n",
       "L 47.609375 0 \n",
       "L 37.796875 0 \n",
       "L 37.796875 17.1875 \n",
       "L 4.890625 17.1875 \n",
       "L 4.890625 26.703125 \n",
       "z\n",
       "\" id=\"DejaVuSans-52\"/>\n",
       "        <path d=\"M 19.1875 8.296875 \n",
       "L 53.609375 8.296875 \n",
       "L 53.609375 0 \n",
       "L 7.328125 0 \n",
       "L 7.328125 8.296875 \n",
       "Q 12.9375 14.109375 22.625 23.890625 \n",
       "Q 32.328125 33.6875 34.8125 36.53125 \n",
       "Q 39.546875 41.84375 41.421875 45.53125 \n",
       "Q 43.3125 49.21875 43.3125 52.78125 \n",
       "Q 43.3125 58.59375 39.234375 62.25 \n",
       "Q 35.15625 65.921875 28.609375 65.921875 \n",
       "Q 23.96875 65.921875 18.8125 64.3125 \n",
       "Q 13.671875 62.703125 7.8125 59.421875 \n",
       "L 7.8125 69.390625 \n",
       "Q 13.765625 71.78125 18.9375 73 \n",
       "Q 24.125 74.21875 28.421875 74.21875 \n",
       "Q 39.75 74.21875 46.484375 68.546875 \n",
       "Q 53.21875 62.890625 53.21875 53.421875 \n",
       "Q 53.21875 48.921875 51.53125 44.890625 \n",
       "Q 49.859375 40.875 45.40625 35.40625 \n",
       "Q 44.1875 33.984375 37.640625 27.21875 \n",
       "Q 31.109375 20.453125 19.1875 8.296875 \n",
       "z\n",
       "\" id=\"DejaVuSans-50\"/>\n",
       "       </defs>\n",
       "       <use xlink:href=\"#DejaVuSans-49\"/>\n",
       "       <use x=\"63.623047\" xlink:href=\"#DejaVuSans-46\"/>\n",
       "       <use x=\"95.410156\" xlink:href=\"#DejaVuSans-52\"/>\n",
       "       <use x=\"159.033203\" xlink:href=\"#DejaVuSans-50\"/>\n",
       "      </g>\n",
       "     </g>\n",
       "    </g>\n",
       "    <g id=\"xtick_2\">\n",
       "     <g id=\"line2d_2\">\n",
       "      <g>\n",
       "       <use style=\"stroke:#000000;stroke-width:0.8;\" x=\"82.12017\" xlink:href=\"#m1323f1e1b4\" y=\"239.758125\"/>\n",
       "      </g>\n",
       "     </g>\n",
       "     <g id=\"text_2\">\n",
       "      <!-- 1.44 -->\n",
       "      <g transform=\"translate(70.987358 254.356563)scale(0.1 -0.1)\">\n",
       "       <use xlink:href=\"#DejaVuSans-49\"/>\n",
       "       <use x=\"63.623047\" xlink:href=\"#DejaVuSans-46\"/>\n",
       "       <use x=\"95.410156\" xlink:href=\"#DejaVuSans-52\"/>\n",
       "       <use x=\"159.033203\" xlink:href=\"#DejaVuSans-52\"/>\n",
       "      </g>\n",
       "     </g>\n",
       "    </g>\n",
       "    <g id=\"xtick_3\">\n",
       "     <g id=\"line2d_3\">\n",
       "      <g>\n",
       "       <use style=\"stroke:#000000;stroke-width:0.8;\" x=\"122.701989\" xlink:href=\"#m1323f1e1b4\" y=\"239.758125\"/>\n",
       "      </g>\n",
       "     </g>\n",
       "     <g id=\"text_3\">\n",
       "      <!-- 1.46 -->\n",
       "      <g transform=\"translate(111.569176 254.356563)scale(0.1 -0.1)\">\n",
       "       <defs>\n",
       "        <path d=\"M 33.015625 40.375 \n",
       "Q 26.375 40.375 22.484375 35.828125 \n",
       "Q 18.609375 31.296875 18.609375 23.390625 \n",
       "Q 18.609375 15.53125 22.484375 10.953125 \n",
       "Q 26.375 6.390625 33.015625 6.390625 \n",
       "Q 39.65625 6.390625 43.53125 10.953125 \n",
       "Q 47.40625 15.53125 47.40625 23.390625 \n",
       "Q 47.40625 31.296875 43.53125 35.828125 \n",
       "Q 39.65625 40.375 33.015625 40.375 \n",
       "z\n",
       "M 52.59375 71.296875 \n",
       "L 52.59375 62.3125 \n",
       "Q 48.875 64.0625 45.09375 64.984375 \n",
       "Q 41.3125 65.921875 37.59375 65.921875 \n",
       "Q 27.828125 65.921875 22.671875 59.328125 \n",
       "Q 17.53125 52.734375 16.796875 39.40625 \n",
       "Q 19.671875 43.65625 24.015625 45.921875 \n",
       "Q 28.375 48.1875 33.59375 48.1875 \n",
       "Q 44.578125 48.1875 50.953125 41.515625 \n",
       "Q 57.328125 34.859375 57.328125 23.390625 \n",
       "Q 57.328125 12.15625 50.6875 5.359375 \n",
       "Q 44.046875 -1.421875 33.015625 -1.421875 \n",
       "Q 20.359375 -1.421875 13.671875 8.265625 \n",
       "Q 6.984375 17.96875 6.984375 36.375 \n",
       "Q 6.984375 53.65625 15.1875 63.9375 \n",
       "Q 23.390625 74.21875 37.203125 74.21875 \n",
       "Q 40.921875 74.21875 44.703125 73.484375 \n",
       "Q 48.484375 72.75 52.59375 71.296875 \n",
       "z\n",
       "\" id=\"DejaVuSans-54\"/>\n",
       "       </defs>\n",
       "       <use xlink:href=\"#DejaVuSans-49\"/>\n",
       "       <use x=\"63.623047\" xlink:href=\"#DejaVuSans-46\"/>\n",
       "       <use x=\"95.410156\" xlink:href=\"#DejaVuSans-52\"/>\n",
       "       <use x=\"159.033203\" xlink:href=\"#DejaVuSans-54\"/>\n",
       "      </g>\n",
       "     </g>\n",
       "    </g>\n",
       "    <g id=\"xtick_4\">\n",
       "     <g id=\"line2d_4\">\n",
       "      <g>\n",
       "       <use style=\"stroke:#000000;stroke-width:0.8;\" x=\"163.283807\" xlink:href=\"#m1323f1e1b4\" y=\"239.758125\"/>\n",
       "      </g>\n",
       "     </g>\n",
       "     <g id=\"text_4\">\n",
       "      <!-- 1.48 -->\n",
       "      <g transform=\"translate(152.150994 254.356563)scale(0.1 -0.1)\">\n",
       "       <defs>\n",
       "        <path d=\"M 31.78125 34.625 \n",
       "Q 24.75 34.625 20.71875 30.859375 \n",
       "Q 16.703125 27.09375 16.703125 20.515625 \n",
       "Q 16.703125 13.921875 20.71875 10.15625 \n",
       "Q 24.75 6.390625 31.78125 6.390625 \n",
       "Q 38.8125 6.390625 42.859375 10.171875 \n",
       "Q 46.921875 13.96875 46.921875 20.515625 \n",
       "Q 46.921875 27.09375 42.890625 30.859375 \n",
       "Q 38.875 34.625 31.78125 34.625 \n",
       "z\n",
       "M 21.921875 38.8125 \n",
       "Q 15.578125 40.375 12.03125 44.71875 \n",
       "Q 8.5 49.078125 8.5 55.328125 \n",
       "Q 8.5 64.0625 14.71875 69.140625 \n",
       "Q 20.953125 74.21875 31.78125 74.21875 \n",
       "Q 42.671875 74.21875 48.875 69.140625 \n",
       "Q 55.078125 64.0625 55.078125 55.328125 \n",
       "Q 55.078125 49.078125 51.53125 44.71875 \n",
       "Q 48 40.375 41.703125 38.8125 \n",
       "Q 48.828125 37.15625 52.796875 32.3125 \n",
       "Q 56.78125 27.484375 56.78125 20.515625 \n",
       "Q 56.78125 9.90625 50.3125 4.234375 \n",
       "Q 43.84375 -1.421875 31.78125 -1.421875 \n",
       "Q 19.734375 -1.421875 13.25 4.234375 \n",
       "Q 6.78125 9.90625 6.78125 20.515625 \n",
       "Q 6.78125 27.484375 10.78125 32.3125 \n",
       "Q 14.796875 37.15625 21.921875 38.8125 \n",
       "z\n",
       "M 18.3125 54.390625 \n",
       "Q 18.3125 48.734375 21.84375 45.5625 \n",
       "Q 25.390625 42.390625 31.78125 42.390625 \n",
       "Q 38.140625 42.390625 41.71875 45.5625 \n",
       "Q 45.3125 48.734375 45.3125 54.390625 \n",
       "Q 45.3125 60.0625 41.71875 63.234375 \n",
       "Q 38.140625 66.40625 31.78125 66.40625 \n",
       "Q 25.390625 66.40625 21.84375 63.234375 \n",
       "Q 18.3125 60.0625 18.3125 54.390625 \n",
       "z\n",
       "\" id=\"DejaVuSans-56\"/>\n",
       "       </defs>\n",
       "       <use xlink:href=\"#DejaVuSans-49\"/>\n",
       "       <use x=\"63.623047\" xlink:href=\"#DejaVuSans-46\"/>\n",
       "       <use x=\"95.410156\" xlink:href=\"#DejaVuSans-52\"/>\n",
       "       <use x=\"159.033203\" xlink:href=\"#DejaVuSans-56\"/>\n",
       "      </g>\n",
       "     </g>\n",
       "    </g>\n",
       "    <g id=\"xtick_5\">\n",
       "     <g id=\"line2d_5\">\n",
       "      <g>\n",
       "       <use style=\"stroke:#000000;stroke-width:0.8;\" x=\"203.865625\" xlink:href=\"#m1323f1e1b4\" y=\"239.758125\"/>\n",
       "      </g>\n",
       "     </g>\n",
       "     <g id=\"text_5\">\n",
       "      <!-- 1.50 -->\n",
       "      <g transform=\"translate(192.732812 254.356563)scale(0.1 -0.1)\">\n",
       "       <defs>\n",
       "        <path d=\"M 10.796875 72.90625 \n",
       "L 49.515625 72.90625 \n",
       "L 49.515625 64.59375 \n",
       "L 19.828125 64.59375 \n",
       "L 19.828125 46.734375 \n",
       "Q 21.96875 47.46875 24.109375 47.828125 \n",
       "Q 26.265625 48.1875 28.421875 48.1875 \n",
       "Q 40.625 48.1875 47.75 41.5 \n",
       "Q 54.890625 34.8125 54.890625 23.390625 \n",
       "Q 54.890625 11.625 47.5625 5.09375 \n",
       "Q 40.234375 -1.421875 26.90625 -1.421875 \n",
       "Q 22.3125 -1.421875 17.546875 -0.640625 \n",
       "Q 12.796875 0.140625 7.71875 1.703125 \n",
       "L 7.71875 11.625 \n",
       "Q 12.109375 9.234375 16.796875 8.0625 \n",
       "Q 21.484375 6.890625 26.703125 6.890625 \n",
       "Q 35.15625 6.890625 40.078125 11.328125 \n",
       "Q 45.015625 15.765625 45.015625 23.390625 \n",
       "Q 45.015625 31 40.078125 35.4375 \n",
       "Q 35.15625 39.890625 26.703125 39.890625 \n",
       "Q 22.75 39.890625 18.8125 39.015625 \n",
       "Q 14.890625 38.140625 10.796875 36.28125 \n",
       "z\n",
       "\" id=\"DejaVuSans-53\"/>\n",
       "        <path d=\"M 31.78125 66.40625 \n",
       "Q 24.171875 66.40625 20.328125 58.90625 \n",
       "Q 16.5 51.421875 16.5 36.375 \n",
       "Q 16.5 21.390625 20.328125 13.890625 \n",
       "Q 24.171875 6.390625 31.78125 6.390625 \n",
       "Q 39.453125 6.390625 43.28125 13.890625 \n",
       "Q 47.125 21.390625 47.125 36.375 \n",
       "Q 47.125 51.421875 43.28125 58.90625 \n",
       "Q 39.453125 66.40625 31.78125 66.40625 \n",
       "z\n",
       "M 31.78125 74.21875 \n",
       "Q 44.046875 74.21875 50.515625 64.515625 \n",
       "Q 56.984375 54.828125 56.984375 36.375 \n",
       "Q 56.984375 17.96875 50.515625 8.265625 \n",
       "Q 44.046875 -1.421875 31.78125 -1.421875 \n",
       "Q 19.53125 -1.421875 13.0625 8.265625 \n",
       "Q 6.59375 17.96875 6.59375 36.375 \n",
       "Q 6.59375 54.828125 13.0625 64.515625 \n",
       "Q 19.53125 74.21875 31.78125 74.21875 \n",
       "z\n",
       "\" id=\"DejaVuSans-48\"/>\n",
       "       </defs>\n",
       "       <use xlink:href=\"#DejaVuSans-49\"/>\n",
       "       <use x=\"63.623047\" xlink:href=\"#DejaVuSans-46\"/>\n",
       "       <use x=\"95.410156\" xlink:href=\"#DejaVuSans-53\"/>\n",
       "       <use x=\"159.033203\" xlink:href=\"#DejaVuSans-48\"/>\n",
       "      </g>\n",
       "     </g>\n",
       "    </g>\n",
       "    <g id=\"xtick_6\">\n",
       "     <g id=\"line2d_6\">\n",
       "      <g>\n",
       "       <use style=\"stroke:#000000;stroke-width:0.8;\" x=\"244.447443\" xlink:href=\"#m1323f1e1b4\" y=\"239.758125\"/>\n",
       "      </g>\n",
       "     </g>\n",
       "     <g id=\"text_6\">\n",
       "      <!-- 1.52 -->\n",
       "      <g transform=\"translate(233.314631 254.356563)scale(0.1 -0.1)\">\n",
       "       <use xlink:href=\"#DejaVuSans-49\"/>\n",
       "       <use x=\"63.623047\" xlink:href=\"#DejaVuSans-46\"/>\n",
       "       <use x=\"95.410156\" xlink:href=\"#DejaVuSans-53\"/>\n",
       "       <use x=\"159.033203\" xlink:href=\"#DejaVuSans-50\"/>\n",
       "      </g>\n",
       "     </g>\n",
       "    </g>\n",
       "    <g id=\"xtick_7\">\n",
       "     <g id=\"line2d_7\">\n",
       "      <g>\n",
       "       <use style=\"stroke:#000000;stroke-width:0.8;\" x=\"285.029261\" xlink:href=\"#m1323f1e1b4\" y=\"239.758125\"/>\n",
       "      </g>\n",
       "     </g>\n",
       "     <g id=\"text_7\">\n",
       "      <!-- 1.54 -->\n",
       "      <g transform=\"translate(273.896449 254.356563)scale(0.1 -0.1)\">\n",
       "       <use xlink:href=\"#DejaVuSans-49\"/>\n",
       "       <use x=\"63.623047\" xlink:href=\"#DejaVuSans-46\"/>\n",
       "       <use x=\"95.410156\" xlink:href=\"#DejaVuSans-53\"/>\n",
       "       <use x=\"159.033203\" xlink:href=\"#DejaVuSans-52\"/>\n",
       "      </g>\n",
       "     </g>\n",
       "    </g>\n",
       "    <g id=\"xtick_8\">\n",
       "     <g id=\"line2d_8\">\n",
       "      <g>\n",
       "       <use style=\"stroke:#000000;stroke-width:0.8;\" x=\"325.61108\" xlink:href=\"#m1323f1e1b4\" y=\"239.758125\"/>\n",
       "      </g>\n",
       "     </g>\n",
       "     <g id=\"text_8\">\n",
       "      <!-- 1.56 -->\n",
       "      <g transform=\"translate(314.478267 254.356563)scale(0.1 -0.1)\">\n",
       "       <use xlink:href=\"#DejaVuSans-49\"/>\n",
       "       <use x=\"63.623047\" xlink:href=\"#DejaVuSans-46\"/>\n",
       "       <use x=\"95.410156\" xlink:href=\"#DejaVuSans-53\"/>\n",
       "       <use x=\"159.033203\" xlink:href=\"#DejaVuSans-54\"/>\n",
       "      </g>\n",
       "     </g>\n",
       "    </g>\n",
       "    <g id=\"xtick_9\">\n",
       "     <g id=\"line2d_9\">\n",
       "      <g>\n",
       "       <use style=\"stroke:#000000;stroke-width:0.8;\" x=\"366.192898\" xlink:href=\"#m1323f1e1b4\" y=\"239.758125\"/>\n",
       "      </g>\n",
       "     </g>\n",
       "     <g id=\"text_9\">\n",
       "      <!-- 1.58 -->\n",
       "      <g transform=\"translate(355.060085 254.356563)scale(0.1 -0.1)\">\n",
       "       <use xlink:href=\"#DejaVuSans-49\"/>\n",
       "       <use x=\"63.623047\" xlink:href=\"#DejaVuSans-46\"/>\n",
       "       <use x=\"95.410156\" xlink:href=\"#DejaVuSans-53\"/>\n",
       "       <use x=\"159.033203\" xlink:href=\"#DejaVuSans-56\"/>\n",
       "      </g>\n",
       "     </g>\n",
       "    </g>\n",
       "   </g>\n",
       "   <g id=\"matplotlib.axis_2\">\n",
       "    <g id=\"ytick_1\">\n",
       "     <g id=\"line2d_10\">\n",
       "      <defs>\n",
       "       <path d=\"M 0 0 \n",
       "L -3.5 0 \n",
       "\" id=\"mb3fe32579c\" style=\"stroke:#000000;stroke-width:0.8;\"/>\n",
       "      </defs>\n",
       "      <g>\n",
       "       <use style=\"stroke:#000000;stroke-width:0.8;\" x=\"36.465625\" xlink:href=\"#mb3fe32579c\" y=\"210.107216\"/>\n",
       "      </g>\n",
       "     </g>\n",
       "     <g id=\"text_10\">\n",
       "      <!-- 2.40 -->\n",
       "      <g transform=\"translate(7.2 213.906435)scale(0.1 -0.1)\">\n",
       "       <use xlink:href=\"#DejaVuSans-50\"/>\n",
       "       <use x=\"63.623047\" xlink:href=\"#DejaVuSans-46\"/>\n",
       "       <use x=\"95.410156\" xlink:href=\"#DejaVuSans-52\"/>\n",
       "       <use x=\"159.033203\" xlink:href=\"#DejaVuSans-48\"/>\n",
       "      </g>\n",
       "     </g>\n",
       "    </g>\n",
       "    <g id=\"ytick_2\">\n",
       "     <g id=\"line2d_11\">\n",
       "      <g>\n",
       "       <use style=\"stroke:#000000;stroke-width:0.8;\" x=\"36.465625\" xlink:href=\"#mb3fe32579c\" y=\"170.57267\"/>\n",
       "      </g>\n",
       "     </g>\n",
       "     <g id=\"text_11\">\n",
       "      <!-- 2.45 -->\n",
       "      <g transform=\"translate(7.2 174.371889)scale(0.1 -0.1)\">\n",
       "       <use xlink:href=\"#DejaVuSans-50\"/>\n",
       "       <use x=\"63.623047\" xlink:href=\"#DejaVuSans-46\"/>\n",
       "       <use x=\"95.410156\" xlink:href=\"#DejaVuSans-52\"/>\n",
       "       <use x=\"159.033203\" xlink:href=\"#DejaVuSans-53\"/>\n",
       "      </g>\n",
       "     </g>\n",
       "    </g>\n",
       "    <g id=\"ytick_3\">\n",
       "     <g id=\"line2d_12\">\n",
       "      <g>\n",
       "       <use style=\"stroke:#000000;stroke-width:0.8;\" x=\"36.465625\" xlink:href=\"#mb3fe32579c\" y=\"131.038125\"/>\n",
       "      </g>\n",
       "     </g>\n",
       "     <g id=\"text_12\">\n",
       "      <!-- 2.50 -->\n",
       "      <g transform=\"translate(7.2 134.837344)scale(0.1 -0.1)\">\n",
       "       <use xlink:href=\"#DejaVuSans-50\"/>\n",
       "       <use x=\"63.623047\" xlink:href=\"#DejaVuSans-46\"/>\n",
       "       <use x=\"95.410156\" xlink:href=\"#DejaVuSans-53\"/>\n",
       "       <use x=\"159.033203\" xlink:href=\"#DejaVuSans-48\"/>\n",
       "      </g>\n",
       "     </g>\n",
       "    </g>\n",
       "    <g id=\"ytick_4\">\n",
       "     <g id=\"line2d_13\">\n",
       "      <g>\n",
       "       <use style=\"stroke:#000000;stroke-width:0.8;\" x=\"36.465625\" xlink:href=\"#mb3fe32579c\" y=\"91.50358\"/>\n",
       "      </g>\n",
       "     </g>\n",
       "     <g id=\"text_13\">\n",
       "      <!-- 2.55 -->\n",
       "      <g transform=\"translate(7.2 95.302798)scale(0.1 -0.1)\">\n",
       "       <use xlink:href=\"#DejaVuSans-50\"/>\n",
       "       <use x=\"63.623047\" xlink:href=\"#DejaVuSans-46\"/>\n",
       "       <use x=\"95.410156\" xlink:href=\"#DejaVuSans-53\"/>\n",
       "       <use x=\"159.033203\" xlink:href=\"#DejaVuSans-53\"/>\n",
       "      </g>\n",
       "     </g>\n",
       "    </g>\n",
       "    <g id=\"ytick_5\">\n",
       "     <g id=\"line2d_14\">\n",
       "      <g>\n",
       "       <use style=\"stroke:#000000;stroke-width:0.8;\" x=\"36.465625\" xlink:href=\"#mb3fe32579c\" y=\"51.969034\"/>\n",
       "      </g>\n",
       "     </g>\n",
       "     <g id=\"text_14\">\n",
       "      <!-- 2.60 -->\n",
       "      <g transform=\"translate(7.2 55.768253)scale(0.1 -0.1)\">\n",
       "       <use xlink:href=\"#DejaVuSans-50\"/>\n",
       "       <use x=\"63.623047\" xlink:href=\"#DejaVuSans-46\"/>\n",
       "       <use x=\"95.410156\" xlink:href=\"#DejaVuSans-54\"/>\n",
       "       <use x=\"159.033203\" xlink:href=\"#DejaVuSans-48\"/>\n",
       "      </g>\n",
       "     </g>\n",
       "    </g>\n",
       "   </g>\n",
       "   <g id=\"line2d_15\">\n",
       "    <defs>\n",
       "     <path d=\"M 0 3 \n",
       "C 0.795609 3 1.55874 2.683901 2.12132 2.12132 \n",
       "C 2.683901 1.55874 3 0.795609 3 0 \n",
       "C 3 -0.795609 2.683901 -1.55874 2.12132 -2.12132 \n",
       "C 1.55874 -2.683901 0.795609 -3 0 -3 \n",
       "C -0.795609 -3 -1.55874 -2.683901 -2.12132 -2.12132 \n",
       "C -2.683901 -1.55874 -3 -0.795609 -3 0 \n",
       "C -3 0.795609 -2.683901 1.55874 -2.12132 2.12132 \n",
       "C -1.55874 2.683901 -0.795609 3 0 3 \n",
       "z\n",
       "\" id=\"m1fcc0c4b03\" style=\"stroke:#0000ff;\"/>\n",
       "    </defs>\n",
       "    <g clip-path=\"url(#paa68b4ee1a)\">\n",
       "     <use style=\"fill:#0000ff;stroke:#0000ff;\" x=\"203.865625\" xlink:href=\"#m1fcc0c4b03\" y=\"131.038125\"/>\n",
       "    </g>\n",
       "   </g>\n",
       "   <g id=\"patch_3\">\n",
       "    <path d=\"M 36.465625 239.758125 \n",
       "L 36.465625 22.318125 \n",
       "\" style=\"fill:none;stroke:#000000;stroke-linecap:square;stroke-linejoin:miter;stroke-width:0.8;\"/>\n",
       "   </g>\n",
       "   <g id=\"patch_4\">\n",
       "    <path d=\"M 371.265625 239.758125 \n",
       "L 371.265625 22.318125 \n",
       "\" style=\"fill:none;stroke:#000000;stroke-linecap:square;stroke-linejoin:miter;stroke-width:0.8;\"/>\n",
       "   </g>\n",
       "   <g id=\"patch_5\">\n",
       "    <path d=\"M 36.465625 239.758125 \n",
       "L 371.265625 239.758125 \n",
       "\" style=\"fill:none;stroke:#000000;stroke-linecap:square;stroke-linejoin:miter;stroke-width:0.8;\"/>\n",
       "   </g>\n",
       "   <g id=\"patch_6\">\n",
       "    <path d=\"M 36.465625 22.318125 \n",
       "L 371.265625 22.318125 \n",
       "\" style=\"fill:none;stroke:#000000;stroke-linecap:square;stroke-linejoin:miter;stroke-width:0.8;\"/>\n",
       "   </g>\n",
       "   <g id=\"text_15\">\n",
       "    <!-- x:1.5    y:2.5 -->\n",
       "    <g transform=\"translate(166.444375 16.318125)scale(0.12 -0.12)\">\n",
       "     <defs>\n",
       "      <path d=\"M 54.890625 54.6875 \n",
       "L 35.109375 28.078125 \n",
       "L 55.90625 0 \n",
       "L 45.3125 0 \n",
       "L 29.390625 21.484375 \n",
       "L 13.484375 0 \n",
       "L 2.875 0 \n",
       "L 24.125 28.609375 \n",
       "L 4.6875 54.6875 \n",
       "L 15.28125 54.6875 \n",
       "L 29.78125 35.203125 \n",
       "L 44.28125 54.6875 \n",
       "z\n",
       "\" id=\"DejaVuSans-120\"/>\n",
       "      <path d=\"M 11.71875 12.40625 \n",
       "L 22.015625 12.40625 \n",
       "L 22.015625 0 \n",
       "L 11.71875 0 \n",
       "z\n",
       "M 11.71875 51.703125 \n",
       "L 22.015625 51.703125 \n",
       "L 22.015625 39.3125 \n",
       "L 11.71875 39.3125 \n",
       "z\n",
       "\" id=\"DejaVuSans-58\"/>\n",
       "      <path id=\"DejaVuSans-32\"/>\n",
       "      <path d=\"M 32.171875 -5.078125 \n",
       "Q 28.375 -14.84375 24.75 -17.8125 \n",
       "Q 21.140625 -20.796875 15.09375 -20.796875 \n",
       "L 7.90625 -20.796875 \n",
       "L 7.90625 -13.28125 \n",
       "L 13.1875 -13.28125 \n",
       "Q 16.890625 -13.28125 18.9375 -11.515625 \n",
       "Q 21 -9.765625 23.484375 -3.21875 \n",
       "L 25.09375 0.875 \n",
       "L 2.984375 54.6875 \n",
       "L 12.5 54.6875 \n",
       "L 29.59375 11.921875 \n",
       "L 46.6875 54.6875 \n",
       "L 56.203125 54.6875 \n",
       "z\n",
       "\" id=\"DejaVuSans-121\"/>\n",
       "     </defs>\n",
       "     <use xlink:href=\"#DejaVuSans-120\"/>\n",
       "     <use x=\"59.179688\" xlink:href=\"#DejaVuSans-58\"/>\n",
       "     <use x=\"92.871094\" xlink:href=\"#DejaVuSans-49\"/>\n",
       "     <use x=\"156.494141\" xlink:href=\"#DejaVuSans-46\"/>\n",
       "     <use x=\"188.28125\" xlink:href=\"#DejaVuSans-53\"/>\n",
       "     <use x=\"251.904297\" xlink:href=\"#DejaVuSans-32\"/>\n",
       "     <use x=\"283.691406\" xlink:href=\"#DejaVuSans-32\"/>\n",
       "     <use x=\"315.478516\" xlink:href=\"#DejaVuSans-32\"/>\n",
       "     <use x=\"347.265625\" xlink:href=\"#DejaVuSans-32\"/>\n",
       "     <use x=\"379.052734\" xlink:href=\"#DejaVuSans-121\"/>\n",
       "     <use x=\"430.982422\" xlink:href=\"#DejaVuSans-58\"/>\n",
       "     <use x=\"464.673828\" xlink:href=\"#DejaVuSans-50\"/>\n",
       "     <use x=\"528.296875\" xlink:href=\"#DejaVuSans-46\"/>\n",
       "     <use x=\"560.083984\" xlink:href=\"#DejaVuSans-53\"/>\n",
       "    </g>\n",
       "   </g>\n",
       "  </g>\n",
       " </g>\n",
       " <defs>\n",
       "  <clipPath id=\"paa68b4ee1a\">\n",
       "   <rect height=\"217.44\" width=\"334.8\" x=\"36.465625\" y=\"22.318125\"/>\n",
       "  </clipPath>\n",
       " </defs>\n",
       "</svg>\n"
      ],
      "text/plain": [
       "<Figure size 432x288 with 1 Axes>"
      ]
     },
     "metadata": {
      "needs_background": "light"
     },
     "output_type": "display_data"
    }
   ],
   "source": [
    "import matplotlib.pyplot as plt\n",
    "\n",
    "@dataclass\n",
    "class Point:\n",
    "    x: float\n",
    "    y: float\n",
    "    z: float = 0.0\n",
    "\n",
    "    def __str__(self):\n",
    "        print('__str__')\n",
    "        return f'x:{self.x} y:{self.y} z:{self.z}'\n",
    "\n",
    "    def plot(self):\n",
    "        plt.title(f'x:{self.x}    y:{self.y}')\n",
    "        plt.plot(self.x, self.y, 'bo')\n",
    "    \n",
    "\n",
    "p = Point(1.5, 2.5)\n",
    "p.plot()"
   ]
  },
  {
   "cell_type": "code",
   "execution_count": 64,
   "metadata": {
    "tags": []
   },
   "outputs": [
    {
     "name": "stdout",
     "output_type": "stream",
     "text": [
      "__str__\n",
      "x:1.5 y:2.5 z:0.0\n"
     ]
    }
   ],
   "source": [
    "print(p)"
   ]
  },
  {
   "cell_type": "code",
   "execution_count": null,
   "metadata": {},
   "outputs": [],
   "source": []
  },
  {
   "cell_type": "markdown",
   "metadata": {},
   "source": [
    "Unit Type  | Unit   | Abbreviation\n",
    "-----------|--------|-------------\n",
    "Length     | Meter  | m\n",
    "Time       | Second | s\n",
    "Mass       | Gram [1]  | g\n",
    "Temperature| Kelvin | K\n",
    "Luminous intensity| Candela | cd\n",
    "Current    | Ampere | A\n",
    "Quantity [2] | Mole   | mol  \n",
    "\n",
    "\n",
    "[1]: Technically, for historical reasons, the base unit of mass is actually the kilogram, but it makes more sense when thinking about it to view the gram it self as the base unit. The kilogram is a base unit in the sense that the standardized weight is based off of the kilogram. However, the gram is a base unit in the sense that all of the prefixes are based off of the weight of a gram.\n",
    "\n",
    "[2]: This is primarily used in chemistry for counting small things like atoms and molecules.\n",
    "\n",
    "* A liter is a thousandth of a cubic meter. Thus, we can take the unit of length and use it to describe a unit of volume.\n",
    "\n",
    "* the newton is defined as being a “kilogram-meter per second squared.” This is another way of saying that a newton is the amount of force which accelerates 1 kilogram 1 meter per second, per second.\n",
    "\n"
   ]
  },
  {
   "cell_type": "code",
   "execution_count": 5,
   "metadata": {},
   "outputs": [
    {
     "data": {
      "text/plain": [
       "[('Date', 'Fri, 11 Sep 2020 06:55:54 GMT'),\n",
       " ('Expires', 'Fri, 11 Sep 2020 07:05:54 GMT'),\n",
       " ('ETag', '\"C1OlIA\"'),\n",
       " ('X-Cloud-Trace-Context', '93ea5ab37bec6334de0a03873c39027a'),\n",
       " ('Content-Type', 'text/plain'),\n",
       " ('Server', 'Google Frontend'),\n",
       " ('Cache-Control', 'public, max-age=600'),\n",
       " ('Content-Length', '4538523'),\n",
       " ('Age', '168'),\n",
       " ('Connection', 'close')]"
      ]
     },
     "execution_count": 5,
     "metadata": {},
     "output_type": "execute_result"
    }
   ],
   "source": [
    "from urllib.request import urlopen\n",
    "\n",
    "shakespeare = urlopen('http://composingprograms.com/shakespeare.txt')\n",
    "shakespeare.getcode()\n",
    "shakespeare.getheaders()"
   ]
  },
  {
   "cell_type": "code",
   "execution_count": 3,
   "metadata": {},
   "outputs": [
    {
     "data": {
      "text/plain": [
       "[\"A MIDSUMMER-NIGHT'S DREAM\",\n",
       " '',\n",
       " 'Now , fair Hippolyta , our nuptial hour ',\n",
       " 'Draws on apace : four happy days bring in ',\n",
       " 'Another moon ; but O ! methinks how slow ',\n",
       " 'This old moon wanes ; she lingers my desires ,',\n",
       " 'Like to a step dame , or a dowager ',\n",
       " \"Long withering out a young man's revenue .\",\n",
       " '',\n",
       " 'Four days will quickly steep themselves in night ;']"
      ]
     },
     "execution_count": 3,
     "metadata": {},
     "output_type": "execute_result"
    }
   ],
   "source": [
    "shakespeare.read().decode().split('\\n')[:10]"
   ]
  },
  {
   "cell_type": "code",
   "execution_count": 6,
   "metadata": {},
   "outputs": [
    {
     "data": {
      "text/plain": [
       "33505"
      ]
     },
     "execution_count": 6,
     "metadata": {},
     "output_type": "execute_result"
    }
   ],
   "source": [
    "words = set(shakespeare.read().decode().split())\n",
    "len(words)"
   ]
  },
  {
   "cell_type": "code",
   "execution_count": 7,
   "metadata": {},
   "outputs": [
    {
     "data": {
      "text/plain": [
       "{'diaper', 'drawer', 'redder', 'repaid', 'reward'}"
      ]
     },
     "execution_count": 7,
     "metadata": {},
     "output_type": "execute_result"
    }
   ],
   "source": [
    "{w for w in words if len(w) == 6 and w[::-1] in words}"
   ]
  },
  {
   "cell_type": "markdown",
   "metadata": {},
   "source": [
    "Saturnin - Zdeněk Jirotka"
   ]
  },
  {
   "cell_type": "code",
   "execution_count": 227,
   "metadata": {
    "tags": []
   },
   "outputs": [
    {
     "data": {
      "text/plain": [
       "'Saturnin - Zdeněk Jirotka \\n'"
      ]
     },
     "execution_count": 227,
     "metadata": {},
     "output_type": "execute_result"
    }
   ],
   "source": [
    "import re\n",
    "from urllib.request import urlopen\n",
    "\n",
    "roman_numerals = {1: 'I', 2: 'II', 3: 'III', 4: 'IV', 5: 'V',\n",
    "             6: 'VI', 7: 'VII', 8: 'VIII', 9: 'IX', 10: 'X', \n",
    "             11: 'XI', 12: 'XII', 13: 'XIII', 14: 'XIV', 15: 'XV', 16: 'XVI', 17: 'XVII', \n",
    "             18: 'XVIII', 19: 'XIX', 20: 'XX', 21: 'XXI', 22: 'XXII', \n",
    "             23: 'XXIII', 24: 'XXIV', 25: 'XXV', 26: 'XXVI', 27: 'XXVII', 28: 'XXVIII', 29: 'XXIX'\n",
    "             30: 'XXX', 40: 'XL', 50: 'L', 60: 'LX', 70: 'LXX', 80: 'LXXX',\n",
    "             90: 'XC', 100: 'C', 200: 'CC', 300: 'CCC', 400: 'CD', 500: 'D',\n",
    "             600: 'DC', 700: 'DCC', 800: 'DCCC', 900: 'CM', 1000: 'M',\n",
    "             2000: 'MM', 3000: 'MMM'}.values()\n",
    "\n",
    "def strip_tags(line):\n",
    "    return re.sub('<[^<]+?>', '', line)\n",
    "\n",
    "def proc_text(text):\n",
    "    # začatek a konec == balast\n",
    "    text = [strip_tags(line) for line in text]\n",
    "    text = text[28:len(text)-2]\n",
    "    # '' je konec odstavce ...\n",
    "    text = [line if line else '\\n' for line in text]\n",
    "    # věty\n",
    "    text = [line+'\\n' if line.endswith('.') else line for line in text]\n",
    "\n",
    "    # název\n",
    "    #for indx in [1,3]: text.insert(indx,'\\n')\n",
    "    text = text[2:]\n",
    "\n",
    "    # v druhá kapitola nezačína '\\n'\n",
    "    for line_num, line in enumerate(text):\n",
    "        if line.startswith('Uvoluji se chytit Marka Aurelia'):\n",
    "            text.insert(line_num+1, '\\n')\n",
    "\n",
    "\n",
    "    # subcapitoly\n",
    "    subcap = False\n",
    "    for line_num,line in enumerate(text):\n",
    "        if line in roman_numerals:\n",
    "            subcap = True\n",
    "\n",
    "        if subcap == True:\n",
    "            if line != '\\n':\n",
    "                #print(line_num,line)\n",
    "                text[line_num] = text[line_num] + ' ~ '\n",
    "            else:\n",
    "                subcap = False\n",
    "    \n",
    "    return text\n",
    "\n",
    "saturnin = ['Saturnin - Zdeněk Jirotka \\n']\n",
    "for i in range(1,6):\n",
    "    r = urlopen(f'http://www.multiweb.cz/saturnin/saturnin{i}.htm')\n",
    "    text = r.read().decode(\"cp1250\").split('\\r\\n')\n",
    "    text = proc_text(text)\n",
    "    text = ''.join(text).split('\\n')\n",
    "    saturnin.append(text)\n",
    "\n",
    "saturnin[0]    \n"
   ]
  },
  {
   "cell_type": "code",
   "execution_count": 231,
   "metadata": {},
   "outputs": [
    {
     "data": {
      "text/plain": [
       "6"
      ]
     },
     "execution_count": 231,
     "metadata": {},
     "output_type": "execute_result"
    }
   ],
   "source": [
    "len(saturnin)"
   ]
  },
  {
   "cell_type": "code",
   "execution_count": 240,
   "metadata": {},
   "outputs": [],
   "source": [
    "with open(\"saturnin.txt\", 'w') as output:\n",
    "    for odstavec in saturnin:\n",
    "        output.write(str(odstavec) + '\\n')"
   ]
  },
  {
   "cell_type": "code",
   "execution_count": 273,
   "metadata": {
    "tags": []
   },
   "outputs": [
    {
     "data": {
      "text/plain": [
       " nebylo by mne příliš sužovalo to, že považovala za svou povinnost mi připomenout, abych včas rozhodl o svém majetku. Daleko horší bylo to, že mi také říkala, jak o něm mám rozhodnout, a snažila se mne ovlivnit způsobem, o kterém se nechci vyjadřovat. Za celý svůj život jsem neviděl takovou spoustu trapných scén, hysterických výbuchů, protivné podlízavosti a předstírané uraženosti, dramatických výstupů, hraničících s nějakými ponurými obřady a hypnotismem, jako za dnů, kdy mne ošetřovala. Kolikrát stála nade mnou jako tragická postava z řeckého dramatu a střídavě plakala a pronášela plamenné řeči, kolikrát klečela přede mnou na kolenou a spínala ruce.\\', \\'Jednou k tomu dokonce přinutila i Milouše, a pohled na zřejmou neochotu, s kterou ten chlapec klekal na podlahu postrkován zezadu Kateřinou, byl jediným osvěžením v tom moři nechutností. Byl jsem v té době docela bezbranný. Kateřina mne izolovala od vás všech a ani doktoru Vlachovi se nepodařilo splnit naděje, které jsem v něj kladl. Jednou, když to všechno překročilo mez, kterou jsem byl schopen snést, řekl jsem Kateřině, že jí odkážu všechno, co mám, jen ať už mi dá, proboha, pokoj. Řekla mi na to, že sliby jsou chyby, a žádala, abych ihned zavolal notáře.\\', \\'To se rozumí, že jsem to neudělal, ale ta chvíle, kdy jsem v touze po klidu zvolal, že jsem ochoten jí dát všechno, co chce, stala se pro mne tím, co nazýváme psychologickým okamžikem. Od té chvíle jsem si nevěřil, že dovedu vzdorovat neustálému tlaku její vůle, a mimochodem řečeno, nebyl jsem si jist ani tím, že opravdu brzo nezemřu. Snad se Ti bude můj tehdejší duševní stav zdát nepochopitelný. Zdá se nyní, zaplaťpánbůh, skoro nepochopitelný mně samotnému, ale ujišťuji Tě, že jsem byl téměř zoufalý. Myslil jsem, že budu musit Kateřinu zabít nebo se z toho zbláznit a zabít ji dodatečně.\\', \\'Nakonec jsem to rozřešil tak, že jsem se zbláznil. Nechci tvrdit, že to byl můj nápad, a jsem z hloubi duše povděčen tomu, že Tvůj Saturnin trávil své volné chvíle v knihovně a slyšel tolik z činnosti, které Kateřina říkala ošetřování, že se rozhodl jednat. Myslím, že to byl také on, kdo později vnukl doktoru Vlachovi úmysl předstírat, že jsem napsal novou závěť, a zbavil mne tak Kateřiny nadobro.\\', \\'V té době bych byl mohl zanechat té hry na schovávanou a mohl jsem si tím ušetřit tento dopis. (Víš, jak nerad píšu.) Ale pokračoval jsem ve hře, protože mne to bavilo, ačkoliv jsi vlastně byl jediný, koho jsem tím mohl ještě oklamat. Jak doktor Vlach, tak slečna Barbora prohlédli mne hned ze začátku a Tobě v tom zabránila skutečnost, že jsi v té době neměl oči pro nic na světě, vyjímajíc krásnou Barboru. Nedivím se Ti a s jistým zadostiučiněním vzpomínám na to, jak jsem už před lety tvrdil, že máš dokonalý vkus.\\', \\'A nakonec mám k Tobě prosbu. Chtěl bych, abys mi postoupil svého sluhu Saturnina.\\', \\'Snad si pomyslíš, že ho nepotřebuji, když mám kuchařku a služebnou Marii a když jsem se tak dlouho bez něho obešel. Nuže, potřebuji jej. Má duše a můj odbornictvím unavený mozek jej potřebují. V bláznivých nápadech toho chlapíka je kus poezie a jeho humor je blízký mému srdci. Jeho fantazie a podivuhodné myšlenkové přemety dovedou udělat detektivku z jízdního řádu a člověk cítí, že nemusil tak zestárnout, kdyby si byl nezapomněl hrát. Bavím se jako nikdy v životě. Před několika dny jsme vyhlásili svatou válku spisovatelům, vtrhli jsme do knihovny a překládáme romány do střízlivé skutečnosti.\\', \\'Až s tím budeme hotovi, napíšeme knihu o tom, jak romantická je skutečnost. Ostatně přečti si Saturninův dopis.\\', \\'Tvůj podivuhodný sluha je ochoten zůstat v mém domě, nebudeš-li mít námitek, a já doufám, že nebudeš.\\', \\'Prosím Tě o to, a je to, za třicet let Tvého života, má první prosba, nepočítám-li onu před 28 lety, když jsem Tě žádal, abys tím dřevěným koněm nemlátil do krabice na klobouky, protože bych si chtěl po obědě zdřímnout.\\', \\'Tvůj starý dědekOdložil jsem dědečkův dopis a vypil jsem kávu, která mi zatím vystydla. Kavárna šuměla tlumeným hovorem a venku vytrvale pršelo. To si ostatně můžete přečíst na začátku této kapitoly.\\', \\'Dešťová voda stékala po velikých kavárenských oknech a já jsem sáhl po dopisu od Saturnina.\\', \\'XXV ~ Saturninův dopis ~ \"Bohdá, že žízní nezahyneme!\" ~ Úryvek ze společenského románu ~ Jak to bylo doopravdy ~ Pan Dale, poker a co z toho vzešlo ~ Běda spisovatelům ~ Vážený pane! Váš pan dědeček mne žádal, abych Vám napsal něco bližšího o práci, do které jsme  ~ se nyní společně pustili, a dovolte tedy, abych Vám úvodem řekl několik slov.\\', \\' ~ Snad se Vám bude náš záměr zdáti pošetilý a budete se tázati, proč to vlastně  ~ děláme. Mohl bych Vám odpovědět, že tak činíme v zájmu lidstva a kultury, ale to  ~ je nabubřelá fráze, v jejímž jménu bylo už napácháno mnoho zla. Vysvětlím Vám to  ~ tedy jinak.\\', \\' ~ Jistě znáte onen pobuřující pocit, který ve Vás vznikne, vykládá-li Vám někdo  ~ události ne tak, jak se opravdu zběhly, nýbrž tak, jak se mu to hodí do krámu, a  ~ předpokládá s urážlivou jistotou, že mu uvěříte. Byl to právě tento pocit, který  ~ naplnil pohár naší trpělivosti a který nás, Vašeho dědečka a mne, přinutil, že  ~ jsme vytáhli do boje proti spisovatelům.\\', \\' ~ Kdysi jako chlapec četl jsem dobrodružnou knížku pro mládež, a moje dětská  ~ důvěřivost a víra ve skutečnost autorova příběhu byly podrobeny tuhé zkoušce.  ~ Četl jsem o ztroskotání lodi, při kterém se několik lidí zachránilo na malém  ~ ostrově. Měli s sebou také malé dítě, asi šestileté. Hned ze začátku pojali  ~ podezření, že ostrov nebude oplývat pitnou vodou, klesali na mysli, a tu to dítě  ~ proneslo větu, po jejímž přečtení jsem měl dojem, že je to nejúžasnější věc v  ~ celé knize. To pachole totiž pravilo: ~ \"Bohdá, že žízní nezahyneme!\" ~ Jsou dvě možnosti: buďto si to ten pan spisovatel takhle vymyslil, což je  ~ neuvěřitelné, nebo to dítě to opravdu řeklo, a to je ještě neuvěřitelnější.\\', \\' ~ Šestileté dítě, které říká \"Bohdá, že( atd.\", je totiž zjev z říše strašidel,  ~ hroznější nežli bezhlavý hrabě, bílá paní nebo baskervillský pes, a jsem  ~ přesvědčen, že jenom ta okolnost, že se to všechno odehrávalo na maličkém  ~ ostrově, zabránila ostatním trosečníkům, aby se od toho dítěte nerozprchli na  ~ všecky strany, křičíce hrůzou.\\', \\' ~ Tenkrát jsem poprvé pojal nedůvěru k pravdivosti autora příběhu a během dalších  ~ let jsem dospěl k názoru, že tvrzení, obsažená v románech, novelách a povídkách,  ~ je nutno přijímat velmi skepticky. Od celých velikých koncepcí až do nejmenších  ~ detailů.\\', \\' ~ Jistě jste si již všiml, jak často v románech mladí muži a někdy i energické  ~ dívky vysunují výbojně bradu kupředu. Vyzývám kohokoliv z tisíců čtenářů, aby  ~ přistoupil k zrcadlu a vysunul bradu kupředu. To, co tam uvidí, nebude mladý muž  ~ s výbojným výrazem ve tváři, nýbrž jakási přiblblá opice. Z toho plyne, že  ~ výbojné vysunování brady kupředu je vyložená pitomost, a je dobře, že ve  ~ skutečnosti to nikdo nedělá.\\', \\' ~ Autoři často tvrdí věci, které člověk se zdravým rozumem nemůže považovat za  ~ pravděpodobné, ale v knize je to, jak se říká, černé na bílém a konec.  ~ Považovali jsme s Vaším panem dědečkem tento stav za nesnesitelný, a abychom  ~ zabránili nezodpovědnému překrucování fakt, na které si páni romanopisci zvykli,  ~ zařídili jsme si \"Kancelář pro uvádění románových příběhů na pravou míru\". Tato  ~ instituce pracuje takto: čtenář, který nedůvěřuje, obyčejně právem, některému  ~ autorovu tvrzení, pošle naší kanceláři příslušný text a obdrží naprosto přesné a  ~ pravdivé informace, jak se příběh udál ve skutečnosti. Dovolte, abychom Vám  ~ posloužili ukázkou. Podrobili jsme šetření tuto část známého společenského  ~ románu: ~ Továrník Dubský seděl ve své přepychové pracovně a přivítal účetního Slámu  ~ chladně. Jeho kulaté oči se dívaly na úředníka bez vzrušení a občas se obrátily  ~ na ciferník onyxových hodin na psacím stole.\\', \\' ~ Na popelníku ležel zapálený doutník a namodralá pentlička kouře klidně stoupala  ~ ve vyhřátém vzduchu. Celá osobnost továrníka Dubského byla v tu chvíli  ~ zosobněním klidu.\\', \\' ~ Zato účetní Sláma byl rozčilen k zalknutí. Krev mu bušila ve spáncích a chvěl se  ~ na celém těle. Právě se dověděl, že továrník chce provdati svou dceru za bankéře  ~ Wilda, a byl tím tak rozrušen, že se obával začít mluvit. Měl pocit, že nedokáže  ~ vyslovit souvislou větu. Toužil udeřit do té klidné tváře za stuhou doutníkového  ~ kouře, toužil křičet, mlátit pěstí do stolu a říci konečně všechno, co si o tom  ~ všem myslí.\\', \\' ~ Dubský seděl a vypadal, jako by neměl tušení o bouři, která Ivanem Slámou  ~ zmítala. Ještě chvíli bylo dusné ticho a pak účetní vykřikl: ~ \"Jste padouch!\" ~ Továrník pomalu povstal a ledovým tónem se ptal: \"Co jste to řekl?\" ~ \"Jste padouch!\" vykřikl Ivan znovu, a jako by tím výkřikem uvolnil stavidla  ~ všeho, co se mu v duši nahromadilo, vrhal Dubskému do tváře celé chomáče  ~ prudkých vět, rychle a vášnivě, jako by se bál, že bude umlčen dříve, než bude  ~ moci vykřičet všechno, co chce říci. Příval slov udeřil na pentličku  ~ doutníkového kouře tak, že poplašeně zavlála, ztratila souvislost a trhala se v  ~ malinké šedavé obláčky.\\', \\' ~ \"Jste hnusný sobec! Vaše dcera miluje mne a vy ji ženete do nešťastného  ~ manželství jenom proto, abyste penězi bankéře Wilda zachránil továrnu, kterou  ~ jste svým rozmařilým životem přivedl na pokraj katastrofy. Chcete obětovat své  ~ dítě, ale já to nedovolím! Slyšíte, já to nedovolím!\" křičel Ivan a udeřil pěstí  ~ do továrníkova psacího stolu, až onyxové hodiny poskočily. Továrník Dubský  ~ zbledl. Tohle mu ještě nikdo neřekl.\\', \\' ~ Měli jsme jakési pochybnosti o tom, že se výstup mezi továrníkem Dubským a  ~ účetním Slámou odehrál tak, jak to bylo popsáno v románu, a naše \"Kancelář pro  ~ uvádění románových příběhů na pravou míru\" k tomu zjistila toto: ~ Továrník se nejmenoval Dubský, nýbrž Mikulka. Bůhví proč někteří autoři musí  ~ míti samé Dubské, Jánské, Skalské a Lipské, a zbláznili by se, kdyby se hrdina  ~ jejich knihy jmenoval, řekněme, Slepička. Je pravda, že továrník přijal účetního  ~ chladně, a není na tom nic divného. Není zvykem, aby zaměstnavatel, který vidí  ~ svého účetního mnohokrát za den, vypukl při jeho příchodu v halasení, jako \"Ale  ~ jejejeje, kam to zapsat, to jsou k nám hosti! Příteli! Buďte vítán! Čemu mám  ~ děkovat za potěšení vaší návštěvy?\" a podobně.\\', \\' ~ Také je pravda, že účetní Sláma byl velmi rozčilen, ale tím pravdivé údaje končí  ~ a všechno ostatní se ve skutečnosti odehrálo docela jinak.\\', \\' ~ Obavy Ivana Slámy z toho, že nedokáže ze sebe vypravit souvislou větu, byly  ~ oprávněné. Již od mládí trpěl tím, že v rozčilení komolil slova a věty a měl  ~ velmi nepříjemné vzpomínky na školní léta, kdy jsa rozrušen, pletl jména  ~ panovníků, překusoval letopočty a vyrážel ze sebe neuvěřitelné názvy chemických  ~ sloučenin, při čemž se celá třída i s panem učitelem srdečně zasmála.\\', \\' ~ Také tentokrát ochromilo rozčilení jeho vyjadřovací schopnosti, a on k  ~ opravdovému zděšení továrníka Mikulky zařval: \"Stapouch!\" ~ Po tomto slově se šéf zvedl z křesla a udiveně se ptal: \"Co jste to řekl?\" ~ Účetní, rudý rozčilením i lítostivým vztekem nad svým dřevěným jazykem, volal \"Setapouch!  ~ Sobý hnusec!\" ~ Továrník opravdu zbledl. Tohle mu ještě nikdo neřekl. Věděl sice, že účetní je  ~ člověk potrhlý, ale netušil, že by se mohly dostavit záchvaty takového druhu. V  ~ duchu přemítal, nemá-li zavolat záchrannou stanici. Potom se pokusil Ivana Slámu  ~ uklidnit sám a podařilo se mu to natolik, že rozčilený účetní přestal zuřit a  ~ dal se do nervózního pláče.\\', \\' ~ Nakonec to skončilo delším proslovem pana Mikulky, ve kterém Ivanovi vysvětlil,  ~ že má dcery dvě. Starší Olga se provdá za bankéře Wilda, a to nikoliv z vůle  ~ otcovy, nýbrž podle svého vlastního rozhodnutí, které je celkem pochopitelné,  ~ uvážíme-li, že pan Ladislav Wild je mladý a krásný muž.\\', \\' ~ Mladší dcera Libuše se vdávat nebude, a továrník Mikulka ani neví, že by měla  ~ nějakou známost. Tvrzení pana účetního o tom, že ho Libuše miluje, považuje za  ~ trochu domýšlivé. Nemíní se plést svým dcerám do volby životního druha, ale měl  ~ by určité výhrady proti tomu, aby měl zetě, který podléhá takovým teatrálním  ~ záchvatům a prokazuje takový nedostatek sebeovládání jako pan Sláma.\\', \\' ~ \"Kancelář pro uvádění románových příběhů na pravou míru\" dodává, že se jí  ~ nepodařilo zjistit, zda při hádce mezi oběma muži příval prudkých slov opravdu  ~ udeřil na pentličku doutníkového kouře tak, že poplašeně zavlála, ztratila  ~ souvislost a trhala se v malinké, šedavé obláčky. Možné to je.\\', \\' ~ Jmenovaná kancelář ještě upozorňuje, že toto je jen jeden z nespočetných  ~ případů, kdy skutečnost je autorem postavena na hlavu. Všimněte si laskavě, že v  ~ románu je výstup mezi továrníkem a účetním popsán tak, jako by byl Ivan Sláma  ~ svého šéfa morálně zdeptal, zatímco skutečnost nám představuje pana účetního  ~ jako hrdinu velmi pochybného, člověka potrhlého, ba možno říci, mírně  ~ praštěného.\\', \\' ~ Ukázkou neserióznosti snad ještě nápadnější je tento úryvek z románu z Divokého  ~ západu: ~ Když Dale kopnutím převrhl hrací stůl, vykřikl svým spoluhráčům do tváře  ~ obvinění z falešné hry a vytáhl své kolty, uvědomil si s pocitem chladné hrůzy,  ~ že po přestřelce v kaňonu zapomněl zbraně znovu nabít.\\', \\' ~ Teď držel pět nebezpečných mužů včetně střelce Stonea v šachu prázdnými  ~ revolvery a odhadoval vzdálenost k otevřeným dveřím, kterými bylo vidět jeho  ~ koně, uvázaného u zábradlí verandy. Koutkem oka viděl, že jediný jeho člověk,  ~ starý Jesse, je připraven chránit jeho ústup.\\', \\' ~ Zatím se Jim Stone pomalu blížil k Dalemu a v jeho očích byla vražda. Silné  ~ prsty jeho chlupatých pracek se otvíraly a zavíraly a přivřené oči se dívaly  ~ upřeně na Daleovo hrdlo.\\', \\' ~ \"Dejte ty ruce nahoru,\" řekl ledově Dale.\\', \\' ~ Na Stoneových rtech se objevil posměšný úšklebek a Dale pochopil, že jeho  ~ nepřítel ví, že revolvery, do jejichž ústí hleděl, jsou prázdné. V tom okamžiku  ~ se nahnul starý Jesse poněkud zpátky a vzápětí strašlivou ranou srazil Stonea k  ~ zemi.\\', \\' ~ \"Jeďte pryč!\" vykřikl na Dalea a sám vyskočil otevřeným oknem na opačné straně  ~ salónu. Dale byl rychlý jako blesk. Prolétl dveřmi s oběma kolty v rukou,  ~ vyšvihl se svému koni do sedla a zmizel v oblaku prachu dříve, nežli mu v tom  ~ mohl někdo zabránit. Muži v salónu zklamaně zařvali.\\', \\' ~ \"Kancelář pro uvádění románových příběhů na pravou míru\" k tomu podotýká, že  ~ podle podniknutého šetření, výpovědi očitých svědků a jiných údajů vypadalo to  ~ poněkud jinak.\\', \\' ~ Pan Dale prohrál značnou částku, ale ne proto, že by byli jeho spoluhráči hráli  ~ falešně, nýbrž proto, že hrál poker velmi špatně. Věděl sám, že nemá pravdu,  ~ když uráží své spoluhráče tvrzením, že hráli falešně, a nebyl by ušel citelnému  ~ potrestání, kdyby se nebyly okolnosti zběhly tak, jak se to stalo.\\', \\' ~ Pan Jim Stone opravdu věděl, že revolvery pana Dalea jsou prázdné. Věděli to  ~ ostatně všichni přítomní. Tenkrát již velmi málo mužů nosilo střelnou zbraň, a  ~ pro ty platil nekompromisní zákon Peerova salónu: vyprázdnit bubínky, odevzdat  ~ náboje barmanovi a prázdnými revolvery si můžeš třeba roztloukat ořechy. Majitel  ~ salónu byl k tomuto opatření donucen tím, že mu jednou rozstřelili láhev  ~ griotky, stojící v regálu.\\', \\' ~ Situace byla tedy dána dvěma závažnými okolnostmi: pan Dale urazil čestné muže a  ~ pak je chtěl držet v šachu prázdnými revolvery. Stařičký předák pan Jesse věděl,  ~ že pan Dale není v právu, ale dělal tomu chlapci odmalička chůvu a jeho  ~ náklonnost k němu byla tak silná, že se rozhodl zabránit tomu, aby pan Dale  ~ dostal výprask.\\', \\' ~ Jenže pan Jim Stone byl zkušený rváč, a když viděl, jak se starý pan Jesse  ~ nenápadně zaklonil, věděl, že se chystá k ráně. Tak se stalo, že ve zlomku  ~ vteřiny, kdy Jessova pěst měla dopadnout na jeho čelist, trhl hlavou zpátky a  ~ chudák starý Jesse praštil sevřenou pěstí do sloupu, který podpíral strop  ~ salónu, s takovou prudkostí, že se mu zatmělo v očích.\\', \\' ~ V té chvíli vyrazil pan Dale ze dveří, a jestliže mu v tom nemohl nikdo  ~ zabránit, bylo to proto, že všichni muži v baru, vyjímaje pana Jesse, klesali do  ~ židlí, podpírali se jeden o druhého nebo se chytali hrany stolu a řvali smíchem.\\', \\' ~ Tak se stalo, že senzační odjezd páně Daleův viděli jen dva lidé: pan Jim Stone,  ~ který v té chvíli stál již mezi dveřmi baru, a malý pihovatý chlapec, který se  ~ pokoušel kovovým knoflíkem ošidit automat na čokoládu, stojící před Peerovým  ~ salónem.\\', \\' ~ Oba shodně vypověděli, že něco takového jakživi neviděli. Dale s oběma revolvery  ~ v rukou se jakýmsi divokým, z filmů odkoukaným skokem octl v sedle a zaryl koni  ~ ostruhy do slabin. Další výpovědi obou svědků byly poněkud zmatené.\\', \\' ~ Chlapec tvrdil, že se kůň s Dalem pokusil odjet na střechu hostince a strašně  ~ při tom řičel. Že Dale při tom vylétl ze sedla, urazil hlavou zábradlí verandy,  ~ prohnul plechovou reklamu na Singrovy šicí stroje a zůstal ležet jako \"dočista  ~ zabitej\".\\', \\' ~ Hoch prohlásil, že zdivočelý kůň potom utekl směrem k železniční stanici, a  ~ podotkl, že to byl velmi zlý kůň a že by takovou potvoru jakživ nechtěl, na mou  ~ duši, ani za nic.\\', \\' ~ Jim Stone tvrdil, že je to docela dobrý kůň, mnohem lepší, než jakého si Dale  ~ zaslouží, a že utekl k železniční stanici patrně proto, aby odjel pokud možno  ~ nejdále od svého majitele. Dodal ještě, že chlap, který má plné ruce revolverů,  ~ skočí na koně a vrazí mu ostruhy, aniž ho byl předtím od té verandy odvázal, je  ~ pitomec a zaslouží, aby si tu svoji zatracenou hlavu urazil.\\', \\' ~ \"Kancelář pro uvádění románových příběhů na pravou míru\" se nemůže ztotožňovat s  ~ obhroublými výrazy pana Jima Stonea, nicméně však připouští, že pan Dale Dorson  ~ si počínal poněkud neobvykle a podstatně jinak, než bylo uvedeno v textu  ~ dotyčného románu.\\', \\' ~ Vážený pane! Váš dědeček a já doufáme, že uvedené ukázky Vás přesvědčily, že už  ~ byl nejvyšší čas, aby \"Kancelář pro uvádění románových příběhů na pravou míru\"  ~ vznikla. Práce, která nás čeká, je gigantická, ale my k ní přistupujeme s  ~ nadšením. Nic neujde našim bdělým zrakům, a všechny hříchy budou potrestány.\\', \\' ~ Budeme Vás pravidelně informovat o výsledcích své práce a ujišťujeme Vás, že  ~ budete překvapen. Dovíte se, že tři mušketýři nebyli čtyři, nýbrž dva. Podáme  ~ Vám přesné informace, jak to bylo, když nastaly deště (zatím se zdá, že celá ta  ~ senzace spočívá v tom, že pršelo). Budete nucen konstatovat, že ostrov nebyl  ~ tajuplný, a když, tedy jen pět neděl, a to ještě ne v balóně. Odhalíme, proč se  ~ ve třech mužích ve člunu o psu nemluvilo, a dokážeme, že na žádné dlani nemůže  ~ být městečko, ani když to maminka řekla.\\', \\' ~ Než skončím tento dopis, rád bych Vám, vážený pane, ještě něco řekl. Jediná  ~ výtka, kterou jste mi za celou dobu mé služby u Vás učinil, týkala se toho, že  ~ si na obývací lodi počínám tak, jako by nám patřila, a projevil jste obavu,  ~ bude-li se změnami, které jsem tam provedl, souhlasit majitel. Prosím, abyste si  ~ nepřipouštěl podobných starostí a prominul mi, že jsem Vás určitým způsobem  ~ klamal. Ta loď patří mně.\\', \\' ~ Byl bych nevděčný k příjemným dnům, stráveným ve Vašich službách, kdybych řekl,  ~ že je to vzpomínka na mé lepší časy, a prosím tedy, abyste se spokojil  ~ ujištěním, že jsem tu loď koupil asi před šesti lety. Budu velmi rád,  ~ rozhodnete-li se bydlit tam i nadále. Prosím, abych se mohl vrátit do Vašich  ~ služeb, až mne Váš pan dědeček nebude potřebovat.\\', \\' ~ S uctivým pozdravem Váš sluha Saturnin ~ \\', \\n\\n# XXVI\\n\\nJsem si vědom toho, že každé pořádné vypravování má končit svatbou, a jsem rád, že nemusím své čtenáře v tomto důležitém bodu zklamat.\\n\\nZa krátký čas poté se v kostele svaté Ludmily na Vinohradech teta Kateřina znovu bohatě provdala.\\n'"
      ]
     },
     "execution_count": 273,
     "metadata": {},
     "output_type": "execute_result"
    }
   ],
   "source": [
    "with open(\"saturnin.txt\", 'r') as f:\n",
    "    text = f.read()\n",
    "text"
   ]
  },
  {
   "cell_type": "code",
   "execution_count": 162,
   "metadata": {},
   "outputs": [
    {
     "data": {
      "text/plain": [
       "True"
      ]
     },
     "execution_count": 162,
     "metadata": {},
     "output_type": "execute_result"
    }
   ],
   "source": [
    "roman_numerals = {1: 'I', 2: 'II', 3: 'III', 4: 'IV', 5: 'V',\n",
    "             6: 'VI', 7: 'VII', 8: 'VIII', 9: 'IX', 10: 'X', \n",
    "             11: 'XI', 12: 'XII', 13: 'XIII', 14: 'XIV', 15: 'XV', 16: 'XVI', 17: 'XVII', 18: 'XVIII', 19: 'IXX',\n",
    "             20: 'XX', 21: 'XXI', 22: 'XXII', 23: 'XXIII', 24: 'XXIV', 25: 'XXV',\n",
    "             30: 'XXX', 40: 'XL', 50: 'L', 60: 'LX', 70: 'LXX', 80: 'LXXX',\n",
    "             90: 'XC', 100: 'C', 200: 'CC', 300: 'CCC', 400: 'CD', 500: 'D',\n",
    "             600: 'DC', 700: 'DCC', 800: 'DCCC', 900: 'CM', 1000: 'M',\n",
    "             2000: 'MM', 3000: 'MMM'}.values()\n",
    "\n",
    "\n",
    "'II' in roman_numerals"
   ]
  },
  {
   "cell_type": "code",
   "execution_count": 164,
   "metadata": {
    "tags": []
   },
   "outputs": [
    {
     "name": "stdout",
     "output_type": "stream",
     "text": [
      "XXI\n",
      "XXII\n",
      "XXIII\n",
      "XXIV\n",
      "XXV\n"
     ]
    }
   ],
   "source": [
    "for line_num,line in enumerate(text):\n",
    "    if line in roman_numerals:\n",
    "        print(line)"
   ]
  },
  {
   "cell_type": "code",
   "execution_count": 86,
   "metadata": {},
   "outputs": [],
   "source": [
    "roman_numerals = {1: 'I', 2: 'II', 3: 'III', 4: 'IV', 5: 'V',\n",
    "             6: 'VI', 7: 'VII', 8: 'VIII', 9: 'IX', 10: 'X', 20: 'XX',\n",
    "             30: 'XXX', 40: 'XL', 50: 'L', 60: 'LX', 70: 'LXX', 80: 'LXXX',\n",
    "             90: 'XC', 100: 'C', 200: 'CC', 300: 'CCC', 400: 'CD', 500: 'D',\n",
    "             600: 'DC', 700: 'DCC', 800: 'DCCC', 900: 'CM', 1000: 'M',\n",
    "             2000: 'MM', 3000: 'MMM'}\n",
    "             \n",
    "text = ['\\n'+line+'\\n' if line in roman_numerals.values() else line for line in text]"
   ]
  },
  {
   "cell_type": "code",
   "execution_count": 91,
   "metadata": {},
   "outputs": [
    {
     "data": {
      "text/plain": [
       "'SaturninZdeněk JirotkaI'"
      ]
     },
     "execution_count": 91,
     "metadata": {},
     "output_type": "execute_result"
    }
   ],
   "source": [
    "text = ''.join(text).split('\\n')\n",
    "text[0]"
   ]
  },
  {
   "cell_type": "code",
   "execution_count": 266,
   "metadata": {
    "tags": []
   },
   "outputs": [
    {
     "ename": "TypeError",
     "evalue": "int() argument must be a string, a bytes-like object or a number, not 'list'",
     "output_type": "error",
     "traceback": [
      "\u001b[0;31m---------------------------------------------------------------------------\u001b[0m",
      "\u001b[0;31mTypeError\u001b[0m                                 Traceback (most recent call last)",
      "\u001b[0;32m<ipython-input-266-52e409667eac>\u001b[0m in \u001b[0;36m<module>\u001b[0;34m()\u001b[0m\n\u001b[1;32m     60\u001b[0m \u001b[0marabic\u001b[0m\u001b[0;34m.\u001b[0m\u001b[0mreverse\u001b[0m\u001b[0;34m(\u001b[0m\u001b[0;34m)\u001b[0m\u001b[0;34m\u001b[0m\u001b[0;34m\u001b[0m\u001b[0m\n\u001b[1;32m     61\u001b[0m \u001b[0mroman\u001b[0m\u001b[0;34m.\u001b[0m\u001b[0mreverse\u001b[0m\u001b[0;34m(\u001b[0m\u001b[0;34m)\u001b[0m\u001b[0;34m\u001b[0m\u001b[0;34m\u001b[0m\u001b[0m\n\u001b[0;32m---> 62\u001b[0;31m \u001b[0mliterals\u001b[0m \u001b[0;34m=\u001b[0m \u001b[0mdict\u001b[0m\u001b[0;34m(\u001b[0m\u001b[0mzip\u001b[0m\u001b[0;34m(\u001b[0m\u001b[0mint\u001b[0m\u001b[0;34m(\u001b[0m\u001b[0marabic\u001b[0m\u001b[0;34m)\u001b[0m\u001b[0;34m,\u001b[0m \u001b[0mroman\u001b[0m\u001b[0;34m)\u001b[0m\u001b[0;34m)\u001b[0m\u001b[0;34m\u001b[0m\u001b[0;34m\u001b[0m\u001b[0m\n\u001b[0m\u001b[1;32m     63\u001b[0m \u001b[0mliterals\u001b[0m\u001b[0;34m\u001b[0m\u001b[0;34m\u001b[0m\u001b[0m\n",
      "\u001b[0;31mTypeError\u001b[0m: int() argument must be a string, a bytes-like object or a number, not 'list'"
     ]
    }
   ],
   "source": [
    "table = \"\"\"\n",
    "1\tI\n",
    "2\tII\n",
    "3\tIII\n",
    "4\tIV\n",
    "5\tV\n",
    "6\tVI\n",
    "7\tVII\n",
    "8\tVIII\n",
    "9\tIX\n",
    "10\tX\n",
    "11\tXI\n",
    "12\tXII\n",
    "13\tXIII\n",
    "14\tXIV\n",
    "15\tXV\n",
    "16\tXVI\n",
    "17\tXVII\n",
    "18\tXVIII\n",
    "19\tXIX\n",
    "20\tXX\n",
    "21\tXXI\n",
    "22\tXXII\n",
    "23\tXXIII\n",
    "24\tXXIV\n",
    "25\tXXV\n",
    "26\tXXVI\n",
    "27\tXXVII\n",
    "28\tXXVIII\n",
    "29\tXXIX\n",
    "30\tXXX\n",
    "31\tXXXI\n",
    "32\tXXXII\n",
    "33\tXXXIII\n",
    "34\tXXXIV\n",
    "35\tXXXV\n",
    "36\tXXXVI\n",
    "37\tXXXVII\n",
    "38\tXXXVIII\n",
    "39\tXXXIX\n",
    "40\tXL\n",
    "41\tXLI\n",
    "42\tXLII\n",
    "43\tXLIII\n",
    "44\tXLIV\n",
    "45\tXLV\n",
    "46\tXLVI\n",
    "47\tXLVII\n",
    "48\tXLVIII\n",
    "49\tXLIX\n",
    "50\tL\n",
    "\"\"\"\n",
    "\n",
    "\n",
    "roman = []\n",
    "arabic = []\n",
    "table = table.split()\n",
    "for l in range(len(table)//2):\n",
    "    roman.append(table.pop())\n",
    "    arabic.append(table.pop())\n",
    "arabic.reverse()\n",
    "roman.reverse() \n",
    "literals = dict(zip(int(arabic), roman))\n",
    "literals"
   ]
  },
  {
   "cell_type": "code",
   "execution_count": 270,
   "metadata": {},
   "outputs": [],
   "source": [
    "table = \"\"\"\n",
    "1\tI\n",
    "2\tII\n",
    "3\tIII\n",
    "4\tIV\n",
    "5\tV\n",
    "6\tVI\n",
    "7\tVII\n",
    "8\tVIII\n",
    "9\tIX\n",
    "10\tX\n",
    "11\tXI\n",
    "12\tXII\n",
    "13\tXIII\n",
    "14\tXIV\n",
    "15\tXV\n",
    "16\tXVI\n",
    "17\tXVII\n",
    "18\tXVIII\n",
    "19\tXIX\n",
    "20\tXX\n",
    "21\tXXI\n",
    "22\tXXII\n",
    "23\tXXIII\n",
    "24\tXXIV\n",
    "25\tXXV\n",
    "26\tXXVI\n",
    "27\tXXVII\n",
    "28\tXXVIII\n",
    "29\tXXIX\n",
    "30\tXXX\n",
    "31\tXXXI\n",
    "32\tXXXII\n",
    "33\tXXXIII\n",
    "34\tXXXIV\n",
    "35\tXXXV\n",
    "36\tXXXVI\n",
    "37\tXXXVII\n",
    "38\tXXXVIII\n",
    "39\tXXXIX\n",
    "40\tXL\n",
    "41\tXLI\n",
    "42\tXLII\n",
    "43\tXLIII\n",
    "44\tXLIV\n",
    "45\tXLV\n",
    "46\tXLVI\n",
    "47\tXLVII\n",
    "48\tXLVIII\n",
    "49\tXLIX\n",
    "50\tL\n",
    "\"\"\".split()\n"
   ]
  },
  {
   "cell_type": "code",
   "execution_count": 271,
   "metadata": {},
   "outputs": [
    {
     "data": {
      "text/plain": [
       "['1',\n",
       " 'I',\n",
       " '2',\n",
       " 'II',\n",
       " '3',\n",
       " 'III',\n",
       " '4',\n",
       " 'IV',\n",
       " '5',\n",
       " 'V',\n",
       " '6',\n",
       " 'VI',\n",
       " '7',\n",
       " 'VII',\n",
       " '8',\n",
       " 'VIII',\n",
       " '9',\n",
       " 'IX',\n",
       " '10',\n",
       " 'X',\n",
       " '11',\n",
       " 'XI',\n",
       " '12',\n",
       " 'XII',\n",
       " '13',\n",
       " 'XIII',\n",
       " '14',\n",
       " 'XIV',\n",
       " '15',\n",
       " 'XV',\n",
       " '16',\n",
       " 'XVI',\n",
       " '17',\n",
       " 'XVII',\n",
       " '18',\n",
       " 'XVIII',\n",
       " '19',\n",
       " 'XIX',\n",
       " '20',\n",
       " 'XX',\n",
       " '21',\n",
       " 'XXI',\n",
       " '22',\n",
       " 'XXII',\n",
       " '23',\n",
       " 'XXIII',\n",
       " '24',\n",
       " 'XXIV',\n",
       " '25',\n",
       " 'XXV',\n",
       " '26',\n",
       " 'XXVI',\n",
       " '27',\n",
       " 'XXVII',\n",
       " '28',\n",
       " 'XXVIII',\n",
       " '29',\n",
       " 'XXIX',\n",
       " '30',\n",
       " 'XXX',\n",
       " '31',\n",
       " 'XXXI',\n",
       " '32',\n",
       " 'XXXII',\n",
       " '33',\n",
       " 'XXXIII',\n",
       " '34',\n",
       " 'XXXIV',\n",
       " '35',\n",
       " 'XXXV',\n",
       " '36',\n",
       " 'XXXVI',\n",
       " '37',\n",
       " 'XXXVII',\n",
       " '38',\n",
       " 'XXXVIII',\n",
       " '39',\n",
       " 'XXXIX',\n",
       " '40',\n",
       " 'XL',\n",
       " '41',\n",
       " 'XLI',\n",
       " '42',\n",
       " 'XLII',\n",
       " '43',\n",
       " 'XLIII',\n",
       " '44',\n",
       " 'XLIV',\n",
       " '45',\n",
       " 'XLV',\n",
       " '46',\n",
       " 'XLVI',\n",
       " '47',\n",
       " 'XLVII',\n",
       " '48',\n",
       " 'XLVIII',\n",
       " '49',\n",
       " 'XLIX',\n",
       " '50',\n",
       " 'L']"
      ]
     },
     "execution_count": 271,
     "metadata": {},
     "output_type": "execute_result"
    }
   ],
   "source": [
    "table"
   ]
  },
  {
   "cell_type": "code",
   "execution_count": 272,
   "metadata": {},
   "outputs": [
    {
     "ename": "TypeError",
     "evalue": "unsupported operand type(s) for //: 'list' and 'int'",
     "output_type": "error",
     "traceback": [
      "\u001b[0;31m---------------------------------------------------------------------------\u001b[0m",
      "\u001b[0;31mTypeError\u001b[0m                                 Traceback (most recent call last)",
      "\u001b[0;32m<ipython-input-272-a40eea6ebaa2>\u001b[0m in \u001b[0;36m<module>\u001b[0;34m()\u001b[0m\n\u001b[0;32m----> 1\u001b[0;31m \u001b[0;34m{\u001b[0m \u001b[0mtable\u001b[0m\u001b[0;34m.\u001b[0m\u001b[0mpop\u001b[0m\u001b[0;34m(\u001b[0m\u001b[0;34m)\u001b[0m\u001b[0;34m:\u001b[0m\u001b[0mtable\u001b[0m\u001b[0;34m.\u001b[0m\u001b[0mpop\u001b[0m\u001b[0;34m(\u001b[0m\u001b[0;34m)\u001b[0m \u001b[0;32mfor\u001b[0m \u001b[0mitem\u001b[0m \u001b[0;32min\u001b[0m \u001b[0mrange\u001b[0m\u001b[0;34m(\u001b[0m\u001b[0mtable\u001b[0m\u001b[0;34m//\u001b[0m\u001b[0;36m2\u001b[0m\u001b[0;34m)\u001b[0m\u001b[0;34m}\u001b[0m\u001b[0;34m\u001b[0m\u001b[0;34m\u001b[0m\u001b[0m\n\u001b[0m",
      "\u001b[0;31mTypeError\u001b[0m: unsupported operand type(s) for //: 'list' and 'int'"
     ]
    }
   ],
   "source": [
    "{ table.pop():table.pop() for item in range(table//2)}"
   ]
  },
  {
   "cell_type": "code",
   "execution_count": 260,
   "metadata": {},
   "outputs": [
    {
     "data": {
      "text/plain": [
       "['1',\n",
       " '2',\n",
       " '3',\n",
       " '4',\n",
       " '5',\n",
       " '6',\n",
       " '7',\n",
       " '8',\n",
       " '9',\n",
       " '10',\n",
       " '11',\n",
       " '12',\n",
       " '13',\n",
       " '14',\n",
       " '15',\n",
       " '16',\n",
       " '17',\n",
       " '18',\n",
       " '19',\n",
       " '20',\n",
       " '21',\n",
       " '22',\n",
       " '23',\n",
       " '24',\n",
       " '25',\n",
       " '26',\n",
       " '27',\n",
       " '28',\n",
       " '29',\n",
       " '30',\n",
       " '31',\n",
       " '32',\n",
       " '33',\n",
       " '34',\n",
       " '35',\n",
       " '36',\n",
       " '37',\n",
       " '38',\n",
       " '39',\n",
       " '40',\n",
       " '41',\n",
       " '42',\n",
       " '43',\n",
       " '44',\n",
       " '45',\n",
       " '46',\n",
       " '47',\n",
       " '48',\n",
       " '49',\n",
       " '50']"
      ]
     },
     "execution_count": 260,
     "metadata": {},
     "output_type": "execute_result"
    }
   ],
   "source": [
    "arabic"
   ]
  },
  {
   "cell_type": "code",
   "execution_count": 261,
   "metadata": {},
   "outputs": [],
   "source": [
    "literals = dict(zip(arabic,roman))"
   ]
  },
  {
   "cell_type": "code",
   "execution_count": 262,
   "metadata": {},
   "outputs": [
    {
     "data": {
      "text/plain": [
       "{'1': 'L',\n",
       " '2': 'XLIX',\n",
       " '3': 'XLVIII',\n",
       " '4': 'XLVII',\n",
       " '5': 'XLVI',\n",
       " '6': 'XLV',\n",
       " '7': 'XLIV',\n",
       " '8': 'XLIII',\n",
       " '9': 'XLII',\n",
       " '10': 'XLI',\n",
       " '11': 'XL',\n",
       " '12': 'XXXIX',\n",
       " '13': 'XXXVIII',\n",
       " '14': 'XXXVII',\n",
       " '15': 'XXXVI',\n",
       " '16': 'XXXV',\n",
       " '17': 'XXXIV',\n",
       " '18': 'XXXIII',\n",
       " '19': 'XXXII',\n",
       " '20': 'XXXI',\n",
       " '21': 'XXX',\n",
       " '22': 'XXIX',\n",
       " '23': 'XXVIII',\n",
       " '24': 'XXVII',\n",
       " '25': 'XXVI',\n",
       " '26': 'XXV',\n",
       " '27': 'XXIV',\n",
       " '28': 'XXIII',\n",
       " '29': 'XXII',\n",
       " '30': 'XXI',\n",
       " '31': 'XX',\n",
       " '32': 'XIX',\n",
       " '33': 'XVIII',\n",
       " '34': 'XVII',\n",
       " '35': 'XVI',\n",
       " '36': 'XV',\n",
       " '37': 'XIV',\n",
       " '38': 'XIII',\n",
       " '39': 'XII',\n",
       " '40': 'XI',\n",
       " '41': 'X',\n",
       " '42': 'IX',\n",
       " '43': 'VIII',\n",
       " '44': 'VII',\n",
       " '45': 'VI',\n",
       " '46': 'V',\n",
       " '47': 'IV',\n",
       " '48': 'III',\n",
       " '49': 'II',\n",
       " '50': 'I'}"
      ]
     },
     "execution_count": 262,
     "metadata": {},
     "output_type": "execute_result"
    }
   ],
   "source": [
    "literals"
   ]
  },
  {
   "cell_type": "code",
   "execution_count": null,
   "metadata": {},
   "outputs": [],
   "source": []
  }
 ],
 "metadata": {
  "kernelspec": {
   "display_name": "Python 3",
   "language": "python",
   "name": "python3"
  },
  "language_info": {
   "codemirror_mode": {
    "name": "ipython",
    "version": 3
   },
   "file_extension": ".py",
   "mimetype": "text/x-python",
   "name": "python",
   "nbconvert_exporter": "python",
   "pygments_lexer": "ipython3",
   "version": "3.7.6"
  }
 },
 "nbformat": 4,
 "nbformat_minor": 4
}
